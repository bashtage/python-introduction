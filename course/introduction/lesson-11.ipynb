{
 "cells": [
  {
   "cell_type": "markdown",
   "metadata": {},
   "source": [
    "# Accessing Elements in NumPy Arrays\n",
    "\n",
    "This lesson covers:\n",
    "\n",
    "* Accessing specific elements in NumPy arrays\n",
    "\n",
    "Accessing elements in an array or a DataFrame is a common task. To begin this lesson, clear the\n",
    "workspace set up some vectors and a $5\\times5$ array. These vectors and matrix will make it easy\n",
    "to determine which elements are selected by a command.\n",
    "\n",
    "\n",
    "Using `arange` and `reshape` to create 3 arrays:\n",
    "\n",
    "* 5-by-5 array `x` containing the values 0,1,...,24 \n",
    "* 5-element, 1-dimensional array `y` containing 0,1,...,4\n",
    "* 5-by-1 array `z` containing 0,1,...,4\n"
   ]
  },
  {
   "cell_type": "code",
   "execution_count": null,
   "metadata": {
    "execution": {
     "iopub.execute_input": "2025-08-27T13:43:22.906890Z",
     "iopub.status.busy": "2025-08-27T13:43:22.906890Z",
     "iopub.status.idle": "2025-08-27T13:43:22.984680Z",
     "shell.execute_reply": "2025-08-27T13:43:22.984680Z"
    }
   },
   "outputs": [],
   "source": []
  },
  {
   "cell_type": "code",
   "execution_count": null,
   "metadata": {
    "execution": {
     "iopub.execute_input": "2025-08-27T13:43:22.986189Z",
     "iopub.status.busy": "2025-08-27T13:43:22.986189Z",
     "iopub.status.idle": "2025-08-27T13:43:22.991160Z",
     "shell.execute_reply": "2025-08-27T13:43:22.991160Z"
    }
   },
   "outputs": [],
   "source": []
  },
  {
   "cell_type": "code",
   "execution_count": null,
   "metadata": {
    "execution": {
     "iopub.execute_input": "2025-08-27T13:43:22.991160Z",
     "iopub.status.busy": "2025-08-27T13:43:22.991160Z",
     "iopub.status.idle": "2025-08-27T13:43:22.997055Z",
     "shell.execute_reply": "2025-08-27T13:43:22.997055Z"
    }
   },
   "outputs": [],
   "source": []
  },
  {
   "cell_type": "markdown",
   "metadata": {},
   "source": [
    "## Zero-based indexing\n",
    "Python indexing is 0 based so that the first element has position `0`, the second has position `1`\n",
    "and so on until the last element has position `n-1` in an array that contains `n` elements in\n",
    "total.\n",
    "\n",
    "## Problem: Scalar selection\n",
    "Select the number 2 in all three, `x`, `y`, and `z`.\n",
    "\n",
    "\n",
    "**Question**:  Which index is rows and which index is columns?"
   ]
  },
  {
   "cell_type": "code",
   "execution_count": null,
   "metadata": {
    "execution": {
     "iopub.execute_input": "2025-08-27T13:43:22.997055Z",
     "iopub.status.busy": "2025-08-27T13:43:22.997055Z",
     "iopub.status.idle": "2025-08-27T13:43:23.002733Z",
     "shell.execute_reply": "2025-08-27T13:43:23.002733Z"
    }
   },
   "outputs": [],
   "source": []
  },
  {
   "cell_type": "code",
   "execution_count": null,
   "metadata": {
    "execution": {
     "iopub.execute_input": "2025-08-27T13:43:23.002733Z",
     "iopub.status.busy": "2025-08-27T13:43:23.002733Z",
     "iopub.status.idle": "2025-08-27T13:43:23.008426Z",
     "shell.execute_reply": "2025-08-27T13:43:23.008426Z"
    }
   },
   "outputs": [],
   "source": []
  },
  {
   "cell_type": "code",
   "execution_count": null,
   "metadata": {
    "execution": {
     "iopub.execute_input": "2025-08-27T13:43:23.008426Z",
     "iopub.status.busy": "2025-08-27T13:43:23.008426Z",
     "iopub.status.idle": "2025-08-27T13:43:23.014490Z",
     "shell.execute_reply": "2025-08-27T13:43:23.014490Z"
    }
   },
   "outputs": [],
   "source": []
  },
  {
   "cell_type": "markdown",
   "metadata": {
    "pycharm": {
     "name": "#%% md\n"
    }
   },
   "source": [
    "## Problem: Scalar selection of a single row\n",
    "\n",
    "Select the 2nd row in `x` and `z` using a single integer value.\n",
    " \n",
    "**Question**: What is the dimension of `x` and the second row of `x`"
   ]
  },
  {
   "cell_type": "code",
   "execution_count": null,
   "metadata": {
    "execution": {
     "iopub.execute_input": "2025-08-27T13:43:23.016500Z",
     "iopub.status.busy": "2025-08-27T13:43:23.016500Z",
     "iopub.status.idle": "2025-08-27T13:43:23.020570Z",
     "shell.execute_reply": "2025-08-27T13:43:23.020570Z"
    }
   },
   "outputs": [],
   "source": []
  },
  {
   "cell_type": "code",
   "execution_count": null,
   "metadata": {
    "execution": {
     "iopub.execute_input": "2025-08-27T13:43:23.022577Z",
     "iopub.status.busy": "2025-08-27T13:43:23.022577Z",
     "iopub.status.idle": "2025-08-27T13:43:23.025584Z",
     "shell.execute_reply": "2025-08-27T13:43:23.025584Z"
    }
   },
   "outputs": [],
   "source": []
  },
  {
   "cell_type": "code",
   "execution_count": null,
   "metadata": {
    "execution": {
     "iopub.execute_input": "2025-08-27T13:43:23.027591Z",
     "iopub.status.busy": "2025-08-27T13:43:23.027591Z",
     "iopub.status.idle": "2025-08-27T13:43:23.030760Z",
     "shell.execute_reply": "2025-08-27T13:43:23.030760Z"
    }
   },
   "outputs": [],
   "source": []
  },
  {
   "cell_type": "code",
   "execution_count": null,
   "metadata": {
    "execution": {
     "iopub.execute_input": "2025-08-27T13:43:23.030760Z",
     "iopub.status.busy": "2025-08-27T13:43:23.030760Z",
     "iopub.status.idle": "2025-08-27T13:43:23.036159Z",
     "shell.execute_reply": "2025-08-27T13:43:23.036159Z"
    }
   },
   "outputs": [],
   "source": []
  },
  {
   "cell_type": "markdown",
   "metadata": {
    "pycharm": {
     "name": "#%% md\n"
    }
   },
   "source": [
    "## Problem: Slice selection of a single row\n",
    "\n",
    "Use a slice to select the 2nd row of `x` and the 2nd element of `y` and `z`.\n",
    "\n",
    "**Question**: What are the dimension selections?"
   ]
  },
  {
   "cell_type": "code",
   "execution_count": null,
   "metadata": {
    "execution": {
     "iopub.execute_input": "2025-08-27T13:43:23.036159Z",
     "iopub.status.busy": "2025-08-27T13:43:23.036159Z",
     "iopub.status.idle": "2025-08-27T13:43:23.042096Z",
     "shell.execute_reply": "2025-08-27T13:43:23.042096Z"
    }
   },
   "outputs": [],
   "source": []
  },
  {
   "cell_type": "code",
   "execution_count": null,
   "metadata": {
    "execution": {
     "iopub.execute_input": "2025-08-27T13:43:23.042096Z",
     "iopub.status.busy": "2025-08-27T13:43:23.042096Z",
     "iopub.status.idle": "2025-08-27T13:43:23.047947Z",
     "shell.execute_reply": "2025-08-27T13:43:23.047947Z"
    }
   },
   "outputs": [],
   "source": []
  },
  {
   "cell_type": "code",
   "execution_count": null,
   "metadata": {
    "execution": {
     "iopub.execute_input": "2025-08-27T13:43:23.048953Z",
     "iopub.status.busy": "2025-08-27T13:43:23.048953Z",
     "iopub.status.idle": "2025-08-27T13:43:23.054276Z",
     "shell.execute_reply": "2025-08-27T13:43:23.054276Z"
    }
   },
   "outputs": [],
   "source": []
  },
  {
   "cell_type": "markdown",
   "metadata": {},
   "source": [
    "## Problem: List selection of a single row\n",
    "\n",
    "Use a list to select the 2nd row of `x` and the 2nd element of `y` and `z`.\n",
    "\n",
    "**Question**: What are the dimension selections?"
   ]
  },
  {
   "cell_type": "code",
   "execution_count": null,
   "metadata": {
    "execution": {
     "iopub.execute_input": "2025-08-27T13:43:23.056282Z",
     "iopub.status.busy": "2025-08-27T13:43:23.056282Z",
     "iopub.status.idle": "2025-08-27T13:43:23.060043Z",
     "shell.execute_reply": "2025-08-27T13:43:23.060043Z"
    }
   },
   "outputs": [],
   "source": []
  },
  {
   "cell_type": "code",
   "execution_count": null,
   "metadata": {
    "execution": {
     "iopub.execute_input": "2025-08-27T13:43:23.062050Z",
     "iopub.status.busy": "2025-08-27T13:43:23.060043Z",
     "iopub.status.idle": "2025-08-27T13:43:23.065155Z",
     "shell.execute_reply": "2025-08-27T13:43:23.065155Z"
    }
   },
   "outputs": [],
   "source": []
  },
  {
   "cell_type": "code",
   "execution_count": null,
   "metadata": {
    "execution": {
     "iopub.execute_input": "2025-08-27T13:43:23.067163Z",
     "iopub.status.busy": "2025-08-27T13:43:23.067163Z",
     "iopub.status.idle": "2025-08-27T13:43:23.071075Z",
     "shell.execute_reply": "2025-08-27T13:43:23.071075Z"
    }
   },
   "outputs": [],
   "source": []
  },
  {
   "cell_type": "markdown",
   "metadata": {},
   "source": [
    "## Problem: Selecting a single Column\n",
    "Select the 2nd column of x using a scalar integer, a slice and a list.\n",
    "\n",
    "**Question**: What the the dimensions of the selected elements?"
   ]
  },
  {
   "cell_type": "code",
   "execution_count": null,
   "metadata": {
    "execution": {
     "iopub.execute_input": "2025-08-27T13:43:23.073080Z",
     "iopub.status.busy": "2025-08-27T13:43:23.073080Z",
     "iopub.status.idle": "2025-08-27T13:43:23.076209Z",
     "shell.execute_reply": "2025-08-27T13:43:23.076209Z"
    }
   },
   "outputs": [],
   "source": []
  },
  {
   "cell_type": "code",
   "execution_count": null,
   "metadata": {
    "execution": {
     "iopub.execute_input": "2025-08-27T13:43:23.078215Z",
     "iopub.status.busy": "2025-08-27T13:43:23.078215Z",
     "iopub.status.idle": "2025-08-27T13:43:23.081401Z",
     "shell.execute_reply": "2025-08-27T13:43:23.081401Z"
    }
   },
   "outputs": [],
   "source": []
  },
  {
   "cell_type": "markdown",
   "metadata": {},
   "source": [
    "## Problem: Selecting a block of specific columns\n",
    "Select the 2nd and 3rd columns of x using a slice."
   ]
  },
  {
   "cell_type": "code",
   "execution_count": null,
   "metadata": {
    "execution": {
     "iopub.execute_input": "2025-08-27T13:43:23.083408Z",
     "iopub.status.busy": "2025-08-27T13:43:23.083408Z",
     "iopub.status.idle": "2025-08-27T13:43:23.087055Z",
     "shell.execute_reply": "2025-08-27T13:43:23.087055Z"
    }
   },
   "outputs": [],
   "source": []
  },
  {
   "cell_type": "markdown",
   "metadata": {},
   "source": [
    "## Problem: Selecting a block of specific rows\n",
    "Select the 2nd and 4th rows of x using both a slice and a list. \n"
   ]
  },
  {
   "cell_type": "code",
   "execution_count": null,
   "metadata": {
    "execution": {
     "iopub.execute_input": "2025-08-27T13:43:23.089063Z",
     "iopub.status.busy": "2025-08-27T13:43:23.089063Z",
     "iopub.status.idle": "2025-08-27T13:43:23.092276Z",
     "shell.execute_reply": "2025-08-27T13:43:23.092276Z"
    }
   },
   "outputs": [],
   "source": []
  },
  {
   "cell_type": "markdown",
   "metadata": {},
   "source": [
    "## Problem: Selecting a block of specific rows and columns\n",
    "Combine these be combined to select the 2nd and 3rd columns and 2nd and 4th rows."
   ]
  },
  {
   "cell_type": "code",
   "execution_count": null,
   "metadata": {
    "execution": {
     "iopub.execute_input": "2025-08-27T13:43:23.094283Z",
     "iopub.status.busy": "2025-08-27T13:43:23.094283Z",
     "iopub.status.idle": "2025-08-27T13:43:23.098025Z",
     "shell.execute_reply": "2025-08-27T13:43:23.098025Z"
    }
   },
   "outputs": [],
   "source": []
  },
  {
   "cell_type": "code",
   "execution_count": null,
   "metadata": {
    "execution": {
     "iopub.execute_input": "2025-08-27T13:43:23.100030Z",
     "iopub.status.busy": "2025-08-27T13:43:23.100030Z",
     "iopub.status.idle": "2025-08-27T13:43:23.102904Z",
     "shell.execute_reply": "2025-08-27T13:43:23.102904Z"
    }
   },
   "outputs": [],
   "source": []
  },
  {
   "cell_type": "markdown",
   "metadata": {},
   "source": [
    "## Problem: Use `ix_` to select rows and columns using lists\n",
    "Use `ix_` to select the 2nd and 4th rows and 1st and 3rd columns of `x`."
   ]
  },
  {
   "cell_type": "code",
   "execution_count": null,
   "metadata": {
    "execution": {
     "iopub.execute_input": "2025-08-27T13:43:23.104926Z",
     "iopub.status.busy": "2025-08-27T13:43:23.104926Z",
     "iopub.status.idle": "2025-08-27T13:43:23.108472Z",
     "shell.execute_reply": "2025-08-27T13:43:23.108472Z"
    }
   },
   "outputs": [],
   "source": []
  },
  {
   "cell_type": "code",
   "execution_count": null,
   "metadata": {
    "execution": {
     "iopub.execute_input": "2025-08-27T13:43:23.110492Z",
     "iopub.status.busy": "2025-08-27T13:43:23.110492Z",
     "iopub.status.idle": "2025-08-27T13:43:23.114520Z",
     "shell.execute_reply": "2025-08-27T13:43:23.114520Z"
    }
   },
   "outputs": [],
   "source": []
  },
  {
   "cell_type": "markdown",
   "metadata": {
    "pycharm": {
     "name": "#%% md\n"
    }
   },
   "source": [
    "## Problem: Convert a DataFrame to a NumPy array\n",
    "\n",
    "Use  `.to_numpy` to convert a DataFrame to a NumPy array."
   ]
  },
  {
   "cell_type": "code",
   "execution_count": null,
   "metadata": {
    "execution": {
     "iopub.execute_input": "2025-08-27T13:43:23.114520Z",
     "iopub.status.busy": "2025-08-27T13:43:23.114520Z",
     "iopub.status.idle": "2025-08-27T13:43:23.431556Z",
     "shell.execute_reply": "2025-08-27T13:43:23.431556Z"
    }
   },
   "outputs": [],
   "source": [
    "# Setup: Create a DataFrame\n",
    "import numpy as np\n",
    "import pandas as pd\n",
    "\n",
    "names = [\"a\", \"b\", \"c\", \"d\", \"e\"]\n",
    "x = np.arange(25).reshape((5, 5))\n",
    "x_df = pd.DataFrame(x, index=names, columns=names)\n",
    "print(x_df)"
   ]
  },
  {
   "cell_type": "code",
   "execution_count": null,
   "metadata": {
    "execution": {
     "iopub.execute_input": "2025-08-27T13:43:23.431556Z",
     "iopub.status.busy": "2025-08-27T13:43:23.431556Z",
     "iopub.status.idle": "2025-08-27T13:43:23.437343Z",
     "shell.execute_reply": "2025-08-27T13:43:23.437343Z"
    }
   },
   "outputs": [],
   "source": []
  },
  {
   "cell_type": "markdown",
   "metadata": {
    "pycharm": {
     "name": "#%% md\n"
    }
   },
   "source": [
    "## Problem: Use `np.asarray` to convert to an array\n",
    "\n",
    "Use  `np.asarray` to convert a DataFrame to a NumPy array."
   ]
  },
  {
   "cell_type": "code",
   "execution_count": null,
   "metadata": {
    "execution": {
     "iopub.execute_input": "2025-08-27T13:43:23.437343Z",
     "iopub.status.busy": "2025-08-27T13:43:23.437343Z",
     "iopub.status.idle": "2025-08-27T13:43:23.442575Z",
     "shell.execute_reply": "2025-08-27T13:43:23.442575Z"
    }
   },
   "outputs": [],
   "source": []
  },
  {
   "cell_type": "markdown",
   "metadata": {
    "pycharm": {
     "name": "#%% md\n"
    }
   },
   "source": [
    "## Exercises\n",
    "\n",
    "### Exercise: Block selection\n",
    "\n",
    "Select the second and third rows of `a` and the first and last column.\n",
    "Use at least three different methods including all slices, `np.ix_`, and\n",
    "mixed slice-list selection."
   ]
  },
  {
   "cell_type": "code",
   "execution_count": null,
   "metadata": {
    "execution": {
     "iopub.execute_input": "2025-08-27T13:43:23.444080Z",
     "iopub.status.busy": "2025-08-27T13:43:23.444080Z",
     "iopub.status.idle": "2025-08-27T13:43:23.449034Z",
     "shell.execute_reply": "2025-08-27T13:43:23.449034Z"
    },
    "jupyter": {
     "outputs_hidden": false
    },
    "pycharm": {
     "is_executing": false,
     "name": "#%%\n"
    }
   },
   "outputs": [],
   "source": [
    "# Setup: Data for Exercises\n",
    "\n",
    "import numpy as np\n",
    "\n",
    "rs = np.random.RandomState(20000214)\n",
    "a = rs.randint(1, 10, (4, 3))\n",
    "b = rs.randint(1, 10, (6, 4))\n",
    "\n",
    "print(f\"a = \\n {a}\")\n",
    "print()\n",
    "print(f\"b = \\n {b}\")"
   ]
  },
  {
   "cell_type": "code",
   "execution_count": null,
   "metadata": {
    "execution": {
     "iopub.execute_input": "2025-08-27T13:43:23.449034Z",
     "iopub.status.busy": "2025-08-27T13:43:23.449034Z",
     "iopub.status.idle": "2025-08-27T13:43:23.454698Z",
     "shell.execute_reply": "2025-08-27T13:43:23.454698Z"
    },
    "jupyter": {
     "outputs_hidden": false
    }
   },
   "outputs": [],
   "source": []
  },
  {
   "cell_type": "code",
   "execution_count": null,
   "metadata": {
    "execution": {
     "iopub.execute_input": "2025-08-27T13:43:23.454698Z",
     "iopub.status.busy": "2025-08-27T13:43:23.454698Z",
     "iopub.status.idle": "2025-08-27T13:43:23.460033Z",
     "shell.execute_reply": "2025-08-27T13:43:23.460033Z"
    },
    "jupyter": {
     "outputs_hidden": false
    }
   },
   "outputs": [],
   "source": []
  },
  {
   "cell_type": "code",
   "execution_count": null,
   "metadata": {
    "execution": {
     "iopub.execute_input": "2025-08-27T13:43:23.460033Z",
     "iopub.status.busy": "2025-08-27T13:43:23.460033Z",
     "iopub.status.idle": "2025-08-27T13:43:23.465757Z",
     "shell.execute_reply": "2025-08-27T13:43:23.465757Z"
    },
    "jupyter": {
     "outputs_hidden": false
    }
   },
   "outputs": [],
   "source": []
  },
  {
   "cell_type": "markdown",
   "metadata": {},
   "source": [
    "### Exercise: Row Assign\n",
    "\n",
    "Assign the first three elements of the first row of `b` to `a`.\n",
    "\n",
    "**Note** Assignment sets one selected block in one array equal to another \n",
    "block.\n",
    "\n",
    "```python\n",
    "x[0:2,0:3] = y[1:3,1:4]\n",
    "```"
   ]
  },
  {
   "cell_type": "code",
   "execution_count": null,
   "metadata": {
    "execution": {
     "iopub.execute_input": "2025-08-27T13:43:23.465757Z",
     "iopub.status.busy": "2025-08-27T13:43:23.465757Z",
     "iopub.status.idle": "2025-08-27T13:43:23.471617Z",
     "shell.execute_reply": "2025-08-27T13:43:23.471617Z"
    },
    "jupyter": {
     "outputs_hidden": false
    }
   },
   "outputs": [],
   "source": []
  },
  {
   "cell_type": "markdown",
   "metadata": {
    "pycharm": {
     "name": "#%% md\n"
    }
   },
   "source": [
    "### Exercise: Block Assign\n",
    "\n",
    "Assign the block consisting the first and third columns and the second and last rows of `b`\n",
    "to the last two rows and last two columns of `a`"
   ]
  },
  {
   "cell_type": "code",
   "execution_count": null,
   "metadata": {
    "execution": {
     "iopub.execute_input": "2025-08-27T13:43:23.473623Z",
     "iopub.status.busy": "2025-08-27T13:43:23.473623Z",
     "iopub.status.idle": "2025-08-27T13:43:23.477676Z",
     "shell.execute_reply": "2025-08-27T13:43:23.477676Z"
    },
    "jupyter": {
     "outputs_hidden": false
    },
    "tags": []
   },
   "outputs": [],
   "source": []
  }
 ],
 "metadata": {
  "file_extension": ".py",
  "kernelspec": {
   "display_name": "Python 3 (ipykernel)",
   "language": "python",
   "name": "python3"
  },
  "language_info": {
   "codemirror_mode": {
    "name": "ipython",
    "version": 3
   },
   "file_extension": ".py",
   "mimetype": "text/x-python",
   "name": "python",
   "nbconvert_exporter": "python",
   "pygments_lexer": "ipython3",
   "version": "3.12.11"
  },
  "mimetype": "text/x-python",
  "name": "python",
  "npconvert_exporter": "python",
  "pycharm": {
   "stem_cell": {
    "cell_type": "raw",
    "metadata": {
     "collapsed": false
    },
    "source": []
   }
  },
  "pygments_lexer": "ipython3",
  "version": 3
 },
 "nbformat": 4,
 "nbformat_minor": 4
}
