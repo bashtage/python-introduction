{
 "cells": [
  {
   "cell_type": "markdown",
   "metadata": {},
   "source": [
    "## ARMA Modeling: Unit Root Testing\n",
    "\n",
    "**Functions**\n",
    "\n",
    "`sm.tsa.stattools.adfuller`, `arch.unitroot.ADF` \n",
    "\n",
    "### Exercise 72\n",
    "Download data on the AAA and BAA yields (Moodys) from FRED and construct the\n",
    "default premium as the difference between these two.\n",
    "\n",
    "1. Test the default premium for a unit root. \n",
    "2. If you find a unit root, test the change."
   ]
  },
  {
   "cell_type": "code",
   "execution_count": null,
   "metadata": {
    "execution": {
     "iopub.execute_input": "2021-09-22T10:06:48.615009Z",
     "iopub.status.busy": "2021-09-22T10:06:48.615009Z",
     "iopub.status.idle": "2021-09-22T10:06:50.694379Z",
     "shell.execute_reply": "2021-09-22T10:06:50.694379Z"
    }
   },
   "outputs": [],
   "source": []
  },
  {
   "cell_type": "markdown",
   "metadata": {},
   "source": [
    "### Exercise 73\n",
    "\n",
    "Download data on consumer prices in the UK from the ONS.\n",
    "\n",
    "1. Test the log of CPI for a unit root. \n",
    "2. If you find a unit root, test inflation for one."
   ]
  },
  {
   "cell_type": "code",
   "execution_count": null,
   "metadata": {
    "execution": {
     "iopub.execute_input": "2021-09-22T10:06:52.503883Z",
     "iopub.status.busy": "2021-09-22T10:06:52.503883Z",
     "iopub.status.idle": "2021-09-22T10:06:53.083886Z",
     "shell.execute_reply": "2021-09-22T10:06:53.083886Z"
    }
   },
   "outputs": [],
   "source": []
  }
 ],
 "metadata": {
  "kernelspec": {
   "display_name": "Python 3 (ipykernel)",
   "language": "python",
   "name": "python3"
  },
  "language_info": {
   "codemirror_mode": {
    "name": "ipython",
    "version": 3
   },
   "file_extension": ".py",
   "mimetype": "text/x-python",
   "name": "python",
   "nbconvert_exporter": "python",
   "pygments_lexer": "ipython3",
   "version": "3.12.11"
  },
  "pycharm": {
   "stem_cell": {
    "cell_type": "raw",
    "metadata": {
     "collapsed": false
    },
    "source": []
   }
  }
 },
 "nbformat": 4,
 "nbformat_minor": 4
}
