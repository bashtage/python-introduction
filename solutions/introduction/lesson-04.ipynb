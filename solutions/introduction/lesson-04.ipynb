{
 "cells": [
  {
   "cell_type": "markdown",
   "metadata": {},
   "source": [
    "# Series and DataFrames\n",
    "\n",
    "This lesson covers:\n",
    "\n",
    "* Constructing pandas Series and DataFrames \n",
    "\n",
    "<a id=\"stock-data\"></a>\n",
    "## Data\n",
    "September 2018 prices (adjusted closing prices) for the S&P 500 EFT (SPY),\n",
    "Apple (AAPL) and Google (GOOG) are listed below:\n",
    "\n",
    "\n",
    "\n",
    "| Date   | SPY Price | AAPL Price | GOOG Price | \n",
    "|:-------|----------:|-----------:|-----------:| \n",
    "| Sept4  | 289.81    | 228.36     | 1197.00    | \n",
    "| Sept5  | 289.03    | 226.87     | 1186.48    | \n",
    "| Sept6  | 288.16    | 223.10     | 1171.44    | \n",
    "| Sept7  | 287.60    | 221.30     | 1164.83    | \n",
    "| Sept10 | 288.10    | 218.33     | 1164.64    | \n",
    "| Sept11 | 289.05    | 223.85     | 1177.36    | \n",
    "| Sept12 | 289.12    | 221.07     | 1162.82    | \n",
    "| Sept13 | 290.83    | 226.41     | 1175.33    | \n",
    "| Sept14 | 290.88    | 223.84     | 1172.53    | \n",
    "| Sept17 | 289.34    | 217.88     | 1156.05    | \n",
    "| Sept18 | 290.91    | 218.24     | 1161.22    | \n",
    "| Sept19 | 291.44    | 216.64     | 1158.78    | \n",
    "\n",
    "**Prices in September 2018**\n",
    " "
   ]
  },
  {
   "cell_type": "markdown",
   "metadata": {},
   "source": []
  },
  {
   "cell_type": "markdown",
   "metadata": {},
   "source": [
    "## Problem: Input a pandas Series\n",
    "\n",
    "Create vectors for each of the days in the [Table](#stock-data) named `sep_xx`\n",
    "where `xx` is the numeric date. For example,  \n",
    "```python\n",
    "import pandas as pd\n",
    "\n",
    "sep_04 = pd.Series([289.81,228.36,1197.00], index=[\"SPY\",\"AAPL\",\"GOOG\"]);\n",
    "```\n",
    "\n",
    "Using the ticker names as the `index` of each series"
   ]
  },
  {
   "cell_type": "code",
   "execution_count": 1,
   "metadata": {
    "pycharm": {
     "is_executing": false,
     "name": "#%%\n"
    }
   },
   "outputs": [],
   "source": [
    "import pandas as pd\n",
    "\n",
    "tickers = [\"SPY\", \"AAPL\", \"GOOG\"]\n",
    "\n",
    "sep_04 = pd.Series([289.81, 228.36, 1197.00], index=tickers)\n",
    "sep_05 = pd.Series([289.03, 226.87, 1186.48], index=tickers)\n",
    "sep_06 = pd.Series([288.16, 223.10, 1171.44], index=tickers)\n",
    "sep_07 = pd.Series([287.60, 221.30, 1164.83], index=tickers)\n",
    "sep_10 = pd.Series([288.10, 218.33, 1164.64], index=tickers)\n",
    "sep_11 = pd.Series([289.05, 223.85, 1177.36], index=tickers)\n",
    "sep_12 = pd.Series([289.12, 221.07, 1162.82], index=tickers)\n",
    "sep_13 = pd.Series([290.83, 226.41, 1175.33], index=tickers)\n",
    "sep_14 = pd.Series([290.88, 223.84, 1172.53], index=tickers)\n",
    "sep_17 = pd.Series([289.34, 217.88, 1156.05], index=tickers)\n",
    "sep_18 = pd.Series([290.91, 218.24, 1161.22], index=tickers)\n",
    "sep_19 = pd.Series([291.44, 216.64, 1158.78], index=tickers)"
   ]
  },
  {
   "cell_type": "markdown",
   "metadata": {},
   "source": [
    "## Problem: Create a Vector of Dates\n",
    "\n",
    "Use the pandas function `pd.to_datetime` to convert a list of string dates to\n",
    "a pandas `DateTimeIndex`, which can be used to set dates in other arrays.\n",
    "\n",
    "For example, the first two dates are\n",
    "```python\n",
    "import pandas as pd\n",
    "\n",
    "dates_2 = pd.to_datetime([\"4-9-2018\",\"5-9-2018\"])\n",
    "print(dates_2)\n",
    "```\n",
    "which produces\n",
    "\n",
    "```\n",
    "DatetimeIndex([\"2018-04-09\", \"2018-05-09\"], dtype=\"datetime64[ns]\", freq=None)\n",
    "```\n",
    "\n",
    "Create a vector containing all of the dates in the table."
   ]
  },
  {
   "cell_type": "code",
   "execution_count": 2,
   "metadata": {
    "pycharm": {
     "is_executing": false,
     "name": "#%%\n"
    }
   },
   "outputs": [
    {
     "name": "stdout",
     "output_type": "stream",
     "text": [
      "DatetimeIndex(['2018-09-04', '2018-09-05', '2018-09-06', '2018-09-07',\n",
      "               '2018-09-10', '2018-09-11', '2018-09-12', '2018-09-13',\n",
      "               '2018-09-14', '2018-09-17', '2018-09-18', '2018-09-19'],\n",
      "              dtype='datetime64[ns]', freq=None)\n"
     ]
    }
   ],
   "source": [
    "dates = pd.to_datetime(\n",
    "    [\n",
    "        \"4-9-2018\",\n",
    "        \"5-9-2018\",\n",
    "        \"6-9-2018\",\n",
    "        \"7-9-2018\",\n",
    "        \"10-9-2018\",\n",
    "        \"11-9-2018\",\n",
    "        \"12-9-2018\",\n",
    "        \"13-9-2018\",\n",
    "        \"14-9-2018\",\n",
    "        \"17-9-2018\",\n",
    "        \"18-9-2018\",\n",
    "        \"19-9-2018\",\n",
    "    ],\n",
    "    format=\"%d-%m-%Y\",\n",
    ")\n",
    "print(dates)"
   ]
  },
  {
   "cell_type": "markdown",
   "metadata": {},
   "source": [
    "## Problem: Input a Series with Dates\n",
    "\n",
    "Create vectors for each of the ticker symbols in [Table](#stock-data) named\n",
    "spy, aapl and goog, respectively. Use the variable `dates` that you created\n",
    "in the previous step as the index. \n",
    "\n",
    "For example\n",
    "\n",
    "```python\n",
    "goog = pd.Series([1197.00,1186.48,1171.44,...], index=dates)\n",
    "```\n",
    "\n",
    "Set the `name` of each series as the series\" ticker."
   ]
  },
  {
   "cell_type": "code",
   "execution_count": 3,
   "metadata": {
    "pycharm": {
     "is_executing": false,
     "name": "#%%\n"
    }
   },
   "outputs": [
    {
     "data": {
      "text/plain": [
       "2018-09-04    1197.00\n",
       "2018-09-05    1186.48\n",
       "2018-09-06    1171.44\n",
       "2018-09-07    1164.83\n",
       "2018-09-10    1164.64\n",
       "2018-09-11    1177.36\n",
       "2018-09-12    1162.82\n",
       "2018-09-13    1175.33\n",
       "2018-09-14    1172.53\n",
       "2018-09-17    1156.05\n",
       "2018-09-18    1161.22\n",
       "2018-09-19    1158.78\n",
       "Name: GOOG, dtype: float64"
      ]
     },
     "execution_count": 3,
     "metadata": {},
     "output_type": "execute_result"
    }
   ],
   "source": [
    "goog = pd.Series(\n",
    "    [\n",
    "        1197.00,\n",
    "        1186.48,\n",
    "        1171.44,\n",
    "        1164.83,\n",
    "        1164.64,\n",
    "        1177.36,\n",
    "        1162.82,\n",
    "        1175.33,\n",
    "        1172.53,\n",
    "        1156.05,\n",
    "        1161.22,\n",
    "        1158.78,\n",
    "    ],\n",
    "    index=dates,\n",
    "    name=\"GOOG\",\n",
    ")\n",
    "aapl = pd.Series(\n",
    "    [\n",
    "        228.36,\n",
    "        226.87,\n",
    "        223.10,\n",
    "        221.30,\n",
    "        218.33,\n",
    "        223.85,\n",
    "        221.07,\n",
    "        226.41,\n",
    "        223.84,\n",
    "        217.88,\n",
    "        218.24,\n",
    "        216.64,\n",
    "    ],\n",
    "    index=dates,\n",
    "    name=\"AAPL\",\n",
    ")\n",
    "spy = pd.Series(\n",
    "    [\n",
    "        289.81,\n",
    "        289.03,\n",
    "        288.16,\n",
    "        287.60,\n",
    "        288.10,\n",
    "        289.05,\n",
    "        289.12,\n",
    "        290.83,\n",
    "        290.88,\n",
    "        289.34,\n",
    "        290.91,\n",
    "        291.44,\n",
    "    ],\n",
    "    index=dates,\n",
    "    name=\"SPY\",\n",
    ")\n",
    "\n",
    "goog"
   ]
  },
  {
   "cell_type": "markdown",
   "metadata": {},
   "source": [
    "## Problem: Create a DataFrame\n",
    "\n",
    "Create a DataFrame named `prices` containing [Table](#stock-data). Set the\n",
    "column names equal to the ticker and set the index to `dates`.\n",
    "\n",
    "```python\n",
    "prices = pd.DataFrame([[289.81, 228.36, 1197.00], [289.03, 226.87, 1186.48]],\n",
    "                      columns = [\"SPY\", \"AAPL\", \"GOOG\"],index=dates_2)\n",
    "```"
   ]
  },
  {
   "cell_type": "code",
   "execution_count": 4,
   "metadata": {
    "pycharm": {
     "is_executing": false,
     "name": "#%%\n"
    }
   },
   "outputs": [
    {
     "data": {
      "text/html": [
       "<div>\n",
       "<style scoped>\n",
       "    .dataframe tbody tr th:only-of-type {\n",
       "        vertical-align: middle;\n",
       "    }\n",
       "\n",
       "    .dataframe tbody tr th {\n",
       "        vertical-align: top;\n",
       "    }\n",
       "\n",
       "    .dataframe thead th {\n",
       "        text-align: right;\n",
       "    }\n",
       "</style>\n",
       "<table border=\"1\" class=\"dataframe\">\n",
       "  <thead>\n",
       "    <tr style=\"text-align: right;\">\n",
       "      <th></th>\n",
       "      <th>SPY</th>\n",
       "      <th>AAPL</th>\n",
       "      <th>GOOG</th>\n",
       "    </tr>\n",
       "  </thead>\n",
       "  <tbody>\n",
       "    <tr>\n",
       "      <th>2018-09-04</th>\n",
       "      <td>289.81</td>\n",
       "      <td>228.36</td>\n",
       "      <td>1197.00</td>\n",
       "    </tr>\n",
       "    <tr>\n",
       "      <th>2018-09-05</th>\n",
       "      <td>289.03</td>\n",
       "      <td>226.87</td>\n",
       "      <td>1186.48</td>\n",
       "    </tr>\n",
       "    <tr>\n",
       "      <th>2018-09-06</th>\n",
       "      <td>288.16</td>\n",
       "      <td>223.10</td>\n",
       "      <td>1171.44</td>\n",
       "    </tr>\n",
       "    <tr>\n",
       "      <th>2018-09-07</th>\n",
       "      <td>287.60</td>\n",
       "      <td>221.30</td>\n",
       "      <td>1164.83</td>\n",
       "    </tr>\n",
       "    <tr>\n",
       "      <th>2018-09-10</th>\n",
       "      <td>288.10</td>\n",
       "      <td>218.33</td>\n",
       "      <td>1164.64</td>\n",
       "    </tr>\n",
       "    <tr>\n",
       "      <th>2018-09-11</th>\n",
       "      <td>289.05</td>\n",
       "      <td>223.85</td>\n",
       "      <td>1177.36</td>\n",
       "    </tr>\n",
       "    <tr>\n",
       "      <th>2018-09-12</th>\n",
       "      <td>289.12</td>\n",
       "      <td>221.07</td>\n",
       "      <td>1162.82</td>\n",
       "    </tr>\n",
       "    <tr>\n",
       "      <th>2018-09-13</th>\n",
       "      <td>290.83</td>\n",
       "      <td>226.41</td>\n",
       "      <td>1175.33</td>\n",
       "    </tr>\n",
       "    <tr>\n",
       "      <th>2018-09-14</th>\n",
       "      <td>290.88</td>\n",
       "      <td>223.84</td>\n",
       "      <td>1172.53</td>\n",
       "    </tr>\n",
       "    <tr>\n",
       "      <th>2018-09-17</th>\n",
       "      <td>289.34</td>\n",
       "      <td>217.88</td>\n",
       "      <td>1156.05</td>\n",
       "    </tr>\n",
       "    <tr>\n",
       "      <th>2018-09-18</th>\n",
       "      <td>290.91</td>\n",
       "      <td>218.24</td>\n",
       "      <td>1161.22</td>\n",
       "    </tr>\n",
       "    <tr>\n",
       "      <th>2018-09-19</th>\n",
       "      <td>291.44</td>\n",
       "      <td>216.64</td>\n",
       "      <td>1158.78</td>\n",
       "    </tr>\n",
       "  </tbody>\n",
       "</table>\n",
       "</div>"
      ],
      "text/plain": [
       "               SPY    AAPL     GOOG\n",
       "2018-09-04  289.81  228.36  1197.00\n",
       "2018-09-05  289.03  226.87  1186.48\n",
       "2018-09-06  288.16  223.10  1171.44\n",
       "2018-09-07  287.60  221.30  1164.83\n",
       "2018-09-10  288.10  218.33  1164.64\n",
       "2018-09-11  289.05  223.85  1177.36\n",
       "2018-09-12  289.12  221.07  1162.82\n",
       "2018-09-13  290.83  226.41  1175.33\n",
       "2018-09-14  290.88  223.84  1172.53\n",
       "2018-09-17  289.34  217.88  1156.05\n",
       "2018-09-18  290.91  218.24  1161.22\n",
       "2018-09-19  291.44  216.64  1158.78"
      ]
     },
     "execution_count": 4,
     "metadata": {},
     "output_type": "execute_result"
    }
   ],
   "source": [
    "prices = pd.DataFrame(\n",
    "    [\n",
    "        [289.81, 228.36, 1197.00],\n",
    "        [289.03, 226.87, 1186.48],\n",
    "        [288.16, 223.10, 1171.44],\n",
    "        [287.60, 221.30, 1164.83],\n",
    "        [288.10, 218.33, 1164.64],\n",
    "        [289.05, 223.85, 1177.36],\n",
    "        [289.12, 221.07, 1162.82],\n",
    "        [290.83, 226.41, 1175.33],\n",
    "        [290.88, 223.84, 1172.53],\n",
    "        [289.34, 217.88, 1156.05],\n",
    "        [290.91, 218.24, 1161.22],\n",
    "        [291.44, 216.64, 1158.78],\n",
    "    ],\n",
    "    columns=tickers,\n",
    "    index=dates,\n",
    ")\n",
    "\n",
    "prices"
   ]
  },
  {
   "cell_type": "markdown",
   "metadata": {},
   "source": [
    "Save the price data\n",
    "\n",
    "This block saves prices to a HDF file for use in later lessons. The\n",
    "function used to save the data is covered in a later lesson.\n",
    "\n",
    "This function uses some sophisticated features of Python. Do not\n",
    "worry if it is unclear at this point."
   ]
  },
  {
   "cell_type": "code",
   "execution_count": 5,
   "metadata": {
    "pycharm": {
     "is_executing": false,
     "name": "#%%\n"
    }
   },
   "outputs": [],
   "source": [
    "# Setup: Save prices, goog and sep_04 into a single file for use in other lessons\n",
    "\n",
    "# Only run if prices has been defined\n",
    "if \"prices\" in globals():\n",
    "    import pandas as pd\n",
    "\n",
    "    dates = pd.Series(dates)\n",
    "    variables = [\n",
    "        \"sep_04\",\n",
    "        \"sep_05\",\n",
    "        \"sep_06\",\n",
    "        \"sep_07\",\n",
    "        \"sep_10\",\n",
    "        \"sep_11\",\n",
    "        \"sep_12\",\n",
    "        \"sep_13\",\n",
    "        \"sep_14\",\n",
    "        \"sep_17\",\n",
    "        \"sep_18\",\n",
    "        \"sep_19\",\n",
    "        \"spy\",\n",
    "        \"goog\",\n",
    "        \"aapl\",\n",
    "        \"prices\",\n",
    "        \"dates\",\n",
    "    ]\n",
    "    with pd.HDFStore(\"data/dataframes.h5\", mode=\"w\") as h5:\n",
    "        for var in variables:\n",
    "            h5.put(var, globals()[var])"
   ]
  },
  {
   "cell_type": "markdown",
   "metadata": {
    "pycharm": {
     "name": "#%% md\n"
    }
   },
   "source": [
    "## Exercises\n",
    "\n",
    "### Exercise: Creating DataFrames\n",
    "\n",
    "Turn the table below into a DataFrame where the index is set as the index and\n",
    "the column names are used in the `DataFrame`.\n",
    "\n",
    "| index | Firm         | Profit    |  \n",
    "|:------|:-------------|----------:| \n",
    "| A     | Alcoa        | 3,428     |\n",
    "| B     | Berkshire    | 67,421    |\n",
    "| C     | Coca Cola    | 197.4     |\n",
    "| D     | Dannon       | -342.1    |"
   ]
  },
  {
   "cell_type": "code",
   "execution_count": 6,
   "metadata": {
    "collapsed": false,
    "jupyter": {
     "outputs_hidden": false
    },
    "pycharm": {
     "is_executing": false,
     "name": "#%%\n"
    },
    "tags": []
   },
   "outputs": [
    {
     "data": {
      "text/html": [
       "<div>\n",
       "<style scoped>\n",
       "    .dataframe tbody tr th:only-of-type {\n",
       "        vertical-align: middle;\n",
       "    }\n",
       "\n",
       "    .dataframe tbody tr th {\n",
       "        vertical-align: top;\n",
       "    }\n",
       "\n",
       "    .dataframe thead th {\n",
       "        text-align: right;\n",
       "    }\n",
       "</style>\n",
       "<table border=\"1\" class=\"dataframe\">\n",
       "  <thead>\n",
       "    <tr style=\"text-align: right;\">\n",
       "      <th></th>\n",
       "      <th>Firm</th>\n",
       "      <th>Profit</th>\n",
       "    </tr>\n",
       "  </thead>\n",
       "  <tbody>\n",
       "    <tr>\n",
       "      <th>A</th>\n",
       "      <td>Alcoa</td>\n",
       "      <td>3428.0</td>\n",
       "    </tr>\n",
       "    <tr>\n",
       "      <th>B</th>\n",
       "      <td>Berkshire</td>\n",
       "      <td>67421.0</td>\n",
       "    </tr>\n",
       "    <tr>\n",
       "      <th>C</th>\n",
       "      <td>Coca Cola</td>\n",
       "      <td>197.3</td>\n",
       "    </tr>\n",
       "    <tr>\n",
       "      <th>D</th>\n",
       "      <td>Dannon</td>\n",
       "      <td>-342.1</td>\n",
       "    </tr>\n",
       "  </tbody>\n",
       "</table>\n",
       "</div>"
      ],
      "text/plain": [
       "        Firm   Profit\n",
       "A      Alcoa   3428.0\n",
       "B  Berkshire  67421.0\n",
       "C  Coca Cola    197.3\n",
       "D     Dannon   -342.1"
      ]
     },
     "execution_count": 6,
     "metadata": {},
     "output_type": "execute_result"
    }
   ],
   "source": [
    "df = pd.DataFrame(\n",
    "    [[\"Alcoa\", 3428], [\"Berkshire\", 67421], [\"Coca Cola\", 197.3], [\"Dannon\", -342.1]],\n",
    "    index=[\"A\", \"B\", \"C\", \"D\"],\n",
    "    columns=[\"Firm\", \"Profit\"],\n",
    ")\n",
    "df"
   ]
  }
 ],
 "metadata": {
  "kernelspec": {
   "display_name": "Python 3 (ipykernel)",
   "language": "python",
   "name": "python3"
  },
  "language_info": {
   "codemirror_mode": {
    "name": "ipython",
    "version": 3
   },
   "file_extension": ".py",
   "mimetype": "text/x-python",
   "name": "python",
   "nbconvert_exporter": "python",
   "pygments_lexer": "ipython3",
   "version": "3.13.5"
  },
  "pycharm": {
   "stem_cell": {
    "cell_type": "raw",
    "metadata": {
     "collapsed": false
    },
    "source": []
   }
  }
 },
 "nbformat": 4,
 "nbformat_minor": 4
}
