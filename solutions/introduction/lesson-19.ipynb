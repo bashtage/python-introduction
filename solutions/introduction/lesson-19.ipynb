{
 "cells": [
  {
   "cell_type": "markdown",
   "metadata": {
    "pycharm": {
     "name": "#%% md\n"
    }
   },
   "source": [
    "# Importing Data\n",
    "\n",
    "This lesson covers:\n",
    "\n",
    "* Importing data \n",
    "* Converting dates "
   ]
  },
  {
   "cell_type": "markdown",
   "metadata": {},
   "source": [
    "## Problem: Reading in data with Dates\n",
    "\n",
    "Read in the files `GS10.csv` and `GS10.xls` which have both been downloaded\n",
    "from [FRED](https://fred.stlouisfed.org/)."
   ]
  },
  {
   "cell_type": "code",
   "execution_count": 1,
   "metadata": {
    "execution": {
     "iopub.execute_input": "2025-08-27T07:32:56.037740Z",
     "iopub.status.busy": "2025-08-27T07:32:56.037740Z",
     "iopub.status.idle": "2025-08-27T07:32:56.406094Z",
     "shell.execute_reply": "2025-08-27T07:32:56.406094Z"
    },
    "pycharm": {
     "is_executing": false,
     "name": "#%%\n"
    }
   },
   "outputs": [
    {
     "name": "stdout",
     "output_type": "stream",
     "text": [
      "            GS10\n",
      "DATE            \n",
      "1953-04-01  2.83\n",
      "1953-05-01  3.05\n",
      "1953-06-01  3.11\n",
      "1953-07-01  2.93\n",
      "1953-08-01  2.95\n",
      "                  GS10\n",
      "observation_date      \n",
      "1953-04-01        2.83\n",
      "1953-05-01        3.05\n",
      "1953-06-01        3.11\n",
      "1953-07-01        2.93\n",
      "1953-08-01        2.95\n"
     ]
    }
   ],
   "source": [
    "import pandas as pd\n",
    "\n",
    "gs10_csv = pd.read_csv(\"data/GS10.csv\", index_col=\"DATE\", parse_dates=True)\n",
    "print(gs10_csv.head())\n",
    "\n",
    "gs10_excel = pd.read_excel(\"data/GS10.xls\", skiprows=10, index_col=\"observation_date\")\n",
    "print(gs10_excel.head())"
   ]
  },
  {
   "cell_type": "markdown",
   "metadata": {},
   "source": [
    "## Problem: Converting Dates\n",
    "\n",
    "1. Load the CSV file without converting the dates in `read_csv`.\n",
    "2. Convert the date column, remove it from the DataFrame, and set it as the\n",
    "   index. "
   ]
  },
  {
   "cell_type": "code",
   "execution_count": 2,
   "metadata": {
    "execution": {
     "iopub.execute_input": "2025-08-27T07:32:56.408099Z",
     "iopub.status.busy": "2025-08-27T07:32:56.408099Z",
     "iopub.status.idle": "2025-08-27T07:32:56.417888Z",
     "shell.execute_reply": "2025-08-27T07:32:56.417888Z"
    },
    "pycharm": {
     "is_executing": false,
     "name": "#%%\n"
    }
   },
   "outputs": [
    {
     "name": "stdout",
     "output_type": "stream",
     "text": [
      "            GS10\n",
      "DATE            \n",
      "1953-04-01  2.83\n",
      "1953-05-01  3.05\n",
      "1953-06-01  3.11\n",
      "1953-07-01  2.93\n",
      "1953-08-01  2.95\n",
      "            GS10\n",
      "DATE            \n",
      "1953-04-01  2.83\n",
      "1953-05-01  3.05\n",
      "1953-06-01  3.11\n",
      "1953-07-01  2.93\n",
      "1953-08-01  2.95\n"
     ]
    }
   ],
   "source": [
    "gs10_csv = pd.read_csv(\"data/GS10.csv\")\n",
    "index = pd.to_datetime(gs10_csv[\"DATE\"])\n",
    "gs10_csv.index = index\n",
    "del gs10_csv[\"DATE\"]\n",
    "print(gs10_csv.head())\n",
    "\n",
    "gs10_csv = pd.read_csv(\"data/GS10.csv\")\n",
    "# Pop gets a column AND removes it from the frame\n",
    "index = pd.to_datetime(gs10_csv.pop(\"DATE\"))\n",
    "gs10_csv.index = index\n",
    "print(gs10_csv.head())"
   ]
  },
  {
   "cell_type": "markdown",
   "metadata": {
    "pycharm": {
     "name": "#%% md\n"
    }
   },
   "source": [
    "## Exercises\n",
    "\n",
    "### Exercise: Selectively Load Columns\n",
    "\n",
    "1. Load the data in `data/fred-md.csv` in the columns sasdate,\n",
    "   RPI and INDPRO using the `usecols` keyword.\n",
    "2. Remove the first row by selecting the second to the end.\n",
    "3. Convert sasdate to dates\n",
    "4. Set sasdate as the index and remove it from the `DataFrame`."
   ]
  },
  {
   "cell_type": "code",
   "execution_count": 3,
   "metadata": {
    "collapsed": false,
    "execution": {
     "iopub.execute_input": "2025-08-27T07:32:56.419894Z",
     "iopub.status.busy": "2025-08-27T07:32:56.418893Z",
     "iopub.status.idle": "2025-08-27T07:32:56.438033Z",
     "shell.execute_reply": "2025-08-27T07:32:56.438033Z"
    },
    "jupyter": {
     "outputs_hidden": false
    },
    "pycharm": {
     "is_executing": false,
     "name": "#%%\n"
    }
   },
   "outputs": [
    {
     "data": {
      "text/html": [
       "<div>\n",
       "<style scoped>\n",
       "    .dataframe tbody tr th:only-of-type {\n",
       "        vertical-align: middle;\n",
       "    }\n",
       "\n",
       "    .dataframe tbody tr th {\n",
       "        vertical-align: top;\n",
       "    }\n",
       "\n",
       "    .dataframe thead th {\n",
       "        text-align: right;\n",
       "    }\n",
       "</style>\n",
       "<table border=\"1\" class=\"dataframe\">\n",
       "  <thead>\n",
       "    <tr style=\"text-align: right;\">\n",
       "      <th></th>\n",
       "      <th>RPI</th>\n",
       "      <th>INDPRO</th>\n",
       "    </tr>\n",
       "    <tr>\n",
       "      <th>sasdate</th>\n",
       "      <th></th>\n",
       "      <th></th>\n",
       "    </tr>\n",
       "  </thead>\n",
       "  <tbody>\n",
       "    <tr>\n",
       "      <th>1959-01-01</th>\n",
       "      <td>2437.296</td>\n",
       "      <td>22.6250</td>\n",
       "    </tr>\n",
       "    <tr>\n",
       "      <th>1959-02-01</th>\n",
       "      <td>2446.902</td>\n",
       "      <td>23.0681</td>\n",
       "    </tr>\n",
       "    <tr>\n",
       "      <th>1959-03-01</th>\n",
       "      <td>2462.689</td>\n",
       "      <td>23.4004</td>\n",
       "    </tr>\n",
       "    <tr>\n",
       "      <th>1959-04-01</th>\n",
       "      <td>2478.744</td>\n",
       "      <td>23.8989</td>\n",
       "    </tr>\n",
       "    <tr>\n",
       "      <th>1959-05-01</th>\n",
       "      <td>2493.228</td>\n",
       "      <td>24.2589</td>\n",
       "    </tr>\n",
       "  </tbody>\n",
       "</table>\n",
       "</div>"
      ],
      "text/plain": [
       "                 RPI   INDPRO\n",
       "sasdate                      \n",
       "1959-01-01  2437.296  22.6250\n",
       "1959-02-01  2446.902  23.0681\n",
       "1959-03-01  2462.689  23.4004\n",
       "1959-04-01  2478.744  23.8989\n",
       "1959-05-01  2493.228  24.2589"
      ]
     },
     "execution_count": 3,
     "metadata": {},
     "output_type": "execute_result"
    }
   ],
   "source": [
    "import pandas as pd\n",
    "\n",
    "data = pd.read_csv(\"data/fred-md.csv\", usecols=[\"sasdate\", \"RPI\", \"INDPRO\"])\n",
    "data = data.iloc[1:]\n",
    "index = pd.to_datetime(data.pop(\"sasdate\"))\n",
    "data.index = index\n",
    "data.head()"
   ]
  },
  {
   "cell_type": "markdown",
   "metadata": {
    "pycharm": {
     "name": "#%% md\n"
    }
   },
   "source": [
    "### Exercise: Load and Merge multiple Sheets\n",
    "\n",
    "1. Load the data on the sheet \"Long Mat\" in the Excel file \"data/exercise.xlsx\". \n",
    "   These are 10 and 20 year constant maturity yields.\n",
    "2. Load the data on the sheet \"Short Mat\" in the Excel file \"data/exercise.xlsx\".\n",
    "   These are 1 and 3 year constant maturity yields.\n",
    "3. Combine the columns in the two `DataFrame`s by creating a dictionary of the keys in\n",
    "   each with the values equal to the column names."
   ]
  },
  {
   "cell_type": "code",
   "execution_count": 4,
   "metadata": {
    "collapsed": false,
    "execution": {
     "iopub.execute_input": "2025-08-27T07:32:56.440040Z",
     "iopub.status.busy": "2025-08-27T07:32:56.439039Z",
     "iopub.status.idle": "2025-08-27T07:32:56.760447Z",
     "shell.execute_reply": "2025-08-27T07:32:56.760447Z"
    },
    "jupyter": {
     "outputs_hidden": false
    },
    "pycharm": {
     "is_executing": false,
     "name": "#%%\n"
    },
    "tags": []
   },
   "outputs": [
    {
     "data": {
      "text/html": [
       "<div>\n",
       "<style scoped>\n",
       "    .dataframe tbody tr th:only-of-type {\n",
       "        vertical-align: middle;\n",
       "    }\n",
       "\n",
       "    .dataframe tbody tr th {\n",
       "        vertical-align: top;\n",
       "    }\n",
       "\n",
       "    .dataframe thead th {\n",
       "        text-align: right;\n",
       "    }\n",
       "</style>\n",
       "<table border=\"1\" class=\"dataframe\">\n",
       "  <thead>\n",
       "    <tr style=\"text-align: right;\">\n",
       "      <th></th>\n",
       "      <th>observation_date</th>\n",
       "      <th>GS10</th>\n",
       "      <th>GS20</th>\n",
       "      <th>GS1</th>\n",
       "      <th>GS3</th>\n",
       "    </tr>\n",
       "  </thead>\n",
       "  <tbody>\n",
       "    <tr>\n",
       "      <th>0</th>\n",
       "      <td>1953-04-01</td>\n",
       "      <td>2.83</td>\n",
       "      <td>3.08</td>\n",
       "      <td>2.36</td>\n",
       "      <td>2.51</td>\n",
       "    </tr>\n",
       "    <tr>\n",
       "      <th>1</th>\n",
       "      <td>1953-05-01</td>\n",
       "      <td>3.05</td>\n",
       "      <td>3.18</td>\n",
       "      <td>2.48</td>\n",
       "      <td>2.72</td>\n",
       "    </tr>\n",
       "    <tr>\n",
       "      <th>2</th>\n",
       "      <td>1953-06-01</td>\n",
       "      <td>3.11</td>\n",
       "      <td>3.21</td>\n",
       "      <td>2.45</td>\n",
       "      <td>2.74</td>\n",
       "    </tr>\n",
       "    <tr>\n",
       "      <th>3</th>\n",
       "      <td>1953-07-01</td>\n",
       "      <td>2.93</td>\n",
       "      <td>3.12</td>\n",
       "      <td>2.38</td>\n",
       "      <td>2.62</td>\n",
       "    </tr>\n",
       "    <tr>\n",
       "      <th>4</th>\n",
       "      <td>1953-08-01</td>\n",
       "      <td>2.95</td>\n",
       "      <td>3.10</td>\n",
       "      <td>2.28</td>\n",
       "      <td>2.58</td>\n",
       "    </tr>\n",
       "  </tbody>\n",
       "</table>\n",
       "</div>"
      ],
      "text/plain": [
       "  observation_date  GS10  GS20   GS1   GS3\n",
       "0       1953-04-01  2.83  3.08  2.36  2.51\n",
       "1       1953-05-01  3.05  3.18  2.48  2.72\n",
       "2       1953-06-01  3.11  3.21  2.45  2.74\n",
       "3       1953-07-01  2.93  3.12  2.38  2.62\n",
       "4       1953-08-01  2.95  3.10  2.28  2.58"
      ]
     },
     "execution_count": 4,
     "metadata": {},
     "output_type": "execute_result"
    }
   ],
   "source": [
    "long = pd.read_excel(\"data/exercise.xlsx\", sheet_name=\"Long Mat\")\n",
    "short = pd.read_excel(\"data/exercise.xlsx\", sheet_name=\"Short Mat\")\n",
    "\n",
    "data = {}\n",
    "for col in long:\n",
    "    data[col] = long[col]\n",
    "for col in short:\n",
    "    data[col] = short[col]\n",
    "\n",
    "data = pd.DataFrame(data)\n",
    "data.head()"
   ]
  }
 ],
 "metadata": {
  "kernelspec": {
   "display_name": "Python 3 (ipykernel)",
   "language": "python",
   "name": "python3"
  },
  "language_info": {
   "codemirror_mode": {
    "name": "ipython",
    "version": 3
   },
   "file_extension": ".py",
   "mimetype": "text/x-python",
   "name": "python",
   "nbconvert_exporter": "python",
   "pygments_lexer": "ipython3",
   "version": "3.12.11"
  },
  "pycharm": {
   "stem_cell": {
    "cell_type": "raw",
    "metadata": {
     "collapsed": false
    },
    "source": []
   }
  }
 },
 "nbformat": 4,
 "nbformat_minor": 4
}
