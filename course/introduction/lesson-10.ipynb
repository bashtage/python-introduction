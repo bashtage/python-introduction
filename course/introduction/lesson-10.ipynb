{
 "cells": [
  {
   "cell_type": "markdown",
   "metadata": {},
   "source": [
    "# Accessing Elements in DataFrames\n",
    "\n",
    "This lesson covers:\n",
    "\n",
    "* Assessing specific elements in Pandas Series and DataFrames \n",
    "\n",
    "Accessing elements in an array or a DataFrame is a common task. To begin this\n",
    "lesson, clear the workspace set up some vectors and a $5\\times5$ array. These\n",
    "vectors and matrix will make it easy to determine which elements are selected\n",
    "by a command.\n",
    "\n",
    "Start by creating 2 DataFrame and 2 Series. Define `x=np.arange(24).reshape(5,5)` \n",
    "which is a 5 by 5 array and `y=np.arange(5)` which is a 5-element 1-d array.\n",
    "We need:\n",
    "\n",
    "* `x_df`: A default `DataFrame` containing `x`\n",
    "* `x_named`: A `DataFrame` containing `x` with index `\"r0\"`, `\"r1\"`, ..., `\"r4\"` and\n",
    "  columns `\"c0\"`, `\"c1\"`, ... `\"c4\"`.\n",
    "* `y_s`: A default `Series` containing `y`\n",
    "* `y_named`: A `Series` containing `y` that has the index `\"r0\"`, `\"r1\"`, ..., `\"r4\"`"
   ]
  },
  {
   "cell_type": "code",
   "execution_count": null,
   "metadata": {
    "execution": {
     "iopub.execute_input": "2025-08-27T13:43:20.218489Z",
     "iopub.status.busy": "2025-08-27T13:43:20.218489Z",
     "iopub.status.idle": "2025-08-27T13:43:20.626976Z",
     "shell.execute_reply": "2025-08-27T13:43:20.626976Z"
    }
   },
   "outputs": [],
   "source": []
  },
  {
   "cell_type": "markdown",
   "metadata": {},
   "source": [
    "## Problem: Selecting a row by name\n",
    "\n",
    "Select the 2nd row of `x_name` using `.loc`.\n"
   ]
  },
  {
   "cell_type": "code",
   "execution_count": null,
   "metadata": {
    "execution": {
     "iopub.execute_input": "2025-08-27T13:43:20.626976Z",
     "iopub.status.busy": "2025-08-27T13:43:20.626976Z",
     "iopub.status.idle": "2025-08-27T13:43:20.636174Z",
     "shell.execute_reply": "2025-08-27T13:43:20.636174Z"
    }
   },
   "outputs": [],
   "source": []
  },
  {
   "cell_type": "markdown",
   "metadata": {},
   "source": [
    "## Problem: Selecting a column by name\n",
    "\n",
    "Select the 2nd columns of `x_name` using  both `[]` and `.loc`."
   ]
  },
  {
   "cell_type": "code",
   "execution_count": null,
   "metadata": {
    "execution": {
     "iopub.execute_input": "2025-08-27T13:43:20.636174Z",
     "iopub.status.busy": "2025-08-27T13:43:20.636174Z",
     "iopub.status.idle": "2025-08-27T13:43:20.642432Z",
     "shell.execute_reply": "2025-08-27T13:43:20.642432Z"
    }
   },
   "outputs": [],
   "source": []
  },
  {
   "cell_type": "code",
   "execution_count": null,
   "metadata": {
    "execution": {
     "iopub.execute_input": "2025-08-27T13:43:20.644437Z",
     "iopub.status.busy": "2025-08-27T13:43:20.644437Z",
     "iopub.status.idle": "2025-08-27T13:43:20.648770Z",
     "shell.execute_reply": "2025-08-27T13:43:20.648770Z"
    }
   },
   "outputs": [],
   "source": []
  },
  {
   "cell_type": "code",
   "execution_count": null,
   "metadata": {
    "execution": {
     "iopub.execute_input": "2025-08-27T13:43:20.648770Z",
     "iopub.status.busy": "2025-08-27T13:43:20.648770Z",
     "iopub.status.idle": "2025-08-27T13:43:20.655583Z",
     "shell.execute_reply": "2025-08-27T13:43:20.655583Z"
    }
   },
   "outputs": [],
   "source": []
  },
  {
   "cell_type": "markdown",
   "metadata": {},
   "source": [
    "## Problem: Selecting a elements of a Series by name\n",
    "\n",
    "Select the 2nd element of `y_name` using both `[]` and `loc`.\n"
   ]
  },
  {
   "cell_type": "code",
   "execution_count": null,
   "metadata": {
    "execution": {
     "iopub.execute_input": "2025-08-27T13:43:20.655583Z",
     "iopub.status.busy": "2025-08-27T13:43:20.655583Z",
     "iopub.status.idle": "2025-08-27T13:43:20.660849Z",
     "shell.execute_reply": "2025-08-27T13:43:20.660849Z"
    }
   },
   "outputs": [],
   "source": []
  },
  {
   "cell_type": "code",
   "execution_count": null,
   "metadata": {
    "execution": {
     "iopub.execute_input": "2025-08-27T13:43:20.661853Z",
     "iopub.status.busy": "2025-08-27T13:43:20.661853Z",
     "iopub.status.idle": "2025-08-27T13:43:20.666768Z",
     "shell.execute_reply": "2025-08-27T13:43:20.666768Z"
    }
   },
   "outputs": [],
   "source": []
  },
  {
   "cell_type": "code",
   "execution_count": null,
   "metadata": {
    "execution": {
     "iopub.execute_input": "2025-08-27T13:43:20.666768Z",
     "iopub.status.busy": "2025-08-27T13:43:20.666768Z",
     "iopub.status.idle": "2025-08-27T13:43:20.672247Z",
     "shell.execute_reply": "2025-08-27T13:43:20.672247Z"
    }
   },
   "outputs": [],
   "source": []
  },
  {
   "cell_type": "markdown",
   "metadata": {},
   "source": [
    "## Problem: Selecting rows and columns by name\n",
    "\n",
    "Select the 2nd and 4th rows and 1st and 3rd columns of `x_name`."
   ]
  },
  {
   "cell_type": "code",
   "execution_count": null,
   "metadata": {
    "execution": {
     "iopub.execute_input": "2025-08-27T13:43:20.672247Z",
     "iopub.status.busy": "2025-08-27T13:43:20.672247Z",
     "iopub.status.idle": "2025-08-27T13:43:20.681544Z",
     "shell.execute_reply": "2025-08-27T13:43:20.681544Z"
    }
   },
   "outputs": [],
   "source": []
  },
  {
   "cell_type": "code",
   "execution_count": null,
   "metadata": {
    "execution": {
     "iopub.execute_input": "2025-08-27T13:43:20.681544Z",
     "iopub.status.busy": "2025-08-27T13:43:20.681544Z",
     "iopub.status.idle": "2025-08-27T13:43:20.689511Z",
     "shell.execute_reply": "2025-08-27T13:43:20.689511Z"
    }
   },
   "outputs": [],
   "source": []
  },
  {
   "cell_type": "code",
   "execution_count": null,
   "metadata": {
    "execution": {
     "iopub.execute_input": "2025-08-27T13:43:20.689511Z",
     "iopub.status.busy": "2025-08-27T13:43:20.689511Z",
     "iopub.status.idle": "2025-08-27T13:43:20.697278Z",
     "shell.execute_reply": "2025-08-27T13:43:20.697278Z"
    }
   },
   "outputs": [],
   "source": []
  },
  {
   "cell_type": "markdown",
   "metadata": {},
   "source": [
    "## Problem: DataFrame selection with default index and column names\n",
    "\n",
    "Select the 2nd and 4th rows and 1st and 3rd columns of `x_df`.\n"
   ]
  },
  {
   "cell_type": "code",
   "execution_count": null,
   "metadata": {
    "execution": {
     "iopub.execute_input": "2025-08-27T13:43:20.697278Z",
     "iopub.status.busy": "2025-08-27T13:43:20.697278Z",
     "iopub.status.idle": "2025-08-27T13:43:20.705304Z",
     "shell.execute_reply": "2025-08-27T13:43:20.705304Z"
    }
   },
   "outputs": [],
   "source": []
  },
  {
   "cell_type": "markdown",
   "metadata": {},
   "source": [
    "## Problem: Series selection with the default index\n",
    "\n",
    "Select the final element in `y_s`"
   ]
  },
  {
   "cell_type": "code",
   "execution_count": null,
   "metadata": {
    "execution": {
     "iopub.execute_input": "2025-08-27T13:43:20.705304Z",
     "iopub.status.busy": "2025-08-27T13:43:20.705304Z",
     "iopub.status.idle": "2025-08-27T13:43:20.710994Z",
     "shell.execute_reply": "2025-08-27T13:43:20.710994Z"
    }
   },
   "outputs": [],
   "source": []
  },
  {
   "cell_type": "code",
   "execution_count": null,
   "metadata": {
    "execution": {
     "iopub.execute_input": "2025-08-27T13:43:20.710994Z",
     "iopub.status.busy": "2025-08-27T13:43:20.710994Z",
     "iopub.status.idle": "2025-08-27T13:43:20.716561Z",
     "shell.execute_reply": "2025-08-27T13:43:20.716561Z"
    }
   },
   "outputs": [],
   "source": []
  },
  {
   "cell_type": "markdown",
   "metadata": {},
   "source": [
    "## Problem: Subseries selection\n",
    "Select the subseries of `y_named` and `y_s` containing the first, fourth and fifth element."
   ]
  },
  {
   "cell_type": "code",
   "execution_count": null,
   "metadata": {
    "execution": {
     "iopub.execute_input": "2025-08-27T13:43:20.716561Z",
     "iopub.status.busy": "2025-08-27T13:43:20.716561Z",
     "iopub.status.idle": "2025-08-27T13:43:20.723154Z",
     "shell.execute_reply": "2025-08-27T13:43:20.723154Z"
    }
   },
   "outputs": [],
   "source": []
  },
  {
   "cell_type": "code",
   "execution_count": null,
   "metadata": {
    "execution": {
     "iopub.execute_input": "2025-08-27T13:43:20.724900Z",
     "iopub.status.busy": "2025-08-27T13:43:20.724900Z",
     "iopub.status.idle": "2025-08-27T13:43:20.729684Z",
     "shell.execute_reply": "2025-08-27T13:43:20.729684Z"
    }
   },
   "outputs": [],
   "source": []
  },
  {
   "cell_type": "markdown",
   "metadata": {},
   "source": [
    "Load the data in momentum.csv."
   ]
  },
  {
   "cell_type": "code",
   "execution_count": null,
   "metadata": {
    "execution": {
     "iopub.execute_input": "2025-08-27T13:43:20.729684Z",
     "iopub.status.busy": "2025-08-27T13:43:20.729684Z",
     "iopub.status.idle": "2025-08-27T13:43:20.748567Z",
     "shell.execute_reply": "2025-08-27T13:43:20.748567Z"
    },
    "pycharm": {
     "is_executing": false
    }
   },
   "outputs": [],
   "source": [
    "# Setup: Load the momentum data\n",
    "\n",
    "import pandas as pd\n",
    "\n",
    "momentum = pd.read_csv(\"data/momentum.csv\", index_col=\"date\", parse_dates=True)\n",
    "momentum.head()"
   ]
  },
  {
   "cell_type": "markdown",
   "metadata": {
    "pycharm": {
     "name": "#%% md\n"
    }
   },
   "source": [
    "## Problem: Selecting data on a single day\n",
    "\n",
    "Select returns on February 16, 2016.\n"
   ]
  },
  {
   "cell_type": "code",
   "execution_count": null,
   "metadata": {
    "execution": {
     "iopub.execute_input": "2025-08-27T13:43:20.748567Z",
     "iopub.status.busy": "2025-08-27T13:43:20.748567Z",
     "iopub.status.idle": "2025-08-27T13:43:20.756198Z",
     "shell.execute_reply": "2025-08-27T13:43:20.756198Z"
    }
   },
   "outputs": [],
   "source": []
  },
  {
   "cell_type": "markdown",
   "metadata": {},
   "source": [
    "## Problem: Selecting data in a single month\n",
    "\n",
    "Select return in March 2016."
   ]
  },
  {
   "cell_type": "code",
   "execution_count": null,
   "metadata": {
    "execution": {
     "iopub.execute_input": "2025-08-27T13:43:20.756198Z",
     "iopub.status.busy": "2025-08-27T13:43:20.756198Z",
     "iopub.status.idle": "2025-08-27T13:43:20.773707Z",
     "shell.execute_reply": "2025-08-27T13:43:20.773707Z"
    }
   },
   "outputs": [],
   "source": []
  },
  {
   "cell_type": "markdown",
   "metadata": {},
   "source": [
    "## Problem: Selecting data in a single year\n",
    "\n",
    "Select return in 2016.\n"
   ]
  },
  {
   "cell_type": "code",
   "execution_count": null,
   "metadata": {
    "execution": {
     "iopub.execute_input": "2025-08-27T13:43:20.773707Z",
     "iopub.status.busy": "2025-08-27T13:43:20.773707Z",
     "iopub.status.idle": "2025-08-27T13:43:20.787268Z",
     "shell.execute_reply": "2025-08-27T13:43:20.787268Z"
    }
   },
   "outputs": [],
   "source": []
  },
  {
   "cell_type": "markdown",
   "metadata": {},
   "source": [
    "## Problem: Selecting data in a date range\n",
    "\n",
    "Select returns between May 1, 2016, and June 15, 2016."
   ]
  },
  {
   "cell_type": "code",
   "execution_count": null,
   "metadata": {
    "execution": {
     "iopub.execute_input": "2025-08-27T13:43:20.787268Z",
     "iopub.status.busy": "2025-08-27T13:43:20.787268Z",
     "iopub.status.idle": "2025-08-27T13:43:20.802269Z",
     "shell.execute_reply": "2025-08-27T13:43:20.802269Z"
    }
   },
   "outputs": [],
   "source": []
  },
  {
   "cell_type": "markdown",
   "metadata": {
    "pycharm": {
     "name": "#%% md\n"
    }
   },
   "source": [
    "## Exercises\n",
    "\n",
    "### Exercise: Subset time-series\n",
    "\n",
    "Select the data for May 2017 for momentum portfolios 1 and 10."
   ]
  },
  {
   "cell_type": "code",
   "execution_count": null,
   "metadata": {
    "execution": {
     "iopub.execute_input": "2025-08-27T13:43:20.802269Z",
     "iopub.status.busy": "2025-08-27T13:43:20.802269Z",
     "iopub.status.idle": "2025-08-27T13:43:20.815025Z",
     "shell.execute_reply": "2025-08-27T13:43:20.815025Z"
    },
    "jupyter": {
     "outputs_hidden": false
    }
   },
   "outputs": [],
   "source": []
  },
  {
   "cell_type": "markdown",
   "metadata": {
    "pycharm": {
     "name": "#%% md\n"
    }
   },
   "source": [
    "### Exercise: Select using Months\n",
    "\n",
    "Using a slice of YYYY-MM, select the returns for momentum portfolio\n",
    "5 in the final 6 months of 2016 as `Series`"
   ]
  },
  {
   "cell_type": "code",
   "execution_count": null,
   "metadata": {
    "execution": {
     "iopub.execute_input": "2025-08-27T13:43:20.815025Z",
     "iopub.status.busy": "2025-08-27T13:43:20.815025Z",
     "iopub.status.idle": "2025-08-27T13:43:20.823740Z",
     "shell.execute_reply": "2025-08-27T13:43:20.823740Z"
    },
    "jupyter": {
     "outputs_hidden": false
    }
   },
   "outputs": [],
   "source": []
  },
  {
   "cell_type": "markdown",
   "metadata": {},
   "source": [
    "### Exercise: Ensure DataFrame\n",
    "\n",
    "Repeat the previous problem but ensure the selection is a DataFrame."
   ]
  },
  {
   "cell_type": "code",
   "execution_count": null,
   "metadata": {
    "execution": {
     "iopub.execute_input": "2025-08-27T13:43:20.825747Z",
     "iopub.status.busy": "2025-08-27T13:43:20.825747Z",
     "iopub.status.idle": "2025-08-27T13:43:20.832798Z",
     "shell.execute_reply": "2025-08-27T13:43:20.832798Z"
    },
    "jupyter": {
     "outputs_hidden": false
    },
    "tags": []
   },
   "outputs": [],
   "source": []
  }
 ],
 "metadata": {
  "file_extension": ".py",
  "kernelspec": {
   "display_name": "Python 3 (ipykernel)",
   "language": "python",
   "name": "python3"
  },
  "language_info": {
   "codemirror_mode": {
    "name": "ipython",
    "version": 3
   },
   "file_extension": ".py",
   "mimetype": "text/x-python",
   "name": "python",
   "nbconvert_exporter": "python",
   "pygments_lexer": "ipython3",
   "version": "3.12.11"
  },
  "mimetype": "text/x-python",
  "name": "python",
  "npconvert_exporter": "python",
  "pycharm": {
   "stem_cell": {
    "cell_type": "raw",
    "metadata": {
     "collapsed": false
    },
    "source": []
   }
  },
  "pygments_lexer": "ipython3",
  "version": 3
 },
 "nbformat": 4,
 "nbformat_minor": 4
}
