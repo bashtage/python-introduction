{
 "cells": [
  {
   "cell_type": "markdown",
   "metadata": {},
   "source": [
    "# Using DataFrames\n",
    "\n",
    "This lesson introduces:\n",
    "\n",
    "* Computing returns (percentage change)\n",
    "* Basic mathematical operations on DataFrames\n",
    "\n",
    "This first cell load data for use in this lesson."
   ]
  },
  {
   "cell_type": "code",
   "execution_count": null,
   "metadata": {
    "execution": {
     "iopub.execute_input": "2025-08-27T07:32:20.054538Z",
     "iopub.status.busy": "2025-08-27T07:32:20.053537Z",
     "iopub.status.idle": "2025-08-27T07:32:20.443551Z",
     "shell.execute_reply": "2025-08-27T07:32:20.443551Z"
    },
    "pycharm": {
     "is_executing": false
    }
   },
   "outputs": [],
   "source": [
    "# Setup: Load prices\n",
    "import pandas as pd\n",
    "\n",
    "prices = pd.read_hdf(\"data/dataframes.h5\", \"prices\")\n",
    "sep_04 = pd.read_hdf(\"data/dataframes.h5\", \"sep_04\")\n",
    "goog = pd.read_hdf(\"data/dataframes.h5\", \"goog\")"
   ]
  },
  {
   "cell_type": "markdown",
   "metadata": {
    "pycharm": {
     "name": "#%% md\n"
    }
   },
   "source": [
    "## Problem: Compute Returns\n",
    "\n",
    "Compute returns using \n",
    "\n",
    "```python\n",
    "returns = prices.pct_change()\n",
    "```\n",
    "\n",
    "which computes the percentage change.\n",
    "\n",
    "Additionally, extract returns for each name using \n",
    "\n",
    "```python\n",
    "spy_returns = returns[\"SPY\"]\n",
    "```"
   ]
  },
  {
   "cell_type": "code",
   "execution_count": null,
   "metadata": {
    "execution": {
     "iopub.execute_input": "2025-08-27T07:32:20.446436Z",
     "iopub.status.busy": "2025-08-27T07:32:20.445341Z",
     "iopub.status.idle": "2025-08-27T07:32:20.463212Z",
     "shell.execute_reply": "2025-08-27T07:32:20.462439Z"
    }
   },
   "outputs": [],
   "source": []
  },
  {
   "cell_type": "code",
   "execution_count": null,
   "metadata": {
    "execution": {
     "iopub.execute_input": "2025-08-27T07:32:20.464320Z",
     "iopub.status.busy": "2025-08-27T07:32:20.464320Z",
     "iopub.status.idle": "2025-08-27T07:32:20.472446Z",
     "shell.execute_reply": "2025-08-27T07:32:20.472446Z"
    }
   },
   "outputs": [],
   "source": []
  },
  {
   "cell_type": "code",
   "execution_count": null,
   "metadata": {
    "execution": {
     "iopub.execute_input": "2025-08-27T07:32:20.474456Z",
     "iopub.status.busy": "2025-08-27T07:32:20.473455Z",
     "iopub.status.idle": "2025-08-27T07:32:20.476791Z",
     "shell.execute_reply": "2025-08-27T07:32:20.476791Z"
    }
   },
   "outputs": [],
   "source": []
  },
  {
   "cell_type": "markdown",
   "metadata": {},
   "source": [
    "## Problem: Compute Log Returns\n",
    "\n",
    "```python\n",
    "import numpy as np\n",
    "\n",
    "log_returns = np.log(prices).diff()\n",
    "```\n",
    "\n",
    "first difference of the natural log of the prices. Mathematically this is \n",
    "$r_{t}=\\ln\\left(P_{t}\\right)-\\ln\\left(P_{t-1}\\right)=\\ln\\left(\\frac{P_{t}}{P_{t-1}}\\right)\\approx\\frac{P_{t}}{P_{t-1}}-1$."
   ]
  },
  {
   "cell_type": "code",
   "execution_count": null,
   "metadata": {
    "execution": {
     "iopub.execute_input": "2025-08-27T07:32:20.478799Z",
     "iopub.status.busy": "2025-08-27T07:32:20.478799Z",
     "iopub.status.idle": "2025-08-27T07:32:20.487265Z",
     "shell.execute_reply": "2025-08-27T07:32:20.486678Z"
    }
   },
   "outputs": [],
   "source": []
  },
  {
   "cell_type": "markdown",
   "metadata": {
    "pycharm": {
     "name": "#%% md\n"
    }
   },
   "source": [
    "## Basic Mathematical Operations\n",
    "\n",
    "|  Operation            | Symbol | Precedence |\n",
    "|:----------------------|:------:|:----------:|\n",
    "| Parentheses           | ()     | 4          |\n",
    "| Exponentiation        | **     | 3          |\n",
    "| Multiplication        | *      | 2          | \n",
    "| Division              | /      | 2          |\n",
    "| Floor division        | //     | 2          |\n",
    "| Modulus               | %      | 2          | \n",
    "| Matrix multiplication | @      | 2          |\n",
    "| Addition              | +      | 1          |\n",
    "| Subtraction           | -      | 1          |\n",
    "\n",
    "**Note**: Higher precedence operators are evaluated first, and ties are\n",
    "evaluated left to right. \n",
    "\n",
    "\n",
    "## Problem: Scalar Operations\n",
    "1. Add 1 to all returns\n",
    "2. Square the returns\n",
    "3. Multiply the price of Google by 2. \n",
    "4. Extract the fractional return using floor division and modulus"
   ]
  },
  {
   "cell_type": "code",
   "execution_count": null,
   "metadata": {
    "execution": {
     "iopub.execute_input": "2025-08-27T07:32:20.488396Z",
     "iopub.status.busy": "2025-08-27T07:32:20.488396Z",
     "iopub.status.idle": "2025-08-27T07:32:20.495241Z",
     "shell.execute_reply": "2025-08-27T07:32:20.495241Z"
    }
   },
   "outputs": [],
   "source": []
  },
  {
   "cell_type": "code",
   "execution_count": null,
   "metadata": {
    "execution": {
     "iopub.execute_input": "2025-08-27T07:32:20.497409Z",
     "iopub.status.busy": "2025-08-27T07:32:20.497409Z",
     "iopub.status.idle": "2025-08-27T07:32:20.504855Z",
     "shell.execute_reply": "2025-08-27T07:32:20.504855Z"
    }
   },
   "outputs": [],
   "source": []
  },
  {
   "cell_type": "code",
   "execution_count": null,
   "metadata": {
    "execution": {
     "iopub.execute_input": "2025-08-27T07:32:20.506861Z",
     "iopub.status.busy": "2025-08-27T07:32:20.506861Z",
     "iopub.status.idle": "2025-08-27T07:32:20.511364Z",
     "shell.execute_reply": "2025-08-27T07:32:20.511049Z"
    }
   },
   "outputs": [],
   "source": []
  },
  {
   "cell_type": "code",
   "execution_count": null,
   "metadata": {
    "execution": {
     "iopub.execute_input": "2025-08-27T07:32:20.512367Z",
     "iopub.status.busy": "2025-08-27T07:32:20.512367Z",
     "iopub.status.idle": "2025-08-27T07:32:20.519638Z",
     "shell.execute_reply": "2025-08-27T07:32:20.519193Z"
    }
   },
   "outputs": [],
   "source": []
  },
  {
   "cell_type": "code",
   "execution_count": null,
   "metadata": {
    "execution": {
     "iopub.execute_input": "2025-08-27T07:32:20.521216Z",
     "iopub.status.busy": "2025-08-27T07:32:20.521216Z",
     "iopub.status.idle": "2025-08-27T07:32:20.528102Z",
     "shell.execute_reply": "2025-08-27T07:32:20.528102Z"
    }
   },
   "outputs": [],
   "source": []
  },
  {
   "cell_type": "markdown",
   "metadata": {},
   "source": [
    "## Problem: Addition of Series\n",
    "Add the returns on SPY to those of AAPL \n"
   ]
  },
  {
   "cell_type": "code",
   "execution_count": null,
   "metadata": {
    "execution": {
     "iopub.execute_input": "2025-08-27T07:32:20.530108Z",
     "iopub.status.busy": "2025-08-27T07:32:20.530108Z",
     "iopub.status.idle": "2025-08-27T07:32:20.534106Z",
     "shell.execute_reply": "2025-08-27T07:32:20.534106Z"
    }
   },
   "outputs": [],
   "source": []
  },
  {
   "cell_type": "markdown",
   "metadata": {},
   "source": [
    "## Problem: Combining methods and mathematical operations\n",
    "Using only basic mathematical operations compute the \n",
    "correlation between the returns on AAPL and SPY. "
   ]
  },
  {
   "cell_type": "code",
   "execution_count": null,
   "metadata": {
    "execution": {
     "iopub.execute_input": "2025-08-27T07:32:20.535908Z",
     "iopub.status.busy": "2025-08-27T07:32:20.535908Z",
     "iopub.status.idle": "2025-08-27T07:32:20.540244Z",
     "shell.execute_reply": "2025-08-27T07:32:20.540244Z"
    }
   },
   "outputs": [],
   "source": []
  },
  {
   "cell_type": "markdown",
   "metadata": {},
   "source": [
    "## Problem: Addition of DataFrames\n",
    "Construct a `DataFrame` that only contains the SPY column from returns\n",
    "and add it to the return `DataFrame`  "
   ]
  },
  {
   "cell_type": "code",
   "execution_count": null,
   "metadata": {
    "execution": {
     "iopub.execute_input": "2025-08-27T07:32:20.542251Z",
     "iopub.status.busy": "2025-08-27T07:32:20.541250Z",
     "iopub.status.idle": "2025-08-27T07:32:20.549416Z",
     "shell.execute_reply": "2025-08-27T07:32:20.549416Z"
    }
   },
   "outputs": [],
   "source": []
  },
  {
   "cell_type": "markdown",
   "metadata": {},
   "source": [
    "## Problem: Non-conformable math\n",
    "\n",
    "Add the prices in `sep_04` to the prices of `goog`. What happens? "
   ]
  },
  {
   "cell_type": "code",
   "execution_count": null,
   "metadata": {
    "execution": {
     "iopub.execute_input": "2025-08-27T07:32:20.551314Z",
     "iopub.status.busy": "2025-08-27T07:32:20.551314Z",
     "iopub.status.idle": "2025-08-27T07:32:20.556832Z",
     "shell.execute_reply": "2025-08-27T07:32:20.556832Z"
    }
   },
   "outputs": [],
   "source": []
  },
  {
   "cell_type": "markdown",
   "metadata": {},
   "source": [
    "## Problem: Constructing portfolio returns\n",
    "Set up a 3-element array of portfolio weights \n",
    "\n",
    "$$w=\\left(\\frac{1}{3},\\,\\frac{1}{3}\\,,\\frac{1}{3}\\right)$$\n",
    "\n",
    "and compute the return of a portfolio with weight $\\frac{1}{3}$ in each security.\n"
   ]
  },
  {
   "cell_type": "code",
   "execution_count": null,
   "metadata": {
    "execution": {
     "iopub.execute_input": "2025-08-27T07:32:20.559078Z",
     "iopub.status.busy": "2025-08-27T07:32:20.558078Z",
     "iopub.status.idle": "2025-08-27T07:32:20.564427Z",
     "shell.execute_reply": "2025-08-27T07:32:20.564427Z"
    }
   },
   "outputs": [],
   "source": []
  },
  {
   "cell_type": "markdown",
   "metadata": {
    "pycharm": {
     "name": "#%% md\n"
    }
   },
   "source": [
    "## Exercises\n",
    "\n",
    "### Exercise: Combine math with function\n",
    "\n",
    "Add 1 to the output of `np.arange` to produce the sequence 1, 2, ..., 10."
   ]
  },
  {
   "cell_type": "code",
   "execution_count": null,
   "metadata": {
    "execution": {
     "iopub.execute_input": "2025-08-27T07:32:20.565684Z",
     "iopub.status.busy": "2025-08-27T07:32:20.565684Z",
     "iopub.status.idle": "2025-08-27T07:32:20.569580Z",
     "shell.execute_reply": "2025-08-27T07:32:20.569580Z"
    }
   },
   "outputs": [],
   "source": []
  },
  {
   "cell_type": "markdown",
   "metadata": {
    "pycharm": {
     "name": "#%% md\n"
    }
   },
   "source": [
    "### Exercise: Understand pandas math\n",
    "\n",
    "Use the `Series` and `DataFrame` below to compute the sums \n",
    "\n",
    "* `a+b`\n",
    "* `a+c`\n",
    "* `b+c`\n",
    "* `a+b+c`\n",
    "\n",
    "to understand how missing values are treated by pandas"
   ]
  },
  {
   "cell_type": "code",
   "execution_count": null,
   "metadata": {
    "execution": {
     "iopub.execute_input": "2025-08-27T07:32:20.570864Z",
     "iopub.status.busy": "2025-08-27T07:32:20.570864Z",
     "iopub.status.idle": "2025-08-27T07:32:20.575869Z",
     "shell.execute_reply": "2025-08-27T07:32:20.575869Z"
    },
    "pycharm": {
     "is_executing": false,
     "name": "#%%\n"
    }
   },
   "outputs": [],
   "source": [
    "# Setup: Data for exercise\n",
    "import numpy as np\n",
    "import pandas as pd\n",
    "\n",
    "rs = np.random.RandomState(19991231)\n",
    "\n",
    "idx = [\"A\", \"a\", \"B\", 3]\n",
    "columns = [\"A\", 1, \"B\", 3]\n",
    "a = pd.Series([1, 2, 3, 4], index=idx)\n",
    "b = pd.Series([10, 9, 8, 7], index=columns)\n",
    "values = rs.randint(1, 11, size=(4, 4))\n",
    "c = pd.DataFrame(values, columns=columns, index=idx)"
   ]
  },
  {
   "cell_type": "code",
   "execution_count": null,
   "metadata": {
    "execution": {
     "iopub.execute_input": "2025-08-27T07:32:20.577875Z",
     "iopub.status.busy": "2025-08-27T07:32:20.577875Z",
     "iopub.status.idle": "2025-08-27T07:32:20.582550Z",
     "shell.execute_reply": "2025-08-27T07:32:20.582550Z"
    }
   },
   "outputs": [],
   "source": []
  },
  {
   "cell_type": "code",
   "execution_count": null,
   "metadata": {
    "execution": {
     "iopub.execute_input": "2025-08-27T07:32:20.584401Z",
     "iopub.status.busy": "2025-08-27T07:32:20.584401Z",
     "iopub.status.idle": "2025-08-27T07:32:20.594068Z",
     "shell.execute_reply": "2025-08-27T07:32:20.593559Z"
    }
   },
   "outputs": [],
   "source": []
  },
  {
   "cell_type": "code",
   "execution_count": null,
   "metadata": {
    "execution": {
     "iopub.execute_input": "2025-08-27T07:32:20.595076Z",
     "iopub.status.busy": "2025-08-27T07:32:20.595076Z",
     "iopub.status.idle": "2025-08-27T07:32:20.602010Z",
     "shell.execute_reply": "2025-08-27T07:32:20.601505Z"
    }
   },
   "outputs": [],
   "source": []
  },
  {
   "cell_type": "code",
   "execution_count": null,
   "metadata": {
    "execution": {
     "iopub.execute_input": "2025-08-27T07:32:20.602744Z",
     "iopub.status.busy": "2025-08-27T07:32:20.602744Z",
     "iopub.status.idle": "2025-08-27T07:32:20.611705Z",
     "shell.execute_reply": "2025-08-27T07:32:20.611705Z"
    }
   },
   "outputs": [],
   "source": []
  },
  {
   "cell_type": "markdown",
   "metadata": {},
   "source": [
    "### Exercise: Math with duplicates\n",
    "\n",
    "Add the Series `d` to `a` to see what happens with delays."
   ]
  },
  {
   "cell_type": "code",
   "execution_count": null,
   "metadata": {
    "execution": {
     "iopub.execute_input": "2025-08-27T07:32:20.613711Z",
     "iopub.status.busy": "2025-08-27T07:32:20.613711Z",
     "iopub.status.idle": "2025-08-27T07:32:20.616336Z",
     "shell.execute_reply": "2025-08-27T07:32:20.616336Z"
    },
    "pycharm": {
     "name": "#%%\n"
    }
   },
   "outputs": [],
   "source": [
    "# Setup: Data for exercise\n",
    "\n",
    "d = pd.Series([10, 101], index=[\"A\", \"A\"])"
   ]
  },
  {
   "cell_type": "code",
   "execution_count": null,
   "metadata": {
    "execution": {
     "iopub.execute_input": "2025-08-27T07:32:20.618666Z",
     "iopub.status.busy": "2025-08-27T07:32:20.618342Z",
     "iopub.status.idle": "2025-08-27T07:32:20.628312Z",
     "shell.execute_reply": "2025-08-27T07:32:20.628312Z"
    },
    "tags": []
   },
   "outputs": [],
   "source": []
  }
 ],
 "metadata": {
  "file_extension": ".py",
  "kernelspec": {
   "display_name": "Python 3 (ipykernel)",
   "language": "python",
   "name": "python3"
  },
  "language_info": {
   "codemirror_mode": {
    "name": "ipython",
    "version": 3
   },
   "file_extension": ".py",
   "mimetype": "text/x-python",
   "name": "python",
   "nbconvert_exporter": "python",
   "pygments_lexer": "ipython3",
   "version": "3.12.11"
  },
  "mimetype": "text/x-python",
  "name": "python",
  "npconvert_exporter": "python",
  "pycharm": {
   "stem_cell": {
    "cell_type": "raw",
    "metadata": {
     "collapsed": false
    },
    "source": []
   }
  },
  "pygments_lexer": "ipython3",
  "version": 3
 },
 "nbformat": 4,
 "nbformat_minor": 4
}
