{
 "cells": [
  {
   "cell_type": "markdown",
   "metadata": {},
   "source": [
    "## ARCH Model Estimation\n",
    "\n",
    "**Functions**\n",
    "\n",
    "`arch.arch_model`"
   ]
  },
  {
   "cell_type": "code",
   "execution_count": null,
   "metadata": {
    "jupyter": {
     "outputs_hidden": false
    }
   },
   "outputs": [],
   "source": []
  },
  {
   "cell_type": "markdown",
   "metadata": {},
   "source": [
    "### Exercise 74\n",
    "\n",
    "Estimate a GARCH(1,1) and a GJR-GARCH(1,1,1) to the returns of both series.\n",
    "\n",
    "**Note**: You need to install arch using\n",
    "\n",
    "```bash\n",
    "pip install arch\n",
    "```\n",
    "\n",
    "which contains ARCH and related models.\n",
    "\n",
    "Documentation and examples for the arch package [are available online](https://bashtage.github.io/arch)."
   ]
  },
  {
   "cell_type": "code",
   "execution_count": null,
   "metadata": {
    "jupyter": {
     "outputs_hidden": false
    }
   },
   "outputs": [],
   "source": []
  },
  {
   "cell_type": "markdown",
   "metadata": {},
   "source": [
    "### Exercise 75\n",
    "Comment on the asymmetry.\n",
    "\n",
    "  * Compare robust and non-robust standard errors.\n",
    "  * Plot the fit variance and fit volatility.\n",
    "  * Plot the standardized residuals.\n"
   ]
  },
  {
   "cell_type": "code",
   "execution_count": null,
   "metadata": {
    "jupyter": {
     "outputs_hidden": false
    }
   },
   "outputs": [],
   "source": []
  }
 ],
 "metadata": {
  "kernelspec": {
   "display_name": "Python 3 (ipykernel)",
   "language": "python",
   "name": "python3"
  },
  "language_info": {
   "codemirror_mode": {
    "name": "ipython",
    "version": 3
   },
   "file_extension": ".py",
   "mimetype": "text/x-python",
   "name": "python",
   "nbconvert_exporter": "python",
   "pygments_lexer": "ipython3",
   "version": "3.12.11"
  },
  "pycharm": {
   "stem_cell": {
    "cell_type": "raw",
    "metadata": {
     "collapsed": false
    },
    "source": []
   }
  }
 },
 "nbformat": 4,
 "nbformat_minor": 4
}
