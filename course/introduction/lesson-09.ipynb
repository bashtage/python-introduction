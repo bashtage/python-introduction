{
 "cells": [
  {
   "cell_type": "markdown",
   "metadata": {},
   "source": [
    "# Common DataFrame methods\n",
    "\n",
    "This lesson introduces the common `DataFrame` methods that\n",
    "we will repeatedly use in the course. \n",
    "\n",
    "This first cell load data for use in this lesson."
   ]
  },
  {
   "cell_type": "code",
   "execution_count": null,
   "metadata": {
    "execution": {
     "iopub.execute_input": "2025-08-27T07:32:25.656186Z",
     "iopub.status.busy": "2025-08-27T07:32:25.656186Z",
     "iopub.status.idle": "2025-08-27T07:32:26.089051Z",
     "shell.execute_reply": "2025-08-27T07:32:26.087979Z"
    },
    "pycharm": {
     "is_executing": false,
     "name": "#%%\n"
    }
   },
   "outputs": [],
   "source": [
    "# Setup: Load prices\n",
    "import pandas as pd\n",
    "\n",
    "prices = pd.read_hdf(\"data/dataframes.h5\", \"prices\")\n",
    "sep_04 = pd.read_hdf(\"data/dataframes.h5\", \"sep_04\")\n",
    "goog = pd.read_hdf(\"data/dataframes.h5\", \"goog\")\n",
    "returns = prices.pct_change().dropna()\n",
    "spy_returns = returns.SPY\n",
    "aapl_returns = returns.AAPL\n",
    "goog_returns = returns.GOOG"
   ]
  },
  {
   "cell_type": "markdown",
   "metadata": {},
   "source": [
    "## Problem: Constructing portfolio returns\n",
    "\n",
    "Compute the return of a portfolio with weight $\\frac{1}{3}$ in each security using\n",
    "multiplication (`*`) and `.sum()`.\n",
    "\n",
    "**Note**: You need to use the `axis` keyword for the sum."
   ]
  },
  {
   "cell_type": "code",
   "execution_count": null,
   "metadata": {
    "execution": {
     "iopub.execute_input": "2025-08-27T07:32:26.090051Z",
     "iopub.status.busy": "2025-08-27T07:32:26.090051Z",
     "iopub.status.idle": "2025-08-27T07:32:26.100221Z",
     "shell.execute_reply": "2025-08-27T07:32:26.100221Z"
    }
   },
   "outputs": [],
   "source": []
  },
  {
   "cell_type": "markdown",
   "metadata": {},
   "source": [
    "## Problem: Compute the Mean and Standard Deviation\n",
    "\n",
    "Using the function mean, compute the mean of the three returns series one at a time. For example  \n",
    "```python\n",
    "goog_mean = goog_returns.mean()\n",
    "```\n",
    "Next, compute the mean of the matrix of returns using  \n",
    "\n",
    "```python\n",
    "retmean = returns.mean()\n",
    "```\n",
    "\n",
    "What is the relationship between these two? Repeat this exercise for the standard deviation (`std()`).\n"
   ]
  },
  {
   "cell_type": "code",
   "execution_count": null,
   "metadata": {
    "execution": {
     "iopub.execute_input": "2025-08-27T07:32:26.103231Z",
     "iopub.status.busy": "2025-08-27T07:32:26.102229Z",
     "iopub.status.idle": "2025-08-27T07:32:26.106310Z",
     "shell.execute_reply": "2025-08-27T07:32:26.106310Z"
    }
   },
   "outputs": [],
   "source": []
  },
  {
   "cell_type": "code",
   "execution_count": null,
   "metadata": {
    "execution": {
     "iopub.execute_input": "2025-08-27T07:32:26.108316Z",
     "iopub.status.busy": "2025-08-27T07:32:26.108316Z",
     "iopub.status.idle": "2025-08-27T07:32:26.113892Z",
     "shell.execute_reply": "2025-08-27T07:32:26.113892Z"
    }
   },
   "outputs": [],
   "source": []
  },
  {
   "cell_type": "code",
   "execution_count": null,
   "metadata": {
    "execution": {
     "iopub.execute_input": "2025-08-27T07:32:26.113892Z",
     "iopub.status.busy": "2025-08-27T07:32:26.113892Z",
     "iopub.status.idle": "2025-08-27T07:32:26.123238Z",
     "shell.execute_reply": "2025-08-27T07:32:26.122708Z"
    }
   },
   "outputs": [],
   "source": []
  },
  {
   "cell_type": "markdown",
   "metadata": {
    "pycharm": {
     "name": "#%% md\n"
    }
   },
   "source": [
    "## Problem: Compute Correlation\n",
    "Compute the correlation of the matrix of returns (`corr()`). "
   ]
  },
  {
   "cell_type": "code",
   "execution_count": null,
   "metadata": {
    "execution": {
     "iopub.execute_input": "2025-08-27T07:32:26.125345Z",
     "iopub.status.busy": "2025-08-27T07:32:26.125345Z",
     "iopub.status.idle": "2025-08-27T07:32:26.134348Z",
     "shell.execute_reply": "2025-08-27T07:32:26.134348Z"
    }
   },
   "outputs": [],
   "source": []
  },
  {
   "cell_type": "markdown",
   "metadata": {},
   "source": [
    "## Problem: Summing all elements\n",
    "\n",
    "Compute the sum of the columns of returns using `.sum()`. How is this related to the mean computed \n",
    "in the previous step? "
   ]
  },
  {
   "cell_type": "code",
   "execution_count": null,
   "metadata": {
    "execution": {
     "iopub.execute_input": "2025-08-27T07:32:26.136701Z",
     "iopub.status.busy": "2025-08-27T07:32:26.136701Z",
     "iopub.status.idle": "2025-08-27T07:32:26.143575Z",
     "shell.execute_reply": "2025-08-27T07:32:26.142567Z"
    }
   },
   "outputs": [],
   "source": []
  },
  {
   "cell_type": "code",
   "execution_count": null,
   "metadata": {
    "execution": {
     "iopub.execute_input": "2025-08-27T07:32:26.145572Z",
     "iopub.status.busy": "2025-08-27T07:32:26.145572Z",
     "iopub.status.idle": "2025-08-27T07:32:26.150504Z",
     "shell.execute_reply": "2025-08-27T07:32:26.150504Z"
    }
   },
   "outputs": [],
   "source": []
  },
  {
   "cell_type": "markdown",
   "metadata": {},
   "source": [
    "## Problem: Maximum and Minimum Values\n",
    "Compute the minimum and maximum values of the columns of returns using the `min()` and `max()` commands. "
   ]
  },
  {
   "cell_type": "code",
   "execution_count": null,
   "metadata": {
    "execution": {
     "iopub.execute_input": "2025-08-27T07:32:26.153513Z",
     "iopub.status.busy": "2025-08-27T07:32:26.152512Z",
     "iopub.status.idle": "2025-08-27T07:32:26.158212Z",
     "shell.execute_reply": "2025-08-27T07:32:26.158212Z"
    }
   },
   "outputs": [],
   "source": []
  },
  {
   "cell_type": "code",
   "execution_count": null,
   "metadata": {
    "execution": {
     "iopub.execute_input": "2025-08-27T07:32:26.158212Z",
     "iopub.status.busy": "2025-08-27T07:32:26.158212Z",
     "iopub.status.idle": "2025-08-27T07:32:26.164850Z",
     "shell.execute_reply": "2025-08-27T07:32:26.164850Z"
    }
   },
   "outputs": [],
   "source": []
  },
  {
   "cell_type": "markdown",
   "metadata": {},
   "source": [
    "## Problem: Rounding Up, Down and to the Closest Integer\n",
    "\n",
    "Rounding up is handled by ceil, rounding down is handled by floor and rounding to the closest \n",
    "integer is handled by round. Try all of these commands on 100 times returns. For example,  \n",
    "```python\n",
    "rounded = (100*returns).round()\n",
    "``` \n",
    "\n",
    "Use `ceil` and `floor` to round up and down, respectively."
   ]
  },
  {
   "cell_type": "code",
   "execution_count": null,
   "metadata": {
    "execution": {
     "iopub.execute_input": "2025-08-27T07:32:26.164850Z",
     "iopub.status.busy": "2025-08-27T07:32:26.164850Z",
     "iopub.status.idle": "2025-08-27T07:32:26.175945Z",
     "shell.execute_reply": "2025-08-27T07:32:26.175945Z"
    }
   },
   "outputs": [],
   "source": []
  },
  {
   "cell_type": "code",
   "execution_count": null,
   "metadata": {
    "execution": {
     "iopub.execute_input": "2025-08-27T07:32:26.175945Z",
     "iopub.status.busy": "2025-08-27T07:32:26.175945Z",
     "iopub.status.idle": "2025-08-27T07:32:26.186658Z",
     "shell.execute_reply": "2025-08-27T07:32:26.186658Z"
    }
   },
   "outputs": [],
   "source": []
  },
  {
   "cell_type": "code",
   "execution_count": null,
   "metadata": {
    "execution": {
     "iopub.execute_input": "2025-08-27T07:32:26.188407Z",
     "iopub.status.busy": "2025-08-27T07:32:26.188407Z",
     "iopub.status.idle": "2025-08-27T07:32:26.197620Z",
     "shell.execute_reply": "2025-08-27T07:32:26.197620Z"
    }
   },
   "outputs": [],
   "source": []
  },
  {
   "cell_type": "markdown",
   "metadata": {
    "pycharm": {
     "name": "#%% md\n"
    }
   },
   "source": [
    "## Exercises\n",
    "\n",
    "### Exercise: Compute Quantiles\n",
    "\n",
    "Compute the 5%, 25%, 50%, 75% and 95% quantiles of momentum using the `quantile`\n",
    "method.\n"
   ]
  },
  {
   "cell_type": "code",
   "execution_count": null,
   "metadata": {
    "execution": {
     "iopub.execute_input": "2025-08-27T07:32:26.197620Z",
     "iopub.status.busy": "2025-08-27T07:32:26.197620Z",
     "iopub.status.idle": "2025-08-27T07:32:26.207667Z",
     "shell.execute_reply": "2025-08-27T07:32:26.207667Z"
    },
    "pycharm": {
     "name": "#%%\n"
    }
   },
   "outputs": [],
   "source": [
    "# Setup: Load data\n",
    "import pandas as pd\n",
    "\n",
    "momentum = pd.read_csv(\"data/momentum.csv\", index_col=\"date\", parse_dates=True)\n",
    "mom_10 = momentum.mom_10"
   ]
  },
  {
   "cell_type": "code",
   "execution_count": null,
   "metadata": {
    "execution": {
     "iopub.execute_input": "2025-08-27T07:32:26.207667Z",
     "iopub.status.busy": "2025-08-27T07:32:26.207667Z",
     "iopub.status.idle": "2025-08-27T07:32:26.222757Z",
     "shell.execute_reply": "2025-08-27T07:32:26.222757Z"
    }
   },
   "outputs": [],
   "source": []
  },
  {
   "cell_type": "markdown",
   "metadata": {
    "pycharm": {
     "name": "#%% md\n"
    }
   },
   "source": [
    "### Exercise: Sorting\n",
    "\n",
    "Use `sort_values` to sort momentum by the column `mom_10`. Verify that the\n",
    "sort was successful by looking at the minimum of a diff."
   ]
  },
  {
   "cell_type": "code",
   "execution_count": null,
   "metadata": {
    "execution": {
     "iopub.execute_input": "2025-08-27T07:32:26.222757Z",
     "iopub.status.busy": "2025-08-27T07:32:26.222757Z",
     "iopub.status.idle": "2025-08-27T07:32:26.239624Z",
     "shell.execute_reply": "2025-08-27T07:32:26.239624Z"
    }
   },
   "outputs": [],
   "source": []
  },
  {
   "cell_type": "code",
   "execution_count": null,
   "metadata": {
    "execution": {
     "iopub.execute_input": "2025-08-27T07:32:26.242772Z",
     "iopub.status.busy": "2025-08-27T07:32:26.241768Z",
     "iopub.status.idle": "2025-08-27T07:32:26.248126Z",
     "shell.execute_reply": "2025-08-27T07:32:26.248126Z"
    }
   },
   "outputs": [],
   "source": []
  },
  {
   "cell_type": "markdown",
   "metadata": {},
   "source": [
    "### Exercise: Sort Descending\n",
    "\n",
    "Use `sort_values` to sort momentum by by the column `mom_10` using a descending\n",
    "sort (see the help for `sort_values`). Verify the sort worked by looking at the maximum of\n",
    "a diff."
   ]
  },
  {
   "cell_type": "code",
   "execution_count": null,
   "metadata": {
    "execution": {
     "iopub.execute_input": "2025-08-27T07:32:26.251135Z",
     "iopub.status.busy": "2025-08-27T07:32:26.250136Z",
     "iopub.status.idle": "2025-08-27T07:32:26.301214Z",
     "shell.execute_reply": "2025-08-27T07:32:26.301214Z"
    }
   },
   "outputs": [],
   "source": []
  },
  {
   "cell_type": "code",
   "execution_count": null,
   "metadata": {
    "execution": {
     "iopub.execute_input": "2025-08-27T07:32:26.301214Z",
     "iopub.status.busy": "2025-08-27T07:32:26.301214Z",
     "iopub.status.idle": "2025-08-27T07:32:26.309878Z",
     "shell.execute_reply": "2025-08-27T07:32:26.309878Z"
    }
   },
   "outputs": [],
   "source": []
  },
  {
   "cell_type": "code",
   "execution_count": null,
   "metadata": {
    "execution": {
     "iopub.execute_input": "2025-08-27T07:32:26.311950Z",
     "iopub.status.busy": "2025-08-27T07:32:26.311950Z",
     "iopub.status.idle": "2025-08-27T07:32:26.325938Z",
     "shell.execute_reply": "2025-08-27T07:32:26.325429Z"
    }
   },
   "outputs": [],
   "source": []
  },
  {
   "cell_type": "code",
   "execution_count": null,
   "metadata": {
    "execution": {
     "iopub.execute_input": "2025-08-27T07:32:26.326946Z",
     "iopub.status.busy": "2025-08-27T07:32:26.326946Z",
     "iopub.status.idle": "2025-08-27T07:32:26.333451Z",
     "shell.execute_reply": "2025-08-27T07:32:26.332944Z"
    }
   },
   "outputs": [],
   "source": []
  },
  {
   "cell_type": "markdown",
   "metadata": {
    "pycharm": {
     "name": "#%% md\n"
    }
   },
   "source": [
    "### Exercise: Get Number of Elements\n",
    "\n",
    "Use the `shape` property to get the number of observations in momentum. Use it\n",
    "again to get the number of columns."
   ]
  },
  {
   "cell_type": "code",
   "execution_count": null,
   "metadata": {
    "execution": {
     "iopub.execute_input": "2025-08-27T07:32:26.334459Z",
     "iopub.status.busy": "2025-08-27T07:32:26.334459Z",
     "iopub.status.idle": "2025-08-27T07:32:26.338482Z",
     "shell.execute_reply": "2025-08-27T07:32:26.338482Z"
    }
   },
   "outputs": [],
   "source": []
  },
  {
   "cell_type": "code",
   "execution_count": null,
   "metadata": {
    "execution": {
     "iopub.execute_input": "2025-08-27T07:32:26.340490Z",
     "iopub.status.busy": "2025-08-27T07:32:26.340490Z",
     "iopub.status.idle": "2025-08-27T07:32:26.344489Z",
     "shell.execute_reply": "2025-08-27T07:32:26.344489Z"
    }
   },
   "outputs": [],
   "source": []
  },
  {
   "cell_type": "markdown",
   "metadata": {},
   "source": [
    "### Exercise: Use `shift` to Compute Returns\n",
    "\n",
    "Compute the percentage change using only `shift`, division (`/`) and\n",
    "subtraction (`-`) on the `Series` `mom_10`. Verify that your result matches what `pct_change` produces."
   ]
  },
  {
   "cell_type": "code",
   "execution_count": null,
   "metadata": {
    "execution": {
     "iopub.execute_input": "2025-08-27T07:32:26.346783Z",
     "iopub.status.busy": "2025-08-27T07:32:26.345782Z",
     "iopub.status.idle": "2025-08-27T07:32:26.352894Z",
     "shell.execute_reply": "2025-08-27T07:32:26.352894Z"
    },
    "tags": []
   },
   "outputs": [],
   "source": []
  }
 ],
 "metadata": {
  "kernelspec": {
   "display_name": "Python 3 (ipykernel)",
   "language": "python",
   "name": "python3"
  },
  "language_info": {
   "codemirror_mode": {
    "name": "ipython",
    "version": 3
   },
   "file_extension": ".py",
   "mimetype": "text/x-python",
   "name": "python",
   "nbconvert_exporter": "python",
   "pygments_lexer": "ipython3",
   "version": "3.12.11"
  },
  "pycharm": {
   "stem_cell": {
    "cell_type": "raw",
    "metadata": {
     "collapsed": false
    },
    "source": []
   }
  }
 },
 "nbformat": 4,
 "nbformat_minor": 4
}
