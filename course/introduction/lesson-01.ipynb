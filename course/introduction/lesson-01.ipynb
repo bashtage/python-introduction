{
 "cells": [
  {
   "cell_type": "markdown",
   "metadata": {},
   "source": [
    "# Getting Started\n",
    "\n",
    "This lesson covers:\n",
    "\n",
    "* Opening a terminal window\n",
    "* Launching Jupyter notebook\n",
    "* Running IPython in a Terminal\n",
    "* Running IPython in Jupyter QtConsole\n",
    "* Executing a standalone Python file in IPython\n",
    "* Optional\n",
    "  * Jupyter notebooks in [VSCode](https://code.visualstudio.com/docs/python/jupyter-support)\n",
    "  * Jupyter notebooks in [PyCharm Professional](https://jetbrains.com/student/)"
   ]
  },
  {
   "cell_type": "markdown",
   "metadata": {},
   "source": [
    "## Opening an Anaconda Terminal\n",
    "\n",
    "An Anaconda terminal allows `python` to be run directly.  It also allows other\n",
    "useful programs, for example `pip`, the Python package manager to be used to\n",
    "install packages that are not available through Anaconda.\n",
    "\n",
    "### Windows\n",
    "\n",
    "Launch Anaconda Prompt from the start menu.\n",
    "\n",
    "### OSX and Linux\n",
    "Open the terminal (instructions depend on your distribution). If you allowed\n",
    "conda to initialize, then you should be ready to call Anaconda\"s python and\n",
    "supporting functions.  If not, you should \n",
    "\n",
    "```\n",
    "cd ~/anaconda3/bin\n",
    "./conda init\n",
    "```\n",
    "\n",
    "and then reopen your terminal.\n"
   ]
  },
  {
   "cell_type": "markdown",
   "metadata": {},
   "source": [
    "## Running IPython in a Terminal\n",
    "\n",
    "1. Open a terminal.\n",
    "2. Run IPython by entering `ipython` in the terminal window. You should see a \n",
    "   window like the one below with the iconic `In [1]` indicating that you\n",
    "   are at the start of a new IPython session.\n",
    "\n",
    "![IPython in Windows Terminal](images/ipython-windows.png \"IPython in Windows Terminal\")"
   ]
  },
  {
   "cell_type": "markdown",
   "metadata": {},
   "source": [
    "## Launching Jupyter Lab\n",
    "\n",
    "1. Launch Jupyter Lab from the Start Menu or launcher.\n",
    "2. Change directory to the location where you store your notebooks.\n",
    "\n",
    "![Jupyter Notebook](images/jupyter-lab.png \"Jupyter Lab\")"
   ]
  },
  {
   "cell_type": "markdown",
   "metadata": {},
   "source": [
    "## Executing a standalone Python file in IPython\n",
    "\n",
    "1. Open a text editor and enter the following lines. Save the file as\n",
    "   lesson-2.py. Note that Python is white-space sensitive, and so these\n",
    "   lines should **not** not indented.\n",
    "\n",
    "```python\n",
    "from math import exp, log\n",
    "\n",
    "x = exp(1)\n",
    "y = log(x)\n",
    "\n",
    "print(f\"exp(1)={x}, log(exp(1))={y}\")\n",
    "```\n",
    "\n",
    "2. Run the code in an IPython session using `%run -i lesson-2.py`.  Note: you\n",
    "   should create the python file in the same directory as the notebook. \n",
    "\n",
    "If everything works as expected, you should see\n",
    "\n",
    "```python\n",
    "exp(1)=2.718281828459045, log(exp(1))=1.0\n",
    "```"
   ]
  },
  {
   "cell_type": "markdown",
   "metadata": {},
   "source": [
    "## Jupyter notebooks in VSCode\n",
    "\n",
    "[Visual Studio Code](https://code.visualstudio.com/) (or VS Code) is a\n",
    "lightweight IDE that supports adding features through extensions.  The\n",
    "key extension for working with notebooks is \n",
    "[Python extension for Visual Studio Code](https://marketplace.visualstudio.com/items?itemName=ms-python.python).\n",
    "With this extension installed, VS code provides native support for \n",
    "Jupyter notebooks.   \n",
    "\n",
    "1. Install VS Code and the Python extension\n",
    "2. Use File>New File...>Jupyter Notebook to create a new notebook.\n",
    "\n",
    "See the screenshot below for an example of the experience of using Jupyter notebooks in \n",
    "VS Code. \n",
    "\n",
    "![VS Code Notebook](images/vscode-notebook-new.png \"VS Code Notebook\")\n"
   ]
  },
  {
   "cell_type": "markdown",
   "metadata": {},
   "source": [
    "## Jupyter notebooks in PyCharm Professional\n",
    "\n",
    "<div class=\"alert alert-info\">\n",
    "PyCharm Professional is my recommended approach if you are going to use Python\n",
    "throughout the course. It provides the best experience and can be acquired for\n",
    "free using the student program.\n",
    "</div>\n",
    "\n",
    "PyCharm Professional has deeply integrated Jupyter Notebooks. To create\n",
    "an IPython notebook:\n",
    "\n",
    "1. Open PyCharm Profession\n",
    "2. Open the directory where your notebooks are stored\n",
    "3. Right-click on the root directory and select `New > Jupyter Notebook`.\n",
    "   Give your file a meaningful name, and it will open in the main window.\n",
    "\n",
    "![PyCharm New Notebook](images/pycharm-new-notebook.png \"PyCharm New Notebook\")\n",
    "\n",
    "PyCharm uses a special syntax where cells look like code and so can be edited\n",
    "like text. This allows PyCharm to use introspection and code completion on the\n",
    "code you have written, a highly useful set of features. PyCharm stores the\n",
    "notebook in a Jupyter notebook file (`.ipynb`), which means that you can\n",
    "trivially open it in any other Jupyter notebook aware app.  This differs from\n",
    "[VS code](#jupyter-notebooks-in-vsCode) which stores the file as a play Python\n",
    "file (`.py`) and requires an explicit export to a Jupyter notebook file. \n",
    "\n",
    "A code cell is demarcated using `#%%` and a markdown cell begins with `#%% md`.\n",
    "Below is a screenshot of this notebook in PyCharm.\n",
    "\n",
    "![PyCharm Notebook](images/pycharm-notebook.png \"Pycharm Notebook\")"
   ]
  }
 ],
 "metadata": {
  "file_extension": ".py",
  "kernelspec": {
   "display_name": "Python 3 (ipykernel)",
   "language": "python",
   "name": "python3"
  },
  "language_info": {
   "codemirror_mode": {
    "name": "ipython",
    "version": 3
   },
   "file_extension": ".py",
   "mimetype": "text/x-python",
   "name": "python",
   "nbconvert_exporter": "python",
   "pygments_lexer": "ipython3",
   "version": "3.12.11"
  },
  "mimetype": "text/x-python",
  "name": "python",
  "npconvert_exporter": "python",
  "pycharm": {
   "stem_cell": {
    "cell_type": "raw",
    "metadata": {
     "collapsed": false
    },
    "source": []
   }
  },
  "pygments_lexer": "ipython3",
  "version": 3
 },
 "nbformat": 4,
 "nbformat_minor": 4
}
