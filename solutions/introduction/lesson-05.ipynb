{
 "cells": [
  {
   "cell_type": "markdown",
   "metadata": {
    "pycharm": {
     "name": "#%% md\n"
    }
   },
   "source": [
    "# Constructing DataFrames from Series\n",
    "\n",
    "This lesson introduced method to construct a DataFrame from multiple\n",
    "Series.\n",
    "\n",
    "This first block loads the variables created in an earlier lesson.  A\n",
    "later lesson will cover loading and saving data."
   ]
  },
  {
   "cell_type": "code",
   "execution_count": 1,
   "metadata": {
    "collapsed": false,
    "jupyter": {
     "outputs_hidden": false
    },
    "pycharm": {
     "is_executing": false,
     "name": "#%%\n"
    }
   },
   "outputs": [],
   "source": [
    "# Setup: Load data created in an earlier lesson\n",
    "\n",
    "import pandas as pd\n",
    "\n",
    "hdf_file = \"data/dataframes.h5\"\n",
    "\n",
    "sep_04 = pd.read_hdf(hdf_file, \"sep_04\")\n",
    "sep_05 = pd.read_hdf(hdf_file, \"sep_05\")\n",
    "sep_06 = pd.read_hdf(hdf_file, \"sep_06\")\n",
    "sep_07 = pd.read_hdf(hdf_file, \"sep_07\")\n",
    "sep_10 = pd.read_hdf(hdf_file, \"sep_10\")\n",
    "sep_11 = pd.read_hdf(hdf_file, \"sep_11\")\n",
    "sep_12 = pd.read_hdf(hdf_file, \"sep_12\")\n",
    "sep_13 = pd.read_hdf(hdf_file, \"sep_13\")\n",
    "sep_14 = pd.read_hdf(hdf_file, \"sep_14\")\n",
    "sep_17 = pd.read_hdf(hdf_file, \"sep_17\")\n",
    "sep_18 = pd.read_hdf(hdf_file, \"sep_18\")\n",
    "sep_19 = pd.read_hdf(hdf_file, \"sep_19\")\n",
    "\n",
    "spy = pd.read_hdf(hdf_file, \"spy\")\n",
    "aapl = pd.read_hdf(hdf_file, \"aapl\")\n",
    "goog = pd.read_hdf(hdf_file, \"goog\")\n",
    "\n",
    "dates = pd.to_datetime(pd.read_hdf(hdf_file, \"dates\"))\n",
    "\n",
    "prices = pd.read_hdf(hdf_file, \"prices\")"
   ]
  },
  {
   "cell_type": "markdown",
   "metadata": {},
   "source": [
    "## Problem: Construct a DataFrame from rows\n",
    "\n",
    "Create a DataFrame named `prices_row` from the row vectors previously\n",
    "entered such that the results are identical to prices. For example, the first\n",
    "two days worth of data are:\n",
    "\n",
    "```python\n",
    "dates_2 = pd.to_datetime([\"1998-09-04\", \"1998-09-05\"])\n",
    "prices_row = pd.DataFrame([sep_04, sep_05])\n",
    "# Set the index after using concat to join\n",
    "prices_row.index = dates_2\n",
    "```\n",
    "\n",
    "Verify that the DataFrame identical by printing the difference with\n",
    "`prices` \n",
    "\n",
    "```python\n",
    "print(prices_row - prices)\n",
    "```"
   ]
  },
  {
   "cell_type": "code",
   "execution_count": 2,
   "metadata": {
    "collapsed": false,
    "jupyter": {
     "outputs_hidden": false
    },
    "pycharm": {
     "is_executing": false,
     "name": "#%%\n"
    }
   },
   "outputs": [
    {
     "name": "stdout",
     "output_type": "stream",
     "text": [
      "               SPY    AAPL     GOOG\n",
      "2018-09-04  289.81  228.36  1197.00\n",
      "2018-09-05  289.03  226.87  1186.48\n",
      "2018-09-06  288.16  223.10  1171.44\n",
      "2018-09-07  287.60  221.30  1164.83\n",
      "2018-09-10  288.10  218.33  1164.64\n",
      "2018-09-11  289.05  223.85  1177.36\n",
      "2018-09-12  289.12  221.07  1162.82\n",
      "2018-09-13  290.83  226.41  1175.33\n",
      "2018-09-14  290.88  223.84  1172.53\n",
      "2018-09-17  289.34  217.88  1156.05\n",
      "2018-09-18  290.91  218.24  1161.22\n",
      "2018-09-19  291.44  216.64  1158.78\n",
      "            SPY  AAPL  GOOG\n",
      "2018-09-04  0.0   0.0   0.0\n",
      "2018-09-05  0.0   0.0   0.0\n",
      "2018-09-06  0.0   0.0   0.0\n",
      "2018-09-07  0.0   0.0   0.0\n",
      "2018-09-10  0.0   0.0   0.0\n",
      "2018-09-11  0.0   0.0   0.0\n",
      "2018-09-12  0.0   0.0   0.0\n",
      "2018-09-13  0.0   0.0   0.0\n",
      "2018-09-14  0.0   0.0   0.0\n",
      "2018-09-17  0.0   0.0   0.0\n",
      "2018-09-18  0.0   0.0   0.0\n",
      "2018-09-19  0.0   0.0   0.0\n"
     ]
    }
   ],
   "source": [
    "prices_row = pd.DataFrame(\n",
    "    [\n",
    "        sep_04,\n",
    "        sep_05,\n",
    "        sep_06,\n",
    "        sep_07,\n",
    "        sep_10,\n",
    "        sep_11,\n",
    "        sep_12,\n",
    "        sep_13,\n",
    "        sep_14,\n",
    "        sep_17,\n",
    "        sep_18,\n",
    "        sep_19,\n",
    "    ]\n",
    ")\n",
    "prices_row.index = dates\n",
    "print(prices_row)\n",
    "print(prices - prices_row)"
   ]
  },
  {
   "cell_type": "markdown",
   "metadata": {
    "pycharm": {
     "name": "#%% md\n"
    }
   },
   "source": [
    "## Problem: Construct a DataFrame from columns\n",
    "\n",
    "Create a DataFrame named `prices_col` from the 3 column vectors entered\n",
    "such that the results are identical to prices.\n",
    "\n",
    "*Note*: `.T` transposes a 2-d array since `DataFrame` builds the\n",
    "array by rows.\n",
    "\n",
    "Verify that the DataFrame identical by printing the difference with\n",
    "`prices` "
   ]
  },
  {
   "cell_type": "code",
   "execution_count": 3,
   "metadata": {
    "collapsed": false,
    "jupyter": {
     "outputs_hidden": false
    },
    "pycharm": {
     "is_executing": false,
     "name": "#%%\n"
    }
   },
   "outputs": [
    {
     "name": "stdout",
     "output_type": "stream",
     "text": [
      "               SPY    AAPL     GOOG\n",
      "2018-09-04  289.81  228.36  1197.00\n",
      "2018-09-05  289.03  226.87  1186.48\n",
      "2018-09-06  288.16  223.10  1171.44\n",
      "2018-09-07  287.60  221.30  1164.83\n",
      "2018-09-10  288.10  218.33  1164.64\n",
      "2018-09-11  289.05  223.85  1177.36\n",
      "2018-09-12  289.12  221.07  1162.82\n",
      "2018-09-13  290.83  226.41  1175.33\n",
      "2018-09-14  290.88  223.84  1172.53\n",
      "2018-09-17  289.34  217.88  1156.05\n",
      "2018-09-18  290.91  218.24  1161.22\n",
      "2018-09-19  291.44  216.64  1158.78\n",
      "            SPY  AAPL  GOOG\n",
      "2018-09-04  0.0   0.0   0.0\n",
      "2018-09-05  0.0   0.0   0.0\n",
      "2018-09-06  0.0   0.0   0.0\n",
      "2018-09-07  0.0   0.0   0.0\n",
      "2018-09-10  0.0   0.0   0.0\n",
      "2018-09-11  0.0   0.0   0.0\n",
      "2018-09-12  0.0   0.0   0.0\n",
      "2018-09-13  0.0   0.0   0.0\n",
      "2018-09-14  0.0   0.0   0.0\n",
      "2018-09-17  0.0   0.0   0.0\n",
      "2018-09-18  0.0   0.0   0.0\n",
      "2018-09-19  0.0   0.0   0.0\n"
     ]
    }
   ],
   "source": [
    "# No need to set the index or the column names since index\n",
    "# and name set in Series\n",
    "prices_col = pd.DataFrame([spy, aapl, goog]).T\n",
    "print(prices_col)\n",
    "print(prices - prices_col)"
   ]
  },
  {
   "cell_type": "markdown",
   "metadata": {
    "pycharm": {
     "name": "#%% md\n"
    }
   },
   "source": [
    "## Problem: Construct a DataFrame from a dictionary\n",
    "\n",
    "Create a DataFrame named `prices_dict` from the 3 column vectors entered\n",
    "such that the results are identical to prices\n",
    "\n",
    "Verify that the DataFrame identical by printing the difference with\n",
    "`prices` "
   ]
  },
  {
   "cell_type": "code",
   "execution_count": 4,
   "metadata": {
    "collapsed": false,
    "jupyter": {
     "outputs_hidden": false
    },
    "pycharm": {
     "is_executing": false,
     "name": "#%%\n"
    }
   },
   "outputs": [
    {
     "name": "stdout",
     "output_type": "stream",
     "text": [
      "               SPY    AAPL     GOOG\n",
      "2018-09-04  289.81  228.36  1197.00\n",
      "2018-09-05  289.03  226.87  1186.48\n",
      "2018-09-06  288.16  223.10  1171.44\n",
      "2018-09-07  287.60  221.30  1164.83\n",
      "2018-09-10  288.10  218.33  1164.64\n",
      "2018-09-11  289.05  223.85  1177.36\n",
      "2018-09-12  289.12  221.07  1162.82\n",
      "2018-09-13  290.83  226.41  1175.33\n",
      "2018-09-14  290.88  223.84  1172.53\n",
      "2018-09-17  289.34  217.88  1156.05\n",
      "2018-09-18  290.91  218.24  1161.22\n",
      "2018-09-19  291.44  216.64  1158.78\n",
      "            SPY  AAPL  GOOG\n",
      "2018-09-04  0.0   0.0   0.0\n",
      "2018-09-05  0.0   0.0   0.0\n",
      "2018-09-06  0.0   0.0   0.0\n",
      "2018-09-07  0.0   0.0   0.0\n",
      "2018-09-10  0.0   0.0   0.0\n",
      "2018-09-11  0.0   0.0   0.0\n",
      "2018-09-12  0.0   0.0   0.0\n",
      "2018-09-13  0.0   0.0   0.0\n",
      "2018-09-14  0.0   0.0   0.0\n",
      "2018-09-17  0.0   0.0   0.0\n",
      "2018-09-18  0.0   0.0   0.0\n",
      "2018-09-19  0.0   0.0   0.0\n"
     ]
    }
   ],
   "source": [
    "prices_dict = pd.DataFrame({\"SPY\": spy, \"AAPL\": aapl, \"GOOG\": goog}, index=dates)\n",
    "print(prices_dict)\n",
    "print(prices - prices_dict)"
   ]
  },
  {
   "cell_type": "markdown",
   "metadata": {
    "pycharm": {
     "name": "#%% md\n"
    }
   },
   "source": [
    "## Exercises\n",
    "\n",
    "### Exercise: Create a DataFrame from rows\n",
    "\n",
    "Use the three series populated below to create a DataFrame using each\n",
    "as a row.\n",
    "\n",
    "**Note**: Notice what happens in the resulting `DataFrame` since one of the\n",
    "`Series` has 4 elements while the others have 3."
   ]
  },
  {
   "cell_type": "code",
   "execution_count": 5,
   "metadata": {
    "collapsed": false,
    "jupyter": {
     "outputs_hidden": false
    },
    "pycharm": {
     "is_executing": false,
     "name": "#%%\n"
    }
   },
   "outputs": [],
   "source": [
    "# Setup: Data for the Exercises\n",
    "import pandas as pd\n",
    "\n",
    "index = [\"Num\", \"Let\", \"Date\"]\n",
    "a = pd.Series([1, \"A\", pd.Timestamp(2018, 12, 31)], name=\"a\", index=index)\n",
    "b = pd.Series([2, \"B\", pd.Timestamp(2018, 12, 31)], name=\"b\", index=index)\n",
    "index = [\"Num\", \"Let\", \"Date\", \"Float\"]\n",
    "c = pd.Series([3, \"C\", pd.Timestamp(2018, 12, 31), 3.0], name=\"c\", index=index)"
   ]
  },
  {
   "cell_type": "code",
   "execution_count": 6,
   "metadata": {
    "collapsed": false,
    "jupyter": {
     "outputs_hidden": false
    },
    "pycharm": {
     "is_executing": false,
     "name": "#%%\n"
    }
   },
   "outputs": [
    {
     "data": {
      "text/html": [
       "<div>\n",
       "<style scoped>\n",
       "    .dataframe tbody tr th:only-of-type {\n",
       "        vertical-align: middle;\n",
       "    }\n",
       "\n",
       "    .dataframe tbody tr th {\n",
       "        vertical-align: top;\n",
       "    }\n",
       "\n",
       "    .dataframe thead th {\n",
       "        text-align: right;\n",
       "    }\n",
       "</style>\n",
       "<table border=\"1\" class=\"dataframe\">\n",
       "  <thead>\n",
       "    <tr style=\"text-align: right;\">\n",
       "      <th></th>\n",
       "      <th>Num</th>\n",
       "      <th>Let</th>\n",
       "      <th>Date</th>\n",
       "      <th>Float</th>\n",
       "    </tr>\n",
       "  </thead>\n",
       "  <tbody>\n",
       "    <tr>\n",
       "      <th>a</th>\n",
       "      <td>1</td>\n",
       "      <td>A</td>\n",
       "      <td>2018-12-31</td>\n",
       "      <td>NaN</td>\n",
       "    </tr>\n",
       "    <tr>\n",
       "      <th>b</th>\n",
       "      <td>2</td>\n",
       "      <td>B</td>\n",
       "      <td>2018-12-31</td>\n",
       "      <td>NaN</td>\n",
       "    </tr>\n",
       "    <tr>\n",
       "      <th>c</th>\n",
       "      <td>3</td>\n",
       "      <td>C</td>\n",
       "      <td>2018-12-31</td>\n",
       "      <td>3.0</td>\n",
       "    </tr>\n",
       "  </tbody>\n",
       "</table>\n",
       "</div>"
      ],
      "text/plain": [
       "   Num Let       Date  Float\n",
       "a    1   A 2018-12-31    NaN\n",
       "b    2   B 2018-12-31    NaN\n",
       "c    3   C 2018-12-31    3.0"
      ]
     },
     "execution_count": 6,
     "metadata": {},
     "output_type": "execute_result"
    }
   ],
   "source": [
    "df = pd.DataFrame([a, b, c])\n",
    "df"
   ]
  },
  {
   "cell_type": "markdown",
   "metadata": {
    "pycharm": {
     "name": "#%% md\n"
    }
   },
   "source": [
    "### Exercise: Build a DataFrame from Columns\n",
    "\n",
    "Build a `DataFrame` from the three series where each is used as a column.\n"
   ]
  },
  {
   "cell_type": "code",
   "execution_count": 7,
   "metadata": {
    "collapsed": false,
    "jupyter": {
     "outputs_hidden": false
    },
    "pycharm": {
     "is_executing": false,
     "name": "#%%\n"
    }
   },
   "outputs": [
    {
     "data": {
      "text/html": [
       "<div>\n",
       "<style scoped>\n",
       "    .dataframe tbody tr th:only-of-type {\n",
       "        vertical-align: middle;\n",
       "    }\n",
       "\n",
       "    .dataframe tbody tr th {\n",
       "        vertical-align: top;\n",
       "    }\n",
       "\n",
       "    .dataframe thead th {\n",
       "        text-align: right;\n",
       "    }\n",
       "</style>\n",
       "<table border=\"1\" class=\"dataframe\">\n",
       "  <thead>\n",
       "    <tr style=\"text-align: right;\">\n",
       "      <th></th>\n",
       "      <th>a</th>\n",
       "      <th>b</th>\n",
       "      <th>c</th>\n",
       "    </tr>\n",
       "  </thead>\n",
       "  <tbody>\n",
       "    <tr>\n",
       "      <th>Num</th>\n",
       "      <td>1</td>\n",
       "      <td>2</td>\n",
       "      <td>3</td>\n",
       "    </tr>\n",
       "    <tr>\n",
       "      <th>Let</th>\n",
       "      <td>A</td>\n",
       "      <td>B</td>\n",
       "      <td>C</td>\n",
       "    </tr>\n",
       "    <tr>\n",
       "      <th>Date</th>\n",
       "      <td>2018-12-31 00:00:00</td>\n",
       "      <td>2018-12-31 00:00:00</td>\n",
       "      <td>2018-12-31 00:00:00</td>\n",
       "    </tr>\n",
       "    <tr>\n",
       "      <th>Float</th>\n",
       "      <td>NaN</td>\n",
       "      <td>NaN</td>\n",
       "      <td>3.0</td>\n",
       "    </tr>\n",
       "  </tbody>\n",
       "</table>\n",
       "</div>"
      ],
      "text/plain": [
       "                         a                    b                    c\n",
       "Num                      1                    2                    3\n",
       "Let                      A                    B                    C\n",
       "Date   2018-12-31 00:00:00  2018-12-31 00:00:00  2018-12-31 00:00:00\n",
       "Float                  NaN                  NaN                  3.0"
      ]
     },
     "execution_count": 7,
     "metadata": {},
     "output_type": "execute_result"
    }
   ],
   "source": [
    "df = pd.DataFrame([a, b, c]).T\n",
    "df"
   ]
  },
  {
   "cell_type": "code",
   "execution_count": 8,
   "metadata": {
    "collapsed": false,
    "jupyter": {
     "outputs_hidden": false
    },
    "pycharm": {
     "is_executing": false,
     "name": "#%%\n"
    },
    "tags": []
   },
   "outputs": [
    {
     "data": {
      "text/html": [
       "<div>\n",
       "<style scoped>\n",
       "    .dataframe tbody tr th:only-of-type {\n",
       "        vertical-align: middle;\n",
       "    }\n",
       "\n",
       "    .dataframe tbody tr th {\n",
       "        vertical-align: top;\n",
       "    }\n",
       "\n",
       "    .dataframe thead th {\n",
       "        text-align: right;\n",
       "    }\n",
       "</style>\n",
       "<table border=\"1\" class=\"dataframe\">\n",
       "  <thead>\n",
       "    <tr style=\"text-align: right;\">\n",
       "      <th></th>\n",
       "      <th>a</th>\n",
       "      <th>b</th>\n",
       "      <th>c</th>\n",
       "    </tr>\n",
       "  </thead>\n",
       "  <tbody>\n",
       "    <tr>\n",
       "      <th>Date</th>\n",
       "      <td>2018-12-31 00:00:00</td>\n",
       "      <td>2018-12-31 00:00:00</td>\n",
       "      <td>2018-12-31 00:00:00</td>\n",
       "    </tr>\n",
       "    <tr>\n",
       "      <th>Float</th>\n",
       "      <td>NaN</td>\n",
       "      <td>NaN</td>\n",
       "      <td>3.0</td>\n",
       "    </tr>\n",
       "    <tr>\n",
       "      <th>Let</th>\n",
       "      <td>A</td>\n",
       "      <td>B</td>\n",
       "      <td>C</td>\n",
       "    </tr>\n",
       "    <tr>\n",
       "      <th>Num</th>\n",
       "      <td>1</td>\n",
       "      <td>2</td>\n",
       "      <td>3</td>\n",
       "    </tr>\n",
       "  </tbody>\n",
       "</table>\n",
       "</div>"
      ],
      "text/plain": [
       "                         a                    b                    c\n",
       "Date   2018-12-31 00:00:00  2018-12-31 00:00:00  2018-12-31 00:00:00\n",
       "Float                  NaN                  NaN                  3.0\n",
       "Let                      A                    B                    C\n",
       "Num                      1                    2                    3"
      ]
     },
     "execution_count": 8,
     "metadata": {},
     "output_type": "execute_result"
    }
   ],
   "source": [
    "# Note: a.name is \"A\"\n",
    "d = {a.name: a, b.name: b, c.name: c}\n",
    "df = pd.DataFrame(d)\n",
    "df"
   ]
  }
 ],
 "metadata": {
  "kernelspec": {
   "display_name": "Python 3 (ipykernel)",
   "language": "python",
   "name": "python3"
  },
  "language_info": {
   "codemirror_mode": {
    "name": "ipython",
    "version": 3
   },
   "file_extension": ".py",
   "mimetype": "text/x-python",
   "name": "python",
   "nbconvert_exporter": "python",
   "pygments_lexer": "ipython3",
   "version": "3.13.5"
  },
  "pycharm": {
   "stem_cell": {
    "cell_type": "raw",
    "metadata": {
     "collapsed": false
    },
    "source": []
   }
  }
 },
 "nbformat": 4,
 "nbformat_minor": 4
}
