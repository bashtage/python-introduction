{
 "cells": [
  {
   "cell_type": "markdown",
   "metadata": {
    "pycharm": {
     "name": "#%% md\n"
    }
   },
   "source": [
    "# Saving and Exporting Data\n",
    "\n",
    "This lesson covers:\n",
    "\n",
    "* Saving and reloading data\n",
    "\n",
    "This first block loads the data that was used in the previous lesson."
   ]
  },
  {
   "cell_type": "code",
   "execution_count": null,
   "metadata": {
    "execution": {
     "iopub.execute_input": "2025-08-27T13:43:50.955077Z",
     "iopub.status.busy": "2025-08-27T13:43:50.955077Z",
     "iopub.status.idle": "2025-08-27T13:43:51.383538Z",
     "shell.execute_reply": "2025-08-27T13:43:51.383538Z"
    },
    "pycharm": {
     "is_executing": false,
     "name": "#%%\n"
    }
   },
   "outputs": [],
   "source": [
    "# Setup: Load the data to use later\n",
    "import pandas as pd\n",
    "\n",
    "gs10_csv = pd.read_csv(\"data/GS10.csv\", index_col=\"DATE\", parse_dates=True)\n",
    "gs10_excel = pd.read_excel(\"data/GS10.xls\", skiprows=10, index_col=\"observation_date\")"
   ]
  },
  {
   "cell_type": "markdown",
   "metadata": {
    "pycharm": {
     "name": "#%% md\n"
    }
   },
   "source": [
    "## Problem: Export to Excel\n",
    "\n",
    "Export `gs10_csv` to the Excel file `gs10-exported.xlsx`.\n"
   ]
  },
  {
   "cell_type": "code",
   "execution_count": null,
   "metadata": {
    "execution": {
     "iopub.execute_input": "2025-08-27T13:43:51.385944Z",
     "iopub.status.busy": "2025-08-27T13:43:51.385944Z",
     "iopub.status.idle": "2025-08-27T13:43:51.657296Z",
     "shell.execute_reply": "2025-08-27T13:43:51.657296Z"
    },
    "jupyter": {
     "outputs_hidden": false
    }
   },
   "outputs": [],
   "source": []
  },
  {
   "cell_type": "markdown",
   "metadata": {},
   "source": [
    "## Problem: Export to CSV\n",
    "\n",
    "Export `gs10_excel` to CSV. "
   ]
  },
  {
   "cell_type": "code",
   "execution_count": null,
   "metadata": {
    "execution": {
     "iopub.execute_input": "2025-08-27T13:43:51.659301Z",
     "iopub.status.busy": "2025-08-27T13:43:51.659301Z",
     "iopub.status.idle": "2025-08-27T13:43:51.670097Z",
     "shell.execute_reply": "2025-08-27T13:43:51.670097Z"
    },
    "jupyter": {
     "outputs_hidden": false
    }
   },
   "outputs": [],
   "source": []
  },
  {
   "cell_type": "markdown",
   "metadata": {},
   "source": [
    "## Problem: Export to HDF\n",
    "\n",
    "Export both to a single HDF file (the closest thing to a \"native\" format in pandas)."
   ]
  },
  {
   "cell_type": "code",
   "execution_count": null,
   "metadata": {
    "execution": {
     "iopub.execute_input": "2025-08-27T13:43:51.670097Z",
     "iopub.status.busy": "2025-08-27T13:43:51.670097Z",
     "iopub.status.idle": "2025-08-27T13:43:51.737532Z",
     "shell.execute_reply": "2025-08-27T13:43:51.737532Z"
    },
    "jupyter": {
     "outputs_hidden": false
    }
   },
   "outputs": [],
   "source": []
  },
  {
   "cell_type": "markdown",
   "metadata": {},
   "source": [
    "## Problem: Import from HDF \n",
    "\n",
    "Import the data saved as HDF and verify it is the same as the original data."
   ]
  },
  {
   "cell_type": "code",
   "execution_count": null,
   "metadata": {
    "execution": {
     "iopub.execute_input": "2025-08-27T13:43:51.737532Z",
     "iopub.status.busy": "2025-08-27T13:43:51.737532Z",
     "iopub.status.idle": "2025-08-27T13:43:51.755556Z",
     "shell.execute_reply": "2025-08-27T13:43:51.755556Z"
    }
   },
   "outputs": [],
   "source": []
  },
  {
   "cell_type": "code",
   "execution_count": null,
   "metadata": {
    "execution": {
     "iopub.execute_input": "2025-08-27T13:43:51.755556Z",
     "iopub.status.busy": "2025-08-27T13:43:51.755556Z",
     "iopub.status.idle": "2025-08-27T13:43:51.769326Z",
     "shell.execute_reply": "2025-08-27T13:43:51.769326Z"
    },
    "jupyter": {
     "outputs_hidden": false
    }
   },
   "outputs": [],
   "source": []
  },
  {
   "cell_type": "markdown",
   "metadata": {},
   "source": [
    "## Exercises\n",
    "\n",
    "### Exercise: Import, export and verify\n",
    "\n",
    "* Import the data in \"data/fred-md.csv\"\n",
    "* Parse the dates and set the index column to \"sasdate\"\n",
    "* Remove first row labeled \"Transform:\" (**Hint**: Transpose, `del` and\n",
    "  transpose back, or use `drop`)\n",
    "* Re-parse the dates on the index\n",
    "* Remove columns that have more than 10% missing values\n",
    "* Save to \"data/fred-md.h5\" as HDF.\n",
    "* Load the data into the variable `reloaded` and verify it is identical."
   ]
  },
  {
   "cell_type": "code",
   "execution_count": null,
   "metadata": {
    "execution": {
     "iopub.execute_input": "2025-08-27T13:43:51.769326Z",
     "iopub.status.busy": "2025-08-27T13:43:51.769326Z",
     "iopub.status.idle": "2025-08-27T13:43:51.817947Z",
     "shell.execute_reply": "2025-08-27T13:43:51.817947Z"
    },
    "jupyter": {
     "outputs_hidden": false
    }
   },
   "outputs": [],
   "source": []
  },
  {
   "cell_type": "markdown",
   "metadata": {
    "pycharm": {
     "name": "#%% md\n"
    }
   },
   "source": [
    "### Exercise: Looping Export\n",
    "\n",
    "Export the columns RPI, INDPRO, and HWI from the FRED-MD data to\n",
    "`\"data/`_variablename_`.csv\"` so that, e.g., RPI is exported to `data/RPI.csv`:\n",
    "\n",
    "**Note** You need to complete the previous exercise first (or at least the first 4 steps)."
   ]
  },
  {
   "cell_type": "code",
   "execution_count": null,
   "metadata": {
    "execution": {
     "iopub.execute_input": "2025-08-27T13:43:51.817947Z",
     "iopub.status.busy": "2025-08-27T13:43:51.817947Z",
     "iopub.status.idle": "2025-08-27T13:43:51.830282Z",
     "shell.execute_reply": "2025-08-27T13:43:51.830282Z"
    },
    "jupyter": {
     "outputs_hidden": false
    },
    "tags": []
   },
   "outputs": [],
   "source": []
  }
 ],
 "metadata": {
  "kernelspec": {
   "display_name": "Python 3 (ipykernel)",
   "language": "python",
   "name": "python3"
  },
  "language_info": {
   "codemirror_mode": {
    "name": "ipython",
    "version": 3
   },
   "file_extension": ".py",
   "mimetype": "text/x-python",
   "name": "python",
   "nbconvert_exporter": "python",
   "pygments_lexer": "ipython3",
   "version": "3.12.11"
  },
  "pycharm": {
   "stem_cell": {
    "cell_type": "raw",
    "metadata": {
     "collapsed": false
    },
    "source": []
   }
  }
 },
 "nbformat": 4,
 "nbformat_minor": 4
}
