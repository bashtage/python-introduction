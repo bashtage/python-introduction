{
 "cells": [
  {
   "cell_type": "markdown",
   "metadata": {},
   "source": [
    "## Cointegration Testing using Engle-Granger\n",
    "\n",
    "**Functions**\n",
    "\n",
    "`tsa.adfuller`, `tsa.coint`\n",
    "\n",
    "### Exercise 97\n",
    "Download data on $CAY$ from [Martin Lettau’s site](https://sites.google.com/view/martinlettau/data)."
   ]
  },
  {
   "cell_type": "code",
   "execution_count": null,
   "metadata": {
    "execution": {
     "iopub.execute_input": "2021-09-22T10:10:51.981124Z",
     "iopub.status.busy": "2021-09-22T10:10:51.980120Z",
     "iopub.status.idle": "2021-09-22T10:10:52.320123Z",
     "shell.execute_reply": "2021-09-22T10:10:52.320123Z"
    }
   },
   "outputs": [],
   "source": []
  },
  {
   "cell_type": "markdown",
   "metadata": {},
   "source": [
    "We start by verifying that all three series have unit roots using `adfuller`."
   ]
  },
  {
   "cell_type": "markdown",
   "metadata": {},
   "source": [
    "### Exercise 98\n",
    "Is there evidence that these three series are cointegrated in the entire sample?"
   ]
  },
  {
   "cell_type": "code",
   "execution_count": null,
   "metadata": {
    "execution": {
     "iopub.execute_input": "2021-09-22T10:10:52.890120Z",
     "iopub.status.busy": "2021-09-22T10:10:52.890120Z",
     "iopub.status.idle": "2021-09-22T10:10:52.901121Z",
     "shell.execute_reply": "2021-09-22T10:10:52.901121Z"
    }
   },
   "outputs": [],
   "source": []
  },
  {
   "cell_type": "markdown",
   "metadata": {},
   "source": [
    "### Exercise 99\n",
    "What about in the post-Volker era (start in 1981)?"
   ]
  },
  {
   "cell_type": "code",
   "execution_count": null,
   "metadata": {
    "execution": {
     "iopub.execute_input": "2021-09-22T10:10:54.000811Z",
     "iopub.status.busy": "2021-09-22T10:10:53.998810Z",
     "iopub.status.idle": "2021-09-22T10:10:54.010828Z",
     "shell.execute_reply": "2021-09-22T10:10:54.010828Z"
    }
   },
   "outputs": [],
   "source": []
  },
  {
   "cell_type": "markdown",
   "metadata": {},
   "source": [
    "### Exercise 100\n",
    "\n",
    "Download monthly WTI and Brent crude prices from the [EIA](https://www.eia.gov/) and import them.\n",
    "Examine whether the log prices are cointegrated."
   ]
  },
  {
   "cell_type": "code",
   "execution_count": null,
   "metadata": {
    "execution": {
     "iopub.execute_input": "2021-09-22T10:10:54.251995Z",
     "iopub.status.busy": "2021-09-22T10:10:54.250993Z",
     "iopub.status.idle": "2021-09-22T10:10:54.295025Z",
     "shell.execute_reply": "2021-09-22T10:10:54.295025Z"
    }
   },
   "outputs": [],
   "source": []
  }
 ],
 "metadata": {
  "kernelspec": {
   "display_name": "Python 3 (ipykernel)",
   "language": "python",
   "name": "python3"
  },
  "language_info": {
   "codemirror_mode": {
    "name": "ipython",
    "version": 3
   },
   "file_extension": ".py",
   "mimetype": "text/x-python",
   "name": "python",
   "nbconvert_exporter": "python",
   "pygments_lexer": "ipython3",
   "version": "3.12.11"
  },
  "pycharm": {
   "stem_cell": {
    "cell_type": "raw",
    "metadata": {
     "collapsed": false
    },
    "source": []
   }
  }
 },
 "nbformat": 4,
 "nbformat_minor": 4
}
