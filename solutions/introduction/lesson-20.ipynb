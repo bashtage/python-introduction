{
 "cells": [
  {
   "cell_type": "markdown",
   "metadata": {
    "pycharm": {
     "name": "#%% md\n"
    }
   },
   "source": [
    "# Saving and Exporting Data\n",
    "\n",
    "This lesson covers:\n",
    "\n",
    "* Saving and reloading data\n",
    "\n",
    "This first block loads the data that was used in the previous lesson."
   ]
  },
  {
   "cell_type": "code",
   "execution_count": 1,
   "metadata": {
    "execution": {
     "iopub.execute_input": "2025-08-27T07:33:01.504175Z",
     "iopub.status.busy": "2025-08-27T07:33:01.504175Z",
     "iopub.status.idle": "2025-08-27T07:33:01.870499Z",
     "shell.execute_reply": "2025-08-27T07:33:01.870499Z"
    },
    "pycharm": {
     "is_executing": false,
     "name": "#%%\n"
    }
   },
   "outputs": [],
   "source": [
    "# Setup: Load the data to use later\n",
    "import pandas as pd\n",
    "\n",
    "gs10_csv = pd.read_csv(\"data/GS10.csv\", index_col=\"DATE\", parse_dates=True)\n",
    "gs10_excel = pd.read_excel(\"data/GS10.xls\", skiprows=10, index_col=\"observation_date\")"
   ]
  },
  {
   "cell_type": "markdown",
   "metadata": {
    "pycharm": {
     "name": "#%% md\n"
    }
   },
   "source": [
    "## Problem: Export to Excel\n",
    "\n",
    "Export `gs10_csv` to the Excel file `gs10-exported.xlsx`.\n"
   ]
  },
  {
   "cell_type": "code",
   "execution_count": 2,
   "metadata": {
    "collapsed": false,
    "execution": {
     "iopub.execute_input": "2025-08-27T07:33:01.872504Z",
     "iopub.status.busy": "2025-08-27T07:33:01.872504Z",
     "iopub.status.idle": "2025-08-27T07:33:02.120364Z",
     "shell.execute_reply": "2025-08-27T07:33:02.120364Z"
    },
    "jupyter": {
     "outputs_hidden": false
    },
    "pycharm": {
     "name": "#%%\n"
    }
   },
   "outputs": [],
   "source": [
    "gs10_csv.to_excel(\"gs10-exported.xlsx\")"
   ]
  },
  {
   "cell_type": "markdown",
   "metadata": {},
   "source": [
    "## Problem: Export to CSV\n",
    "\n",
    "Export `gs10_excel` to CSV. "
   ]
  },
  {
   "cell_type": "code",
   "execution_count": 3,
   "metadata": {
    "collapsed": false,
    "execution": {
     "iopub.execute_input": "2025-08-27T07:33:02.122370Z",
     "iopub.status.busy": "2025-08-27T07:33:02.122370Z",
     "iopub.status.idle": "2025-08-27T07:33:02.129508Z",
     "shell.execute_reply": "2025-08-27T07:33:02.129508Z"
    },
    "jupyter": {
     "outputs_hidden": false
    },
    "pycharm": {
     "name": "#%%\n"
    }
   },
   "outputs": [],
   "source": [
    "gs10_csv.to_csv(\"gs10-exported.csv\")"
   ]
  },
  {
   "cell_type": "markdown",
   "metadata": {},
   "source": [
    "## Problem: Export to HDF\n",
    "\n",
    "Export both to a single HDF file (the closest thing to a \"native\" format in pandas)."
   ]
  },
  {
   "cell_type": "code",
   "execution_count": 4,
   "metadata": {
    "collapsed": false,
    "execution": {
     "iopub.execute_input": "2025-08-27T07:33:02.131746Z",
     "iopub.status.busy": "2025-08-27T07:33:02.130745Z",
     "iopub.status.idle": "2025-08-27T07:33:02.188337Z",
     "shell.execute_reply": "2025-08-27T07:33:02.188337Z"
    },
    "jupyter": {
     "outputs_hidden": false
    },
    "pycharm": {
     "name": "#%%\n"
    }
   },
   "outputs": [
    {
     "name": "stderr",
     "output_type": "stream",
     "text": [
      "C:\\Users\\kevin\\AppData\\Local\\Temp\\ipykernel_47432\\3580256588.py:2: FutureWarning: Starting with pandas version 3.0 all arguments of to_hdf except for the argument 'path_or_buf' will be keyword-only.\n",
      "  gs10_csv.to_hdf(\"gs10.h5\", \"csv\", mode=\"w\")\n",
      "C:\\Users\\kevin\\AppData\\Local\\Temp\\ipykernel_47432\\3580256588.py:4: FutureWarning: Starting with pandas version 3.0 all arguments of to_hdf except for the argument 'path_or_buf' will be keyword-only.\n",
      "  gs10_excel.to_hdf(\"gs10.h5\", \"excel\", mode=\"a\")\n"
     ]
    }
   ],
   "source": [
    "# mode=\"w\" creates a new file for writing\n",
    "gs10_csv.to_hdf(\"gs10.h5\", \"csv\", mode=\"w\")\n",
    "# \"a\" allows an existing file to be appended to\n",
    "gs10_excel.to_hdf(\"gs10.h5\", \"excel\", mode=\"a\")"
   ]
  },
  {
   "cell_type": "markdown",
   "metadata": {},
   "source": [
    "## Problem: Import from HDF \n",
    "\n",
    "Import the data saved as HDF and verify it is the same as the original data."
   ]
  },
  {
   "cell_type": "code",
   "execution_count": 5,
   "metadata": {
    "execution": {
     "iopub.execute_input": "2025-08-27T07:33:02.190343Z",
     "iopub.status.busy": "2025-08-27T07:33:02.190343Z",
     "iopub.status.idle": "2025-08-27T07:33:02.204000Z",
     "shell.execute_reply": "2025-08-27T07:33:02.204000Z"
    },
    "pycharm": {
     "is_executing": false,
     "name": "#%%\n"
    }
   },
   "outputs": [
    {
     "data": {
      "text/html": [
       "<div>\n",
       "<style scoped>\n",
       "    .dataframe tbody tr th:only-of-type {\n",
       "        vertical-align: middle;\n",
       "    }\n",
       "\n",
       "    .dataframe tbody tr th {\n",
       "        vertical-align: top;\n",
       "    }\n",
       "\n",
       "    .dataframe thead th {\n",
       "        text-align: right;\n",
       "    }\n",
       "</style>\n",
       "<table border=\"1\" class=\"dataframe\">\n",
       "  <thead>\n",
       "    <tr style=\"text-align: right;\">\n",
       "      <th></th>\n",
       "      <th>GS10</th>\n",
       "    </tr>\n",
       "    <tr>\n",
       "      <th>DATE</th>\n",
       "      <th></th>\n",
       "    </tr>\n",
       "  </thead>\n",
       "  <tbody>\n",
       "    <tr>\n",
       "      <th>1953-04-01</th>\n",
       "      <td>2.83</td>\n",
       "    </tr>\n",
       "    <tr>\n",
       "      <th>1953-05-01</th>\n",
       "      <td>3.05</td>\n",
       "    </tr>\n",
       "    <tr>\n",
       "      <th>1953-06-01</th>\n",
       "      <td>3.11</td>\n",
       "    </tr>\n",
       "    <tr>\n",
       "      <th>1953-07-01</th>\n",
       "      <td>2.93</td>\n",
       "    </tr>\n",
       "    <tr>\n",
       "      <th>1953-08-01</th>\n",
       "      <td>2.95</td>\n",
       "    </tr>\n",
       "  </tbody>\n",
       "</table>\n",
       "</div>"
      ],
      "text/plain": [
       "            GS10\n",
       "DATE            \n",
       "1953-04-01  2.83\n",
       "1953-05-01  3.05\n",
       "1953-06-01  3.11\n",
       "1953-07-01  2.93\n",
       "1953-08-01  2.95"
      ]
     },
     "execution_count": 5,
     "metadata": {},
     "output_type": "execute_result"
    }
   ],
   "source": [
    "gs10_csv_reloaded = pd.read_hdf(\"gs10.h5\", \"csv\")\n",
    "gs10_csv_reloaded.head()"
   ]
  },
  {
   "cell_type": "code",
   "execution_count": 6,
   "metadata": {
    "collapsed": false,
    "execution": {
     "iopub.execute_input": "2025-08-27T07:33:02.206007Z",
     "iopub.status.busy": "2025-08-27T07:33:02.205008Z",
     "iopub.status.idle": "2025-08-27T07:33:02.215244Z",
     "shell.execute_reply": "2025-08-27T07:33:02.215244Z"
    },
    "jupyter": {
     "outputs_hidden": false
    },
    "pycharm": {
     "name": "#%%\n"
    }
   },
   "outputs": [
    {
     "data": {
      "text/html": [
       "<div>\n",
       "<style scoped>\n",
       "    .dataframe tbody tr th:only-of-type {\n",
       "        vertical-align: middle;\n",
       "    }\n",
       "\n",
       "    .dataframe tbody tr th {\n",
       "        vertical-align: top;\n",
       "    }\n",
       "\n",
       "    .dataframe thead th {\n",
       "        text-align: right;\n",
       "    }\n",
       "</style>\n",
       "<table border=\"1\" class=\"dataframe\">\n",
       "  <thead>\n",
       "    <tr style=\"text-align: right;\">\n",
       "      <th></th>\n",
       "      <th>GS10</th>\n",
       "    </tr>\n",
       "    <tr>\n",
       "      <th>observation_date</th>\n",
       "      <th></th>\n",
       "    </tr>\n",
       "  </thead>\n",
       "  <tbody>\n",
       "    <tr>\n",
       "      <th>1953-04-01</th>\n",
       "      <td>2.83</td>\n",
       "    </tr>\n",
       "    <tr>\n",
       "      <th>1953-05-01</th>\n",
       "      <td>3.05</td>\n",
       "    </tr>\n",
       "    <tr>\n",
       "      <th>1953-06-01</th>\n",
       "      <td>3.11</td>\n",
       "    </tr>\n",
       "    <tr>\n",
       "      <th>1953-07-01</th>\n",
       "      <td>2.93</td>\n",
       "    </tr>\n",
       "    <tr>\n",
       "      <th>1953-08-01</th>\n",
       "      <td>2.95</td>\n",
       "    </tr>\n",
       "  </tbody>\n",
       "</table>\n",
       "</div>"
      ],
      "text/plain": [
       "                  GS10\n",
       "observation_date      \n",
       "1953-04-01        2.83\n",
       "1953-05-01        3.05\n",
       "1953-06-01        3.11\n",
       "1953-07-01        2.93\n",
       "1953-08-01        2.95"
      ]
     },
     "execution_count": 6,
     "metadata": {},
     "output_type": "execute_result"
    }
   ],
   "source": [
    "gs10_excel_reloaded = pd.read_hdf(\"gs10.h5\", \"excel\")\n",
    "gs10_excel_reloaded.head()"
   ]
  },
  {
   "cell_type": "markdown",
   "metadata": {},
   "source": [
    "## Exercises\n",
    "\n",
    "### Exercise: Import, export and verify\n",
    "\n",
    "* Import the data in \"data/fred-md.csv\"\n",
    "* Parse the dates and set the index column to \"sasdate\"\n",
    "* Remove first row labeled \"Transform:\" (**Hint**: Transpose, `del` and\n",
    "  transpose back, or use `drop`)\n",
    "* Re-parse the dates on the index\n",
    "* Remove columns that have more than 10% missing values\n",
    "* Save to \"data/fred-md.h5\" as HDF.\n",
    "* Load the data into the variable `reloaded` and verify it is identical."
   ]
  },
  {
   "cell_type": "code",
   "execution_count": 7,
   "metadata": {
    "collapsed": false,
    "execution": {
     "iopub.execute_input": "2025-08-27T07:33:02.216721Z",
     "iopub.status.busy": "2025-08-27T07:33:02.216721Z",
     "iopub.status.idle": "2025-08-27T07:33:02.256595Z",
     "shell.execute_reply": "2025-08-27T07:33:02.256595Z"
    },
    "jupyter": {
     "outputs_hidden": false
    },
    "pycharm": {
     "is_executing": false,
     "name": "#%%\n"
    }
   },
   "outputs": [
    {
     "name": "stdout",
     "output_type": "stream",
     "text": [
      "Retained 124 out of 128\n",
      "The maximum error is 0.0\n"
     ]
    },
    {
     "name": "stderr",
     "output_type": "stream",
     "text": [
      "C:\\Users\\kevin\\AppData\\Local\\Temp\\ipykernel_47432\\3354597576.py:16: FutureWarning: Starting with pandas version 3.0 all arguments of to_hdf except for the argument 'path_or_buf' will be keyword-only.\n",
      "  fred.to_hdf(\"data/fred-md.h5\", \"fred_md\")\n"
     ]
    }
   ],
   "source": [
    "import pandas as pd\n",
    "\n",
    "fred = pd.read_csv(\n",
    "    \"data/fred-md.csv\", parse_dates=True, index_col=\"sasdate\", date_format=\"%m-%d-^Y\"\n",
    ")\n",
    "fred = fred.T\n",
    "del fred[\"Transform:\"]\n",
    "fred = fred.T\n",
    "# Could also use\n",
    "# fred = fred.drop(\"Transform:\")\n",
    "fred.index = pd.to_datetime(fred.index)\n",
    "retain = fred.isna().mean() < 0.10\n",
    "print(f\"Retained {retain.sum()} out of {retain.shape[0]}\")\n",
    "fred = fred.loc[:, retain]\n",
    "\n",
    "fred.to_hdf(\"data/fred-md.h5\", \"fred_md\")\n",
    "\n",
    "reloaded = pd.read_hdf(\"data/fred-md.h5\", \"fred_md\")\n",
    "error = (fred - reloaded).abs().max().max()\n",
    "print(f\"The maximum error is {error}\")"
   ]
  },
  {
   "cell_type": "markdown",
   "metadata": {
    "pycharm": {
     "name": "#%% md\n"
    }
   },
   "source": [
    "### Exercise: Looping Export\n",
    "\n",
    "Export the columns RPI, INDPRO, and HWI from the FRED-MD data to\n",
    "`\"data/`_variablename_`.csv\"` so that, e.g., RPI is exported to `data/RPI.csv`:\n",
    "\n",
    "**Note** You need to complete the previous exercise first (or at least the first 4 steps)."
   ]
  },
  {
   "cell_type": "code",
   "execution_count": 8,
   "metadata": {
    "collapsed": false,
    "execution": {
     "iopub.execute_input": "2025-08-27T07:33:02.256595Z",
     "iopub.status.busy": "2025-08-27T07:33:02.256595Z",
     "iopub.status.idle": "2025-08-27T07:33:02.268536Z",
     "shell.execute_reply": "2025-08-27T07:33:02.268536Z"
    },
    "jupyter": {
     "outputs_hidden": false
    },
    "pycharm": {
     "is_executing": false,
     "name": "#%%\n"
    },
    "tags": []
   },
   "outputs": [],
   "source": [
    "variables = [\"RPI\", \"INDPRO\", \"HWI\"]\n",
    "\n",
    "for var in variables:\n",
    "    csv_name = f\"data/{var}.csv\"\n",
    "    # Pass header to silence a warning in pandas 0.25\n",
    "    fred[var].to_csv(csv_name, header=True)"
   ]
  }
 ],
 "metadata": {
  "kernelspec": {
   "display_name": "Python 3 (ipykernel)",
   "language": "python",
   "name": "python3"
  },
  "language_info": {
   "codemirror_mode": {
    "name": "ipython",
    "version": 3
   },
   "file_extension": ".py",
   "mimetype": "text/x-python",
   "name": "python",
   "nbconvert_exporter": "python",
   "pygments_lexer": "ipython3",
   "version": "3.12.11"
  },
  "pycharm": {
   "stem_cell": {
    "cell_type": "raw",
    "metadata": {
     "collapsed": false
    },
    "source": []
   }
  }
 },
 "nbformat": 4,
 "nbformat_minor": 4
}
