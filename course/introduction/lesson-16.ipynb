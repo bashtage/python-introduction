{
 "cells": [
  {
   "cell_type": "markdown",
   "metadata": {},
   "source": [
    "# Boolean Selection \n",
    "\n",
    "This lesson covers:\n",
    "\n",
    "* Boolean selection\n",
    "* `where`\n",
    "\n",
    "Begin by loading the data in momentum.csv.\n"
   ]
  },
  {
   "cell_type": "code",
   "execution_count": null,
   "metadata": {
    "execution": {
     "iopub.execute_input": "2025-08-27T13:43:37.331293Z",
     "iopub.status.busy": "2025-08-27T13:43:37.331293Z",
     "iopub.status.idle": "2025-08-27T13:43:37.732640Z",
     "shell.execute_reply": "2025-08-27T13:43:37.732640Z"
    },
    "pycharm": {
     "is_executing": false,
     "name": "#%%\n"
    }
   },
   "outputs": [],
   "source": [
    "# Setup: Load the momentum data\n",
    "\n",
    "import numpy as np\n",
    "import pandas as pd\n",
    "\n",
    "momentum = pd.read_csv(\"data/momentum.csv\", index_col=\"date\", parse_dates=True)\n",
    "\n",
    "print(momentum.head())"
   ]
  },
  {
   "cell_type": "markdown",
   "metadata": {},
   "source": [
    "## Problem: Selecting rows with boolean conditions\n",
    "\n",
    "Select the rows in `momentum` where all returns on a day are negative."
   ]
  },
  {
   "cell_type": "code",
   "execution_count": null,
   "metadata": {
    "execution": {
     "iopub.execute_input": "2025-08-27T13:43:37.732640Z",
     "iopub.status.busy": "2025-08-27T13:43:37.732640Z",
     "iopub.status.idle": "2025-08-27T13:43:37.753187Z",
     "shell.execute_reply": "2025-08-27T13:43:37.753187Z"
    }
   },
   "outputs": [],
   "source": []
  },
  {
   "cell_type": "markdown",
   "metadata": {},
   "source": [
    "## Problem: Selecting rows\n",
    "\n",
    "Select the rows in `momentum` where 50% or more of the returns on a day are negative."
   ]
  },
  {
   "cell_type": "code",
   "execution_count": null,
   "metadata": {
    "execution": {
     "iopub.execute_input": "2025-08-27T13:43:37.753187Z",
     "iopub.status.busy": "2025-08-27T13:43:37.753187Z",
     "iopub.status.idle": "2025-08-27T13:43:37.769525Z",
     "shell.execute_reply": "2025-08-27T13:43:37.769525Z"
    }
   },
   "outputs": [],
   "source": []
  },
  {
   "cell_type": "markdown",
   "metadata": {},
   "source": [
    "## Problem: Selecting columns\n",
    "\n",
    "Select the columns in `momentum` what have the smallest and second smallest average returns."
   ]
  },
  {
   "cell_type": "code",
   "execution_count": null,
   "metadata": {
    "execution": {
     "iopub.execute_input": "2025-08-27T13:43:37.769525Z",
     "iopub.status.busy": "2025-08-27T13:43:37.769525Z",
     "iopub.status.idle": "2025-08-27T13:43:37.776877Z",
     "shell.execute_reply": "2025-08-27T13:43:37.776877Z"
    }
   },
   "outputs": [],
   "source": []
  },
  {
   "cell_type": "code",
   "execution_count": null,
   "metadata": {
    "execution": {
     "iopub.execute_input": "2025-08-27T13:43:37.776877Z",
     "iopub.status.busy": "2025-08-27T13:43:37.776877Z",
     "iopub.status.idle": "2025-08-27T13:43:37.787012Z",
     "shell.execute_reply": "2025-08-27T13:43:37.787012Z"
    }
   },
   "outputs": [],
   "source": []
  },
  {
   "cell_type": "code",
   "execution_count": null,
   "metadata": {
    "execution": {
     "iopub.execute_input": "2025-08-27T13:43:37.788757Z",
     "iopub.status.busy": "2025-08-27T13:43:37.788757Z",
     "iopub.status.idle": "2025-08-27T13:43:37.796870Z",
     "shell.execute_reply": "2025-08-27T13:43:37.796870Z"
    }
   },
   "outputs": [],
   "source": []
  },
  {
   "cell_type": "markdown",
   "metadata": {},
   "source": [
    "## Problem: Selecting rows and columns\n",
    "\n",
    "Select the returns for the column with the single most negative return\n",
    "on days where all of the returns are negative. "
   ]
  },
  {
   "cell_type": "code",
   "execution_count": null,
   "metadata": {
    "execution": {
     "iopub.execute_input": "2025-08-27T13:43:37.796870Z",
     "iopub.status.busy": "2025-08-27T13:43:37.796870Z",
     "iopub.status.idle": "2025-08-27T13:43:37.805089Z",
     "shell.execute_reply": "2025-08-27T13:43:37.805089Z"
    }
   },
   "outputs": [],
   "source": []
  },
  {
   "cell_type": "code",
   "execution_count": null,
   "metadata": {
    "execution": {
     "iopub.execute_input": "2025-08-27T13:43:37.805089Z",
     "iopub.status.busy": "2025-08-27T13:43:37.805089Z",
     "iopub.status.idle": "2025-08-27T13:43:37.814857Z",
     "shell.execute_reply": "2025-08-27T13:43:37.814857Z"
    }
   },
   "outputs": [],
   "source": []
  },
  {
   "cell_type": "markdown",
   "metadata": {},
   "source": [
    "## Problem: Selecting Elements using Logical Statements\n",
    "For portfolio 1 and portfolio 10 compute the correlation when both \n",
    "returns are negative and when both are positive.\n"
   ]
  },
  {
   "cell_type": "code",
   "execution_count": null,
   "metadata": {
    "execution": {
     "iopub.execute_input": "2025-08-27T13:43:37.814857Z",
     "iopub.status.busy": "2025-08-27T13:43:37.814857Z",
     "iopub.status.idle": "2025-08-27T13:43:37.824587Z",
     "shell.execute_reply": "2025-08-27T13:43:37.824587Z"
    }
   },
   "outputs": [],
   "source": []
  },
  {
   "cell_type": "code",
   "execution_count": null,
   "metadata": {
    "execution": {
     "iopub.execute_input": "2025-08-27T13:43:37.824587Z",
     "iopub.status.busy": "2025-08-27T13:43:37.824587Z",
     "iopub.status.idle": "2025-08-27T13:43:37.833161Z",
     "shell.execute_reply": "2025-08-27T13:43:37.833161Z"
    }
   },
   "outputs": [],
   "source": []
  },
  {
   "cell_type": "code",
   "execution_count": null,
   "metadata": {
    "execution": {
     "iopub.execute_input": "2025-08-27T13:43:37.833161Z",
     "iopub.status.busy": "2025-08-27T13:43:37.833161Z",
     "iopub.status.idle": "2025-08-27T13:43:37.839492Z",
     "shell.execute_reply": "2025-08-27T13:43:37.839492Z"
    },
    "pycharm": {
     "is_executing": false,
     "name": "#%%\n"
    }
   },
   "outputs": [],
   "source": [
    "# Setup: Reproducible random numbers\n",
    "\n",
    "rs = np.random.RandomState(19991231)\n",
    "x = rs.randint(1, 11, size=(10, 3))\n",
    "x"
   ]
  },
  {
   "cell_type": "markdown",
   "metadata": {
    "pycharm": {
     "name": "#%% md\n"
    }
   },
   "source": [
    "## Problem: Select the columns of x that means >= $E[x]$"
   ]
  },
  {
   "cell_type": "code",
   "execution_count": null,
   "metadata": {
    "execution": {
     "iopub.execute_input": "2025-08-27T13:43:37.839492Z",
     "iopub.status.busy": "2025-08-27T13:43:37.839492Z",
     "iopub.status.idle": "2025-08-27T13:43:37.845234Z",
     "shell.execute_reply": "2025-08-27T13:43:37.845234Z"
    }
   },
   "outputs": [],
   "source": []
  },
  {
   "cell_type": "markdown",
   "metadata": {},
   "source": [
    "## Problem: Select the rows of x that means >= $E[x]$"
   ]
  },
  {
   "cell_type": "code",
   "execution_count": null,
   "metadata": {
    "execution": {
     "iopub.execute_input": "2025-08-27T13:43:37.845234Z",
     "iopub.status.busy": "2025-08-27T13:43:37.845234Z",
     "iopub.status.idle": "2025-08-27T13:43:37.851627Z",
     "shell.execute_reply": "2025-08-27T13:43:37.851627Z"
    }
   },
   "outputs": [],
   "source": []
  },
  {
   "cell_type": "markdown",
   "metadata": {},
   "source": [
    "## Problem: Select the rows and column of x where both have means < $E[x]$"
   ]
  },
  {
   "cell_type": "code",
   "execution_count": null,
   "metadata": {
    "execution": {
     "iopub.execute_input": "2025-08-27T13:43:37.851627Z",
     "iopub.status.busy": "2025-08-27T13:43:37.851627Z",
     "iopub.status.idle": "2025-08-27T13:43:37.857821Z",
     "shell.execute_reply": "2025-08-27T13:43:37.857821Z"
    }
   },
   "outputs": [],
   "source": []
  },
  {
   "cell_type": "markdown",
   "metadata": {},
   "source": [
    "## Problem: Using `where`\n",
    "Use `where` to select the index of the elements in portfolio 5 that are\n",
    "negative. Next, use the `where` command in its two output form to determine\n",
    "which elements of the portfolio return matrix are less than -2%."
   ]
  },
  {
   "cell_type": "code",
   "execution_count": null,
   "metadata": {
    "execution": {
     "iopub.execute_input": "2025-08-27T13:43:37.857821Z",
     "iopub.status.busy": "2025-08-27T13:43:37.857821Z",
     "iopub.status.idle": "2025-08-27T13:43:37.864906Z",
     "shell.execute_reply": "2025-08-27T13:43:37.864906Z"
    }
   },
   "outputs": [],
   "source": []
  },
  {
   "cell_type": "code",
   "execution_count": null,
   "metadata": {
    "execution": {
     "iopub.execute_input": "2025-08-27T13:43:37.864906Z",
     "iopub.status.busy": "2025-08-27T13:43:37.864906Z",
     "iopub.status.idle": "2025-08-27T13:43:37.872979Z",
     "shell.execute_reply": "2025-08-27T13:43:37.872979Z"
    }
   },
   "outputs": [],
   "source": []
  },
  {
   "cell_type": "code",
   "execution_count": null,
   "metadata": {
    "execution": {
     "iopub.execute_input": "2025-08-27T13:43:37.872979Z",
     "iopub.status.busy": "2025-08-27T13:43:37.872979Z",
     "iopub.status.idle": "2025-08-27T13:43:37.878843Z",
     "shell.execute_reply": "2025-08-27T13:43:37.878843Z"
    }
   },
   "outputs": [],
   "source": []
  },
  {
   "cell_type": "markdown",
   "metadata": {
    "pycharm": {
     "name": "#%% md\n"
    }
   },
   "source": [
    "## Exercises\n",
    "\n",
    "### Exercise: Select the Most Volatile Portfolio\n",
    "\n",
    "Select the column in momentum that has the highest standard deviation."
   ]
  },
  {
   "cell_type": "code",
   "execution_count": null,
   "metadata": {
    "execution": {
     "iopub.execute_input": "2025-08-27T13:43:37.878843Z",
     "iopub.status.busy": "2025-08-27T13:43:37.878843Z",
     "iopub.status.idle": "2025-08-27T13:43:37.887950Z",
     "shell.execute_reply": "2025-08-27T13:43:37.887950Z"
    }
   },
   "outputs": [],
   "source": []
  },
  {
   "cell_type": "markdown",
   "metadata": {
    "pycharm": {
     "name": "#%% md\n"
    }
   },
   "source": [
    "### Exercise: Select the High Kurtosis Portfolios\n",
    "\n",
    "Select the columns that have kurtoses above the median kurtosis."
   ]
  },
  {
   "cell_type": "code",
   "execution_count": null,
   "metadata": {
    "execution": {
     "iopub.execute_input": "2025-08-27T13:43:37.887950Z",
     "iopub.status.busy": "2025-08-27T13:43:37.887950Z",
     "iopub.status.idle": "2025-08-27T13:43:37.898646Z",
     "shell.execute_reply": "2025-08-27T13:43:37.898646Z"
    }
   },
   "outputs": [],
   "source": []
  },
  {
   "cell_type": "markdown",
   "metadata": {
    "pycharm": {
     "name": "#%% md\n"
    }
   },
   "source": [
    "### Exercise: Select \n",
    "\n",
    "Select the rows where all of the returns in the row are less than the 25%\n",
    "quantile for their portfolio.\n",
    "\n",
    "**Note**: Comparisons between `DataFrame`s and `Series` works like mathematical\n",
    "operations (`+`, `-`, etc.)."
   ]
  },
  {
   "cell_type": "code",
   "execution_count": null,
   "metadata": {
    "execution": {
     "iopub.execute_input": "2025-08-27T13:43:37.898646Z",
     "iopub.status.busy": "2025-08-27T13:43:37.898646Z",
     "iopub.status.idle": "2025-08-27T13:43:37.910049Z",
     "shell.execute_reply": "2025-08-27T13:43:37.910049Z"
    }
   },
   "outputs": [],
   "source": []
  },
  {
   "cell_type": "code",
   "execution_count": null,
   "metadata": {
    "execution": {
     "iopub.execute_input": "2025-08-27T13:43:37.910049Z",
     "iopub.status.busy": "2025-08-27T13:43:37.910049Z",
     "iopub.status.idle": "2025-08-27T13:43:37.936030Z",
     "shell.execute_reply": "2025-08-27T13:43:37.936030Z"
    },
    "tags": []
   },
   "outputs": [],
   "source": []
  }
 ],
 "metadata": {
  "kernelspec": {
   "display_name": "Python 3 (ipykernel)",
   "language": "python",
   "name": "python3"
  },
  "language_info": {
   "codemirror_mode": {
    "name": "ipython",
    "version": 3
   },
   "file_extension": ".py",
   "mimetype": "text/x-python",
   "name": "python",
   "nbconvert_exporter": "python",
   "pygments_lexer": "ipython3",
   "version": "3.12.11"
  },
  "pycharm": {
   "stem_cell": {
    "cell_type": "raw",
    "metadata": {
     "collapsed": false
    },
    "source": []
   }
  }
 },
 "nbformat": 4,
 "nbformat_minor": 4
}
