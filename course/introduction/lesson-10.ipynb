{
 "cells": [
  {
   "cell_type": "markdown",
   "metadata": {},
   "source": [
    "# Accessing Elements in DataFrames\n",
    "\n",
    "This lesson covers:\n",
    "\n",
    "* Assessing specific elements in Pandas Series and DataFrames \n",
    "\n",
    "Accessing elements in an array or a DataFrame is a common task. To begin this\n",
    "lesson, clear the workspace set up some vectors and a $5\\times5$ array. These\n",
    "vectors and matrix will make it easy to determine which elements are selected\n",
    "by a command.\n",
    "\n",
    "Start by creating 2 DataFrame and 2 Series. Define `x=np.arange(24).reshape(5,5)` \n",
    "which is a 5 by 5 array and `y=np.arange(5)` which is a 5-element 1-d array.\n",
    "We need:\n",
    "\n",
    "* `x_df`: A default `DataFrame` containing `x`\n",
    "* `x_named`: A `DataFrame` containing `x` with index `\"r0\"`, `\"r1\"`, ..., `\"r4\"` and\n",
    "  columns `\"c0\"`, `\"c1\"`, ... `\"c4\"`.\n",
    "* `y_s`: A default `Series` containing `y`\n",
    "* `y_named`: A `Series` containing `y` that has the index `\"r0\"`, `\"r1\"`, ..., `\"r4\"`"
   ]
  },
  {
   "cell_type": "code",
   "execution_count": null,
   "metadata": {
    "execution": {
     "iopub.execute_input": "2025-08-27T07:32:28.428349Z",
     "iopub.status.busy": "2025-08-27T07:32:28.428349Z",
     "iopub.status.idle": "2025-08-27T07:32:28.786102Z",
     "shell.execute_reply": "2025-08-27T07:32:28.786102Z"
    }
   },
   "outputs": [],
   "source": []
  },
  {
   "cell_type": "markdown",
   "metadata": {},
   "source": [
    "## Problem: Selecting a row by name\n",
    "\n",
    "Select the 2nd row of `x_name` using `.loc`.\n"
   ]
  },
  {
   "cell_type": "code",
   "execution_count": null,
   "metadata": {
    "execution": {
     "iopub.execute_input": "2025-08-27T07:32:28.789136Z",
     "iopub.status.busy": "2025-08-27T07:32:28.788137Z",
     "iopub.status.idle": "2025-08-27T07:32:28.796140Z",
     "shell.execute_reply": "2025-08-27T07:32:28.796140Z"
    }
   },
   "outputs": [],
   "source": []
  },
  {
   "cell_type": "markdown",
   "metadata": {},
   "source": [
    "## Problem: Selecting a column by name\n",
    "\n",
    "Select the 2nd columns of `x_name` using  both `[]` and `.loc`."
   ]
  },
  {
   "cell_type": "code",
   "execution_count": null,
   "metadata": {
    "execution": {
     "iopub.execute_input": "2025-08-27T07:32:28.799146Z",
     "iopub.status.busy": "2025-08-27T07:32:28.798147Z",
     "iopub.status.idle": "2025-08-27T07:32:28.804276Z",
     "shell.execute_reply": "2025-08-27T07:32:28.804276Z"
    }
   },
   "outputs": [],
   "source": []
  },
  {
   "cell_type": "code",
   "execution_count": null,
   "metadata": {
    "execution": {
     "iopub.execute_input": "2025-08-27T07:32:28.806285Z",
     "iopub.status.busy": "2025-08-27T07:32:28.806285Z",
     "iopub.status.idle": "2025-08-27T07:32:28.811239Z",
     "shell.execute_reply": "2025-08-27T07:32:28.811239Z"
    }
   },
   "outputs": [],
   "source": []
  },
  {
   "cell_type": "code",
   "execution_count": null,
   "metadata": {
    "execution": {
     "iopub.execute_input": "2025-08-27T07:32:28.814249Z",
     "iopub.status.busy": "2025-08-27T07:32:28.814249Z",
     "iopub.status.idle": "2025-08-27T07:32:28.819903Z",
     "shell.execute_reply": "2025-08-27T07:32:28.819903Z"
    }
   },
   "outputs": [],
   "source": []
  },
  {
   "cell_type": "markdown",
   "metadata": {},
   "source": [
    "## Problem: Selecting a elements of a Series by name\n",
    "\n",
    "Select the 2nd element of `y_name` using both `[]` and `loc`.\n"
   ]
  },
  {
   "cell_type": "code",
   "execution_count": null,
   "metadata": {
    "execution": {
     "iopub.execute_input": "2025-08-27T07:32:28.821915Z",
     "iopub.status.busy": "2025-08-27T07:32:28.821915Z",
     "iopub.status.idle": "2025-08-27T07:32:28.825951Z",
     "shell.execute_reply": "2025-08-27T07:32:28.825467Z"
    }
   },
   "outputs": [],
   "source": []
  },
  {
   "cell_type": "code",
   "execution_count": null,
   "metadata": {
    "execution": {
     "iopub.execute_input": "2025-08-27T07:32:28.825951Z",
     "iopub.status.busy": "2025-08-27T07:32:28.825951Z",
     "iopub.status.idle": "2025-08-27T07:32:28.833114Z",
     "shell.execute_reply": "2025-08-27T07:32:28.833114Z"
    }
   },
   "outputs": [],
   "source": []
  },
  {
   "cell_type": "code",
   "execution_count": null,
   "metadata": {
    "execution": {
     "iopub.execute_input": "2025-08-27T07:32:28.833114Z",
     "iopub.status.busy": "2025-08-27T07:32:28.833114Z",
     "iopub.status.idle": "2025-08-27T07:32:28.840700Z",
     "shell.execute_reply": "2025-08-27T07:32:28.840700Z"
    }
   },
   "outputs": [],
   "source": []
  },
  {
   "cell_type": "markdown",
   "metadata": {},
   "source": [
    "## Problem: Selecting rows and columns by name\n",
    "\n",
    "Select the 2nd and 4th rows and 1st and 3rd columns of `x_name`."
   ]
  },
  {
   "cell_type": "code",
   "execution_count": null,
   "metadata": {
    "execution": {
     "iopub.execute_input": "2025-08-27T07:32:28.843141Z",
     "iopub.status.busy": "2025-08-27T07:32:28.843141Z",
     "iopub.status.idle": "2025-08-27T07:32:28.853326Z",
     "shell.execute_reply": "2025-08-27T07:32:28.852321Z"
    }
   },
   "outputs": [],
   "source": []
  },
  {
   "cell_type": "code",
   "execution_count": null,
   "metadata": {
    "execution": {
     "iopub.execute_input": "2025-08-27T07:32:28.855331Z",
     "iopub.status.busy": "2025-08-27T07:32:28.855331Z",
     "iopub.status.idle": "2025-08-27T07:32:28.862513Z",
     "shell.execute_reply": "2025-08-27T07:32:28.862513Z"
    }
   },
   "outputs": [],
   "source": []
  },
  {
   "cell_type": "code",
   "execution_count": null,
   "metadata": {
    "execution": {
     "iopub.execute_input": "2025-08-27T07:32:28.865520Z",
     "iopub.status.busy": "2025-08-27T07:32:28.864520Z",
     "iopub.status.idle": "2025-08-27T07:32:28.871835Z",
     "shell.execute_reply": "2025-08-27T07:32:28.871835Z"
    }
   },
   "outputs": [],
   "source": []
  },
  {
   "cell_type": "markdown",
   "metadata": {},
   "source": [
    "## Problem: DataFrame selection with default index and column names\n",
    "\n",
    "Select the 2nd and 4th rows and 1st and 3rd columns of `x_df`.\n"
   ]
  },
  {
   "cell_type": "code",
   "execution_count": null,
   "metadata": {
    "execution": {
     "iopub.execute_input": "2025-08-27T07:32:28.875561Z",
     "iopub.status.busy": "2025-08-27T07:32:28.871835Z",
     "iopub.status.idle": "2025-08-27T07:32:28.883638Z",
     "shell.execute_reply": "2025-08-27T07:32:28.882660Z"
    }
   },
   "outputs": [],
   "source": []
  },
  {
   "cell_type": "markdown",
   "metadata": {},
   "source": [
    "## Problem: Series selection with the default index\n",
    "\n",
    "Select the final element in `y_s`"
   ]
  },
  {
   "cell_type": "code",
   "execution_count": null,
   "metadata": {
    "execution": {
     "iopub.execute_input": "2025-08-27T07:32:28.883638Z",
     "iopub.status.busy": "2025-08-27T07:32:28.883638Z",
     "iopub.status.idle": "2025-08-27T07:32:28.891162Z",
     "shell.execute_reply": "2025-08-27T07:32:28.891162Z"
    }
   },
   "outputs": [],
   "source": []
  },
  {
   "cell_type": "code",
   "execution_count": null,
   "metadata": {
    "execution": {
     "iopub.execute_input": "2025-08-27T07:32:28.894317Z",
     "iopub.status.busy": "2025-08-27T07:32:28.894317Z",
     "iopub.status.idle": "2025-08-27T07:32:28.899830Z",
     "shell.execute_reply": "2025-08-27T07:32:28.899319Z"
    }
   },
   "outputs": [],
   "source": []
  },
  {
   "cell_type": "markdown",
   "metadata": {},
   "source": [
    "## Problem: Subseries selection\n",
    "Select the subseries of `y_named` and `y_s` containing the first, fourth and fifth element."
   ]
  },
  {
   "cell_type": "code",
   "execution_count": null,
   "metadata": {
    "execution": {
     "iopub.execute_input": "2025-08-27T07:32:28.901839Z",
     "iopub.status.busy": "2025-08-27T07:32:28.901839Z",
     "iopub.status.idle": "2025-08-27T07:32:28.907965Z",
     "shell.execute_reply": "2025-08-27T07:32:28.907965Z"
    }
   },
   "outputs": [],
   "source": []
  },
  {
   "cell_type": "code",
   "execution_count": null,
   "metadata": {
    "execution": {
     "iopub.execute_input": "2025-08-27T07:32:28.910945Z",
     "iopub.status.busy": "2025-08-27T07:32:28.910945Z",
     "iopub.status.idle": "2025-08-27T07:32:28.916091Z",
     "shell.execute_reply": "2025-08-27T07:32:28.916091Z"
    }
   },
   "outputs": [],
   "source": []
  },
  {
   "cell_type": "markdown",
   "metadata": {},
   "source": [
    "Load the data in momentum.csv."
   ]
  },
  {
   "cell_type": "code",
   "execution_count": null,
   "metadata": {
    "execution": {
     "iopub.execute_input": "2025-08-27T07:32:28.919097Z",
     "iopub.status.busy": "2025-08-27T07:32:28.919097Z",
     "iopub.status.idle": "2025-08-27T07:32:28.937974Z",
     "shell.execute_reply": "2025-08-27T07:32:28.937974Z"
    },
    "pycharm": {
     "is_executing": false
    }
   },
   "outputs": [],
   "source": [
    "# Setup: Load the momentum data\n",
    "\n",
    "import pandas as pd\n",
    "\n",
    "momentum = pd.read_csv(\"data/momentum.csv\", index_col=\"date\", parse_dates=True)\n",
    "momentum.head()"
   ]
  },
  {
   "cell_type": "markdown",
   "metadata": {
    "pycharm": {
     "name": "#%% md\n"
    }
   },
   "source": [
    "## Problem: Selecting data on a single day\n",
    "\n",
    "Select returns on February 16, 2016.\n"
   ]
  },
  {
   "cell_type": "code",
   "execution_count": null,
   "metadata": {
    "execution": {
     "iopub.execute_input": "2025-08-27T07:32:28.937974Z",
     "iopub.status.busy": "2025-08-27T07:32:28.937974Z",
     "iopub.status.idle": "2025-08-27T07:32:28.947842Z",
     "shell.execute_reply": "2025-08-27T07:32:28.947842Z"
    }
   },
   "outputs": [],
   "source": []
  },
  {
   "cell_type": "markdown",
   "metadata": {},
   "source": [
    "## Problem: Selecting data in a single month\n",
    "\n",
    "Select return in March 2016."
   ]
  },
  {
   "cell_type": "code",
   "execution_count": null,
   "metadata": {
    "execution": {
     "iopub.execute_input": "2025-08-27T07:32:28.949851Z",
     "iopub.status.busy": "2025-08-27T07:32:28.949851Z",
     "iopub.status.idle": "2025-08-27T07:32:28.962647Z",
     "shell.execute_reply": "2025-08-27T07:32:28.962647Z"
    }
   },
   "outputs": [],
   "source": []
  },
  {
   "cell_type": "markdown",
   "metadata": {},
   "source": [
    "## Problem: Selecting data in a single year\n",
    "\n",
    "Select return in 2016.\n"
   ]
  },
  {
   "cell_type": "code",
   "execution_count": null,
   "metadata": {
    "execution": {
     "iopub.execute_input": "2025-08-27T07:32:28.965251Z",
     "iopub.status.busy": "2025-08-27T07:32:28.965251Z",
     "iopub.status.idle": "2025-08-27T07:32:28.977990Z",
     "shell.execute_reply": "2025-08-27T07:32:28.977990Z"
    }
   },
   "outputs": [],
   "source": []
  },
  {
   "cell_type": "markdown",
   "metadata": {},
   "source": [
    "## Problem: Selecting data in a date range\n",
    "\n",
    "Select returns between May 1, 2016, and June 15, 2016."
   ]
  },
  {
   "cell_type": "code",
   "execution_count": null,
   "metadata": {
    "execution": {
     "iopub.execute_input": "2025-08-27T07:32:28.980997Z",
     "iopub.status.busy": "2025-08-27T07:32:28.980997Z",
     "iopub.status.idle": "2025-08-27T07:32:28.994608Z",
     "shell.execute_reply": "2025-08-27T07:32:28.994608Z"
    }
   },
   "outputs": [],
   "source": []
  },
  {
   "cell_type": "markdown",
   "metadata": {
    "pycharm": {
     "name": "#%% md\n"
    }
   },
   "source": [
    "## Exercises\n",
    "\n",
    "### Exercise: Subset time-series\n",
    "\n",
    "Select the data for May 2017 for momentum portfolios 1 and 10."
   ]
  },
  {
   "cell_type": "code",
   "execution_count": null,
   "metadata": {
    "execution": {
     "iopub.execute_input": "2025-08-27T07:32:28.996884Z",
     "iopub.status.busy": "2025-08-27T07:32:28.995884Z",
     "iopub.status.idle": "2025-08-27T07:32:29.005205Z",
     "shell.execute_reply": "2025-08-27T07:32:29.005205Z"
    },
    "jupyter": {
     "outputs_hidden": false
    }
   },
   "outputs": [],
   "source": []
  },
  {
   "cell_type": "markdown",
   "metadata": {
    "pycharm": {
     "name": "#%% md\n"
    }
   },
   "source": [
    "### Exercise: Select using Months\n",
    "\n",
    "Using a slice of YYYY-MM, select the returns for momentum portfolio\n",
    "5 in the final 6 months of 2016 as `Series`"
   ]
  },
  {
   "cell_type": "code",
   "execution_count": null,
   "metadata": {
    "execution": {
     "iopub.execute_input": "2025-08-27T07:32:29.007210Z",
     "iopub.status.busy": "2025-08-27T07:32:29.007210Z",
     "iopub.status.idle": "2025-08-27T07:32:29.014450Z",
     "shell.execute_reply": "2025-08-27T07:32:29.014450Z"
    },
    "jupyter": {
     "outputs_hidden": false
    }
   },
   "outputs": [],
   "source": []
  },
  {
   "cell_type": "markdown",
   "metadata": {},
   "source": [
    "### Exercise: Ensure DataFrame\n",
    "\n",
    "Repeat the previous problem but ensure the selection is a DataFrame."
   ]
  },
  {
   "cell_type": "code",
   "execution_count": null,
   "metadata": {
    "execution": {
     "iopub.execute_input": "2025-08-27T07:32:29.016456Z",
     "iopub.status.busy": "2025-08-27T07:32:29.016456Z",
     "iopub.status.idle": "2025-08-27T07:32:29.023520Z",
     "shell.execute_reply": "2025-08-27T07:32:29.023520Z"
    },
    "jupyter": {
     "outputs_hidden": false
    },
    "tags": []
   },
   "outputs": [],
   "source": []
  }
 ],
 "metadata": {
  "file_extension": ".py",
  "kernelspec": {
   "display_name": "Python 3 (ipykernel)",
   "language": "python",
   "name": "python3"
  },
  "language_info": {
   "codemirror_mode": {
    "name": "ipython",
    "version": 3
   },
   "file_extension": ".py",
   "mimetype": "text/x-python",
   "name": "python",
   "nbconvert_exporter": "python",
   "pygments_lexer": "ipython3",
   "version": "3.12.11"
  },
  "mimetype": "text/x-python",
  "name": "python",
  "npconvert_exporter": "python",
  "pycharm": {
   "stem_cell": {
    "cell_type": "raw",
    "metadata": {
     "collapsed": false
    },
    "source": []
   }
  },
  "pygments_lexer": "ipython3",
  "version": 3
 },
 "nbformat": 4,
 "nbformat_minor": 4
}
