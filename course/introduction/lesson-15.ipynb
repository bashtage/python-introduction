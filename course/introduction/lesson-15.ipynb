{
 "cells": [
  {
   "cell_type": "markdown",
   "metadata": {},
   "source": [
    "# Boolean Arrays \n",
    "\n",
    "This lesson covers:\n",
    "\n",
    "* Creating Boolean arrays\n",
    "* Combining Boolean arrays\n",
    "* `all` and `any`\n",
    "\n",
    "Begin by loading the data in momentum.csv.\n"
   ]
  },
  {
   "cell_type": "code",
   "execution_count": null,
   "metadata": {
    "execution": {
     "iopub.execute_input": "2025-08-27T07:32:42.880396Z",
     "iopub.status.busy": "2025-08-27T07:32:42.879396Z",
     "iopub.status.idle": "2025-08-27T07:32:43.221394Z",
     "shell.execute_reply": "2025-08-27T07:32:43.221394Z"
    },
    "pycharm": {
     "name": "#%%\n"
    }
   },
   "outputs": [],
   "source": [
    "# Setup: Load the momentum data\n",
    "\n",
    "import numpy as np\n",
    "import pandas as pd\n",
    "\n",
    "momentum = pd.read_csv(\"data/momentum.csv\", index_col=\"date\", parse_dates=True)\n",
    "\n",
    "print(momentum.head())\n",
    "\n",
    "mom_01 = momentum[\"mom_01\"]\n",
    "mom_10 = momentum[\"mom_10\"]\n",
    "mom_05 = momentum[\"mom_05\"]"
   ]
  },
  {
   "cell_type": "markdown",
   "metadata": {},
   "source": [
    "## Problem: Boolean arrays\n",
    "For portfolios 1 and 10, determine whether each return is $<0$ (separately)."
   ]
  },
  {
   "cell_type": "code",
   "execution_count": null,
   "metadata": {
    "execution": {
     "iopub.execute_input": "2025-08-27T07:32:43.223398Z",
     "iopub.status.busy": "2025-08-27T07:32:43.223398Z",
     "iopub.status.idle": "2025-08-27T07:32:43.226119Z",
     "shell.execute_reply": "2025-08-27T07:32:43.226119Z"
    }
   },
   "outputs": [],
   "source": []
  },
  {
   "cell_type": "markdown",
   "metadata": {},
   "source": [
    "## Problem: Combining boolean arrays\n",
    "Count the number of times that the returns in both portfolio 1 and portfolio\n",
    "10 are negative. Next count the number of times that the returns in portfolios\n",
    "1 and 10 are both greater, in absolute value, that 2 times their respective\n",
    "standard deviations. "
   ]
  },
  {
   "cell_type": "code",
   "execution_count": null,
   "metadata": {
    "execution": {
     "iopub.execute_input": "2025-08-27T07:32:43.228123Z",
     "iopub.status.busy": "2025-08-27T07:32:43.228123Z",
     "iopub.status.idle": "2025-08-27T07:32:43.232628Z",
     "shell.execute_reply": "2025-08-27T07:32:43.232123Z"
    }
   },
   "outputs": [],
   "source": []
  },
  {
   "cell_type": "code",
   "execution_count": null,
   "metadata": {
    "execution": {
     "iopub.execute_input": "2025-08-27T07:32:43.234258Z",
     "iopub.status.busy": "2025-08-27T07:32:43.234258Z",
     "iopub.status.idle": "2025-08-27T07:32:43.238271Z",
     "shell.execute_reply": "2025-08-27T07:32:43.238271Z"
    }
   },
   "outputs": [],
   "source": []
  },
  {
   "cell_type": "markdown",
   "metadata": {},
   "source": [
    "## Problem: Combining boolean arrays\n",
    "For portfolios 1 and 10, count the number of times either of the returns is $<0$.\n"
   ]
  },
  {
   "cell_type": "code",
   "execution_count": null,
   "metadata": {
    "execution": {
     "iopub.execute_input": "2025-08-27T07:32:43.240275Z",
     "iopub.status.busy": "2025-08-27T07:32:43.240275Z",
     "iopub.status.idle": "2025-08-27T07:32:43.243434Z",
     "shell.execute_reply": "2025-08-27T07:32:43.243434Z"
    }
   },
   "outputs": [],
   "source": []
  },
  {
   "cell_type": "markdown",
   "metadata": {},
   "source": [
    "## Problem: Count the frequency of negative returns\n",
    "\n",
    "What percent of returns are negative for each of the 10 momentum portfolios?"
   ]
  },
  {
   "cell_type": "code",
   "execution_count": null,
   "metadata": {
    "execution": {
     "iopub.execute_input": "2025-08-27T07:32:43.245439Z",
     "iopub.status.busy": "2025-08-27T07:32:43.245439Z",
     "iopub.status.idle": "2025-08-27T07:32:43.254533Z",
     "shell.execute_reply": "2025-08-27T07:32:43.254041Z"
    }
   },
   "outputs": [],
   "source": []
  },
  {
   "cell_type": "markdown",
   "metadata": {},
   "source": [
    "## Problem: Use `any` to find large losses\n",
    "\n",
    "Use any to determine if any of the 10 portfolios experienced a loss\n",
    "greater than -5%."
   ]
  },
  {
   "cell_type": "code",
   "execution_count": null,
   "metadata": {
    "execution": {
     "iopub.execute_input": "2025-08-27T07:32:43.257119Z",
     "iopub.status.busy": "2025-08-27T07:32:43.256703Z",
     "iopub.status.idle": "2025-08-27T07:32:43.261264Z",
     "shell.execute_reply": "2025-08-27T07:32:43.261264Z"
    }
   },
   "outputs": [],
   "source": []
  },
  {
   "cell_type": "code",
   "execution_count": null,
   "metadata": {
    "execution": {
     "iopub.execute_input": "2025-08-27T07:32:43.263565Z",
     "iopub.status.busy": "2025-08-27T07:32:43.262565Z",
     "iopub.status.idle": "2025-08-27T07:32:43.268928Z",
     "shell.execute_reply": "2025-08-27T07:32:43.268423Z"
    }
   },
   "outputs": [],
   "source": []
  },
  {
   "cell_type": "code",
   "execution_count": null,
   "metadata": {
    "execution": {
     "iopub.execute_input": "2025-08-27T07:32:43.271097Z",
     "iopub.status.busy": "2025-08-27T07:32:43.271097Z",
     "iopub.status.idle": "2025-08-27T07:32:43.275984Z",
     "shell.execute_reply": "2025-08-27T07:32:43.275984Z"
    }
   },
   "outputs": [],
   "source": []
  },
  {
   "cell_type": "markdown",
   "metadata": {},
   "source": [
    "Use `all` and negation to do the same check as `any`."
   ]
  },
  {
   "cell_type": "code",
   "execution_count": null,
   "metadata": {
    "execution": {
     "iopub.execute_input": "2025-08-27T07:32:43.277989Z",
     "iopub.status.busy": "2025-08-27T07:32:43.277989Z",
     "iopub.status.idle": "2025-08-27T07:32:43.282998Z",
     "shell.execute_reply": "2025-08-27T07:32:43.282998Z"
    }
   },
   "outputs": [],
   "source": []
  },
  {
   "cell_type": "markdown",
   "metadata": {},
   "source": [
    "## Exercises\n",
    "\n",
    "### Exercise: all and any\n",
    "Use `all` and `sum` to count the number of days where all of the portfolio returns\n",
    "were negative. Use `any` to compute the number of days with at least 1 negative\n",
    "return and with no negative returns (Hint: use negation (~ or `logical_not`)). "
   ]
  },
  {
   "cell_type": "code",
   "execution_count": null,
   "metadata": {
    "execution": {
     "iopub.execute_input": "2025-08-27T07:32:43.285005Z",
     "iopub.status.busy": "2025-08-27T07:32:43.284006Z",
     "iopub.status.idle": "2025-08-27T07:32:43.289984Z",
     "shell.execute_reply": "2025-08-27T07:32:43.289984Z"
    }
   },
   "outputs": [],
   "source": []
  },
  {
   "cell_type": "code",
   "execution_count": null,
   "metadata": {
    "execution": {
     "iopub.execute_input": "2025-08-27T07:32:43.291989Z",
     "iopub.status.busy": "2025-08-27T07:32:43.291989Z",
     "iopub.status.idle": "2025-08-27T07:32:43.296159Z",
     "shell.execute_reply": "2025-08-27T07:32:43.296159Z"
    }
   },
   "outputs": [],
   "source": []
  },
  {
   "cell_type": "code",
   "execution_count": null,
   "metadata": {
    "execution": {
     "iopub.execute_input": "2025-08-27T07:32:43.298163Z",
     "iopub.status.busy": "2025-08-27T07:32:43.297165Z",
     "iopub.status.idle": "2025-08-27T07:32:43.302165Z",
     "shell.execute_reply": "2025-08-27T07:32:43.302165Z"
    }
   },
   "outputs": [],
   "source": []
  },
  {
   "cell_type": "markdown",
   "metadata": {
    "pycharm": {
     "name": "#%% md\n"
    }
   },
   "source": [
    "### Exercise: Count Extreme Days\n",
    "\n",
    "Count the number of days where each of the portfolio returns is less than the \n",
    "5% quantile for the portfolio. Also report the fraction of days where all are in their\n",
    "lower 5% tail."
   ]
  },
  {
   "cell_type": "code",
   "execution_count": null,
   "metadata": {
    "execution": {
     "iopub.execute_input": "2025-08-27T07:32:43.304054Z",
     "iopub.status.busy": "2025-08-27T07:32:43.303392Z",
     "iopub.status.idle": "2025-08-27T07:32:43.314060Z",
     "shell.execute_reply": "2025-08-27T07:32:43.314060Z"
    }
   },
   "outputs": [],
   "source": []
  },
  {
   "cell_type": "code",
   "execution_count": null,
   "metadata": {
    "execution": {
     "iopub.execute_input": "2025-08-27T07:32:43.316065Z",
     "iopub.status.busy": "2025-08-27T07:32:43.316065Z",
     "iopub.status.idle": "2025-08-27T07:32:43.319173Z",
     "shell.execute_reply": "2025-08-27T07:32:43.319173Z"
    },
    "tags": []
   },
   "outputs": [],
   "source": []
  }
 ],
 "metadata": {
  "kernelspec": {
   "display_name": "Python 3 (ipykernel)",
   "language": "python",
   "name": "python3"
  },
  "language_info": {
   "codemirror_mode": {
    "name": "ipython",
    "version": 3
   },
   "file_extension": ".py",
   "mimetype": "text/x-python",
   "name": "python",
   "nbconvert_exporter": "python",
   "pygments_lexer": "ipython3",
   "version": "3.12.11"
  },
  "pycharm": {
   "stem_cell": {
    "cell_type": "raw",
    "metadata": {
     "collapsed": false
    },
    "source": []
   }
  }
 },
 "nbformat": 4,
 "nbformat_minor": 4
}
