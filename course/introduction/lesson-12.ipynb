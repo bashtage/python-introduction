{
 "cells": [
  {
   "cell_type": "markdown",
   "metadata": {
    "pycharm": {
     "name": "#%% md\n"
    }
   },
   "source": [
    "# Numeric Indexing of DataFrames\n",
    "\n",
    "This lesson covers:\n",
    "\n",
    "* Accessing specific elements in DataFrames using numeric indices\n",
    "\n",
    "Accessing elements in a DataFrame is a common task. To begin this lesson,\n",
    "clear the workspace set up some vectors and a $5\\times5$ array. These vectors\n",
    "and matrix will make it easy to determine which elements are selected by a\n",
    "command.\n",
    "\n",
    "Begin by creating:\n",
    "\n",
    "* A 5-by-5 DataFrame `x_df` containing `np.arange(25).reshape((5,5))`.\n",
    "* A 5-element Series `y_s` containing `np.arange(5)`.\n",
    "* A 5-by-5 DataFrame `x_named` that is `x_df` with columns \"c0\", \"c1\", ...,\n",
    "  \"c4\" and rows \"r0\", \"r1\", ..., \"r4\".\n",
    "* A 5-element Series `y_named` with index \"r0\", \"r1\", ..., \"r4\". "
   ]
  },
  {
   "cell_type": "code",
   "execution_count": null,
   "metadata": {
    "execution": {
     "iopub.execute_input": "2025-08-27T13:43:25.531612Z",
     "iopub.status.busy": "2025-08-27T13:43:25.531612Z",
     "iopub.status.idle": "2025-08-27T13:43:25.919289Z",
     "shell.execute_reply": "2025-08-27T13:43:25.919289Z"
    }
   },
   "outputs": [],
   "source": []
  },
  {
   "cell_type": "markdown",
   "metadata": {
    "pycharm": {
     "name": "#%% md\n"
    }
   },
   "source": [
    "## Problem: Picking an Element out of a DataFrame\n",
    "\n",
    "Using double index notation, select the (0,2) and the (2,0) element of\n",
    "`x_named`."
   ]
  },
  {
   "cell_type": "code",
   "execution_count": null,
   "metadata": {
    "execution": {
     "iopub.execute_input": "2025-08-27T13:43:25.919289Z",
     "iopub.status.busy": "2025-08-27T13:43:25.919289Z",
     "iopub.status.idle": "2025-08-27T13:43:25.927625Z",
     "shell.execute_reply": "2025-08-27T13:43:25.927625Z"
    }
   },
   "outputs": [],
   "source": []
  },
  {
   "cell_type": "code",
   "execution_count": null,
   "metadata": {
    "execution": {
     "iopub.execute_input": "2025-08-27T13:43:25.927625Z",
     "iopub.status.busy": "2025-08-27T13:43:25.927625Z",
     "iopub.status.idle": "2025-08-27T13:43:25.933242Z",
     "shell.execute_reply": "2025-08-27T13:43:25.933242Z"
    },
    "jupyter": {
     "outputs_hidden": false
    }
   },
   "outputs": [],
   "source": []
  },
  {
   "cell_type": "markdown",
   "metadata": {
    "pycharm": {
     "name": "#%% md\n"
    }
   },
   "source": [
    "## Problem: Select Elements from Series\n",
    "\n",
    "Select the 2nd element of `y_named`."
   ]
  },
  {
   "cell_type": "code",
   "execution_count": null,
   "metadata": {
    "execution": {
     "iopub.execute_input": "2025-08-27T13:43:25.933242Z",
     "iopub.status.busy": "2025-08-27T13:43:25.933242Z",
     "iopub.status.idle": "2025-08-27T13:43:25.939355Z",
     "shell.execute_reply": "2025-08-27T13:43:25.939355Z"
    }
   },
   "outputs": [],
   "source": []
  },
  {
   "cell_type": "markdown",
   "metadata": {},
   "source": [
    "## Problem: Selecting Rows as Series\n",
    "\n",
    "Select the 2nd row of `x_named` using the colon (:) operator.\n"
   ]
  },
  {
   "cell_type": "code",
   "execution_count": null,
   "metadata": {
    "execution": {
     "iopub.execute_input": "2025-08-27T13:43:25.939355Z",
     "iopub.status.busy": "2025-08-27T13:43:25.939355Z",
     "iopub.status.idle": "2025-08-27T13:43:25.945715Z",
     "shell.execute_reply": "2025-08-27T13:43:25.945715Z"
    }
   },
   "outputs": [],
   "source": []
  },
  {
   "cell_type": "markdown",
   "metadata": {
    "pycharm": {
     "name": "#%% md\n"
    }
   },
   "source": [
    "## Problem: Selecting Rows as DataFrames\n",
    "\n",
    "1. Select the 2nd row of `x_named` using a slice so that the selection\n",
    "   remains a DataFrame.\n",
    "2. Repeat using a list of indices to retain the DataFrame. \n"
   ]
  },
  {
   "cell_type": "code",
   "execution_count": null,
   "metadata": {
    "execution": {
     "iopub.execute_input": "2025-08-27T13:43:25.947721Z",
     "iopub.status.busy": "2025-08-27T13:43:25.947721Z",
     "iopub.status.idle": "2025-08-27T13:43:25.953864Z",
     "shell.execute_reply": "2025-08-27T13:43:25.953864Z"
    }
   },
   "outputs": [],
   "source": []
  },
  {
   "cell_type": "code",
   "execution_count": null,
   "metadata": {
    "execution": {
     "iopub.execute_input": "2025-08-27T13:43:25.954869Z",
     "iopub.status.busy": "2025-08-27T13:43:25.954869Z",
     "iopub.status.idle": "2025-08-27T13:43:25.961596Z",
     "shell.execute_reply": "2025-08-27T13:43:25.961596Z"
    }
   },
   "outputs": [],
   "source": []
  },
  {
   "cell_type": "markdown",
   "metadata": {},
   "source": [
    "## Problem: Selecting Entire Columns as Series\n",
    "Select the 2nd column of `x_named` using the colon (:) operator. "
   ]
  },
  {
   "cell_type": "code",
   "execution_count": null,
   "metadata": {
    "execution": {
     "iopub.execute_input": "2025-08-27T13:43:25.961596Z",
     "iopub.status.busy": "2025-08-27T13:43:25.961596Z",
     "iopub.status.idle": "2025-08-27T13:43:25.967626Z",
     "shell.execute_reply": "2025-08-27T13:43:25.967626Z"
    }
   },
   "outputs": [],
   "source": []
  },
  {
   "cell_type": "markdown",
   "metadata": {
    "pycharm": {
     "name": "#%% md\n"
    }
   },
   "source": [
    "## Problem: Selecting Single Columns as DataFrames\n",
    "Select the 2nd column of `x_named`  so that the selection remains a DataFrame. \n"
   ]
  },
  {
   "cell_type": "code",
   "execution_count": null,
   "metadata": {
    "execution": {
     "iopub.execute_input": "2025-08-27T13:43:25.967626Z",
     "iopub.status.busy": "2025-08-27T13:43:25.967626Z",
     "iopub.status.idle": "2025-08-27T13:43:25.974683Z",
     "shell.execute_reply": "2025-08-27T13:43:25.974683Z"
    }
   },
   "outputs": [],
   "source": []
  },
  {
   "cell_type": "code",
   "execution_count": null,
   "metadata": {
    "execution": {
     "iopub.execute_input": "2025-08-27T13:43:25.974683Z",
     "iopub.status.busy": "2025-08-27T13:43:25.974683Z",
     "iopub.status.idle": "2025-08-27T13:43:25.983481Z",
     "shell.execute_reply": "2025-08-27T13:43:25.983481Z"
    }
   },
   "outputs": [],
   "source": []
  },
  {
   "cell_type": "markdown",
   "metadata": {},
   "source": [
    "## Problem: Selecting Specific Columns\n",
    "Select the 2nd and 3rd columns of `x_named` using a slice."
   ]
  },
  {
   "cell_type": "code",
   "execution_count": null,
   "metadata": {
    "execution": {
     "iopub.execute_input": "2025-08-27T13:43:25.983481Z",
     "iopub.status.busy": "2025-08-27T13:43:25.983481Z",
     "iopub.status.idle": "2025-08-27T13:43:25.990657Z",
     "shell.execute_reply": "2025-08-27T13:43:25.990657Z"
    }
   },
   "outputs": [],
   "source": []
  },
  {
   "cell_type": "markdown",
   "metadata": {
    "pycharm": {
     "name": "#%% md\n"
    }
   },
   "source": [
    "## Problem: Select Specific Rows\n",
    "\n",
    "Select the 2nd and 4th rows of `x_named` using a slice.  Repeat the \n",
    "selection using a list of integers."
   ]
  },
  {
   "cell_type": "code",
   "execution_count": null,
   "metadata": {
    "execution": {
     "iopub.execute_input": "2025-08-27T13:43:25.990657Z",
     "iopub.status.busy": "2025-08-27T13:43:25.990657Z",
     "iopub.status.idle": "2025-08-27T13:43:25.997913Z",
     "shell.execute_reply": "2025-08-27T13:43:25.997913Z"
    }
   },
   "outputs": [],
   "source": []
  },
  {
   "cell_type": "code",
   "execution_count": null,
   "metadata": {
    "execution": {
     "iopub.execute_input": "2025-08-27T13:43:25.997913Z",
     "iopub.status.busy": "2025-08-27T13:43:25.997913Z",
     "iopub.status.idle": "2025-08-27T13:43:26.005452Z",
     "shell.execute_reply": "2025-08-27T13:43:26.005452Z"
    }
   },
   "outputs": [],
   "source": []
  },
  {
   "cell_type": "markdown",
   "metadata": {},
   "source": [
    "## Problem: Select arbitrary rows and columns\n",
    "\n",
    "Combine the previous selections to the 2nd and 3rd columns and the 2nd and 4th rows\n",
    "of `x_named`. \n",
    "\n",
    "**Note**: This is the only important difference with NumPy.  Arbitrary\n",
    "row/column selection using `DataFrame.iloc` is simpler but less flexible."
   ]
  },
  {
   "cell_type": "code",
   "execution_count": null,
   "metadata": {
    "execution": {
     "iopub.execute_input": "2025-08-27T13:43:26.005452Z",
     "iopub.status.busy": "2025-08-27T13:43:26.005452Z",
     "iopub.status.idle": "2025-08-27T13:43:26.012255Z",
     "shell.execute_reply": "2025-08-27T13:43:26.012255Z"
    },
    "jupyter": {
     "outputs_hidden": false
    }
   },
   "outputs": [],
   "source": []
  },
  {
   "cell_type": "code",
   "execution_count": null,
   "metadata": {
    "execution": {
     "iopub.execute_input": "2025-08-27T13:43:26.012255Z",
     "iopub.status.busy": "2025-08-27T13:43:26.012255Z",
     "iopub.status.idle": "2025-08-27T13:43:26.019573Z",
     "shell.execute_reply": "2025-08-27T13:43:26.019573Z"
    },
    "jupyter": {
     "outputs_hidden": false
    }
   },
   "outputs": [],
   "source": []
  },
  {
   "cell_type": "code",
   "execution_count": null,
   "metadata": {
    "execution": {
     "iopub.execute_input": "2025-08-27T13:43:26.019573Z",
     "iopub.status.busy": "2025-08-27T13:43:26.019573Z",
     "iopub.status.idle": "2025-08-27T13:43:26.026332Z",
     "shell.execute_reply": "2025-08-27T13:43:26.026332Z"
    },
    "jupyter": {
     "outputs_hidden": false
    }
   },
   "outputs": [],
   "source": []
  },
  {
   "cell_type": "markdown",
   "metadata": {
    "pycharm": {
     "name": "#%% md\n"
    }
   },
   "source": [
    "## Problem: Mixed selection\n",
    "\n",
    "Select the columns c1 and c2 and the 1st, 3rd and 5th row."
   ]
  },
  {
   "cell_type": "code",
   "execution_count": null,
   "metadata": {
    "execution": {
     "iopub.execute_input": "2025-08-27T13:43:26.026332Z",
     "iopub.status.busy": "2025-08-27T13:43:26.026332Z",
     "iopub.status.idle": "2025-08-27T13:43:26.033530Z",
     "shell.execute_reply": "2025-08-27T13:43:26.033530Z"
    }
   },
   "outputs": [],
   "source": []
  },
  {
   "cell_type": "markdown",
   "metadata": {},
   "source": [
    "## Problem: Mixed selection 2\n",
    "\n",
    "Select the rows r1 and r2 and the 1st, 3rd and final column."
   ]
  },
  {
   "cell_type": "code",
   "execution_count": null,
   "metadata": {
    "execution": {
     "iopub.execute_input": "2025-08-27T13:43:26.033530Z",
     "iopub.status.busy": "2025-08-27T13:43:26.033530Z",
     "iopub.status.idle": "2025-08-27T13:43:26.040785Z",
     "shell.execute_reply": "2025-08-27T13:43:26.040785Z"
    }
   },
   "outputs": [],
   "source": []
  },
  {
   "cell_type": "markdown",
   "metadata": {
    "pycharm": {
     "name": "#%% md\n"
    }
   },
   "source": [
    "## Exercises\n",
    "\n",
    "### Exercise: Select fixed length block\n",
    "\n",
    "Compute the mean return of the momentum data in the first 66\n",
    "observations and the last 66 observations."
   ]
  },
  {
   "cell_type": "code",
   "execution_count": null,
   "metadata": {
    "execution": {
     "iopub.execute_input": "2025-08-27T13:43:26.040785Z",
     "iopub.status.busy": "2025-08-27T13:43:26.040785Z",
     "iopub.status.idle": "2025-08-27T13:43:26.058557Z",
     "shell.execute_reply": "2025-08-27T13:43:26.058557Z"
    },
    "jupyter": {
     "outputs_hidden": false
    },
    "pycharm": {
     "is_executing": false,
     "name": "#%%\n"
    }
   },
   "outputs": [],
   "source": [
    "# Setup: Load the momentum data\n",
    "\n",
    "import pandas as pd\n",
    "\n",
    "momentum = pd.read_csv(\"data/momentum.csv\", index_col=\"date\", parse_dates=True)\n",
    "momentum.head()"
   ]
  },
  {
   "cell_type": "code",
   "execution_count": null,
   "metadata": {
    "execution": {
     "iopub.execute_input": "2025-08-27T13:43:26.058557Z",
     "iopub.status.busy": "2025-08-27T13:43:26.058557Z",
     "iopub.status.idle": "2025-08-27T13:43:26.065103Z",
     "shell.execute_reply": "2025-08-27T13:43:26.065103Z"
    },
    "jupyter": {
     "outputs_hidden": false
    }
   },
   "outputs": [],
   "source": []
  },
  {
   "cell_type": "code",
   "execution_count": null,
   "metadata": {
    "execution": {
     "iopub.execute_input": "2025-08-27T13:43:26.065103Z",
     "iopub.status.busy": "2025-08-27T13:43:26.065103Z",
     "iopub.status.idle": "2025-08-27T13:43:26.071555Z",
     "shell.execute_reply": "2025-08-27T13:43:26.071555Z"
    },
    "jupyter": {
     "outputs_hidden": false
    }
   },
   "outputs": [],
   "source": []
  },
  {
   "cell_type": "code",
   "execution_count": null,
   "metadata": {
    "execution": {
     "iopub.execute_input": "2025-08-27T13:43:26.071555Z",
     "iopub.status.busy": "2025-08-27T13:43:26.071555Z",
     "iopub.status.idle": "2025-08-27T13:43:26.077496Z",
     "shell.execute_reply": "2025-08-27T13:43:26.077496Z"
    },
    "jupyter": {
     "outputs_hidden": false
    }
   },
   "outputs": [],
   "source": []
  },
  {
   "cell_type": "markdown",
   "metadata": {
    "pycharm": {
     "name": "#%% md\n"
    }
   },
   "source": [
    "### Exercise: Compute values using fraction of sample\n",
    "\n",
    "Compute the correlation of momentum portfolio 1, 5, and 10 in the first half of\n",
    "the sample and in the second half. "
   ]
  },
  {
   "cell_type": "code",
   "execution_count": null,
   "metadata": {
    "execution": {
     "iopub.execute_input": "2025-08-27T13:43:26.077496Z",
     "iopub.status.busy": "2025-08-27T13:43:26.077496Z",
     "iopub.status.idle": "2025-08-27T13:43:26.086438Z",
     "shell.execute_reply": "2025-08-27T13:43:26.086438Z"
    },
    "jupyter": {
     "outputs_hidden": false
    }
   },
   "outputs": [],
   "source": []
  },
  {
   "cell_type": "code",
   "execution_count": null,
   "metadata": {
    "execution": {
     "iopub.execute_input": "2025-08-27T13:43:26.086438Z",
     "iopub.status.busy": "2025-08-27T13:43:26.086438Z",
     "iopub.status.idle": "2025-08-27T13:43:26.094052Z",
     "shell.execute_reply": "2025-08-27T13:43:26.094052Z"
    },
    "jupyter": {
     "outputs_hidden": false
    },
    "tags": []
   },
   "outputs": [],
   "source": []
  }
 ],
 "metadata": {
  "kernelspec": {
   "display_name": "Python 3 (ipykernel)",
   "language": "python",
   "name": "python3"
  },
  "language_info": {
   "codemirror_mode": {
    "name": "ipython",
    "version": 3
   },
   "file_extension": ".py",
   "mimetype": "text/x-python",
   "name": "python",
   "nbconvert_exporter": "python",
   "pygments_lexer": "ipython3",
   "version": "3.12.11"
  },
  "pycharm": {
   "stem_cell": {
    "cell_type": "raw",
    "metadata": {
     "collapsed": false
    },
    "source": []
   }
  }
 },
 "nbformat": 4,
 "nbformat_minor": 4
}
