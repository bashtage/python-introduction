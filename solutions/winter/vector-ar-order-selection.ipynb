{
 "cells": [
  {
   "cell_type": "markdown",
   "metadata": {
    "pycharm": {
     "name": "#%% md\n"
    }
   },
   "source": [
    "## VAR Model Order Selection\n",
    "\n",
    "**Functions**\n",
    "\n",
    "`tsa.VAR`\n",
    "\n",
    "### Exercise 91\n",
    "Using the same data as in the previous exercise, determine the optimal VAR order using:\n",
    "\n",
    "1. AIC\n",
    "2. HQIC\n",
    "3. BIC\n",
    "4. Likelihood-ratio testing using General-to-Specific"
   ]
  },
  {
   "cell_type": "code",
   "execution_count": 1,
   "metadata": {
    "pycharm": {
     "is_executing": false,
     "name": "#%%\n"
    }
   },
   "outputs": [],
   "source": [
    "import pandas as pd\n",
    "\n",
    "data = pd.read_hdf(\"./data/var-data.h5\", \"var_data\")"
   ]
  },
  {
   "cell_type": "code",
   "execution_count": 2,
   "metadata": {
    "pycharm": {
     "name": "#%%\n"
    }
   },
   "outputs": [
    {
     "data": {
      "text/plain": [
       "  Summary of Regression Results   \n",
       "==================================\n",
       "Model:                         VAR\n",
       "Method:                        OLS\n",
       "Date:           Wed, 27, Aug, 2025\n",
       "Time:                     15:13:48\n",
       "--------------------------------------------------------------------\n",
       "No. of Equations:         3.00000    BIC:                   -15.1574\n",
       "Nobs:                     264.000    HQIC:                  -15.3276\n",
       "Log likelihood:           935.526    FPE:                1.96653e-07\n",
       "AIC:                     -15.4419    Det(Omega_mle):     1.81805e-07\n",
       "--------------------------------------------------------------------\n",
       "Results for equation spread\n",
       "============================================================================\n",
       "               coefficient       std. error           t-stat            prob\n",
       "----------------------------------------------------------------------------\n",
       "const             0.112254         0.072096            1.557           0.119\n",
       "L1.spread         1.068581         0.098461           10.853           0.000\n",
       "L1.gs1           -0.051826         0.061315           -0.845           0.398\n",
       "L1.deflg          0.539863         9.421895            0.057           0.954\n",
       "L2.spread        -0.174806         0.096106           -1.819           0.069\n",
       "L2.gs1            0.071472         0.060068            1.190           0.234\n",
       "L2.deflg        -14.203952         9.479998           -1.498           0.134\n",
       "============================================================================\n",
       "\n",
       "Results for equation gs1\n",
       "============================================================================\n",
       "               coefficient       std. error           t-stat            prob\n",
       "----------------------------------------------------------------------------\n",
       "const            -0.027394         0.116916           -0.234           0.815\n",
       "L1.spread         0.147928         0.159672            0.926           0.354\n",
       "L1.gs1            1.237031         0.099434           12.441           0.000\n",
       "L1.deflg         -0.054555        15.279342           -0.004           0.997\n",
       "L2.spread        -0.097344         0.155854           -0.625           0.532\n",
       "L2.gs1           -0.301646         0.097412           -3.097           0.002\n",
       "L2.deflg         37.418811        15.373567            2.434           0.015\n",
       "============================================================================\n",
       "\n",
       "Results for equation deflg\n",
       "============================================================================\n",
       "               coefficient       std. error           t-stat            prob\n",
       "----------------------------------------------------------------------------\n",
       "const             0.000920         0.000453            2.033           0.042\n",
       "L1.spread        -0.000508         0.000618           -0.822           0.411\n",
       "L1.gs1            0.000635         0.000385            1.651           0.099\n",
       "L1.deflg          0.535110         0.059144            9.048           0.000\n",
       "L2.spread         0.000337         0.000603            0.559           0.576\n",
       "L2.gs1           -0.000576         0.000377           -1.527           0.127\n",
       "L2.deflg          0.331763         0.059509            5.575           0.000\n",
       "============================================================================\n",
       "\n",
       "Correlation matrix of residuals\n",
       "            spread       gs1     deflg\n",
       "spread    1.000000 -0.787847 -0.016651\n",
       "gs1      -0.787847  1.000000  0.094543\n",
       "deflg    -0.016651  0.094543  1.000000\n",
       "\n"
      ]
     },
     "execution_count": 2,
     "metadata": {},
     "output_type": "execute_result"
    }
   ],
   "source": [
    "import statsmodels.tsa.api as tsa\n",
    "\n",
    "mod = tsa.VAR(data[[\"spread\", \"gs1\", \"deflg\"]])\n",
    "res = mod.fit(8, ic=\"bic\")\n",
    "res.summary()"
   ]
  },
  {
   "cell_type": "markdown",
   "metadata": {
    "pycharm": {
     "name": "#%% md\n"
    }
   },
   "source": [
    "#### Explanation\n",
    "\n",
    "statsmodels `VAR` will automatically perform lag length selection using any of the three information criteria. Here we see the BIC chooses 2 lags.  We will implement this directly to make sure we understand what is going on."
   ]
  },
  {
   "cell_type": "code",
   "execution_count": 3,
   "metadata": {
    "pycharm": {
     "name": "#%%\n"
    }
   },
   "outputs": [
    {
     "data": {
      "text/html": [
       "<div>\n",
       "<style scoped>\n",
       "    .dataframe tbody tr th:only-of-type {\n",
       "        vertical-align: middle;\n",
       "    }\n",
       "\n",
       "    .dataframe tbody tr th {\n",
       "        vertical-align: top;\n",
       "    }\n",
       "\n",
       "    .dataframe thead th {\n",
       "        text-align: right;\n",
       "    }\n",
       "</style>\n",
       "<table border=\"1\" class=\"dataframe\">\n",
       "  <thead>\n",
       "    <tr style=\"text-align: right;\">\n",
       "      <th></th>\n",
       "      <th>AIC</th>\n",
       "      <th>HQIC</th>\n",
       "      <th>BIC</th>\n",
       "      <th>LLF</th>\n",
       "      <th>LR</th>\n",
       "      <th>pval</th>\n",
       "    </tr>\n",
       "  </thead>\n",
       "  <tbody>\n",
       "    <tr>\n",
       "      <th>0</th>\n",
       "      <td>-8.750</td>\n",
       "      <td>-8.733</td>\n",
       "      <td>-8.709</td>\n",
       "      <td>33.499</td>\n",
       "      <td>0.000</td>\n",
       "      <td>1.000</td>\n",
       "    </tr>\n",
       "    <tr>\n",
       "      <th>1</th>\n",
       "      <td>-15.183</td>\n",
       "      <td>-15.117</td>\n",
       "      <td>-15.018</td>\n",
       "      <td>872.389</td>\n",
       "      <td>1677.780</td>\n",
       "      <td>0.000</td>\n",
       "    </tr>\n",
       "    <tr>\n",
       "      <th>2</th>\n",
       "      <td>-15.378</td>\n",
       "      <td>-15.262</td>\n",
       "      <td>-15.089</td>\n",
       "      <td>906.483</td>\n",
       "      <td>68.188</td>\n",
       "      <td>0.000</td>\n",
       "    </tr>\n",
       "    <tr>\n",
       "      <th>3</th>\n",
       "      <td>-15.400</td>\n",
       "      <td>-15.234</td>\n",
       "      <td>-14.987</td>\n",
       "      <td>918.308</td>\n",
       "      <td>23.649</td>\n",
       "      <td>0.005</td>\n",
       "    </tr>\n",
       "    <tr>\n",
       "      <th>4</th>\n",
       "      <td>-15.461</td>\n",
       "      <td>-15.245</td>\n",
       "      <td>-14.924</td>\n",
       "      <td>935.255</td>\n",
       "      <td>33.894</td>\n",
       "      <td>0.000</td>\n",
       "    </tr>\n",
       "    <tr>\n",
       "      <th>5</th>\n",
       "      <td>-15.436</td>\n",
       "      <td>-15.170</td>\n",
       "      <td>-14.775</td>\n",
       "      <td>941.020</td>\n",
       "      <td>11.530</td>\n",
       "      <td>0.241</td>\n",
       "    </tr>\n",
       "    <tr>\n",
       "      <th>6</th>\n",
       "      <td>-15.531</td>\n",
       "      <td>-15.216</td>\n",
       "      <td>-14.746</td>\n",
       "      <td>962.290</td>\n",
       "      <td>42.540</td>\n",
       "      <td>0.000</td>\n",
       "    </tr>\n",
       "    <tr>\n",
       "      <th>7</th>\n",
       "      <td>-15.536</td>\n",
       "      <td>-15.171</td>\n",
       "      <td>-14.627</td>\n",
       "      <td>971.927</td>\n",
       "      <td>19.275</td>\n",
       "      <td>0.023</td>\n",
       "    </tr>\n",
       "    <tr>\n",
       "      <th>8</th>\n",
       "      <td>-15.578</td>\n",
       "      <td>-15.163</td>\n",
       "      <td>-14.545</td>\n",
       "      <td>986.309</td>\n",
       "      <td>28.763</td>\n",
       "      <td>0.001</td>\n",
       "    </tr>\n",
       "  </tbody>\n",
       "</table>\n",
       "</div>"
      ],
      "text/plain": [
       "      AIC    HQIC     BIC      LLF        LR   pval\n",
       "0  -8.750  -8.733  -8.709   33.499     0.000  1.000\n",
       "1 -15.183 -15.117 -15.018  872.389  1677.780  0.000\n",
       "2 -15.378 -15.262 -15.089  906.483    68.188  0.000\n",
       "3 -15.400 -15.234 -14.987  918.308    23.649  0.005\n",
       "4 -15.461 -15.245 -14.924  935.255    33.894  0.000\n",
       "5 -15.436 -15.170 -14.775  941.020    11.530  0.241\n",
       "6 -15.531 -15.216 -14.746  962.290    42.540  0.000\n",
       "7 -15.536 -15.171 -14.627  971.927    19.275  0.023\n",
       "8 -15.578 -15.163 -14.545  986.309    28.763  0.001"
      ]
     },
     "execution_count": 3,
     "metadata": {},
     "output_type": "execute_result"
    }
   ],
   "source": [
    "import numpy as np\n",
    "from scipy import stats\n",
    "\n",
    "ics = pd.DataFrame(\n",
    "    columns=[\"AIC\", \"HQIC\", \"BIC\", \"LLF\"], index=np.arange(9), dtype=np.double\n",
    ")\n",
    "var_data = data[[\"spread\", \"gs1\", \"deflg\"]]\n",
    "for lag in range(9):\n",
    "    mod = tsa.VAR(var_data.iloc[(8 - lag) :])\n",
    "    res = mod.fit(lag, ic=None)\n",
    "    ics.loc[lag, \"AIC\"] = res.aic\n",
    "    ics.loc[lag, \"HQIC\"] = res.hqic\n",
    "    ics.loc[lag, \"BIC\"] = res.bic\n",
    "    ics.loc[lag, \"LLF\"] = res.llf\n",
    "ics[\"LR\"] = 2 * (ics.LLF - ics.LLF.shift(1))\n",
    "# Fill the nan with 0\n",
    "ics = ics.fillna(0.0)\n",
    "ics[\"pval\"] = 1 - stats.chi2(9).cdf(ics.LR)\n",
    "# Pretty the values by truncating at 3 d.p.\n",
    "ics.round(3)"
   ]
  },
  {
   "cell_type": "markdown",
   "metadata": {},
   "source": [
    "#### Explanation\n",
    "\n",
    "We loop over lag lengths from 0 to 8, estimate the model and save the IC or log - likelihood. Note that we need to adjust the same in each iteration to ensure that the model are comparable since they must be estimated on the same sample data.  This means that we drop 8 observations when there are no lags, 7 when there is 1, and so on until we drop none when there are 8 lags. "
   ]
  },
  {
   "cell_type": "code",
   "execution_count": 4,
   "metadata": {
    "collapsed": false,
    "jupyter": {
     "outputs_hidden": false
    },
    "pycharm": {
     "name": "#%%\n"
    }
   },
   "outputs": [
    {
     "data": {
      "text/plain": [
       "AIC     8\n",
       "HQIC    2\n",
       "BIC     2\n",
       "dtype: int64"
      ]
     },
     "execution_count": 4,
     "metadata": {},
     "output_type": "execute_result"
    }
   ],
   "source": [
    "ics[[\"AIC\", \"HQIC\", \"BIC\"]].idxmin()"
   ]
  },
  {
   "cell_type": "markdown",
   "metadata": {},
   "source": [
    "#### Explanation\n",
    "\n",
    "We can use `idxmin` to find the minimum IC in each of the three IC columns.  Both the BIC and HQIC select 2 lags while the AIC likes 8. The LR in row $i$ is for the test that $i$ lags fits the same as $i-1$ lags. For example, the test statistic in row 2 tests whether a model with 2 lags fits as well as a model with 1. The likelihood-ratio testing would select 5 lags if used in with Specific-to-General search, or 8 if used with General-to-Specific."
   ]
  },
  {
   "cell_type": "markdown",
   "metadata": {},
   "source": [
    "#### Explanation\n",
    "\n",
    "We can use `idxmin` to find the minimum IC in each of the three IC columns.  Both the BIC and HQIC select 2 lags while the AIC likes 8. The LR in row $i$ is for the test that $i$ lags fits the same as $i-1$ lags. For example, the test statistic in row 2 tests whether a model with 2 lags fits as well as a model with 1. The likelihood-ratio testing would select 5 lags if used in with Specific-to-General search, or 8 if used with General-to-Specific."
   ]
  },
  {
   "cell_type": "code",
   "execution_count": 5,
   "metadata": {
    "collapsed": false,
    "jupyter": {
     "outputs_hidden": false
    },
    "pycharm": {
     "name": "#%%\n"
    }
   },
   "outputs": [
    {
     "data": {
      "text/plain": [
       "AIC     8\n",
       "HQIC    2\n",
       "BIC     2\n",
       "dtype: int64"
      ]
     },
     "execution_count": 5,
     "metadata": {},
     "output_type": "execute_result"
    }
   ],
   "source": [
    "ics[[\"AIC\", \"HQIC\", \"BIC\"]].idxmin()"
   ]
  },
  {
   "cell_type": "markdown",
   "metadata": {},
   "source": [
    "#### Explanation\n",
    "\n",
    "We can use `idxmin` to find the minimum IC in each of the three IC columns.  Both the BIC and HQIC select 2 lags while the AIC likes 8. The LR in row $i$ is for the test that $i$ lags fits the same as $i-1$ lags. For example, the test statistic in row 2 tests whether a model with 2 lags fits as well as a model with 1. The likelihood-ratio testing would select 5 lags if used in with Specific-to-General search, or 8 if used with General-to-Specific."
   ]
  },
  {
   "cell_type": "markdown",
   "metadata": {},
   "source": [
    "#### Explanation\n",
    "\n",
    "We can use `idxmin` to find the minimum IC in each of the three IC columns.  Both the BIC and HQIC select 2 lags while the AIC likes 8. The LR in row $i$ is for the test that $i$ lags fits the same as $i-1$ lags. For example, the test statistic in row 2 tests whether a model with 2 lags fits as well as a model with 1. The likelihood-ratio testing would select 5 lags if used in with Specific-to-General search, or 8 if used with General-to-Specific."
   ]
  },
  {
   "cell_type": "code",
   "execution_count": 6,
   "metadata": {
    "pycharm": {
     "is_executing": false,
     "name": "#%%\n"
    }
   },
   "outputs": [
    {
     "data": {
      "text/plain": [
       "AIC     8\n",
       "HQIC    2\n",
       "BIC     2\n",
       "dtype: int64"
      ]
     },
     "execution_count": 6,
     "metadata": {},
     "output_type": "execute_result"
    }
   ],
   "source": [
    "ics[[\"AIC\", \"HQIC\", \"BIC\"]].idxmin()"
   ]
  },
  {
   "cell_type": "markdown",
   "metadata": {},
   "source": [
    "#### Explanation\n",
    "\n",
    "We can use `idxmin` to find the minimum IC in each of the three IC columns.  Both the BIC and HQIC select 2 lags while the AIC likes 8. The LR in row $i$ is for the test that $i$ lags fits the same as $i-1$ lags. For example, the test statistic in row 2 tests whether a model with 2 lags fits as well as a model with 1. The likelihood-ratio testing would select 5 lags if used in with Specific-to-General search, or 8 if used with General-to-Specific."
   ]
  }
 ],
 "metadata": {
  "kernelspec": {
   "display_name": "Python 3 (ipykernel)",
   "language": "python",
   "name": "python3"
  },
  "language_info": {
   "codemirror_mode": {
    "name": "ipython",
    "version": 3
   },
   "file_extension": ".py",
   "mimetype": "text/x-python",
   "name": "python",
   "nbconvert_exporter": "python",
   "pygments_lexer": "ipython3",
   "version": "3.13.5"
  },
  "pycharm": {
   "stem_cell": {
    "cell_type": "raw",
    "metadata": {
     "collapsed": false
    },
    "source": []
   }
  }
 },
 "nbformat": 4,
 "nbformat_minor": 4
}
