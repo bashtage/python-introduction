{
 "cells": [
  {
   "cell_type": "markdown",
   "metadata": {},
   "source": [
    "# Basic Python Types\n",
    "\n",
    "This lesson covers:\n",
    "\n",
    "* Inputting scalars and strings\n",
    "* Lists\n",
    "* Tuples\n",
    "* Dictionaries\n",
    "\n",
    "## Course Structure\n",
    "\n",
    "### Problems\n",
    "\n",
    "Problems are explicitly explained and answered in the online course videos.\n",
    "\n",
    "### Exercises\n",
    "\n",
    "Exercises are not covered, and are left as additional problems for you to attempt after watching a lesson and going through the problems.  Solutions for the exercises _are_ available in the solutions folder.\n",
    "\n",
    "### Final Exam\n",
    "\n",
    "When you have completed the course, or if you have a reasonable background in Python, you can attempt the final exam. Ideally you should do this without looking at the solutions.  If you can complete the final exam, then you are prepared the remainder of the course."
   ]
  },
  {
   "cell_type": "markdown",
   "metadata": {},
   "source": [
    "## Problem: Input scalar floating point and integers\n",
    "\n",
    "1. Create a variable called `scalar_float` containing $\\pi$ to 4 digits.\n",
    "2. Create a variable called `scalar_int` containing 31415. \n",
    "3. Print each value using the `print` function.   "
   ]
  },
  {
   "cell_type": "code",
   "execution_count": null,
   "metadata": {
    "execution": {
     "iopub.execute_input": "2025-08-27T13:42:46.928275Z",
     "iopub.status.busy": "2025-08-27T13:42:46.928275Z",
     "iopub.status.idle": "2025-08-27T13:42:46.937236Z",
     "shell.execute_reply": "2025-08-27T13:42:46.937236Z"
    },
    "jupyter": {
     "outputs_hidden": false
    }
   },
   "outputs": [],
   "source": []
  },
  {
   "cell_type": "markdown",
   "metadata": {},
   "source": [
    "## Problem: Create a string and an f-string\n",
    "\n",
    "1. Create a variable called `a_string` containing `This is a string`\n",
    "2. Create a f-string the prints `The value of scalar_float is 3.1415` using\n",
    "   the variable created in the previous step\n",
    "3. Create two string, `first` containing `String concatenation` and the\n",
    "   second containing ` is like addition`, and join the two using `+` to produce\n",
    "   `String concatenation is like addition`. "
   ]
  },
  {
   "cell_type": "code",
   "execution_count": null,
   "metadata": {
    "execution": {
     "iopub.execute_input": "2025-08-27T13:42:46.985074Z",
     "iopub.status.busy": "2025-08-27T13:42:46.985074Z",
     "iopub.status.idle": "2025-08-27T13:42:46.991444Z",
     "shell.execute_reply": "2025-08-27T13:42:46.991444Z"
    },
    "jupyter": {
     "outputs_hidden": false
    }
   },
   "outputs": [],
   "source": []
  },
  {
   "cell_type": "markdown",
   "metadata": {},
   "source": [
    "## Problem: Create a list\n",
    "\n",
    "1. Create a list containing `scalar_float` and `scalar_int`\n",
    "2. Add `a_string` to the list.\n",
    "3. Select the second element from the list \n",
    "4. Select the the lst two elements of the list"
   ]
  },
  {
   "cell_type": "code",
   "execution_count": null,
   "metadata": {
    "execution": {
     "iopub.execute_input": "2025-08-27T13:42:46.993451Z",
     "iopub.status.busy": "2025-08-27T13:42:46.993451Z",
     "iopub.status.idle": "2025-08-27T13:42:46.998750Z",
     "shell.execute_reply": "2025-08-27T13:42:46.998750Z"
    },
    "jupyter": {
     "outputs_hidden": false
    }
   },
   "outputs": [],
   "source": []
  },
  {
   "cell_type": "markdown",
   "metadata": {},
   "source": [
    "## Problem: Create a list of lists\n",
    "\n",
    "1. Create a list containing the two lists `[1, 2, 3]` and `[4, 5, 6]`\n",
    "2. Select the element 5 from the nested list"
   ]
  },
  {
   "cell_type": "code",
   "execution_count": null,
   "metadata": {
    "execution": {
     "iopub.execute_input": "2025-08-27T13:42:47.000758Z",
     "iopub.status.busy": "2025-08-27T13:42:47.000758Z",
     "iopub.status.idle": "2025-08-27T13:42:47.003945Z",
     "shell.execute_reply": "2025-08-27T13:42:47.003945Z"
    },
    "jupyter": {
     "outputs_hidden": false
    }
   },
   "outputs": [],
   "source": []
  },
  {
   "cell_type": "markdown",
   "metadata": {
    "pycharm": {
     "name": "#%% md\n"
    }
   },
   "source": [
    "## Problem: Create a tuple\n",
    "\n",
    "1. Create a tuple containing the values (1, 2.0, \"c\")\n",
    "2. Select the element \"c\" from the tuple"
   ]
  },
  {
   "cell_type": "code",
   "execution_count": null,
   "metadata": {
    "execution": {
     "iopub.execute_input": "2025-08-27T13:42:47.005953Z",
     "iopub.status.busy": "2025-08-27T13:42:47.005953Z",
     "iopub.status.idle": "2025-08-27T13:42:47.009149Z",
     "shell.execute_reply": "2025-08-27T13:42:47.009149Z"
    },
    "jupyter": {
     "outputs_hidden": false
    }
   },
   "outputs": [],
   "source": []
  },
  {
   "cell_type": "markdown",
   "metadata": {},
   "source": [
    "## Problem: Convert a list to a tuple and back\n",
    "\n",
    "1. Convert the list-of-lists created to a tuple-of-tuples\n",
    "2. Convert the tuple-of-tuples back to a list of lists"
   ]
  },
  {
   "cell_type": "code",
   "execution_count": null,
   "metadata": {
    "execution": {
     "iopub.execute_input": "2025-08-27T13:42:47.009149Z",
     "iopub.status.busy": "2025-08-27T13:42:47.009149Z",
     "iopub.status.idle": "2025-08-27T13:42:47.015061Z",
     "shell.execute_reply": "2025-08-27T13:42:47.015061Z"
    },
    "jupyter": {
     "outputs_hidden": false
    }
   },
   "outputs": [],
   "source": []
  },
  {
   "cell_type": "markdown",
   "metadata": {},
   "source": [
    "## Problem: Create a dictionary\n",
    "\n",
    "1. Create a dictionary containing the key-value pairs `\"float\"` and 3.1415,\n",
    "   `\"int\"` and 31415, and `\"string\"` and `\"three-point-one-four-one-five\"`."
   ]
  },
  {
   "cell_type": "code",
   "execution_count": null,
   "metadata": {
    "execution": {
     "iopub.execute_input": "2025-08-27T13:42:47.017136Z",
     "iopub.status.busy": "2025-08-27T13:42:47.017136Z",
     "iopub.status.idle": "2025-08-27T13:42:47.020262Z",
     "shell.execute_reply": "2025-08-27T13:42:47.020262Z"
    },
    "jupyter": {
     "outputs_hidden": false
    }
   },
   "outputs": [],
   "source": []
  },
  {
   "cell_type": "markdown",
   "metadata": {},
   "source": [
    "## Problem: Lookup and Change a value\n",
    "\n",
    "1. Look up the value of `\"float\"`.\n",
    "2. Change the value of `\"float\"` to `22 / 7`."
   ]
  },
  {
   "cell_type": "code",
   "execution_count": null,
   "metadata": {
    "execution": {
     "iopub.execute_input": "2025-08-27T13:42:47.022270Z",
     "iopub.status.busy": "2025-08-27T13:42:47.022270Z",
     "iopub.status.idle": "2025-08-27T13:42:47.025536Z",
     "shell.execute_reply": "2025-08-27T13:42:47.025536Z"
    },
    "jupyter": {
     "outputs_hidden": false
    }
   },
   "outputs": [],
   "source": []
  },
  {
   "cell_type": "markdown",
   "metadata": {},
   "source": [
    "## Problem: Add and remove a key \n",
    "\n",
    "1. Add the new key \"better_float\" with the value 3.141592.\n",
    "2. Remove the key \"float\" and its value."
   ]
  },
  {
   "cell_type": "code",
   "execution_count": null,
   "metadata": {
    "execution": {
     "iopub.execute_input": "2025-08-27T13:42:47.027544Z",
     "iopub.status.busy": "2025-08-27T13:42:47.027544Z",
     "iopub.status.idle": "2025-08-27T13:42:47.030678Z",
     "shell.execute_reply": "2025-08-27T13:42:47.030678Z"
    },
    "jupyter": {
     "outputs_hidden": false
    }
   },
   "outputs": [],
   "source": []
  },
  {
   "cell_type": "markdown",
   "metadata": {
    "pycharm": {
     "name": "#%% md\n"
    }
   },
   "source": [
    "## Exercises\n",
    "\n",
    "### Exercise: Manipulating lists\n",
    "\n",
    "1. Create an empty list called `lst`\n",
    "2. Add the elements `9`, `\"Eight\"` and `7.0` (in order) to the list.\n",
    "3. Extend the list with the list `[\"Six\", 5, 4.0]` using `extend`\n",
    "4. Select first 4 elements of `lst`\n",
    "5. Select last 3 elements of `lst`\n"
   ]
  },
  {
   "cell_type": "code",
   "execution_count": null,
   "metadata": {
    "execution": {
     "iopub.execute_input": "2025-08-27T13:42:47.032686Z",
     "iopub.status.busy": "2025-08-27T13:42:47.032686Z",
     "iopub.status.idle": "2025-08-27T13:42:47.038663Z",
     "shell.execute_reply": "2025-08-27T13:42:47.038663Z"
    },
    "jupyter": {
     "outputs_hidden": false
    }
   },
   "outputs": [],
   "source": []
  },
  {
   "cell_type": "code",
   "execution_count": null,
   "metadata": {
    "execution": {
     "iopub.execute_input": "2025-08-27T13:42:47.040671Z",
     "iopub.status.busy": "2025-08-27T13:42:47.040671Z",
     "iopub.status.idle": "2025-08-27T13:42:47.045912Z",
     "shell.execute_reply": "2025-08-27T13:42:47.045912Z"
    },
    "jupyter": {
     "outputs_hidden": false
    }
   },
   "outputs": [],
   "source": []
  },
  {
   "cell_type": "code",
   "execution_count": null,
   "metadata": {
    "execution": {
     "iopub.execute_input": "2025-08-27T13:42:47.047918Z",
     "iopub.status.busy": "2025-08-27T13:42:47.047918Z",
     "iopub.status.idle": "2025-08-27T13:42:47.052047Z",
     "shell.execute_reply": "2025-08-27T13:42:47.052047Z"
    },
    "jupyter": {
     "outputs_hidden": false
    }
   },
   "outputs": [],
   "source": []
  },
  {
   "cell_type": "code",
   "execution_count": null,
   "metadata": {
    "execution": {
     "iopub.execute_input": "2025-08-27T13:42:47.052047Z",
     "iopub.status.busy": "2025-08-27T13:42:47.052047Z",
     "iopub.status.idle": "2025-08-27T13:42:47.057834Z",
     "shell.execute_reply": "2025-08-27T13:42:47.057834Z"
    },
    "jupyter": {
     "outputs_hidden": false
    }
   },
   "outputs": [],
   "source": []
  },
  {
   "cell_type": "code",
   "execution_count": null,
   "metadata": {
    "execution": {
     "iopub.execute_input": "2025-08-27T13:42:47.057834Z",
     "iopub.status.busy": "2025-08-27T13:42:47.057834Z",
     "iopub.status.idle": "2025-08-27T13:42:47.062893Z",
     "shell.execute_reply": "2025-08-27T13:42:47.062893Z"
    },
    "jupyter": {
     "outputs_hidden": false
    }
   },
   "outputs": [],
   "source": []
  },
  {
   "cell_type": "code",
   "execution_count": null,
   "metadata": {
    "execution": {
     "iopub.execute_input": "2025-08-27T13:42:47.062893Z",
     "iopub.status.busy": "2025-08-27T13:42:47.062893Z",
     "iopub.status.idle": "2025-08-27T13:42:47.067771Z",
     "shell.execute_reply": "2025-08-27T13:42:47.067771Z"
    },
    "jupyter": {
     "outputs_hidden": false
    }
   },
   "outputs": [],
   "source": []
  },
  {
   "cell_type": "code",
   "execution_count": null,
   "metadata": {
    "execution": {
     "iopub.execute_input": "2025-08-27T13:42:47.067771Z",
     "iopub.status.busy": "2025-08-27T13:42:47.067771Z",
     "iopub.status.idle": "2025-08-27T13:42:47.073114Z",
     "shell.execute_reply": "2025-08-27T13:42:47.073114Z"
    },
    "jupyter": {
     "outputs_hidden": false
    }
   },
   "outputs": [],
   "source": []
  },
  {
   "cell_type": "markdown",
   "metadata": {
    "pycharm": {
     "name": "#%% md\n"
    }
   },
   "source": [
    "### Exercise: Dictionary Manipulation\n",
    "\n",
    "1. Create a empty dictionary called `dct`\n",
    "2. Add the pairs \"apple\" and 1, \"banana\" and 2.0, and \"cherry\" and \"iii\"\n",
    "3. Replace the value of \"apple\" with \"I\"\n",
    "4. Remove the entry for \"banana\"\n",
    "5. Add an entry \"date\" with the value 4"
   ]
  },
  {
   "cell_type": "code",
   "execution_count": null,
   "metadata": {
    "execution": {
     "iopub.execute_input": "2025-08-27T13:42:47.073114Z",
     "iopub.status.busy": "2025-08-27T13:42:47.073114Z",
     "iopub.status.idle": "2025-08-27T13:42:47.083003Z",
     "shell.execute_reply": "2025-08-27T13:42:47.083003Z"
    },
    "jupyter": {
     "outputs_hidden": false
    }
   },
   "outputs": [],
   "source": []
  },
  {
   "cell_type": "code",
   "execution_count": null,
   "metadata": {
    "execution": {
     "iopub.execute_input": "2025-08-27T13:42:47.083003Z",
     "iopub.status.busy": "2025-08-27T13:42:47.083003Z",
     "iopub.status.idle": "2025-08-27T13:42:47.088407Z",
     "shell.execute_reply": "2025-08-27T13:42:47.088407Z"
    },
    "jupyter": {
     "outputs_hidden": false
    }
   },
   "outputs": [],
   "source": []
  },
  {
   "cell_type": "code",
   "execution_count": null,
   "metadata": {
    "execution": {
     "iopub.execute_input": "2025-08-27T13:42:47.088407Z",
     "iopub.status.busy": "2025-08-27T13:42:47.088407Z",
     "iopub.status.idle": "2025-08-27T13:42:47.093610Z",
     "shell.execute_reply": "2025-08-27T13:42:47.093610Z"
    },
    "jupyter": {
     "outputs_hidden": false
    }
   },
   "outputs": [],
   "source": []
  },
  {
   "cell_type": "code",
   "execution_count": null,
   "metadata": {
    "execution": {
     "iopub.execute_input": "2025-08-27T13:42:47.095620Z",
     "iopub.status.busy": "2025-08-27T13:42:47.095620Z",
     "iopub.status.idle": "2025-08-27T13:42:47.098957Z",
     "shell.execute_reply": "2025-08-27T13:42:47.098957Z"
    },
    "jupyter": {
     "outputs_hidden": false
    }
   },
   "outputs": [],
   "source": []
  },
  {
   "cell_type": "code",
   "execution_count": null,
   "metadata": {
    "execution": {
     "iopub.execute_input": "2025-08-27T13:42:47.100965Z",
     "iopub.status.busy": "2025-08-27T13:42:47.100965Z",
     "iopub.status.idle": "2025-08-27T13:42:47.105039Z",
     "shell.execute_reply": "2025-08-27T13:42:47.105039Z"
    },
    "jupyter": {
     "outputs_hidden": false
    }
   },
   "outputs": [],
   "source": []
  },
  {
   "cell_type": "markdown",
   "metadata": {
    "pycharm": {
     "name": "#%% md\n"
    }
   },
   "source": [
    "### Exercise: Directly create a Dictionary\n",
    "\n",
    "Using the final version of `dct` from the previous exercise:\n",
    "\n",
    "1. Directly initialize a new dictionary called `other_dct`.\n",
    "2. Use an f-string to print the values associated with each key.\n",
    "\n",
    "**Hint** You must use both types of quotes. For example, to access a value in\n",
    "an f-string.\n",
    "\n",
    "```python\n",
    "f\"{other_dct['apple']}\"\n",
    "```"
   ]
  },
  {
   "cell_type": "code",
   "execution_count": null,
   "metadata": {
    "execution": {
     "iopub.execute_input": "2025-08-27T13:42:47.107046Z",
     "iopub.status.busy": "2025-08-27T13:42:47.107046Z",
     "iopub.status.idle": "2025-08-27T13:42:47.111133Z",
     "shell.execute_reply": "2025-08-27T13:42:47.111133Z"
    },
    "jupyter": {
     "outputs_hidden": false
    }
   },
   "outputs": [],
   "source": []
  },
  {
   "cell_type": "code",
   "execution_count": null,
   "metadata": {
    "execution": {
     "iopub.execute_input": "2025-08-27T13:42:47.113138Z",
     "iopub.status.busy": "2025-08-27T13:42:47.113138Z",
     "iopub.status.idle": "2025-08-27T13:42:47.116133Z",
     "shell.execute_reply": "2025-08-27T13:42:47.116133Z"
    },
    "jupyter": {
     "outputs_hidden": false
    }
   },
   "outputs": [],
   "source": []
  },
  {
   "cell_type": "markdown",
   "metadata": {},
   "source": [
    "### Exercise: Tuple Manipulation\n",
    "\n",
    "1. Create a tuple `tpl` containing 100 and 4\n",
    "2. Convert to a list, add the elements 101 and 5\n",
    "3. Convert back toa tuple"
   ]
  },
  {
   "cell_type": "code",
   "execution_count": null,
   "metadata": {
    "execution": {
     "iopub.execute_input": "2025-08-27T13:42:47.117878Z",
     "iopub.status.busy": "2025-08-27T13:42:47.117878Z",
     "iopub.status.idle": "2025-08-27T13:42:47.121348Z",
     "shell.execute_reply": "2025-08-27T13:42:47.121348Z"
    },
    "jupyter": {
     "outputs_hidden": false
    }
   },
   "outputs": [],
   "source": []
  },
  {
   "cell_type": "code",
   "execution_count": null,
   "metadata": {
    "execution": {
     "iopub.execute_input": "2025-08-27T13:42:47.123354Z",
     "iopub.status.busy": "2025-08-27T13:42:47.121348Z",
     "iopub.status.idle": "2025-08-27T13:42:47.126467Z",
     "shell.execute_reply": "2025-08-27T13:42:47.126467Z"
    },
    "jupyter": {
     "outputs_hidden": false
    }
   },
   "outputs": [],
   "source": []
  },
  {
   "cell_type": "code",
   "execution_count": null,
   "metadata": {
    "execution": {
     "iopub.execute_input": "2025-08-27T13:42:47.128474Z",
     "iopub.status.busy": "2025-08-27T13:42:47.126467Z",
     "iopub.status.idle": "2025-08-27T13:42:47.131447Z",
     "shell.execute_reply": "2025-08-27T13:42:47.131447Z"
    },
    "jupyter": {
     "outputs_hidden": false
    },
    "tags": []
   },
   "outputs": [],
   "source": []
  }
 ],
 "metadata": {
  "kernelspec": {
   "display_name": "Python 3 (ipykernel)",
   "language": "python",
   "name": "python3"
  },
  "language_info": {
   "codemirror_mode": {
    "name": "ipython",
    "version": 3
   },
   "file_extension": ".py",
   "mimetype": "text/x-python",
   "name": "python",
   "nbconvert_exporter": "python",
   "pygments_lexer": "ipython3",
   "version": "3.12.11"
  },
  "pycharm": {
   "stem_cell": {
    "cell_type": "raw",
    "metadata": {
     "collapsed": false
    },
    "source": [
     "\n"
    ]
   }
  }
 },
 "nbformat": 4,
 "nbformat_minor": 4
}
