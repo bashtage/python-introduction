{
 "cells": [
  {
   "cell_type": "markdown",
   "metadata": {},
   "source": [
    "# Logic and Loops\n",
    "\n",
    "This lesson covers:\n",
    "\n",
    "* Mixing logic and loops "
   ]
  },
  {
   "cell_type": "code",
   "execution_count": null,
   "metadata": {
    "execution": {
     "iopub.execute_input": "2025-08-27T07:32:52.795166Z",
     "iopub.status.busy": "2025-08-27T07:32:52.795166Z",
     "iopub.status.idle": "2025-08-27T07:32:53.147264Z",
     "shell.execute_reply": "2025-08-27T07:32:53.147264Z"
    },
    "pycharm": {
     "is_executing": false,
     "name": "#%%\n"
    }
   },
   "outputs": [],
   "source": [
    "# Setup: Load the momentum data\n",
    "\n",
    "import pandas as pd\n",
    "\n",
    "momentum = pd.read_csv(\"data/momentum.csv\", index_col=\"date\", parse_dates=True)\n",
    "\n",
    "mom_01 = momentum.mom_01\n",
    "print(momentum.head())"
   ]
  },
  {
   "cell_type": "markdown",
   "metadata": {},
   "source": [
    "## Problem: Logical Statements and for Loops\n",
    "Use a for loop along with an `if` statement to simulate an asymmetric random\n",
    "walk of the form \n",
    "\n",
    "$$y_{i}=y_{i-1}+e_{i}+I_{[e_{i}<0]}e_{i}$$\n",
    "\n",
    "where $I_{[e_{i}<0]}$ is known as an indicator variable that takes the value\n",
    "1 if the statement in brackets is true. Plot y. $e$ is a standard normal\n",
    "shock. Use `cumsum` to simulate a symmetric one (`z`), and plot the two using\n",
    "the code in the cell below.\n",
    " "
   ]
  },
  {
   "cell_type": "code",
   "execution_count": null,
   "metadata": {
    "execution": {
     "iopub.execute_input": "2025-08-27T07:32:53.149270Z",
     "iopub.status.busy": "2025-08-27T07:32:53.149270Z",
     "iopub.status.idle": "2025-08-27T07:32:53.152710Z",
     "shell.execute_reply": "2025-08-27T07:32:53.152710Z"
    }
   },
   "outputs": [],
   "source": []
  },
  {
   "cell_type": "markdown",
   "metadata": {
    "pycharm": {
     "name": "#%% md\n"
    }
   },
   "source": [
    "Plot the two random walks using the code.  We will cover data visualization\n",
    "in a later lesson. \n",
    "\n",
    "```python\n",
    "%matplotlib inline\n",
    "import matplotlib.pyplot as plt\n",
    "plt.plot(y)\n",
    "plt.plot(z)\n",
    "plt.legend([\"y\", \"z\"])\n",
    "```"
   ]
  },
  {
   "cell_type": "code",
   "execution_count": null,
   "metadata": {
    "execution": {
     "iopub.execute_input": "2025-08-27T07:32:53.154715Z",
     "iopub.status.busy": "2025-08-27T07:32:53.153716Z",
     "iopub.status.idle": "2025-08-27T07:32:53.670964Z",
     "shell.execute_reply": "2025-08-27T07:32:53.670964Z"
    }
   },
   "outputs": [],
   "source": []
  },
  {
   "cell_type": "markdown",
   "metadata": {
    "pycharm": {
     "name": "#%% md\n"
    }
   },
   "source": [
    "## Problem: Simulate the asymmetric random walk without an `if`-`then`\n",
    "\n",
    "Use boolean multiplication to simulate the same random walk without using\n",
    "an `if`-`then` statement. "
   ]
  },
  {
   "cell_type": "code",
   "execution_count": null,
   "metadata": {
    "execution": {
     "iopub.execute_input": "2025-08-27T07:32:53.672969Z",
     "iopub.status.busy": "2025-08-27T07:32:53.672969Z",
     "iopub.status.idle": "2025-08-27T07:32:53.676184Z",
     "shell.execute_reply": "2025-08-27T07:32:53.676184Z"
    }
   },
   "outputs": [],
   "source": []
  },
  {
   "cell_type": "code",
   "execution_count": null,
   "metadata": {
    "execution": {
     "iopub.execute_input": "2025-08-27T07:32:53.678189Z",
     "iopub.status.busy": "2025-08-27T07:32:53.678189Z",
     "iopub.status.idle": "2025-08-27T07:32:53.681921Z",
     "shell.execute_reply": "2025-08-27T07:32:53.681921Z"
    },
    "pycharm": {
     "is_executing": false,
     "name": "#%%\n"
    }
   },
   "outputs": [],
   "source": [
    "# Setup: Plot the data\n",
    "%matplotlib inline\n",
    "\n",
    "import matplotlib.pyplot as plt\n",
    "\n",
    "plt.rc(\"figure\", figsize=(16, 6))  # Improve figure size\n",
    "plt.rc(\"font\", size=14)  # Improve figure size"
   ]
  },
  {
   "cell_type": "code",
   "execution_count": null,
   "metadata": {
    "execution": {
     "iopub.execute_input": "2025-08-27T07:32:53.683926Z",
     "iopub.status.busy": "2025-08-27T07:32:53.682927Z",
     "iopub.status.idle": "2025-08-27T07:32:53.799399Z",
     "shell.execute_reply": "2025-08-27T07:32:53.799399Z"
    }
   },
   "outputs": [],
   "source": []
  },
  {
   "cell_type": "markdown",
   "metadata": {},
   "source": [
    "## Problem: Combining flow control\n",
    "For momentum portfolios 1 and 10, compute the length of the runs in the\n",
    "series. In pseudo code,\n",
    "\n",
    "* Start at i=1 and define run(1) = 1\n",
    "* For i in 2,...,T, define run(i) = run(i-1) + 1 if \n",
    "  $\\textrm{sgn}\\left(r_{i}\\right)=\\textrm{sgn}\\left(r_{i-1}\\right)$ else 1.\n",
    "\n",
    "You will need to use `len` and `zeros`. \n",
    "\n",
    "1. Compute the length longest run in the series and the index of the\n",
    "   location of the longest run. Was it positive or negative?\n",
    "2. How many distinct runs lasted 5 or more days?"
   ]
  },
  {
   "cell_type": "code",
   "execution_count": null,
   "metadata": {
    "execution": {
     "iopub.execute_input": "2025-08-27T07:32:53.799399Z",
     "iopub.status.busy": "2025-08-27T07:32:53.799399Z",
     "iopub.status.idle": "2025-08-27T07:32:53.821654Z",
     "shell.execute_reply": "2025-08-27T07:32:53.821654Z"
    }
   },
   "outputs": [],
   "source": []
  },
  {
   "cell_type": "markdown",
   "metadata": {},
   "source": [
    "Plot the runs using \n",
    "\n",
    "```python\n",
    "%matplotlib inline\n",
    "\n",
    "import matplotlib.pyplot as plt\n",
    "plt.plot(run)\n",
    "```"
   ]
  },
  {
   "cell_type": "code",
   "execution_count": null,
   "metadata": {
    "execution": {
     "iopub.execute_input": "2025-08-27T07:32:53.821654Z",
     "iopub.status.busy": "2025-08-27T07:32:53.821654Z",
     "iopub.status.idle": "2025-08-27T07:32:53.941742Z",
     "shell.execute_reply": "2025-08-27T07:32:53.941742Z"
    }
   },
   "outputs": [],
   "source": []
  },
  {
   "cell_type": "markdown",
   "metadata": {
    "pycharm": {
     "name": "#%% md\n"
    }
   },
   "source": [
    "## Exercises\n",
    "\n",
    "### Exercise: Simulate a Process with Heteroskedasticity\n",
    "\n",
    "Simulate 100 observations of a time series with heteroskedasticity \n",
    "that follows a random walk of the form: \n",
    "\n",
    "$$ y_t = y_{t-1} + \\sigma_t \\epsilon_t $$\n",
    "\n",
    "where $\\epsilon_t\\sim N(0,1)$, $y_0=0$ and $\\sigma_t$ is:\n",
    "\n",
    "* 0.5 if the 0 of the past 3 shocks are negative\n",
    "* 1 if 1 of the past 3 shocks are negative\n",
    "* 2 if 2 of the past 3 shocks are negative\n",
    "* 6 if 3 of the past 3 shocks are negative\n",
    "\n",
    "Plot the result.\n",
    "\n",
    "**Notes**\n",
    "\n",
    "* When generating the first 3 values, treat $\\epsilon_{-1}$, $\\epsilon_{-2}$ and\n",
    "  $\\epsilon_{-3}$ as 0 (non-negative).\n",
    "* Re-run the simulation to see different paths.\n",
    " "
   ]
  },
  {
   "cell_type": "code",
   "execution_count": null,
   "metadata": {
    "execution": {
     "iopub.execute_input": "2025-08-27T07:32:53.943746Z",
     "iopub.status.busy": "2025-08-27T07:32:53.943746Z",
     "iopub.status.idle": "2025-08-27T07:32:53.950124Z",
     "shell.execute_reply": "2025-08-27T07:32:53.950124Z"
    }
   },
   "outputs": [],
   "source": []
  },
  {
   "cell_type": "code",
   "execution_count": null,
   "metadata": {
    "execution": {
     "iopub.execute_input": "2025-08-27T07:32:53.950124Z",
     "iopub.status.busy": "2025-08-27T07:32:53.950124Z",
     "iopub.status.idle": "2025-08-27T07:32:54.048353Z",
     "shell.execute_reply": "2025-08-27T07:32:54.048353Z"
    },
    "tags": []
   },
   "outputs": [],
   "source": []
  }
 ],
 "metadata": {
  "kernelspec": {
   "display_name": "Python 3 (ipykernel)",
   "language": "python",
   "name": "python3"
  },
  "language_info": {
   "codemirror_mode": {
    "name": "ipython",
    "version": 3
   },
   "file_extension": ".py",
   "mimetype": "text/x-python",
   "name": "python",
   "nbconvert_exporter": "python",
   "pygments_lexer": "ipython3",
   "version": "3.12.11"
  },
  "pycharm": {
   "stem_cell": {
    "cell_type": "raw",
    "metadata": {
     "collapsed": false
    },
    "source": []
   }
  }
 },
 "nbformat": 4,
 "nbformat_minor": 4
}
