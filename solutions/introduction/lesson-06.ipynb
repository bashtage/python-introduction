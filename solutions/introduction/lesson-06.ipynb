{
 "cells": [
  {
   "cell_type": "markdown",
   "metadata": {
    "pycharm": {
     "name": "#%% md\n"
    }
   },
   "source": [
    "# Methods and Functions\n",
    "\n",
    "This lesson covers:\n",
    "\n",
    "* Calling functions with more than one input and output \n",
    "* Calling functions when some inputs are not used"
   ]
  },
  {
   "cell_type": "markdown",
   "metadata": {},
   "source": [
    "Read the data in momentum.csv and creating some variable. This cell uses\n",
    "some magic to automate repeated typing."
   ]
  },
  {
   "cell_type": "code",
   "execution_count": 1,
   "metadata": {
    "execution": {
     "iopub.execute_input": "2025-08-27T07:32:14.060515Z",
     "iopub.status.busy": "2025-08-27T07:32:14.060515Z",
     "iopub.status.idle": "2025-08-27T07:32:14.407545Z",
     "shell.execute_reply": "2025-08-27T07:32:14.407545Z"
    },
    "pycharm": {
     "is_executing": false
    }
   },
   "outputs": [
    {
     "name": "stdout",
     "output_type": "stream",
     "text": [
      "            mom_01  mom_02  mom_03  mom_04  mom_05  mom_06  mom_07  mom_08  \\\n",
      "date                                                                         \n",
      "2016-01-04    0.67   -0.03   -0.93   -1.11   -1.47   -1.66   -1.40   -2.08   \n",
      "2016-01-05   -0.36    0.20   -0.37    0.28    0.16    0.18   -0.22    0.25   \n",
      "2016-01-06   -4.97   -2.33   -2.60   -1.16   -1.70   -1.45   -1.15   -1.46   \n",
      "2016-01-07   -4.91   -1.91   -3.03   -1.87   -2.31   -2.30   -2.70   -2.31   \n",
      "2016-01-08   -0.40   -1.26   -0.98   -1.26   -1.13   -1.02   -0.96   -1.42   \n",
      "\n",
      "            mom_09  mom_10  \n",
      "date                        \n",
      "2016-01-04   -1.71   -2.67  \n",
      "2016-01-05    0.29    0.13  \n",
      "2016-01-06   -1.14   -0.45  \n",
      "2016-01-07   -2.36   -2.66  \n",
      "2016-01-08   -0.94   -1.32  \n"
     ]
    }
   ],
   "source": [
    "# Setup: Load the momentum data\n",
    "import pandas as pd\n",
    "\n",
    "momentum = pd.read_csv(\"data/momentum.csv\", index_col=\"date\", parse_dates=True)\n",
    "\n",
    "print(momentum.head())\n",
    "\n",
    "mom_01 = momentum[\"mom_01\"]\n",
    "mom_10 = momentum[\"mom_10\"]"
   ]
  },
  {
   "cell_type": "markdown",
   "metadata": {},
   "source": [
    "This data set contains 2 years of data on the 10 momentum portfolios from\n",
    "2016–2018. The variables are named mom_XX where XX ranges from 01 (work\n",
    "return over the past 12 months) to 10 (best return over the past 12 months). "
   ]
  },
  {
   "cell_type": "markdown",
   "metadata": {
    "pycharm": {
     "name": "#%% md\n"
    }
   },
   "source": [
    "## Problem: Calling Methods\n",
    "Get used to calling methods by computing the mean, standard deviation, skewness, kurtosis, max, and min. \n",
    "\n",
    "Use the DataFrame functions `mean`, `std`, `skew` and `kurt`, `min` and `max` to print the\n",
    "values for `mom_01`.\n",
    "\n",
    "In the second cell, call `describe`, a method that summarizes `Series` and `DataFrames` on `mom_01`."
   ]
  },
  {
   "cell_type": "code",
   "execution_count": 2,
   "metadata": {
    "execution": {
     "iopub.execute_input": "2025-08-27T07:32:14.407545Z",
     "iopub.status.busy": "2025-08-27T07:32:14.407545Z",
     "iopub.status.idle": "2025-08-27T07:32:14.412862Z",
     "shell.execute_reply": "2025-08-27T07:32:14.412862Z"
    },
    "pycharm": {
     "is_executing": false
    }
   },
   "outputs": [
    {
     "name": "stdout",
     "output_type": "stream",
     "text": [
      "0.10190854870775348 1.7201674428556768 -0.10718993942161407 3.6858942336434177 -7.28 7.67\n"
     ]
    }
   ],
   "source": [
    "# Use the functions attached to the Series\n",
    "print(\n",
    "    mom_01.mean(),\n",
    "    mom_01.std(),\n",
    "    mom_01.skew(),\n",
    "    mom_01.kurt(),\n",
    "    mom_01.min(),\n",
    "    mom_01.max(),\n",
    ")"
   ]
  },
  {
   "cell_type": "code",
   "execution_count": 3,
   "metadata": {
    "execution": {
     "iopub.execute_input": "2025-08-27T07:32:14.412862Z",
     "iopub.status.busy": "2025-08-27T07:32:14.412862Z",
     "iopub.status.idle": "2025-08-27T07:32:14.423043Z",
     "shell.execute_reply": "2025-08-27T07:32:14.423043Z"
    },
    "pycharm": {
     "is_executing": false
    }
   },
   "outputs": [
    {
     "data": {
      "text/plain": [
       "count    503.000000\n",
       "mean       0.101909\n",
       "std        1.720167\n",
       "min       -7.280000\n",
       "25%       -0.615000\n",
       "50%        0.080000\n",
       "75%        0.890000\n",
       "max        7.670000\n",
       "Name: mom_01, dtype: float64"
      ]
     },
     "execution_count": 3,
     "metadata": {},
     "output_type": "execute_result"
    }
   ],
   "source": [
    "mom_01.describe()"
   ]
  },
  {
   "cell_type": "markdown",
   "metadata": {
    "pycharm": {
     "name": "#%% md\n"
    }
   },
   "source": [
    "## Problem: Use NumPy and SciPy functions\n",
    "\n",
    "Use the NumPy functions `mean`, `std`, `min`, `max` and the SciPy `stats` functions\n",
    "`skew` and `kurtosis` to produce the same output."
   ]
  },
  {
   "cell_type": "code",
   "execution_count": 4,
   "metadata": {
    "execution": {
     "iopub.execute_input": "2025-08-27T07:32:14.423043Z",
     "iopub.status.busy": "2025-08-27T07:32:14.423043Z",
     "iopub.status.idle": "2025-08-27T07:32:14.960915Z",
     "shell.execute_reply": "2025-08-27T07:32:14.960915Z"
    },
    "pycharm": {
     "is_executing": false
    }
   },
   "outputs": [
    {
     "name": "stdout",
     "output_type": "stream",
     "text": [
      "0.10190854870775348 1.718456684160085 -0.10687002235784658 3.6374521972731158 -7.28 7.67\n"
     ]
    }
   ],
   "source": [
    "# Use the NumPy functions and the statistics function in SciPY\n",
    "# These are the same up to some bias-adjustment constants that depend only\n",
    "# on sample size\n",
    "import numpy as np\n",
    "import scipy.stats as stats\n",
    "\n",
    "print(\n",
    "    np.mean(mom_01),\n",
    "    np.std(mom_01),\n",
    "    stats.skew(mom_01),\n",
    "    stats.kurtosis(mom_01),\n",
    "    np.min(mom_01),\n",
    "    np.max(mom_01),\n",
    ")"
   ]
  },
  {
   "cell_type": "markdown",
   "metadata": {
    "pycharm": {
     "name": "#%% md\n"
    }
   },
   "source": [
    "## Problem: Calling Functions with 2 Outputs\n",
    "\n",
    "Some useful functions return 2 or more outputs. One example is ``np.linalg.slogdet`` \n",
    "computes the signed log determinant of a square array. It returns two output,\n",
    "the sign and the log of the absolute determinant.\n",
    "\n",
    "Use this function to compute the sign and log determinant of the 2 by 2 array:\n",
    "\n",
    "```\n",
    "1  2\n",
    "2  9\n",
    "```  "
   ]
  },
  {
   "cell_type": "code",
   "execution_count": 5,
   "metadata": {
    "execution": {
     "iopub.execute_input": "2025-08-27T07:32:14.960915Z",
     "iopub.status.busy": "2025-08-27T07:32:14.960915Z",
     "iopub.status.idle": "2025-08-27T07:32:14.966017Z",
     "shell.execute_reply": "2025-08-27T07:32:14.966017Z"
    },
    "pycharm": {
     "is_executing": false,
     "name": "#%%\n"
    }
   },
   "outputs": [
    {
     "name": "stdout",
     "output_type": "stream",
     "text": [
      "SlogdetResult(sign=np.float64(1.0), logabsdet=np.float64(1.6094379124341005))\n"
     ]
    }
   ],
   "source": [
    "# The full set of outputs is returned as a tuple\n",
    "data = np.array([[1, 2], [2, 9]])\n",
    "output = np.linalg.slogdet(data)\n",
    "print(output)"
   ]
  },
  {
   "cell_type": "code",
   "execution_count": 6,
   "metadata": {
    "execution": {
     "iopub.execute_input": "2025-08-27T07:32:14.966017Z",
     "iopub.status.busy": "2025-08-27T07:32:14.966017Z",
     "iopub.status.idle": "2025-08-27T07:32:14.970523Z",
     "shell.execute_reply": "2025-08-27T07:32:14.970523Z"
    },
    "pycharm": {
     "is_executing": false,
     "name": "#%%\n"
    }
   },
   "outputs": [
    {
     "name": "stdout",
     "output_type": "stream",
     "text": [
      "1.0\n",
      "1.6094379124341005\n"
     ]
    }
   ],
   "source": [
    "# Alternatively supply as many output as required to assign each component\n",
    "sign, log_det = np.linalg.slogdet(data)\n",
    "print(sign)\n",
    "print(log_det)"
   ]
  },
  {
   "cell_type": "markdown",
   "metadata": {},
   "source": [
    "## Problem: Calling Functions with 2 Inputs\n",
    "\n",
    "Many functions take two or more inputs. Like outputs, the inputs are simply\n",
    "listed in order separated by commas. Use `np.linspace` to produce a series\n",
    "of 11 points evenly spaced between 0 and 1.\n",
    "\n",
    "```\n",
    "np.linspace(start, stop, num=50, endpoint=True, retstep=False, dtype=None, axis=0)\n",
    "```  "
   ]
  },
  {
   "cell_type": "code",
   "execution_count": 7,
   "metadata": {
    "execution": {
     "iopub.execute_input": "2025-08-27T07:32:14.972268Z",
     "iopub.status.busy": "2025-08-27T07:32:14.972268Z",
     "iopub.status.idle": "2025-08-27T07:32:14.975762Z",
     "shell.execute_reply": "2025-08-27T07:32:14.975762Z"
    },
    "pycharm": {
     "is_executing": false,
     "name": "#%%\n"
    }
   },
   "outputs": [
    {
     "data": {
      "text/plain": [
       "array([0. , 0.1, 0.2, 0.3, 0.4, 0.5, 0.6, 0.7, 0.8, 0.9, 1. ])"
      ]
     },
     "execution_count": 7,
     "metadata": {},
     "output_type": "execute_result"
    }
   ],
   "source": [
    "np.linspace(0, 1, 11)"
   ]
  },
  {
   "cell_type": "markdown",
   "metadata": {},
   "source": [
    "## Problem: Calling Functions using Keyword Arguments\n",
    "\n",
    "Many functions have optional arguments. You can see these in a docstring since\n",
    "optional arguments take the form `variable=default`. For example, see\n",
    "the help for `scipy.special.comb`, which has the function signature\n",
    "\n",
    "```\n",
    "comb(N, k, exact=False, repetition=False)\n",
    "```\n",
    "\n",
    "This tells us that `N` and `k` are required and\n",
    "that the other 2 inputs can be omitted if you are happy with the defaults.\n",
    "However, if we want to change some of the optional inputs, then we can\n",
    "directly use the inputs name in the function call.\n",
    "\n",
    "Compute the number of distinct combinations of 5 objects from a set of 10."
   ]
  },
  {
   "cell_type": "code",
   "execution_count": 8,
   "metadata": {
    "execution": {
     "iopub.execute_input": "2025-08-27T07:32:14.975762Z",
     "iopub.status.busy": "2025-08-27T07:32:14.975762Z",
     "iopub.status.idle": "2025-08-27T07:32:14.980721Z",
     "shell.execute_reply": "2025-08-27T07:32:14.980721Z"
    },
    "pycharm": {
     "is_executing": false,
     "name": "#%%\n"
    }
   },
   "outputs": [
    {
     "data": {
      "text/plain": [
       "np.float64(252.0)"
      ]
     },
     "execution_count": 8,
     "metadata": {},
     "output_type": "execute_result"
    }
   ],
   "source": [
    "from scipy.special import comb\n",
    "\n",
    "comb(10, 5)"
   ]
  },
  {
   "cell_type": "markdown",
   "metadata": {
    "pycharm": {
     "name": "#%% md\n"
    }
   },
   "source": [
    "Compute the total number of combinations allowing for repetition \n",
    "using the `repetition=True` keyword argument."
   ]
  },
  {
   "cell_type": "code",
   "execution_count": 9,
   "metadata": {
    "execution": {
     "iopub.execute_input": "2025-08-27T07:32:14.980721Z",
     "iopub.status.busy": "2025-08-27T07:32:14.980721Z",
     "iopub.status.idle": "2025-08-27T07:32:14.985624Z",
     "shell.execute_reply": "2025-08-27T07:32:14.985624Z"
    },
    "pycharm": {
     "is_executing": false,
     "name": "#%%\n"
    }
   },
   "outputs": [
    {
     "data": {
      "text/plain": [
       "np.float64(2002.0)"
      ]
     },
     "execution_count": 9,
     "metadata": {},
     "output_type": "execute_result"
    }
   ],
   "source": [
    "comb(10, 5, repetition=True)"
   ]
  },
  {
   "cell_type": "markdown",
   "metadata": {
    "pycharm": {
     "name": "#%% md\n"
    }
   },
   "source": [
    "Compute the number of combinations using the keyword argument `exact=True`."
   ]
  },
  {
   "cell_type": "code",
   "execution_count": 10,
   "metadata": {
    "execution": {
     "iopub.execute_input": "2025-08-27T07:32:14.985624Z",
     "iopub.status.busy": "2025-08-27T07:32:14.985624Z",
     "iopub.status.idle": "2025-08-27T07:32:14.994188Z",
     "shell.execute_reply": "2025-08-27T07:32:14.994188Z"
    },
    "pycharm": {
     "is_executing": false,
     "name": "#%%\n"
    }
   },
   "outputs": [
    {
     "data": {
      "text/plain": [
       "252"
      ]
     },
     "execution_count": 10,
     "metadata": {},
     "output_type": "execute_result"
    }
   ],
   "source": [
    "comb(10, 5, exact=True)"
   ]
  },
  {
   "cell_type": "markdown",
   "metadata": {
    "pycharm": {
     "name": "#%% md\n"
    }
   },
   "source": [
    "## Problem: Function Help\n",
    "\n",
    "Explore the help available for calling functions `?` operator. For example,\n",
    "\n",
    "```python\n",
    "import scipy.stats as stats\n",
    "\n",
    "stats.kurtosis?\n",
    "```  \n",
    "\n",
    "opens a help window that shows the inputs and output, while\n",
    "\n",
    "```python\n",
    "help(stats.kurtosis)\n",
    "```\n",
    "\n",
    "shows the help in the console.\n",
    "\n",
    "**Note**: VS Code does **not** support the `?` form of help"
   ]
  },
  {
   "cell_type": "code",
   "execution_count": 11,
   "metadata": {
    "execution": {
     "iopub.execute_input": "2025-08-27T07:32:14.994188Z",
     "iopub.status.busy": "2025-08-27T07:32:14.994188Z",
     "iopub.status.idle": "2025-08-27T07:32:15.039017Z",
     "shell.execute_reply": "2025-08-27T07:32:15.039017Z"
    },
    "pycharm": {
     "is_executing": false
    }
   },
   "outputs": [],
   "source": [
    "# Opens the help in a special window\n",
    "?stats.kurtosis"
   ]
  },
  {
   "cell_type": "code",
   "execution_count": 12,
   "metadata": {
    "execution": {
     "iopub.execute_input": "2025-08-27T07:32:15.039017Z",
     "iopub.status.busy": "2025-08-27T07:32:15.039017Z",
     "iopub.status.idle": "2025-08-27T07:32:15.044195Z",
     "shell.execute_reply": "2025-08-27T07:32:15.044195Z"
    },
    "pycharm": {
     "is_executing": false
    }
   },
   "outputs": [
    {
     "name": "stdout",
     "output_type": "stream",
     "text": [
      "Help on function kurtosis in module scipy.stats._stats_py:\n",
      "\n",
      "kurtosis(a, axis=0, fisher=True, bias=True, nan_policy='propagate', *, keepdims=False)\n",
      "    Compute the kurtosis (Fisher or Pearson) of a dataset.\n",
      "\n",
      "    Kurtosis is the fourth central moment divided by the square of the\n",
      "    variance. If Fisher's definition is used, then 3.0 is subtracted from\n",
      "    the result to give 0.0 for a normal distribution.\n",
      "\n",
      "    If bias is False then the kurtosis is calculated using k statistics to\n",
      "    eliminate bias coming from biased moment estimators\n",
      "\n",
      "    Use `kurtosistest` to see if result is close enough to normal.\n",
      "\n",
      "    Parameters\n",
      "    ----------\n",
      "    a : array\n",
      "        Data for which the kurtosis is calculated.\n",
      "    axis : int or None, default: 0\n",
      "        If an int, the axis of the input along which to compute the statistic.\n",
      "        The statistic of each axis-slice (e.g. row) of the input will appear in a\n",
      "        corresponding element of the output.\n",
      "        If ``None``, the input will be raveled before computing the statistic.\n",
      "    fisher : bool, optional\n",
      "        If True, Fisher's definition is used (normal ==> 0.0). If False,\n",
      "        Pearson's definition is used (normal ==> 3.0).\n",
      "    bias : bool, optional\n",
      "        If False, then the calculations are corrected for statistical bias.\n",
      "    nan_policy : {'propagate', 'omit', 'raise'}\n",
      "        Defines how to handle input NaNs.\n",
      "\n",
      "        - ``propagate``: if a NaN is present in the axis slice (e.g. row) along\n",
      "          which the  statistic is computed, the corresponding entry of the output\n",
      "          will be NaN.\n",
      "        - ``omit``: NaNs will be omitted when performing the calculation.\n",
      "          If insufficient data remains in the axis slice along which the\n",
      "          statistic is computed, the corresponding entry of the output will be\n",
      "          NaN.\n",
      "        - ``raise``: if a NaN is present, a ``ValueError`` will be raised.\n",
      "    keepdims : bool, default: False\n",
      "        If this is set to True, the axes which are reduced are left\n",
      "        in the result as dimensions with size one. With this option,\n",
      "        the result will broadcast correctly against the input array.\n",
      "\n",
      "    Returns\n",
      "    -------\n",
      "    kurtosis : array\n",
      "        The kurtosis of values along an axis, returning NaN where all values\n",
      "        are equal.\n",
      "\n",
      "    Notes\n",
      "    -----\n",
      "    Beginning in SciPy 1.9, ``np.matrix`` inputs (not recommended for new\n",
      "    code) are converted to ``np.ndarray`` before the calculation is performed. In\n",
      "    this case, the output will be a scalar or ``np.ndarray`` of appropriate shape\n",
      "    rather than a 2D ``np.matrix``. Similarly, while masked elements of masked\n",
      "    arrays are ignored, the output will be a scalar or ``np.ndarray`` rather than a\n",
      "    masked array with ``mask=False``.\n",
      "\n",
      "    `kurtosis` has experimental support for Python Array API Standard compatible\n",
      "    backends in addition to NumPy. Please consider testing these features\n",
      "    by setting an environment variable ``SCIPY_ARRAY_API=1`` and providing\n",
      "    CuPy, PyTorch, JAX, or Dask arrays as array arguments. The following\n",
      "    combinations of backend and device (or other capability) are supported.\n",
      "\n",
      "    ====================  ====================  ====================\n",
      "    Library               CPU                   GPU\n",
      "    ====================  ====================  ====================\n",
      "    NumPy                 ✅                     n/a\n",
      "    CuPy                  n/a                   ✅\n",
      "    PyTorch               ✅                     ✅\n",
      "    JAX                   ⚠️ no JIT             ⚠️ no JIT\n",
      "    Dask                  ⚠️ computes graph     n/a\n",
      "    ====================  ====================  ====================\n",
      "\n",
      "    See :ref:`dev-arrayapi` for more information.\n",
      "\n",
      "\n",
      "    References\n",
      "    ----------\n",
      "    .. [1] Zwillinger, D. and Kokoska, S. (2000). CRC Standard\n",
      "       Probability and Statistics Tables and Formulae. Chapman & Hall: New\n",
      "       York. 2000.\n",
      "\n",
      "    Examples\n",
      "    --------\n",
      "    In Fisher's definition, the kurtosis of the normal distribution is zero.\n",
      "    In the following example, the kurtosis is close to zero, because it was\n",
      "    calculated from the dataset, not from the continuous distribution.\n",
      "\n",
      "    >>> import numpy as np\n",
      "    >>> from scipy.stats import norm, kurtosis\n",
      "    >>> data = norm.rvs(size=1000, random_state=3)\n",
      "    >>> kurtosis(data)\n",
      "    -0.06928694200380558\n",
      "\n",
      "    The distribution with a higher kurtosis has a heavier tail.\n",
      "    The zero valued kurtosis of the normal distribution in Fisher's definition\n",
      "    can serve as a reference point.\n",
      "\n",
      "    >>> import matplotlib.pyplot as plt\n",
      "    >>> import scipy.stats as stats\n",
      "    >>> from scipy.stats import kurtosis\n",
      "\n",
      "    >>> x = np.linspace(-5, 5, 100)\n",
      "    >>> ax = plt.subplot()\n",
      "    >>> distnames = ['laplace', 'norm', 'uniform']\n",
      "\n",
      "    >>> for distname in distnames:\n",
      "    ...     if distname == 'uniform':\n",
      "    ...         dist = getattr(stats, distname)(loc=-2, scale=4)\n",
      "    ...     else:\n",
      "    ...         dist = getattr(stats, distname)\n",
      "    ...     data = dist.rvs(size=1000)\n",
      "    ...     kur = kurtosis(data, fisher=True)\n",
      "    ...     y = dist.pdf(x)\n",
      "    ...     ax.plot(x, y, label=\"{}, {}\".format(distname, round(kur, 3)))\n",
      "    ...     ax.legend()\n",
      "\n",
      "    The Laplace distribution has a heavier tail than the normal distribution.\n",
      "    The uniform distribution (which has negative kurtosis) has the thinnest\n",
      "    tail.\n",
      "\n"
     ]
    }
   ],
   "source": [
    "help(stats.kurtosis)"
   ]
  },
  {
   "cell_type": "markdown",
   "metadata": {
    "pycharm": {
     "name": "#%% md\n"
    }
   },
   "source": [
    "## Problem: Use `help` with a method\n",
    "\n",
    "Use `help` to get the help for the `kurt` method attached to `momentum`."
   ]
  },
  {
   "cell_type": "code",
   "execution_count": 13,
   "metadata": {
    "execution": {
     "iopub.execute_input": "2025-08-27T07:32:15.044195Z",
     "iopub.status.busy": "2025-08-27T07:32:15.044195Z",
     "iopub.status.idle": "2025-08-27T07:32:15.048610Z",
     "shell.execute_reply": "2025-08-27T07:32:15.048610Z"
    },
    "pycharm": {
     "is_executing": false,
     "name": "#%%\n"
    }
   },
   "outputs": [
    {
     "name": "stdout",
     "output_type": "stream",
     "text": [
      "Help on method kurt in module pandas.core.frame:\n",
      "\n",
      "kurt(axis: 'Axis | None' = 0, skipna: 'bool' = True, numeric_only: 'bool' = False, **kwargs) method of pandas.core.frame.DataFrame instance\n",
      "    Return unbiased kurtosis over requested axis.\n",
      "\n",
      "    Kurtosis obtained using Fisher's definition of\n",
      "    kurtosis (kurtosis of normal == 0.0). Normalized by N-1.\n",
      "\n",
      "    Parameters\n",
      "    ----------\n",
      "    axis : {index (0), columns (1)}\n",
      "        Axis for the function to be applied on.\n",
      "        For `Series` this parameter is unused and defaults to 0.\n",
      "\n",
      "        For DataFrames, specifying ``axis=None`` will apply the aggregation\n",
      "        across both axes.\n",
      "\n",
      "        .. versionadded:: 2.0.0\n",
      "\n",
      "    skipna : bool, default True\n",
      "        Exclude NA/null values when computing the result.\n",
      "    numeric_only : bool, default False\n",
      "        Include only float, int, boolean columns. Not implemented for Series.\n",
      "\n",
      "    **kwargs\n",
      "        Additional keyword arguments to be passed to the function.\n",
      "\n",
      "    Returns\n",
      "    -------\n",
      "    Series or scalar\n",
      "\n",
      "                Examples\n",
      "                --------\n",
      "                >>> s = pd.Series([1, 2, 2, 3], index=['cat', 'dog', 'dog', 'mouse'])\n",
      "                >>> s\n",
      "                cat    1\n",
      "                dog    2\n",
      "                dog    2\n",
      "                mouse  3\n",
      "                dtype: int64\n",
      "                >>> s.kurt()\n",
      "                1.5\n",
      "\n",
      "                With a DataFrame\n",
      "\n",
      "                >>> df = pd.DataFrame({'a': [1, 2, 2, 3], 'b': [3, 4, 4, 4]},\n",
      "                ...                   index=['cat', 'dog', 'dog', 'mouse'])\n",
      "                >>> df\n",
      "                       a   b\n",
      "                  cat  1   3\n",
      "                  dog  2   4\n",
      "                  dog  2   4\n",
      "                mouse  3   4\n",
      "                >>> df.kurt()\n",
      "                a   1.5\n",
      "                b   4.0\n",
      "                dtype: float64\n",
      "\n",
      "                With axis=None\n",
      "\n",
      "                >>> df.kurt(axis=None).round(6)\n",
      "                -0.988693\n",
      "\n",
      "                Using axis=1\n",
      "\n",
      "                >>> df = pd.DataFrame({'a': [1, 2], 'b': [3, 4], 'c': [3, 4], 'd': [1, 2]},\n",
      "                ...                   index=['cat', 'dog'])\n",
      "                >>> df.kurt(axis=1)\n",
      "                cat   -6.0\n",
      "                dog   -6.0\n",
      "                dtype: float64\n",
      "\n"
     ]
    }
   ],
   "source": [
    "help(momentum.kurt)"
   ]
  },
  {
   "cell_type": "markdown",
   "metadata": {
    "pycharm": {
     "name": "#%% md\n"
    }
   },
   "source": [
    "## Exercises\n",
    "\n",
    "### Exercise: Use `info`\n",
    "\n",
    "Use the `info` method on `momentum` to get information about this `DataFrame`."
   ]
  },
  {
   "cell_type": "code",
   "execution_count": 14,
   "metadata": {
    "collapsed": false,
    "execution": {
     "iopub.execute_input": "2025-08-27T07:32:15.048610Z",
     "iopub.status.busy": "2025-08-27T07:32:15.048610Z",
     "iopub.status.idle": "2025-08-27T07:32:15.061679Z",
     "shell.execute_reply": "2025-08-27T07:32:15.061679Z"
    },
    "jupyter": {
     "outputs_hidden": false
    },
    "pycharm": {
     "is_executing": false,
     "name": "#%%\n"
    }
   },
   "outputs": [
    {
     "name": "stdout",
     "output_type": "stream",
     "text": [
      "<class 'pandas.core.frame.DataFrame'>\n",
      "DatetimeIndex: 503 entries, 2016-01-04 to 2017-12-29\n",
      "Data columns (total 10 columns):\n",
      " #   Column  Non-Null Count  Dtype  \n",
      "---  ------  --------------  -----  \n",
      " 0   mom_01  503 non-null    float64\n",
      " 1   mom_02  503 non-null    float64\n",
      " 2   mom_03  503 non-null    float64\n",
      " 3   mom_04  503 non-null    float64\n",
      " 4   mom_05  503 non-null    float64\n",
      " 5   mom_06  503 non-null    float64\n",
      " 6   mom_07  503 non-null    float64\n",
      " 7   mom_08  503 non-null    float64\n",
      " 8   mom_09  503 non-null    float64\n",
      " 9   mom_10  503 non-null    float64\n",
      "dtypes: float64(10)\n",
      "memory usage: 43.2 KB\n"
     ]
    }
   ],
   "source": [
    "momentum.info()"
   ]
  },
  {
   "cell_type": "markdown",
   "metadata": {
    "pycharm": {
     "name": "#%% md\n"
    }
   },
   "source": [
    "### Exercise: Compute the day-by-day mean\n",
    "\n",
    "Compute the day-by-day mean return of the portfolios in the momentum `DataFrame` using\n",
    "the `axis` keyword argument. Use `head` and `tail` to show\n",
    "the first 5 rows and last 5 rows "
   ]
  },
  {
   "cell_type": "code",
   "execution_count": 15,
   "metadata": {
    "collapsed": false,
    "execution": {
     "iopub.execute_input": "2025-08-27T07:32:15.061679Z",
     "iopub.status.busy": "2025-08-27T07:32:15.061679Z",
     "iopub.status.idle": "2025-08-27T07:32:15.068502Z",
     "shell.execute_reply": "2025-08-27T07:32:15.068502Z"
    },
    "jupyter": {
     "outputs_hidden": false
    },
    "pycharm": {
     "is_executing": false,
     "name": "#%%\n"
    }
   },
   "outputs": [
    {
     "data": {
      "text/plain": [
       "date\n",
       "2016-01-04   -1.239\n",
       "2016-01-05    0.054\n",
       "2016-01-06   -1.841\n",
       "2016-01-07   -2.636\n",
       "2016-01-08   -1.069\n",
       "dtype: float64"
      ]
     },
     "execution_count": 15,
     "metadata": {},
     "output_type": "execute_result"
    }
   ],
   "source": [
    "day_by_day = momentum.mean(axis=1)\n",
    "day_by_day.head()"
   ]
  },
  {
   "cell_type": "code",
   "execution_count": 16,
   "metadata": {
    "collapsed": false,
    "execution": {
     "iopub.execute_input": "2025-08-27T07:32:15.068502Z",
     "iopub.status.busy": "2025-08-27T07:32:15.068502Z",
     "iopub.status.idle": "2025-08-27T07:32:15.074574Z",
     "shell.execute_reply": "2025-08-27T07:32:15.074574Z"
    },
    "jupyter": {
     "outputs_hidden": false
    },
    "pycharm": {
     "is_executing": false,
     "name": "#%%\n"
    }
   },
   "outputs": [
    {
     "data": {
      "text/plain": [
       "date\n",
       "2017-12-22   -0.025\n",
       "2017-12-26    0.111\n",
       "2017-12-27   -0.069\n",
       "2017-12-28    0.218\n",
       "2017-12-29   -0.555\n",
       "dtype: float64"
      ]
     },
     "execution_count": 16,
     "metadata": {},
     "output_type": "execute_result"
    }
   ],
   "source": [
    "day_by_day.tail()"
   ]
  },
  {
   "cell_type": "markdown",
   "metadata": {
    "pycharm": {
     "name": "#%% md\n"
    }
   },
   "source": [
    "### Exercise: Compute the standard deviation of mean returns\n",
    "\n",
    "Compute the standard deviation of the mean returns by chaining methods."
   ]
  },
  {
   "cell_type": "code",
   "execution_count": 17,
   "metadata": {
    "collapsed": false,
    "execution": {
     "iopub.execute_input": "2025-08-27T07:32:15.074574Z",
     "iopub.status.busy": "2025-08-27T07:32:15.074574Z",
     "iopub.status.idle": "2025-08-27T07:32:15.079791Z",
     "shell.execute_reply": "2025-08-27T07:32:15.079791Z"
    },
    "jupyter": {
     "outputs_hidden": false
    },
    "pycharm": {
     "is_executing": false,
     "name": "#%%\n"
    }
   },
   "outputs": [
    {
     "data": {
      "text/plain": [
       "np.float64(0.019303560023756723)"
      ]
     },
     "execution_count": 17,
     "metadata": {},
     "output_type": "execute_result"
    }
   ],
   "source": [
    "momentum.mean().std()"
   ]
  },
  {
   "cell_type": "markdown",
   "metadata": {
    "pycharm": {
     "name": "#%% md\n"
    }
   },
   "source": [
    "### Exercise: Compute the average standard deviation\n",
    "\n",
    "Compute the mean standard deviation as:\n",
    "\n",
    "$$ \\sqrt{N^{-1} \\sum_{i=1}^N V[r_i]} $$\n",
    "\n",
    "where $V[r_i]$ is the variance of portfolio $i$."
   ]
  },
  {
   "cell_type": "code",
   "execution_count": 18,
   "metadata": {
    "collapsed": false,
    "execution": {
     "iopub.execute_input": "2025-08-27T07:32:15.079791Z",
     "iopub.status.busy": "2025-08-27T07:32:15.079791Z",
     "iopub.status.idle": "2025-08-27T07:32:15.085602Z",
     "shell.execute_reply": "2025-08-27T07:32:15.085602Z"
    },
    "jupyter": {
     "outputs_hidden": false
    },
    "pycharm": {
     "is_executing": false,
     "name": "#%%\n"
    },
    "tags": []
   },
   "outputs": [
    {
     "data": {
      "text/plain": [
       "np.float64(0.9702282548279757)"
      ]
     },
     "execution_count": 18,
     "metadata": {},
     "output_type": "execute_result"
    }
   ],
   "source": [
    "import numpy as np\n",
    "\n",
    "np.sqrt(momentum.var().mean())"
   ]
  }
 ],
 "metadata": {
  "file_extension": ".py",
  "kernelspec": {
   "display_name": "Python 3 (ipykernel)",
   "language": "python",
   "name": "python3"
  },
  "language_info": {
   "codemirror_mode": {
    "name": "ipython",
    "version": 3
   },
   "file_extension": ".py",
   "mimetype": "text/x-python",
   "name": "python",
   "nbconvert_exporter": "python",
   "pygments_lexer": "ipython3",
   "version": "3.12.11"
  },
  "mimetype": "text/x-python",
  "name": "python",
  "npconvert_exporter": "python",
  "pycharm": {
   "stem_cell": {
    "cell_type": "raw",
    "metadata": {
     "collapsed": false
    },
    "source": []
   }
  },
  "pygments_lexer": "ipython3",
  "version": 3
 },
 "nbformat": 4,
 "nbformat_minor": 4
}
