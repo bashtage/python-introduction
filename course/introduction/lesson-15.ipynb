{
 "cells": [
  {
   "cell_type": "markdown",
   "metadata": {},
   "source": [
    "# Boolean Arrays \n",
    "\n",
    "This lesson covers:\n",
    "\n",
    "* Creating Boolean arrays\n",
    "* Combining Boolean arrays\n",
    "* `all` and `any`\n",
    "\n",
    "Begin by loading the data in momentum.csv.\n"
   ]
  },
  {
   "cell_type": "code",
   "execution_count": null,
   "metadata": {
    "execution": {
     "iopub.execute_input": "2025-08-27T13:43:34.792598Z",
     "iopub.status.busy": "2025-08-27T13:43:34.792598Z",
     "iopub.status.idle": "2025-08-27T13:43:35.200709Z",
     "shell.execute_reply": "2025-08-27T13:43:35.200709Z"
    },
    "pycharm": {
     "name": "#%%\n"
    }
   },
   "outputs": [],
   "source": [
    "# Setup: Load the momentum data\n",
    "\n",
    "import numpy as np\n",
    "import pandas as pd\n",
    "\n",
    "momentum = pd.read_csv(\"data/momentum.csv\", index_col=\"date\", parse_dates=True)\n",
    "\n",
    "print(momentum.head())\n",
    "\n",
    "mom_01 = momentum[\"mom_01\"]\n",
    "mom_10 = momentum[\"mom_10\"]\n",
    "mom_05 = momentum[\"mom_05\"]"
   ]
  },
  {
   "cell_type": "markdown",
   "metadata": {},
   "source": [
    "## Problem: Boolean arrays\n",
    "For portfolios 1 and 10, determine whether each return is $<0$ (separately)."
   ]
  },
  {
   "cell_type": "code",
   "execution_count": null,
   "metadata": {
    "execution": {
     "iopub.execute_input": "2025-08-27T13:43:35.200709Z",
     "iopub.status.busy": "2025-08-27T13:43:35.200709Z",
     "iopub.status.idle": "2025-08-27T13:43:35.206384Z",
     "shell.execute_reply": "2025-08-27T13:43:35.206384Z"
    }
   },
   "outputs": [],
   "source": []
  },
  {
   "cell_type": "markdown",
   "metadata": {},
   "source": [
    "## Problem: Combining boolean arrays\n",
    "Count the number of times that the returns in both portfolio 1 and portfolio\n",
    "10 are negative. Next count the number of times that the returns in portfolios\n",
    "1 and 10 are both greater, in absolute value, that 2 times their respective\n",
    "standard deviations. "
   ]
  },
  {
   "cell_type": "code",
   "execution_count": null,
   "metadata": {
    "execution": {
     "iopub.execute_input": "2025-08-27T13:43:35.206384Z",
     "iopub.status.busy": "2025-08-27T13:43:35.206384Z",
     "iopub.status.idle": "2025-08-27T13:43:35.212433Z",
     "shell.execute_reply": "2025-08-27T13:43:35.212433Z"
    }
   },
   "outputs": [],
   "source": []
  },
  {
   "cell_type": "code",
   "execution_count": null,
   "metadata": {
    "execution": {
     "iopub.execute_input": "2025-08-27T13:43:35.212433Z",
     "iopub.status.busy": "2025-08-27T13:43:35.212433Z",
     "iopub.status.idle": "2025-08-27T13:43:35.218302Z",
     "shell.execute_reply": "2025-08-27T13:43:35.218302Z"
    }
   },
   "outputs": [],
   "source": []
  },
  {
   "cell_type": "markdown",
   "metadata": {},
   "source": [
    "## Problem: Combining boolean arrays\n",
    "For portfolios 1 and 10, count the number of times either of the returns is $<0$.\n"
   ]
  },
  {
   "cell_type": "code",
   "execution_count": null,
   "metadata": {
    "execution": {
     "iopub.execute_input": "2025-08-27T13:43:35.219814Z",
     "iopub.status.busy": "2025-08-27T13:43:35.219814Z",
     "iopub.status.idle": "2025-08-27T13:43:35.223942Z",
     "shell.execute_reply": "2025-08-27T13:43:35.223942Z"
    }
   },
   "outputs": [],
   "source": []
  },
  {
   "cell_type": "markdown",
   "metadata": {},
   "source": [
    "## Problem: Count the frequency of negative returns\n",
    "\n",
    "What percent of returns are negative for each of the 10 momentum portfolios?"
   ]
  },
  {
   "cell_type": "code",
   "execution_count": null,
   "metadata": {
    "execution": {
     "iopub.execute_input": "2025-08-27T13:43:35.223942Z",
     "iopub.status.busy": "2025-08-27T13:43:35.223942Z",
     "iopub.status.idle": "2025-08-27T13:43:35.233286Z",
     "shell.execute_reply": "2025-08-27T13:43:35.233286Z"
    }
   },
   "outputs": [],
   "source": []
  },
  {
   "cell_type": "markdown",
   "metadata": {},
   "source": [
    "## Problem: Use `any` to find large losses\n",
    "\n",
    "Use any to determine if any of the 10 portfolios experienced a loss\n",
    "greater than -5%."
   ]
  },
  {
   "cell_type": "code",
   "execution_count": null,
   "metadata": {
    "execution": {
     "iopub.execute_input": "2025-08-27T13:43:35.235800Z",
     "iopub.status.busy": "2025-08-27T13:43:35.235800Z",
     "iopub.status.idle": "2025-08-27T13:43:35.240304Z",
     "shell.execute_reply": "2025-08-27T13:43:35.240304Z"
    }
   },
   "outputs": [],
   "source": []
  },
  {
   "cell_type": "code",
   "execution_count": null,
   "metadata": {
    "execution": {
     "iopub.execute_input": "2025-08-27T13:43:35.240304Z",
     "iopub.status.busy": "2025-08-27T13:43:35.240304Z",
     "iopub.status.idle": "2025-08-27T13:43:35.247248Z",
     "shell.execute_reply": "2025-08-27T13:43:35.247248Z"
    }
   },
   "outputs": [],
   "source": []
  },
  {
   "cell_type": "code",
   "execution_count": null,
   "metadata": {
    "execution": {
     "iopub.execute_input": "2025-08-27T13:43:35.247248Z",
     "iopub.status.busy": "2025-08-27T13:43:35.247248Z",
     "iopub.status.idle": "2025-08-27T13:43:35.253763Z",
     "shell.execute_reply": "2025-08-27T13:43:35.253763Z"
    }
   },
   "outputs": [],
   "source": []
  },
  {
   "cell_type": "markdown",
   "metadata": {},
   "source": [
    "Use `all` and negation to do the same check as `any`."
   ]
  },
  {
   "cell_type": "code",
   "execution_count": null,
   "metadata": {
    "execution": {
     "iopub.execute_input": "2025-08-27T13:43:35.253763Z",
     "iopub.status.busy": "2025-08-27T13:43:35.253763Z",
     "iopub.status.idle": "2025-08-27T13:43:35.260903Z",
     "shell.execute_reply": "2025-08-27T13:43:35.260903Z"
    }
   },
   "outputs": [],
   "source": []
  },
  {
   "cell_type": "markdown",
   "metadata": {},
   "source": [
    "## Exercises\n",
    "\n",
    "### Exercise: all and any\n",
    "Use `all` and `sum` to count the number of days where all of the portfolio returns\n",
    "were negative. Use `any` to compute the number of days with at least 1 negative\n",
    "return and with no negative returns (Hint: use negation (~ or `logical_not`)). "
   ]
  },
  {
   "cell_type": "code",
   "execution_count": null,
   "metadata": {
    "execution": {
     "iopub.execute_input": "2025-08-27T13:43:35.260903Z",
     "iopub.status.busy": "2025-08-27T13:43:35.260903Z",
     "iopub.status.idle": "2025-08-27T13:43:35.269098Z",
     "shell.execute_reply": "2025-08-27T13:43:35.269098Z"
    }
   },
   "outputs": [],
   "source": []
  },
  {
   "cell_type": "code",
   "execution_count": null,
   "metadata": {
    "execution": {
     "iopub.execute_input": "2025-08-27T13:43:35.269098Z",
     "iopub.status.busy": "2025-08-27T13:43:35.269098Z",
     "iopub.status.idle": "2025-08-27T13:43:35.276300Z",
     "shell.execute_reply": "2025-08-27T13:43:35.276300Z"
    }
   },
   "outputs": [],
   "source": []
  },
  {
   "cell_type": "code",
   "execution_count": null,
   "metadata": {
    "execution": {
     "iopub.execute_input": "2025-08-27T13:43:35.276300Z",
     "iopub.status.busy": "2025-08-27T13:43:35.276300Z",
     "iopub.status.idle": "2025-08-27T13:43:35.283362Z",
     "shell.execute_reply": "2025-08-27T13:43:35.283362Z"
    }
   },
   "outputs": [],
   "source": []
  },
  {
   "cell_type": "markdown",
   "metadata": {
    "pycharm": {
     "name": "#%% md\n"
    }
   },
   "source": [
    "### Exercise: Count Extreme Days\n",
    "\n",
    "Count the number of days where each of the portfolio returns is less than the \n",
    "5% quantile for the portfolio. Also report the fraction of days where all are in their\n",
    "lower 5% tail."
   ]
  },
  {
   "cell_type": "code",
   "execution_count": null,
   "metadata": {
    "execution": {
     "iopub.execute_input": "2025-08-27T13:43:35.283362Z",
     "iopub.status.busy": "2025-08-27T13:43:35.283362Z",
     "iopub.status.idle": "2025-08-27T13:43:35.296130Z",
     "shell.execute_reply": "2025-08-27T13:43:35.296130Z"
    }
   },
   "outputs": [],
   "source": []
  },
  {
   "cell_type": "code",
   "execution_count": null,
   "metadata": {
    "execution": {
     "iopub.execute_input": "2025-08-27T13:43:35.296130Z",
     "iopub.status.busy": "2025-08-27T13:43:35.296130Z",
     "iopub.status.idle": "2025-08-27T13:43:35.302357Z",
     "shell.execute_reply": "2025-08-27T13:43:35.302357Z"
    },
    "tags": []
   },
   "outputs": [],
   "source": []
  }
 ],
 "metadata": {
  "kernelspec": {
   "display_name": "Python 3 (ipykernel)",
   "language": "python",
   "name": "python3"
  },
  "language_info": {
   "codemirror_mode": {
    "name": "ipython",
    "version": 3
   },
   "file_extension": ".py",
   "mimetype": "text/x-python",
   "name": "python",
   "nbconvert_exporter": "python",
   "pygments_lexer": "ipython3",
   "version": "3.12.11"
  },
  "pycharm": {
   "stem_cell": {
    "cell_type": "raw",
    "metadata": {
     "collapsed": false
    },
    "source": []
   }
  }
 },
 "nbformat": 4,
 "nbformat_minor": 4
}
