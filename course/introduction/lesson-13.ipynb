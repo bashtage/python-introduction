{
 "cells": [
  {
   "cell_type": "markdown",
   "metadata": {},
   "source": [
    "# `for` Loops\n",
    "\n",
    "This lesson covers:\n",
    "\n",
    "* for loops \n",
    "* Nested loops \n",
    "\n"
   ]
  },
  {
   "cell_type": "markdown",
   "metadata": {},
   "source": [
    "## Problem: Basic For Loops\n",
    "\n",
    "Construct a for loop to sum the numbers between 1 and N for any N. A for loop\n",
    "that does nothing can be written:\n",
    "\n",
    "```python\n",
    "n = 10\n",
    "for i in range(n):\n",
    "    pass\n",
    "```\n"
   ]
  },
  {
   "cell_type": "code",
   "execution_count": null,
   "metadata": {
    "execution": {
     "iopub.execute_input": "2025-08-27T13:43:28.108238Z",
     "iopub.status.busy": "2025-08-27T13:43:28.108238Z",
     "iopub.status.idle": "2025-08-27T13:43:28.117008Z",
     "shell.execute_reply": "2025-08-27T13:43:28.117008Z"
    }
   },
   "outputs": [],
   "source": []
  },
  {
   "cell_type": "markdown",
   "metadata": {},
   "source": [
    "## Problem: Compute a compound return\n",
    "The compound return on a bond that pays interest annually at rate r is given\n",
    "by $cr_{t}=\\prod_{i=1}^{T}(1+r)=(1+r)^{T}$. Use a for loop compute the total\n",
    "return for £100 invested today for $1,2,\\ldots,10$ years. Store this variable\n",
    "in a 10 by 1 vector cr. \n"
   ]
  },
  {
   "cell_type": "code",
   "execution_count": null,
   "metadata": {
    "execution": {
     "iopub.execute_input": "2025-08-27T13:43:28.117008Z",
     "iopub.status.busy": "2025-08-27T13:43:28.117008Z",
     "iopub.status.idle": "2025-08-27T13:43:28.189324Z",
     "shell.execute_reply": "2025-08-27T13:43:28.189324Z"
    }
   },
   "outputs": [],
   "source": []
  },
  {
   "cell_type": "markdown",
   "metadata": {},
   "source": [
    "## Problem: Simulate a random walk\n",
    "\n",
    "(Pseudo) Normal random variables can be simulated using the command\n",
    "`np.random.standard_normal(shape)` where `shape` is a tuple (or a scalar)\n",
    "containing the dimensions of the desired random numbers. Simulate 100 normals\n",
    "in a 100 by 1 vector and name the result `e`. Initialize a vector `p`\n",
    "containing zeros using the function zeros. Add the 1st element of `e` to the\n",
    "first element of `p`. Use a for loop to simulate a process\n",
    "$y_{i}=y_{i-1}+e_{i}$. When finished plot the results using\n",
    "\n",
    "```python\n",
    "import matplotlib.pyplot as plt\n",
    "plt.rc('figure', figsize=(16,6))\n",
    "\n",
    "plt.plot(y)\n",
    "```\n"
   ]
  },
  {
   "cell_type": "code",
   "execution_count": null,
   "metadata": {
    "execution": {
     "iopub.execute_input": "2025-08-27T13:43:28.189324Z",
     "iopub.status.busy": "2025-08-27T13:43:28.189324Z",
     "iopub.status.idle": "2025-08-27T13:43:28.204055Z",
     "shell.execute_reply": "2025-08-27T13:43:28.204055Z"
    }
   },
   "outputs": [],
   "source": []
  },
  {
   "cell_type": "code",
   "execution_count": null,
   "metadata": {
    "execution": {
     "iopub.execute_input": "2025-08-27T13:43:28.204055Z",
     "iopub.status.busy": "2025-08-27T13:43:28.204055Z",
     "iopub.status.idle": "2025-08-27T13:43:28.816840Z",
     "shell.execute_reply": "2025-08-27T13:43:28.816840Z"
    }
   },
   "outputs": [],
   "source": []
  },
  {
   "cell_type": "markdown",
   "metadata": {},
   "source": [
    "## Problem: Nested Loops\n",
    "\n",
    "Begin by loading momentum data used in an earlier lesson. Compute a\n",
    "22-day moving-window standard deviation for each of the columns. Store\n",
    "the value at the end of the window.\n",
    "\n",
    "When finished, make sure that `std_dev` is a `DataFrame` and \n",
    "plot the annualized percentage standard deviations using:\n",
    "\n",
    "```python\n",
    "ann_std_dev = 100 * np.sqrt(252) * std_dev\n",
    "ann_std_dev.plot()\n",
    "```  "
   ]
  },
  {
   "cell_type": "code",
   "execution_count": null,
   "metadata": {
    "execution": {
     "iopub.execute_input": "2025-08-27T13:43:28.816840Z",
     "iopub.status.busy": "2025-08-27T13:43:28.816840Z",
     "iopub.status.idle": "2025-08-27T13:43:29.084471Z",
     "shell.execute_reply": "2025-08-27T13:43:29.084471Z"
    },
    "pycharm": {
     "is_executing": false
    }
   },
   "outputs": [],
   "source": [
    "# Setup: Load the momentum data\n",
    "\n",
    "import pandas as pd\n",
    "\n",
    "momentum = pd.read_csv(\"data/momentum.csv\", index_col=\"date\", parse_dates=True)\n",
    "momentum = momentum / 100  # Convert to numeric values from percentages"
   ]
  },
  {
   "cell_type": "code",
   "execution_count": null,
   "metadata": {
    "execution": {
     "iopub.execute_input": "2025-08-27T13:43:29.084471Z",
     "iopub.status.busy": "2025-08-27T13:43:29.084471Z",
     "iopub.status.idle": "2025-08-27T13:43:29.916116Z",
     "shell.execute_reply": "2025-08-27T13:43:29.916116Z"
    }
   },
   "outputs": [],
   "source": []
  },
  {
   "cell_type": "code",
   "execution_count": null,
   "metadata": {
    "execution": {
     "iopub.execute_input": "2025-08-27T13:43:29.917129Z",
     "iopub.status.busy": "2025-08-27T13:43:29.917129Z",
     "iopub.status.idle": "2025-08-27T13:43:30.259608Z",
     "shell.execute_reply": "2025-08-27T13:43:30.259608Z"
    }
   },
   "outputs": [],
   "source": []
  },
  {
   "cell_type": "code",
   "execution_count": null,
   "metadata": {
    "execution": {
     "iopub.execute_input": "2025-08-27T13:43:30.259608Z",
     "iopub.status.busy": "2025-08-27T13:43:30.259608Z",
     "iopub.status.idle": "2025-08-27T13:43:30.501036Z",
     "shell.execute_reply": "2025-08-27T13:43:30.501036Z"
    }
   },
   "outputs": [],
   "source": []
  },
  {
   "cell_type": "markdown",
   "metadata": {},
   "source": [
    "## Exercises\n",
    "\n",
    "### Exercise\n",
    "1. Simulate a 1000 by 10 matrix consisting of 10 standard random walks using\n",
    "   both nested loops and `np.cumsum`. \n",
    "2. Plot the results. \n",
    "\n",
    "**Question to think about**\n",
    "\n",
    "If you rerun the code in this Exercise, do the results change? Why? \n",
    "\n",
    "\n",
    "### Exercise: Compute Drawdowns\n",
    "\n",
    "Using the momentum data, compute the maximum drawdown over all\n",
    "22-day consecutive periods defined as the smallest cumulative \n",
    "produce of the gross return (1+r) for 1, 2, .., 22 days.\n",
    "\n",
    "Finally, compute the mean drawdown for each of the portfolios."
   ]
  },
  {
   "cell_type": "code",
   "execution_count": null,
   "metadata": {
    "execution": {
     "iopub.execute_input": "2025-08-27T13:43:30.503547Z",
     "iopub.status.busy": "2025-08-27T13:43:30.503547Z",
     "iopub.status.idle": "2025-08-27T13:43:30.624337Z",
     "shell.execute_reply": "2025-08-27T13:43:30.624337Z"
    },
    "jupyter": {
     "outputs_hidden": false
    },
    "tags": []
   },
   "outputs": [],
   "source": []
  }
 ],
 "metadata": {
  "kernelspec": {
   "display_name": "Python 3 (ipykernel)",
   "language": "python",
   "name": "python3"
  },
  "language_info": {
   "codemirror_mode": {
    "name": "ipython",
    "version": 3
   },
   "file_extension": ".py",
   "mimetype": "text/x-python",
   "name": "python",
   "nbconvert_exporter": "python",
   "pygments_lexer": "ipython3",
   "version": "3.12.11"
  },
  "pycharm": {
   "stem_cell": {
    "cell_type": "raw",
    "metadata": {
     "collapsed": false
    },
    "source": []
   }
  }
 },
 "nbformat": 4,
 "nbformat_minor": 4
}
