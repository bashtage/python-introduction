{
 "cells": [
  {
   "cell_type": "markdown",
   "metadata": {},
   "source": [
    "## Regression: Tree-based Methods\n",
    "\n",
    "\n",
    "**Functions**\n",
    "\n",
    "`sklearn.ensemble.RandomForestRegressor`, `sklearn.model_selection.GridSearchCV`, `sklearn.ensemble.GradientBoostingRegressor`"
   ]
  },
  {
   "cell_type": "code",
   "execution_count": null,
   "metadata": {
    "execution": {
     "iopub.execute_input": "2021-09-22T10:07:24.839902Z",
     "iopub.status.busy": "2021-09-22T10:07:24.838900Z",
     "iopub.status.idle": "2021-09-22T10:07:26.470902Z",
     "shell.execute_reply": "2021-09-22T10:07:26.470902Z"
    }
   },
   "outputs": [],
   "source": []
  },
  {
   "cell_type": "markdown",
   "metadata": {},
   "source": [
    "### Exercise 59\n",
    "\n",
    "Load the portfolio tracking data and compute the in- and out-of-sample SSE for OLS."
   ]
  },
  {
   "cell_type": "code",
   "execution_count": null,
   "metadata": {
    "execution": {
     "iopub.execute_input": "2021-09-22T10:07:26.474900Z",
     "iopub.status.busy": "2021-09-22T10:07:26.474900Z",
     "iopub.status.idle": "2021-09-22T10:07:26.517902Z",
     "shell.execute_reply": "2021-09-22T10:07:26.517902Z"
    }
   },
   "outputs": [],
   "source": []
  },
  {
   "cell_type": "markdown",
   "metadata": {},
   "source": [
    "### Exercise 60\n",
    "\n",
    "Fit a default Random Forest in a reproducible manner to the portfolio tracking data and compute the in- and out-of-sample SSE.\n",
    "\n",
    "**Warning**: This exercise is simply an example of how to use these methods. In general tree-based models are terrible choices for tracking portfolio construction since the final model is not a weighted combination of the returns, but instead depends on non-linear transformation of the returns. This makes implementation of a tree-based estimator virtually impossible. "
   ]
  },
  {
   "cell_type": "code",
   "execution_count": null,
   "metadata": {
    "execution": {
     "iopub.execute_input": "2021-09-22T10:07:26.591758Z",
     "iopub.status.busy": "2021-09-22T10:07:26.567758Z",
     "iopub.status.idle": "2021-09-22T10:07:26.706759Z",
     "shell.execute_reply": "2021-09-22T10:07:26.706759Z"
    }
   },
   "outputs": [],
   "source": []
  },
  {
   "cell_type": "markdown",
   "metadata": {},
   "source": [
    "### Exercise 61\n",
    "\n",
    "Optimize the key tuning parameters of the Random Forest using cross-validation and compute the out-of-sample SSE of the preferred model."
   ]
  },
  {
   "cell_type": "code",
   "execution_count": null,
   "metadata": {
    "execution": {
     "iopub.execute_input": "2021-09-22T10:07:26.726757Z",
     "iopub.status.busy": "2021-09-22T10:07:26.726757Z",
     "iopub.status.idle": "2021-09-22T10:07:39.517279Z",
     "shell.execute_reply": "2021-09-22T10:07:39.517279Z"
    }
   },
   "outputs": [],
   "source": []
  },
  {
   "cell_type": "markdown",
   "metadata": {},
   "source": [
    "### Exercise 62\n",
    "\n",
    "Boosting is often a better alternative to Random Forests sine it limits tree depth, and in turn, variable interactions. Fit a default boosted regression tree to the portfolio tracking data, and compute the out-of-sample SSE."
   ]
  },
  {
   "cell_type": "code",
   "execution_count": null,
   "metadata": {
    "execution": {
     "iopub.execute_input": "2021-09-22T10:07:40.261826Z",
     "iopub.status.busy": "2021-09-22T10:07:40.261826Z",
     "iopub.status.idle": "2021-09-22T10:07:40.368828Z",
     "shell.execute_reply": "2021-09-22T10:07:40.368828Z"
    }
   },
   "outputs": [],
   "source": []
  },
  {
   "cell_type": "markdown",
   "metadata": {},
   "source": [
    "### Exercise 63\n",
    "\n",
    "Optimize the key parameters of the boosted regression tree using cross-validation."
   ]
  },
  {
   "cell_type": "code",
   "execution_count": null,
   "metadata": {
    "execution": {
     "iopub.execute_input": "2021-09-22T10:07:40.372830Z",
     "iopub.status.busy": "2021-09-22T10:07:40.372830Z",
     "iopub.status.idle": "2021-09-22T10:09:38.972363Z",
     "shell.execute_reply": "2021-09-22T10:09:38.972363Z"
    }
   },
   "outputs": [],
   "source": []
  },
  {
   "cell_type": "markdown",
   "metadata": {},
   "source": [
    "### Exercise 64\n",
    "\n",
    "Compute the out-of-sample SSE for the selected boosted regression tree."
   ]
  },
  {
   "cell_type": "code",
   "execution_count": null,
   "metadata": {
    "execution": {
     "iopub.execute_input": "2021-09-22T10:09:45.807365Z",
     "iopub.status.busy": "2021-09-22T10:09:45.801362Z",
     "iopub.status.idle": "2021-09-22T10:09:45.814365Z",
     "shell.execute_reply": "2021-09-22T10:09:45.814365Z"
    }
   },
   "outputs": [],
   "source": []
  }
 ],
 "metadata": {
  "kernelspec": {
   "display_name": "Python 3 (ipykernel)",
   "language": "python",
   "name": "python3"
  },
  "language_info": {
   "codemirror_mode": {
    "name": "ipython",
    "version": 3
   },
   "file_extension": ".py",
   "mimetype": "text/x-python",
   "name": "python",
   "nbconvert_exporter": "python",
   "pygments_lexer": "ipython3",
   "version": "3.12.11"
  }
 },
 "nbformat": 4,
 "nbformat_minor": 4
}
