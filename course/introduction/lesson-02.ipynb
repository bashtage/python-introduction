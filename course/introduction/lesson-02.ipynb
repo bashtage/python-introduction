{
 "cells": [
  {
   "cell_type": "markdown",
   "metadata": {},
   "source": [
    "# Basic Python Types\n",
    "\n",
    "This lesson covers:\n",
    "\n",
    "* Inputting scalars and strings\n",
    "* Lists\n",
    "* Tuples\n",
    "* Dictionaries\n",
    "\n",
    "## Course Structure\n",
    "\n",
    "### Problems\n",
    "\n",
    "Problems are explicitly explained and answered in the online course videos.\n",
    "\n",
    "### Exercises\n",
    "\n",
    "Exercises are not covered, and are left as additional problems for you to attempt after watching a lesson and going through the problems.  Solutions for the exercises _are_ available in the solutions folder.\n",
    "\n",
    "### Final Exam\n",
    "\n",
    "When you have completed the course, or if you have a reasonable background in Python, you can attempt the final exam. Ideally you should do this without looking at the solutions.  If you can complete the final exam, then you are prepared the remainder of the course."
   ]
  },
  {
   "cell_type": "markdown",
   "metadata": {},
   "source": [
    "## Problem: Input scalar floating point and integers\n",
    "\n",
    "1. Create a variable called `scalar_float` containing $\\pi$ to 4 digits.\n",
    "2. Create a variable called `scalar_int` containing 31415. \n",
    "3. Print each value using the `print` function.   "
   ]
  },
  {
   "cell_type": "code",
   "execution_count": null,
   "metadata": {
    "execution": {
     "iopub.execute_input": "2025-08-27T07:31:59.437809Z",
     "iopub.status.busy": "2025-08-27T07:31:59.437809Z",
     "iopub.status.idle": "2025-08-27T07:31:59.442871Z",
     "shell.execute_reply": "2025-08-27T07:31:59.442871Z"
    },
    "jupyter": {
     "outputs_hidden": false
    }
   },
   "outputs": [],
   "source": []
  },
  {
   "cell_type": "markdown",
   "metadata": {},
   "source": [
    "## Problem: Create a string and an f-string\n",
    "\n",
    "1. Create a variable called `a_string` containing `This is a string`\n",
    "2. Create a f-string the prints `The value of scalar_float is 3.1415` using\n",
    "   the variable created in the previous step\n",
    "3. Create two string, `first` containing `String concatenation` and the\n",
    "   second containing ` is like addition`, and join the two using `+` to produce\n",
    "   `String concatenation is like addition`. "
   ]
  },
  {
   "cell_type": "code",
   "execution_count": null,
   "metadata": {
    "execution": {
     "iopub.execute_input": "2025-08-27T07:31:59.496479Z",
     "iopub.status.busy": "2025-08-27T07:31:59.496479Z",
     "iopub.status.idle": "2025-08-27T07:31:59.502814Z",
     "shell.execute_reply": "2025-08-27T07:31:59.502303Z"
    },
    "jupyter": {
     "outputs_hidden": false
    }
   },
   "outputs": [],
   "source": []
  },
  {
   "cell_type": "markdown",
   "metadata": {},
   "source": [
    "## Problem: Create a list\n",
    "\n",
    "1. Create a list containing `scalar_float` and `scalar_int`\n",
    "2. Add `a_string` to the list.\n",
    "3. Select the second element from the list \n",
    "4. Select the the lst two elements of the list"
   ]
  },
  {
   "cell_type": "code",
   "execution_count": null,
   "metadata": {
    "execution": {
     "iopub.execute_input": "2025-08-27T07:31:59.504825Z",
     "iopub.status.busy": "2025-08-27T07:31:59.504825Z",
     "iopub.status.idle": "2025-08-27T07:31:59.508926Z",
     "shell.execute_reply": "2025-08-27T07:31:59.508926Z"
    },
    "jupyter": {
     "outputs_hidden": false
    }
   },
   "outputs": [],
   "source": []
  },
  {
   "cell_type": "markdown",
   "metadata": {},
   "source": [
    "## Problem: Create a list of lists\n",
    "\n",
    "1. Create a list containing the two lists `[1, 2, 3]` and `[4, 5, 6]`\n",
    "2. Select the element 5 from the nested list"
   ]
  },
  {
   "cell_type": "code",
   "execution_count": null,
   "metadata": {
    "execution": {
     "iopub.execute_input": "2025-08-27T07:31:59.511935Z",
     "iopub.status.busy": "2025-08-27T07:31:59.511935Z",
     "iopub.status.idle": "2025-08-27T07:31:59.515934Z",
     "shell.execute_reply": "2025-08-27T07:31:59.515934Z"
    },
    "jupyter": {
     "outputs_hidden": false
    }
   },
   "outputs": [],
   "source": []
  },
  {
   "cell_type": "markdown",
   "metadata": {
    "pycharm": {
     "name": "#%% md\n"
    }
   },
   "source": [
    "## Problem: Create a tuple\n",
    "\n",
    "1. Create a tuple containing the values (1, 2.0, \"c\")\n",
    "2. Select the element \"c\" from the tuple"
   ]
  },
  {
   "cell_type": "code",
   "execution_count": null,
   "metadata": {
    "execution": {
     "iopub.execute_input": "2025-08-27T07:31:59.518188Z",
     "iopub.status.busy": "2025-08-27T07:31:59.518188Z",
     "iopub.status.idle": "2025-08-27T07:31:59.522697Z",
     "shell.execute_reply": "2025-08-27T07:31:59.522187Z"
    },
    "jupyter": {
     "outputs_hidden": false
    }
   },
   "outputs": [],
   "source": []
  },
  {
   "cell_type": "markdown",
   "metadata": {},
   "source": [
    "## Problem: Convert a list to a tuple and back\n",
    "\n",
    "1. Convert the list-of-lists created to a tuple-of-tuples\n",
    "2. Convert the tuple-of-tuples back to a list of lists"
   ]
  },
  {
   "cell_type": "code",
   "execution_count": null,
   "metadata": {
    "execution": {
     "iopub.execute_input": "2025-08-27T07:31:59.524706Z",
     "iopub.status.busy": "2025-08-27T07:31:59.523705Z",
     "iopub.status.idle": "2025-08-27T07:31:59.527576Z",
     "shell.execute_reply": "2025-08-27T07:31:59.527576Z"
    },
    "jupyter": {
     "outputs_hidden": false
    }
   },
   "outputs": [],
   "source": []
  },
  {
   "cell_type": "markdown",
   "metadata": {},
   "source": [
    "## Problem: Create a dictionary\n",
    "\n",
    "1. Create a dictionary containing the key-value pairs `\"float\"` and 3.1415,\n",
    "   `\"int\"` and 31415, and `\"string\"` and `\"three-point-one-four-one-five\"`."
   ]
  },
  {
   "cell_type": "code",
   "execution_count": null,
   "metadata": {
    "execution": {
     "iopub.execute_input": "2025-08-27T07:31:59.530587Z",
     "iopub.status.busy": "2025-08-27T07:31:59.530587Z",
     "iopub.status.idle": "2025-08-27T07:31:59.533950Z",
     "shell.execute_reply": "2025-08-27T07:31:59.533950Z"
    },
    "jupyter": {
     "outputs_hidden": false
    }
   },
   "outputs": [],
   "source": []
  },
  {
   "cell_type": "markdown",
   "metadata": {},
   "source": [
    "## Problem: Lookup and Change a value\n",
    "\n",
    "1. Look up the value of `\"float\"`.\n",
    "2. Change the value of `\"float\"` to `22 / 7`."
   ]
  },
  {
   "cell_type": "code",
   "execution_count": null,
   "metadata": {
    "execution": {
     "iopub.execute_input": "2025-08-27T07:31:59.535961Z",
     "iopub.status.busy": "2025-08-27T07:31:59.535961Z",
     "iopub.status.idle": "2025-08-27T07:31:59.540470Z",
     "shell.execute_reply": "2025-08-27T07:31:59.539959Z"
    },
    "jupyter": {
     "outputs_hidden": false
    }
   },
   "outputs": [],
   "source": []
  },
  {
   "cell_type": "markdown",
   "metadata": {},
   "source": [
    "## Problem: Add and remove a key \n",
    "\n",
    "1. Add the new key \"better_float\" with the value 3.141592.\n",
    "2. Remove the key \"float\" and its value."
   ]
  },
  {
   "cell_type": "code",
   "execution_count": null,
   "metadata": {
    "execution": {
     "iopub.execute_input": "2025-08-27T07:31:59.541479Z",
     "iopub.status.busy": "2025-08-27T07:31:59.541479Z",
     "iopub.status.idle": "2025-08-27T07:31:59.545991Z",
     "shell.execute_reply": "2025-08-27T07:31:59.545481Z"
    },
    "jupyter": {
     "outputs_hidden": false
    }
   },
   "outputs": [],
   "source": []
  },
  {
   "cell_type": "markdown",
   "metadata": {
    "pycharm": {
     "name": "#%% md\n"
    }
   },
   "source": [
    "## Exercises\n",
    "\n",
    "### Exercise: Manipulating lists\n",
    "\n",
    "1. Create an empty list called `lst`\n",
    "2. Add the elements `9`, `\"Eight\"` and `7.0` (in order) to the list.\n",
    "3. Extend the list with the list `[\"Six\", 5, 4.0]` using `extend`\n",
    "4. Select first 4 elements of `lst`\n",
    "5. Select last 3 elements of `lst`\n"
   ]
  },
  {
   "cell_type": "code",
   "execution_count": null,
   "metadata": {
    "execution": {
     "iopub.execute_input": "2025-08-27T07:31:59.548001Z",
     "iopub.status.busy": "2025-08-27T07:31:59.548001Z",
     "iopub.status.idle": "2025-08-27T07:31:59.554973Z",
     "shell.execute_reply": "2025-08-27T07:31:59.553962Z"
    },
    "jupyter": {
     "outputs_hidden": false
    }
   },
   "outputs": [],
   "source": []
  },
  {
   "cell_type": "code",
   "execution_count": null,
   "metadata": {
    "execution": {
     "iopub.execute_input": "2025-08-27T07:31:59.556975Z",
     "iopub.status.busy": "2025-08-27T07:31:59.556975Z",
     "iopub.status.idle": "2025-08-27T07:31:59.561031Z",
     "shell.execute_reply": "2025-08-27T07:31:59.561031Z"
    },
    "jupyter": {
     "outputs_hidden": false
    }
   },
   "outputs": [],
   "source": []
  },
  {
   "cell_type": "code",
   "execution_count": null,
   "metadata": {
    "execution": {
     "iopub.execute_input": "2025-08-27T07:31:59.563041Z",
     "iopub.status.busy": "2025-08-27T07:31:59.563041Z",
     "iopub.status.idle": "2025-08-27T07:31:59.566946Z",
     "shell.execute_reply": "2025-08-27T07:31:59.566946Z"
    },
    "jupyter": {
     "outputs_hidden": false
    }
   },
   "outputs": [],
   "source": []
  },
  {
   "cell_type": "code",
   "execution_count": null,
   "metadata": {
    "execution": {
     "iopub.execute_input": "2025-08-27T07:31:59.569229Z",
     "iopub.status.busy": "2025-08-27T07:31:59.569229Z",
     "iopub.status.idle": "2025-08-27T07:31:59.572970Z",
     "shell.execute_reply": "2025-08-27T07:31:59.572970Z"
    },
    "jupyter": {
     "outputs_hidden": false
    }
   },
   "outputs": [],
   "source": []
  },
  {
   "cell_type": "code",
   "execution_count": null,
   "metadata": {
    "execution": {
     "iopub.execute_input": "2025-08-27T07:31:59.575133Z",
     "iopub.status.busy": "2025-08-27T07:31:59.575133Z",
     "iopub.status.idle": "2025-08-27T07:31:59.579030Z",
     "shell.execute_reply": "2025-08-27T07:31:59.579030Z"
    },
    "jupyter": {
     "outputs_hidden": false
    }
   },
   "outputs": [],
   "source": []
  },
  {
   "cell_type": "code",
   "execution_count": null,
   "metadata": {
    "execution": {
     "iopub.execute_input": "2025-08-27T07:31:59.580800Z",
     "iopub.status.busy": "2025-08-27T07:31:59.580800Z",
     "iopub.status.idle": "2025-08-27T07:31:59.584710Z",
     "shell.execute_reply": "2025-08-27T07:31:59.584710Z"
    },
    "jupyter": {
     "outputs_hidden": false
    }
   },
   "outputs": [],
   "source": []
  },
  {
   "cell_type": "code",
   "execution_count": null,
   "metadata": {
    "execution": {
     "iopub.execute_input": "2025-08-27T07:31:59.586893Z",
     "iopub.status.busy": "2025-08-27T07:31:59.586893Z",
     "iopub.status.idle": "2025-08-27T07:31:59.591405Z",
     "shell.execute_reply": "2025-08-27T07:31:59.590893Z"
    },
    "jupyter": {
     "outputs_hidden": false
    }
   },
   "outputs": [],
   "source": []
  },
  {
   "cell_type": "markdown",
   "metadata": {
    "pycharm": {
     "name": "#%% md\n"
    }
   },
   "source": [
    "### Exercise: Dictionary Manipulation\n",
    "\n",
    "1. Create a empty dictionary called `dct`\n",
    "2. Add the pairs \"apple\" and 1, \"banana\" and 2.0, and \"cherry\" and \"iii\"\n",
    "3. Replace the value of \"apple\" with \"I\"\n",
    "4. Remove the entry for \"banana\"\n",
    "5. Add an entry \"date\" with the value 4"
   ]
  },
  {
   "cell_type": "code",
   "execution_count": null,
   "metadata": {
    "execution": {
     "iopub.execute_input": "2025-08-27T07:31:59.592415Z",
     "iopub.status.busy": "2025-08-27T07:31:59.592415Z",
     "iopub.status.idle": "2025-08-27T07:31:59.596927Z",
     "shell.execute_reply": "2025-08-27T07:31:59.596415Z"
    },
    "jupyter": {
     "outputs_hidden": false
    }
   },
   "outputs": [],
   "source": []
  },
  {
   "cell_type": "code",
   "execution_count": null,
   "metadata": {
    "execution": {
     "iopub.execute_input": "2025-08-27T07:31:59.597937Z",
     "iopub.status.busy": "2025-08-27T07:31:59.597937Z",
     "iopub.status.idle": "2025-08-27T07:31:59.602385Z",
     "shell.execute_reply": "2025-08-27T07:31:59.602385Z"
    },
    "jupyter": {
     "outputs_hidden": false
    }
   },
   "outputs": [],
   "source": []
  },
  {
   "cell_type": "code",
   "execution_count": null,
   "metadata": {
    "execution": {
     "iopub.execute_input": "2025-08-27T07:31:59.604396Z",
     "iopub.status.busy": "2025-08-27T07:31:59.604396Z",
     "iopub.status.idle": "2025-08-27T07:31:59.608908Z",
     "shell.execute_reply": "2025-08-27T07:31:59.608396Z"
    },
    "jupyter": {
     "outputs_hidden": false
    }
   },
   "outputs": [],
   "source": []
  },
  {
   "cell_type": "code",
   "execution_count": null,
   "metadata": {
    "execution": {
     "iopub.execute_input": "2025-08-27T07:31:59.610918Z",
     "iopub.status.busy": "2025-08-27T07:31:59.609918Z",
     "iopub.status.idle": "2025-08-27T07:31:59.614948Z",
     "shell.execute_reply": "2025-08-27T07:31:59.614948Z"
    },
    "jupyter": {
     "outputs_hidden": false
    }
   },
   "outputs": [],
   "source": []
  },
  {
   "cell_type": "code",
   "execution_count": null,
   "metadata": {
    "execution": {
     "iopub.execute_input": "2025-08-27T07:31:59.614948Z",
     "iopub.status.busy": "2025-08-27T07:31:59.614948Z",
     "iopub.status.idle": "2025-08-27T07:31:59.620970Z",
     "shell.execute_reply": "2025-08-27T07:31:59.620970Z"
    },
    "jupyter": {
     "outputs_hidden": false
    }
   },
   "outputs": [],
   "source": []
  },
  {
   "cell_type": "markdown",
   "metadata": {
    "pycharm": {
     "name": "#%% md\n"
    }
   },
   "source": [
    "### Exercise: Directly create a Dictionary\n",
    "\n",
    "Using the final version of `dct` from the previous exercise:\n",
    "\n",
    "1. Directly initialize a new dictionary called `other_dct`.\n",
    "2. Use an f-string to print the values associated with each key.\n",
    "\n",
    "**Hint** You must use both types of quotes. For example, to access a value in\n",
    "an f-string.\n",
    "\n",
    "```python\n",
    "f\"{other_dct['apple']}\"\n",
    "```"
   ]
  },
  {
   "cell_type": "code",
   "execution_count": null,
   "metadata": {
    "execution": {
     "iopub.execute_input": "2025-08-27T07:31:59.622788Z",
     "iopub.status.busy": "2025-08-27T07:31:59.622788Z",
     "iopub.status.idle": "2025-08-27T07:31:59.628486Z",
     "shell.execute_reply": "2025-08-27T07:31:59.628486Z"
    },
    "jupyter": {
     "outputs_hidden": false
    }
   },
   "outputs": [],
   "source": []
  },
  {
   "cell_type": "code",
   "execution_count": null,
   "metadata": {
    "execution": {
     "iopub.execute_input": "2025-08-27T07:31:59.631835Z",
     "iopub.status.busy": "2025-08-27T07:31:59.628486Z",
     "iopub.status.idle": "2025-08-27T07:31:59.636368Z",
     "shell.execute_reply": "2025-08-27T07:31:59.635359Z"
    },
    "jupyter": {
     "outputs_hidden": false
    }
   },
   "outputs": [],
   "source": []
  },
  {
   "cell_type": "markdown",
   "metadata": {},
   "source": [
    "### Exercise: Tuple Manipulation\n",
    "\n",
    "1. Create a tuple `tpl` containing 100 and 4\n",
    "2. Convert to a list, add the elements 101 and 5\n",
    "3. Convert back toa tuple"
   ]
  },
  {
   "cell_type": "code",
   "execution_count": null,
   "metadata": {
    "execution": {
     "iopub.execute_input": "2025-08-27T07:31:59.638371Z",
     "iopub.status.busy": "2025-08-27T07:31:59.637368Z",
     "iopub.status.idle": "2025-08-27T07:31:59.642877Z",
     "shell.execute_reply": "2025-08-27T07:31:59.642367Z"
    },
    "jupyter": {
     "outputs_hidden": false
    }
   },
   "outputs": [],
   "source": []
  },
  {
   "cell_type": "code",
   "execution_count": null,
   "metadata": {
    "execution": {
     "iopub.execute_input": "2025-08-27T07:31:59.644888Z",
     "iopub.status.busy": "2025-08-27T07:31:59.644888Z",
     "iopub.status.idle": "2025-08-27T07:31:59.648872Z",
     "shell.execute_reply": "2025-08-27T07:31:59.648872Z"
    },
    "jupyter": {
     "outputs_hidden": false
    }
   },
   "outputs": [],
   "source": []
  },
  {
   "cell_type": "code",
   "execution_count": null,
   "metadata": {
    "execution": {
     "iopub.execute_input": "2025-08-27T07:31:59.650880Z",
     "iopub.status.busy": "2025-08-27T07:31:59.650880Z",
     "iopub.status.idle": "2025-08-27T07:31:59.655391Z",
     "shell.execute_reply": "2025-08-27T07:31:59.654880Z"
    },
    "jupyter": {
     "outputs_hidden": false
    },
    "tags": []
   },
   "outputs": [],
   "source": []
  }
 ],
 "metadata": {
  "kernelspec": {
   "display_name": "Python 3 (ipykernel)",
   "language": "python",
   "name": "python3"
  },
  "language_info": {
   "codemirror_mode": {
    "name": "ipython",
    "version": 3
   },
   "file_extension": ".py",
   "mimetype": "text/x-python",
   "name": "python",
   "nbconvert_exporter": "python",
   "pygments_lexer": "ipython3",
   "version": "3.12.11"
  },
  "pycharm": {
   "stem_cell": {
    "cell_type": "raw",
    "metadata": {
     "collapsed": false
    },
    "source": [
     "\n"
    ]
   }
  }
 },
 "nbformat": 4,
 "nbformat_minor": 4
}
