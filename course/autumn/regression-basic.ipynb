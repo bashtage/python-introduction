{
 "cells": [
  {
   "cell_type": "markdown",
   "metadata": {},
   "source": [
    "## Linear Regression: Model Estimation\n",
    "\n",
    "**Functions**\n",
    "\n",
    "`sm.OLS`\n",
    "\n",
    "### Exercise 32\n",
    "Use the OLS function to estimate the coefficients of the Fama-French portfolios (monthly data) on the\n",
    "market, size and value factors. Include a constant in the regressions. Use only the four\n",
    "extremum portfolios – that is the 1-1, 1-5, 5-1 and 5-5 portfolios. Estimate the model with\n",
    "homoskedastic errors and with White's covariance estimator."
   ]
  },
  {
   "cell_type": "code",
   "execution_count": null,
   "metadata": {
    "execution": {
     "iopub.execute_input": "2021-09-22T10:07:16.072021Z",
     "iopub.status.busy": "2021-09-22T10:07:16.072021Z",
     "iopub.status.idle": "2021-09-22T10:07:16.758021Z",
     "shell.execute_reply": "2021-09-22T10:07:16.757024Z"
    }
   },
   "outputs": [],
   "source": []
  },
  {
   "cell_type": "markdown",
   "metadata": {},
   "source": [
    "### Exercise 33\n",
    "Are the parameter standard errors similar using the two covariance estimators?\n",
    "If not, what does this mean? "
   ]
  },
  {
   "cell_type": "code",
   "execution_count": null,
   "metadata": {
    "execution": {
     "iopub.execute_input": "2021-09-22T10:07:17.729020Z",
     "iopub.status.busy": "2021-09-22T10:07:17.728021Z",
     "iopub.status.idle": "2021-09-22T10:07:17.757021Z",
     "shell.execute_reply": "2021-09-22T10:07:17.757021Z"
    }
   },
   "outputs": [],
   "source": []
  },
  {
   "cell_type": "markdown",
   "metadata": {},
   "source": [
    "### Exercise 34\n",
    "How much of the variation is explained by these three regressors?"
   ]
  },
  {
   "cell_type": "code",
   "execution_count": null,
   "metadata": {
    "execution": {
     "iopub.execute_input": "2021-09-22T10:07:17.793020Z",
     "iopub.status.busy": "2021-09-22T10:07:17.792020Z",
     "iopub.status.idle": "2021-09-22T10:07:17.804021Z",
     "shell.execute_reply": "2021-09-22T10:07:17.804021Z"
    }
   },
   "outputs": [],
   "source": []
  }
 ],
 "metadata": {
  "kernelspec": {
   "display_name": "Python 3 (ipykernel)",
   "language": "python",
   "name": "python3"
  },
  "language_info": {
   "codemirror_mode": {
    "name": "ipython",
    "version": 3
   },
   "file_extension": ".py",
   "mimetype": "text/x-python",
   "name": "python",
   "nbconvert_exporter": "python",
   "pygments_lexer": "ipython3",
   "version": "3.12.11"
  },
  "pycharm": {
   "stem_cell": {
    "cell_type": "raw",
    "metadata": {
     "collapsed": false
    },
    "source": []
   }
  }
 },
 "nbformat": 4,
 "nbformat_minor": 4
}
