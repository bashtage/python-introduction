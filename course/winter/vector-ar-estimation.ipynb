{
 "cells": [
  {
   "cell_type": "markdown",
   "metadata": {},
   "source": [
    "Vector Autoregressions\n",
    "## Vector Autoregresion (VAR) Estimation\n",
    "\n",
    "**Functions**\n",
    "\n",
    "`tsa.VAR`\n",
    "\n",
    "### Exercise 85\n",
    "Download data on 10-year interest rates, 1-year interest rates and the\n",
    "GDP deflator from FRED."
   ]
  },
  {
   "cell_type": "code",
   "execution_count": null,
   "metadata": {
    "execution": {
     "iopub.execute_input": "2023-09-28T12:35:04.757109Z",
     "iopub.status.busy": "2023-09-28T12:35:04.757109Z",
     "iopub.status.idle": "2023-09-28T12:35:05.608801Z",
     "shell.execute_reply": "2023-09-28T12:35:05.608801Z"
    }
   },
   "outputs": [],
   "source": []
  },
  {
   "cell_type": "markdown",
   "metadata": {},
   "source": [
    "### Exercise 86\n",
    "Transform the GDP deflator to be percent returns (e.g. $\\Delta\\ln\\left(GDP_t\\right)$ )."
   ]
  },
  {
   "cell_type": "code",
   "execution_count": null,
   "metadata": {
    "execution": {
     "iopub.execute_input": "2023-09-28T12:35:05.634662Z",
     "iopub.status.busy": "2023-09-28T12:35:05.634662Z",
     "iopub.status.idle": "2023-09-28T12:35:05.644899Z",
     "shell.execute_reply": "2023-09-28T12:35:05.644899Z"
    }
   },
   "outputs": [],
   "source": []
  },
  {
   "cell_type": "markdown",
   "metadata": {},
   "source": [
    "### Exercise 87\n",
    "Estimate a first-order VAR on the spread between the 10-year and 1-year\n",
    "(spread), the one-year, and the growth rate of the GDP deflator."
   ]
  },
  {
   "cell_type": "code",
   "execution_count": null,
   "metadata": {
    "execution": {
     "iopub.execute_input": "2023-09-28T12:35:05.647906Z",
     "iopub.status.busy": "2023-09-28T12:35:05.647906Z",
     "iopub.status.idle": "2023-09-28T12:35:06.903822Z",
     "shell.execute_reply": "2023-09-28T12:35:06.902812Z"
    }
   },
   "outputs": [],
   "source": []
  },
  {
   "cell_type": "markdown",
   "metadata": {},
   "source": [
    "### Exercise 88\n",
    "What are the _own_ effects?\n"
   ]
  },
  {
   "cell_type": "code",
   "execution_count": null,
   "metadata": {
    "execution": {
     "iopub.execute_input": "2023-09-28T12:35:06.936578Z",
     "iopub.status.busy": "2023-09-28T12:35:06.935586Z",
     "iopub.status.idle": "2023-09-28T12:35:06.944020Z",
     "shell.execute_reply": "2023-09-28T12:35:06.944020Z"
    }
   },
   "outputs": [],
   "source": []
  },
  {
   "cell_type": "markdown",
   "metadata": {},
   "source": [
    "### Exercise 89\n",
    "What are the cross effects between these?"
   ]
  },
  {
   "cell_type": "code",
   "execution_count": null,
   "metadata": {
    "execution": {
     "iopub.execute_input": "2023-09-28T12:35:06.959621Z",
     "iopub.status.busy": "2023-09-28T12:35:06.958622Z",
     "iopub.status.idle": "2023-09-28T12:35:06.969827Z",
     "shell.execute_reply": "2023-09-28T12:35:06.969827Z"
    }
   },
   "outputs": [],
   "source": []
  },
  {
   "cell_type": "markdown",
   "metadata": {},
   "source": [
    "### Exercise 90\n",
    "How could you get a sense of the persistence of this system?"
   ]
  },
  {
   "cell_type": "code",
   "execution_count": null,
   "metadata": {
    "execution": {
     "iopub.execute_input": "2023-09-28T12:35:06.973863Z",
     "iopub.status.busy": "2023-09-28T12:35:06.973323Z",
     "iopub.status.idle": "2023-09-28T12:35:06.980217Z",
     "shell.execute_reply": "2023-09-28T12:35:06.980039Z"
    }
   },
   "outputs": [],
   "source": []
  }
 ],
 "metadata": {
  "kernelspec": {
   "display_name": "Python 3 (ipykernel)",
   "language": "python",
   "name": "python3"
  },
  "language_info": {
   "codemirror_mode": {
    "name": "ipython",
    "version": 3
   },
   "file_extension": ".py",
   "mimetype": "text/x-python",
   "name": "python",
   "nbconvert_exporter": "python",
   "pygments_lexer": "ipython3",
   "version": "3.12.11"
  },
  "pycharm": {
   "stem_cell": {
    "cell_type": "raw",
    "metadata": {
     "collapsed": false
    },
    "source": []
   }
  }
 },
 "nbformat": 4,
 "nbformat_minor": 4
}
