{
 "cells": [
  {
   "cell_type": "markdown",
   "metadata": {
    "pycharm": {
     "name": "#%% md\n"
    }
   },
   "source": [
    "Vector Autoregressions\n",
    "## Vector Autoregresion (VAR) Estimation\n",
    "\n",
    "**Functions**\n",
    "\n",
    "`tsa.VAR`\n",
    "\n",
    "### Exercise 85\n",
    "Download data on 10-year interest rates, 1-year interest rates and the\n",
    "GDP deflator from FRED."
   ]
  },
  {
   "cell_type": "code",
   "execution_count": 1,
   "metadata": {
    "pycharm": {
     "is_executing": false,
     "name": "#%%\n"
    }
   },
   "outputs": [
    {
     "data": {
      "text/html": [
       "<div>\n",
       "<style scoped>\n",
       "    .dataframe tbody tr th:only-of-type {\n",
       "        vertical-align: middle;\n",
       "    }\n",
       "\n",
       "    .dataframe tbody tr th {\n",
       "        vertical-align: top;\n",
       "    }\n",
       "\n",
       "    .dataframe thead th {\n",
       "        text-align: right;\n",
       "    }\n",
       "</style>\n",
       "<table border=\"1\" class=\"dataframe\">\n",
       "  <thead>\n",
       "    <tr style=\"text-align: right;\">\n",
       "      <th></th>\n",
       "      <th>gs1</th>\n",
       "      <th>gs10</th>\n",
       "      <th>defl</th>\n",
       "    </tr>\n",
       "    <tr>\n",
       "      <th>DATE</th>\n",
       "      <th></th>\n",
       "      <th></th>\n",
       "      <th></th>\n",
       "    </tr>\n",
       "  </thead>\n",
       "  <tbody>\n",
       "    <tr>\n",
       "      <th>1953-04-01</th>\n",
       "      <td>2.36</td>\n",
       "      <td>2.83</td>\n",
       "      <td>14.409</td>\n",
       "    </tr>\n",
       "    <tr>\n",
       "      <th>1953-05-01</th>\n",
       "      <td>2.48</td>\n",
       "      <td>3.05</td>\n",
       "      <td>NaN</td>\n",
       "    </tr>\n",
       "    <tr>\n",
       "      <th>1953-06-01</th>\n",
       "      <td>2.45</td>\n",
       "      <td>3.11</td>\n",
       "      <td>NaN</td>\n",
       "    </tr>\n",
       "    <tr>\n",
       "      <th>1953-07-01</th>\n",
       "      <td>2.38</td>\n",
       "      <td>2.93</td>\n",
       "      <td>14.470</td>\n",
       "    </tr>\n",
       "    <tr>\n",
       "      <th>1953-08-01</th>\n",
       "      <td>2.28</td>\n",
       "      <td>2.95</td>\n",
       "      <td>NaN</td>\n",
       "    </tr>\n",
       "    <tr>\n",
       "      <th>1953-09-01</th>\n",
       "      <td>2.20</td>\n",
       "      <td>2.87</td>\n",
       "      <td>NaN</td>\n",
       "    </tr>\n",
       "  </tbody>\n",
       "</table>\n",
       "</div>"
      ],
      "text/plain": [
       "             gs1  gs10    defl\n",
       "DATE                          \n",
       "1953-04-01  2.36  2.83  14.409\n",
       "1953-05-01  2.48  3.05     NaN\n",
       "1953-06-01  2.45  3.11     NaN\n",
       "1953-07-01  2.38  2.93  14.470\n",
       "1953-08-01  2.28  2.95     NaN\n",
       "1953-09-01  2.20  2.87     NaN"
      ]
     },
     "execution_count": 1,
     "metadata": {},
     "output_type": "execute_result"
    }
   ],
   "source": [
    "import pandas as pd\n",
    "\n",
    "gs1 = pd.read_csv(\"./data/GS1.csv\", parse_dates=True)\n",
    "gs1 = gs1.set_index(\"DATE\")\n",
    "gs10 = pd.read_csv(\"./data/GS10.csv\", parse_dates=True)\n",
    "gs10 = gs10.set_index(\"DATE\")\n",
    "defl = pd.read_csv(\"./data/GDPDEF.csv\", parse_dates=True)\n",
    "defl = defl.set_index(\"DATE\")\n",
    "\n",
    "data = pd.concat([gs1, gs10, defl], axis=1)\n",
    "data.columns = [\"gs1\", \"gs10\", \"defl\"]\n",
    "data.head(6)"
   ]
  },
  {
   "cell_type": "markdown",
   "metadata": {
    "pycharm": {
     "name": "#%% md\n"
    }
   },
   "source": [
    "#### Explanation\n",
    "\n",
    "The data have all been downloaded from FRED and saved as csv files. The\n",
    "series are imported and merged into a single DataFrame. We see that\n",
    "the deflator is quarterly while the others are monthly."
   ]
  },
  {
   "cell_type": "code",
   "execution_count": 2,
   "metadata": {
    "pycharm": {
     "is_executing": false,
     "name": "#%%\n"
    }
   },
   "outputs": [
    {
     "data": {
      "text/html": [
       "<div>\n",
       "<style scoped>\n",
       "    .dataframe tbody tr th:only-of-type {\n",
       "        vertical-align: middle;\n",
       "    }\n",
       "\n",
       "    .dataframe tbody tr th {\n",
       "        vertical-align: top;\n",
       "    }\n",
       "\n",
       "    .dataframe thead th {\n",
       "        text-align: right;\n",
       "    }\n",
       "</style>\n",
       "<table border=\"1\" class=\"dataframe\">\n",
       "  <thead>\n",
       "    <tr style=\"text-align: right;\">\n",
       "      <th></th>\n",
       "      <th>gs1</th>\n",
       "      <th>gs10</th>\n",
       "      <th>defl</th>\n",
       "    </tr>\n",
       "    <tr>\n",
       "      <th>DATE</th>\n",
       "      <th></th>\n",
       "      <th></th>\n",
       "      <th></th>\n",
       "    </tr>\n",
       "  </thead>\n",
       "  <tbody>\n",
       "    <tr>\n",
       "      <th>1953-06-30</th>\n",
       "      <td>2.430000</td>\n",
       "      <td>2.996667</td>\n",
       "      <td>14.409</td>\n",
       "    </tr>\n",
       "    <tr>\n",
       "      <th>1953-09-30</th>\n",
       "      <td>2.286667</td>\n",
       "      <td>2.916667</td>\n",
       "      <td>14.470</td>\n",
       "    </tr>\n",
       "    <tr>\n",
       "      <th>1953-12-31</th>\n",
       "      <td>1.706667</td>\n",
       "      <td>2.643333</td>\n",
       "      <td>14.497</td>\n",
       "    </tr>\n",
       "    <tr>\n",
       "      <th>1954-03-31</th>\n",
       "      <td>1.226667</td>\n",
       "      <td>2.440000</td>\n",
       "      <td>14.543</td>\n",
       "    </tr>\n",
       "    <tr>\n",
       "      <th>1954-06-30</th>\n",
       "      <td>0.876667</td>\n",
       "      <td>2.346667</td>\n",
       "      <td>14.556</td>\n",
       "    </tr>\n",
       "  </tbody>\n",
       "</table>\n",
       "</div>"
      ],
      "text/plain": [
       "                 gs1      gs10    defl\n",
       "DATE                                  \n",
       "1953-06-30  2.430000  2.996667  14.409\n",
       "1953-09-30  2.286667  2.916667  14.470\n",
       "1953-12-31  1.706667  2.643333  14.497\n",
       "1954-03-31  1.226667  2.440000  14.543\n",
       "1954-06-30  0.876667  2.346667  14.556"
      ]
     },
     "execution_count": 2,
     "metadata": {},
     "output_type": "execute_result"
    }
   ],
   "source": [
    "data.index = pd.to_datetime(data.index)\n",
    "data = data.resample(\"QE\").mean().dropna()\n",
    "data.head()"
   ]
  },
  {
   "cell_type": "markdown",
   "metadata": {},
   "source": [
    "#### Explanation\n",
    "We can use `resample` to convert all of the series to quarterly to match the\n",
    "deflator. The mean is a reasonable method to aggregate the interest rates and\n",
    "since pandas ignores `NaN`, the mean of the deflator is the observation\n",
    "available in each quarter."
   ]
  },
  {
   "cell_type": "markdown",
   "metadata": {
    "pycharm": {
     "name": "#%% md\n"
    }
   },
   "source": [
    "### Exercise 86\n",
    "Transform the GDP deflator to be percent returns (e.g. $\\Delta\\ln\\left(GDP_t\\right)$ )."
   ]
  },
  {
   "cell_type": "code",
   "execution_count": 3,
   "metadata": {
    "pycharm": {
     "is_executing": false,
     "name": "#%%\n"
    }
   },
   "outputs": [
    {
     "data": {
      "text/html": [
       "<div>\n",
       "<style scoped>\n",
       "    .dataframe tbody tr th:only-of-type {\n",
       "        vertical-align: middle;\n",
       "    }\n",
       "\n",
       "    .dataframe tbody tr th {\n",
       "        vertical-align: top;\n",
       "    }\n",
       "\n",
       "    .dataframe thead th {\n",
       "        text-align: right;\n",
       "    }\n",
       "</style>\n",
       "<table border=\"1\" class=\"dataframe\">\n",
       "  <thead>\n",
       "    <tr style=\"text-align: right;\">\n",
       "      <th></th>\n",
       "      <th>gs1</th>\n",
       "      <th>gs10</th>\n",
       "      <th>defl</th>\n",
       "      <th>deflg</th>\n",
       "    </tr>\n",
       "    <tr>\n",
       "      <th>DATE</th>\n",
       "      <th></th>\n",
       "      <th></th>\n",
       "      <th></th>\n",
       "      <th></th>\n",
       "    </tr>\n",
       "  </thead>\n",
       "  <tbody>\n",
       "    <tr>\n",
       "      <th>1953-09-30</th>\n",
       "      <td>2.286667</td>\n",
       "      <td>2.916667</td>\n",
       "      <td>14.470</td>\n",
       "      <td>0.004225</td>\n",
       "    </tr>\n",
       "    <tr>\n",
       "      <th>1953-12-31</th>\n",
       "      <td>1.706667</td>\n",
       "      <td>2.643333</td>\n",
       "      <td>14.497</td>\n",
       "      <td>0.001864</td>\n",
       "    </tr>\n",
       "    <tr>\n",
       "      <th>1954-03-31</th>\n",
       "      <td>1.226667</td>\n",
       "      <td>2.440000</td>\n",
       "      <td>14.543</td>\n",
       "      <td>0.003168</td>\n",
       "    </tr>\n",
       "    <tr>\n",
       "      <th>1954-06-30</th>\n",
       "      <td>0.876667</td>\n",
       "      <td>2.346667</td>\n",
       "      <td>14.556</td>\n",
       "      <td>0.000894</td>\n",
       "    </tr>\n",
       "    <tr>\n",
       "      <th>1954-09-30</th>\n",
       "      <td>0.916667</td>\n",
       "      <td>2.346667</td>\n",
       "      <td>14.575</td>\n",
       "      <td>0.001304</td>\n",
       "    </tr>\n",
       "  </tbody>\n",
       "</table>\n",
       "</div>"
      ],
      "text/plain": [
       "                 gs1      gs10    defl     deflg\n",
       "DATE                                            \n",
       "1953-09-30  2.286667  2.916667  14.470  0.004225\n",
       "1953-12-31  1.706667  2.643333  14.497  0.001864\n",
       "1954-03-31  1.226667  2.440000  14.543  0.003168\n",
       "1954-06-30  0.876667  2.346667  14.556  0.000894\n",
       "1954-09-30  0.916667  2.346667  14.575  0.001304"
      ]
     },
     "execution_count": 3,
     "metadata": {},
     "output_type": "execute_result"
    }
   ],
   "source": [
    "import numpy as np\n",
    "\n",
    "log_defl = np.log(data.defl)\n",
    "data[\"deflg\"] = log_defl - log_defl.shift(1)\n",
    "data = data.dropna()\n",
    "data.head()"
   ]
  },
  {
   "cell_type": "markdown",
   "metadata": {
    "pycharm": {
     "name": "#%% md\n"
    }
   },
   "source": [
    "#### Explanation\n",
    "\n",
    "Here we use `np.log` and `shift` to implement the log difference."
   ]
  },
  {
   "cell_type": "markdown",
   "metadata": {},
   "source": [
    "### Exercise 87\n",
    "Estimate a first-order VAR on the spread between the 10-year and 1-year\n",
    "(spread), the one-year, and the growth rate of the GDP deflator."
   ]
  },
  {
   "cell_type": "code",
   "execution_count": 4,
   "metadata": {
    "pycharm": {
     "is_executing": false,
     "name": "#%%\n"
    }
   },
   "outputs": [],
   "source": [
    "import statsmodels.tsa.api as tsa\n",
    "\n",
    "data[\"spread\"] = data.gs10 - data.gs1\n",
    "# Save for later\n",
    "data.to_hdf(\"./data/var-data.h5\", key=\"var_data\")"
   ]
  },
  {
   "cell_type": "markdown",
   "metadata": {},
   "source": [
    "#### Explanation\n",
    "\n",
    "The spread is constructed as the difference and the data is saved for use in \n",
    "other exercises."
   ]
  },
  {
   "cell_type": "code",
   "execution_count": 5,
   "metadata": {
    "pycharm": {
     "is_executing": false,
     "name": "#%%\n"
    }
   },
   "outputs": [
    {
     "data": {
      "text/plain": [
       "  Summary of Regression Results   \n",
       "==================================\n",
       "Model:                         VAR\n",
       "Method:                        OLS\n",
       "Date:           Wed, 27, Aug, 2025\n",
       "Time:                     15:13:40\n",
       "--------------------------------------------------------------------\n",
       "No. of Equations:         3.00000    BIC:                   -15.0871\n",
       "Nobs:                     265.000    HQIC:                  -15.1840\n",
       "Log likelihood:           904.460    FPE:                2.38434e-07\n",
       "AIC:                     -15.2492    Det(Omega_mle):     2.27955e-07\n",
       "--------------------------------------------------------------------\n",
       "Results for equation spread\n",
       "============================================================================\n",
       "               coefficient       std. error           t-stat            prob\n",
       "----------------------------------------------------------------------------\n",
       "const             0.055526         0.072753            0.763           0.445\n",
       "L1.spread         0.926595         0.029050           31.896           0.000\n",
       "L1.gs1            0.017248         0.011502            1.500           0.134\n",
       "L1.deflg         -8.881401         6.320886           -1.405           0.160\n",
       "============================================================================\n",
       "\n",
       "Results for equation gs1\n",
       "============================================================================\n",
       "               coefficient       std. error           t-stat            prob\n",
       "----------------------------------------------------------------------------\n",
       "const             0.026191         0.118084            0.222           0.824\n",
       "L1.spread         0.006413         0.047151            0.136           0.892\n",
       "L1.gs1            0.944286         0.018668           50.583           0.000\n",
       "L1.deflg         30.073181        10.259359            2.931           0.003\n",
       "============================================================================\n",
       "\n",
       "Results for equation deflg\n",
       "============================================================================\n",
       "               coefficient       std. error           t-stat            prob\n",
       "----------------------------------------------------------------------------\n",
       "const             0.001210         0.000471            2.572           0.010\n",
       "L1.spread        -0.000299         0.000188           -1.590           0.112\n",
       "L1.gs1            0.000158         0.000074            2.126           0.033\n",
       "L1.deflg          0.782960         0.040880           19.153           0.000\n",
       "============================================================================\n",
       "\n",
       "Correlation matrix of residuals\n",
       "            spread       gs1     deflg\n",
       "spread    1.000000 -0.792516 -0.086385\n",
       "gs1      -0.792516  1.000000  0.169405\n",
       "deflg    -0.086385  0.169405  1.000000\n",
       "\n"
      ]
     },
     "execution_count": 5,
     "metadata": {},
     "output_type": "execute_result"
    }
   ],
   "source": [
    "mod = tsa.VAR(data[[\"spread\", \"gs1\", \"deflg\"]])\n",
    "res = mod.fit(1, trend=\"c\", ic=None)\n",
    "\n",
    "res.summary()"
   ]
  },
  {
   "cell_type": "markdown",
   "metadata": {},
   "source": [
    "#### Explanation\n",
    "\n",
    "A VAR model is specified using `tsa.VAR`. The only required input is the data.\n",
    "We do not include the intercept since this is supplied through the `trend`\n",
    "argument of `fit`, where \"c\" indicates a constant. We set the maximum\n",
    "lag to 1 and `ic` to `None` to get force a VAR(1) to be estimated. If we\n",
    "do not set `ic` to `None`, statsmdoels will perform a lag length search for\n",
    "lags in 0, 1, ..., `maxlags` (0 or 1 in this specification)."
   ]
  },
  {
   "cell_type": "markdown",
   "metadata": {},
   "source": [
    "### Exercise 88\n",
    "What are the _own_ effects?\n"
   ]
  },
  {
   "cell_type": "code",
   "execution_count": 6,
   "metadata": {
    "pycharm": {
     "is_executing": false,
     "name": "#%%\n"
    }
   },
   "outputs": [
    {
     "data": {
      "text/html": [
       "<div>\n",
       "<style scoped>\n",
       "    .dataframe tbody tr th:only-of-type {\n",
       "        vertical-align: middle;\n",
       "    }\n",
       "\n",
       "    .dataframe tbody tr th {\n",
       "        vertical-align: top;\n",
       "    }\n",
       "\n",
       "    .dataframe thead th {\n",
       "        text-align: right;\n",
       "    }\n",
       "</style>\n",
       "<table border=\"1\" class=\"dataframe\">\n",
       "  <thead>\n",
       "    <tr style=\"text-align: right;\">\n",
       "      <th></th>\n",
       "      <th>spread</th>\n",
       "      <th>gs1</th>\n",
       "      <th>deflg</th>\n",
       "    </tr>\n",
       "  </thead>\n",
       "  <tbody>\n",
       "    <tr>\n",
       "      <th>const</th>\n",
       "      <td>0.055526</td>\n",
       "      <td>0.026191</td>\n",
       "      <td>0.001210</td>\n",
       "    </tr>\n",
       "    <tr>\n",
       "      <th>L1.spread</th>\n",
       "      <td>0.926595</td>\n",
       "      <td>0.006413</td>\n",
       "      <td>-0.000299</td>\n",
       "    </tr>\n",
       "    <tr>\n",
       "      <th>L1.gs1</th>\n",
       "      <td>0.017248</td>\n",
       "      <td>0.944286</td>\n",
       "      <td>0.000158</td>\n",
       "    </tr>\n",
       "    <tr>\n",
       "      <th>L1.deflg</th>\n",
       "      <td>-8.881401</td>\n",
       "      <td>30.073181</td>\n",
       "      <td>0.782960</td>\n",
       "    </tr>\n",
       "  </tbody>\n",
       "</table>\n",
       "</div>"
      ],
      "text/plain": [
       "             spread        gs1     deflg\n",
       "const      0.055526   0.026191  0.001210\n",
       "L1.spread  0.926595   0.006413 -0.000299\n",
       "L1.gs1     0.017248   0.944286  0.000158\n",
       "L1.deflg  -8.881401  30.073181  0.782960"
      ]
     },
     "execution_count": 6,
     "metadata": {},
     "output_type": "execute_result"
    }
   ],
   "source": [
    "res.params"
   ]
  },
  {
   "cell_type": "code",
   "execution_count": 7,
   "metadata": {
    "pycharm": {
     "is_executing": false,
     "name": "#%%\n"
    }
   },
   "outputs": [
    {
     "data": {
      "text/html": [
       "<div>\n",
       "<style scoped>\n",
       "    .dataframe tbody tr th:only-of-type {\n",
       "        vertical-align: middle;\n",
       "    }\n",
       "\n",
       "    .dataframe tbody tr th {\n",
       "        vertical-align: top;\n",
       "    }\n",
       "\n",
       "    .dataframe thead th {\n",
       "        text-align: right;\n",
       "    }\n",
       "</style>\n",
       "<table border=\"1\" class=\"dataframe\">\n",
       "  <thead>\n",
       "    <tr style=\"text-align: right;\">\n",
       "      <th></th>\n",
       "      <th>Own Effect</th>\n",
       "    </tr>\n",
       "  </thead>\n",
       "  <tbody>\n",
       "    <tr>\n",
       "      <th>spread</th>\n",
       "      <td>0.926595</td>\n",
       "    </tr>\n",
       "    <tr>\n",
       "      <th>gs1</th>\n",
       "      <td>0.944286</td>\n",
       "    </tr>\n",
       "    <tr>\n",
       "      <th>deflg</th>\n",
       "      <td>0.782960</td>\n",
       "    </tr>\n",
       "  </tbody>\n",
       "</table>\n",
       "</div>"
      ],
      "text/plain": [
       "        Own Effect\n",
       "spread    0.926595\n",
       "gs1       0.944286\n",
       "deflg     0.782960"
      ]
     },
     "execution_count": 7,
     "metadata": {},
     "output_type": "execute_result"
    }
   ],
   "source": [
    "own_effects = {}\n",
    "for var in res.params:\n",
    "    own_effects[var] = res.params.loc[f\"L1.{var}\", var]\n",
    "pd.DataFrame(pd.Series(own_effects, name=\"Own Effect\"))"
   ]
  },
  {
   "cell_type": "markdown",
   "metadata": {},
   "source": [
    "#### Explanation\n",
    "\n",
    "The parameters are a `DataFrame` where the columns are the leads and the rows\n",
    "are lag or trend terms. "
   ]
  },
  {
   "cell_type": "markdown",
   "metadata": {},
   "source": [
    "### Exercise 89\n",
    "What are the cross effects between these?"
   ]
  },
  {
   "cell_type": "code",
   "execution_count": 8,
   "metadata": {
    "pycharm": {
     "is_executing": false,
     "name": "#%%\n"
    }
   },
   "outputs": [
    {
     "data": {
      "text/html": [
       "<div>\n",
       "<style scoped>\n",
       "    .dataframe tbody tr th:only-of-type {\n",
       "        vertical-align: middle;\n",
       "    }\n",
       "\n",
       "    .dataframe tbody tr th {\n",
       "        vertical-align: top;\n",
       "    }\n",
       "\n",
       "    .dataframe thead th {\n",
       "        text-align: right;\n",
       "    }\n",
       "</style>\n",
       "<table border=\"1\" class=\"dataframe\">\n",
       "  <thead>\n",
       "    <tr style=\"text-align: right;\">\n",
       "      <th></th>\n",
       "      <th></th>\n",
       "      <th>effect</th>\n",
       "    </tr>\n",
       "    <tr>\n",
       "      <th>lead</th>\n",
       "      <th>lag</th>\n",
       "      <th></th>\n",
       "    </tr>\n",
       "  </thead>\n",
       "  <tbody>\n",
       "    <tr>\n",
       "      <th rowspan=\"2\" valign=\"top\">spread</th>\n",
       "      <th>gs1</th>\n",
       "      <td>0.017248</td>\n",
       "    </tr>\n",
       "    <tr>\n",
       "      <th>deflg</th>\n",
       "      <td>-8.881401</td>\n",
       "    </tr>\n",
       "    <tr>\n",
       "      <th rowspan=\"2\" valign=\"top\">gs1</th>\n",
       "      <th>spread</th>\n",
       "      <td>0.006413</td>\n",
       "    </tr>\n",
       "    <tr>\n",
       "      <th>deflg</th>\n",
       "      <td>30.073181</td>\n",
       "    </tr>\n",
       "    <tr>\n",
       "      <th rowspan=\"2\" valign=\"top\">deflg</th>\n",
       "      <th>spread</th>\n",
       "      <td>-0.000299</td>\n",
       "    </tr>\n",
       "    <tr>\n",
       "      <th>gs1</th>\n",
       "      <td>0.000158</td>\n",
       "    </tr>\n",
       "  </tbody>\n",
       "</table>\n",
       "</div>"
      ],
      "text/plain": [
       "                  effect\n",
       "lead   lag              \n",
       "spread gs1      0.017248\n",
       "       deflg   -8.881401\n",
       "gs1    spread   0.006413\n",
       "       deflg   30.073181\n",
       "deflg  spread  -0.000299\n",
       "       gs1      0.000158"
      ]
     },
     "execution_count": 8,
     "metadata": {},
     "output_type": "execute_result"
    }
   ],
   "source": [
    "other_effects = {}\n",
    "for var in res.params:\n",
    "    for other in res.params:\n",
    "        if other == var:\n",
    "            continue\n",
    "        other_effects[(var, other)] = res.params.loc[f\"L1.{other}\", var]\n",
    "\n",
    "s = pd.Series(other_effects, name=\"effect\")\n",
    "s.index = s.index.set_names([\"lead\", \"lag\"])\n",
    "pd.DataFrame(s)"
   ]
  },
  {
   "cell_type": "markdown",
   "metadata": {},
   "source": [
    "#### Explanation\n",
    "\n",
    "These effects are hard to interpret since the series have not been\n",
    "standardized to have the same variance."
   ]
  },
  {
   "cell_type": "markdown",
   "metadata": {},
   "source": [
    "### Exercise 90\n",
    "How could you get a sense of the persistence of this system?"
   ]
  },
  {
   "cell_type": "code",
   "execution_count": 9,
   "metadata": {
    "pycharm": {
     "is_executing": false,
     "name": "#%%\n"
    }
   },
   "outputs": [
    {
     "name": "stdout",
     "output_type": "stream",
     "text": [
      "The maximum eigenval is 0.9565826582275834\n"
     ]
    }
   ],
   "source": [
    "# Exclude the constant\n",
    "phi = res.params.iloc[1:]\n",
    "evals = np.linalg.eigvals(phi)\n",
    "print(f\"The maximum eigenval is {np.max(np.abs(evals))}\")"
   ]
  },
  {
   "cell_type": "markdown",
   "metadata": {},
   "source": [
    "#### Explanation\n",
    "\n",
    "The maximum eigenvalue of the VAR(1) parameters provides a measure of the\n",
    "persistence in the model. It is close to 1 so these values are highly\n",
    "persistent."
   ]
  },
  {
   "cell_type": "code",
   "execution_count": 10,
   "metadata": {
    "pycharm": {
     "is_executing": false,
     "name": "#%%\n"
    }
   },
   "outputs": [
    {
     "data": {
      "text/html": [
       "<div>\n",
       "<style scoped>\n",
       "    .dataframe tbody tr th:only-of-type {\n",
       "        vertical-align: middle;\n",
       "    }\n",
       "\n",
       "    .dataframe tbody tr th {\n",
       "        vertical-align: top;\n",
       "    }\n",
       "\n",
       "    .dataframe thead th {\n",
       "        text-align: right;\n",
       "    }\n",
       "</style>\n",
       "<table border=\"1\" class=\"dataframe\">\n",
       "  <thead>\n",
       "    <tr style=\"text-align: right;\">\n",
       "      <th></th>\n",
       "      <th>spread</th>\n",
       "      <th>gs1</th>\n",
       "      <th>deflg</th>\n",
       "    </tr>\n",
       "  </thead>\n",
       "  <tbody>\n",
       "    <tr>\n",
       "      <th>L1.spread</th>\n",
       "      <td>0.926595</td>\n",
       "      <td>0.002092</td>\n",
       "      <td>-0.056719</td>\n",
       "    </tr>\n",
       "    <tr>\n",
       "      <th>L1.gs1</th>\n",
       "      <td>0.052879</td>\n",
       "      <td>0.944286</td>\n",
       "      <td>0.092085</td>\n",
       "    </tr>\n",
       "    <tr>\n",
       "      <th>L1.deflg</th>\n",
       "      <td>-0.046769</td>\n",
       "      <td>0.051655</td>\n",
       "      <td>0.782960</td>\n",
       "    </tr>\n",
       "  </tbody>\n",
       "</table>\n",
       "</div>"
      ],
      "text/plain": [
       "             spread       gs1     deflg\n",
       "L1.spread  0.926595  0.002092 -0.056719\n",
       "L1.gs1     0.052879  0.944286  0.092085\n",
       "L1.deflg  -0.046769  0.051655  0.782960"
      ]
     },
     "execution_count": 10,
     "metadata": {},
     "output_type": "execute_result"
    }
   ],
   "source": [
    "std_data = data / data.std()\n",
    "mod = tsa.VAR(std_data[[\"spread\", \"gs1\", \"deflg\"]])\n",
    "res = mod.fit(1, trend=\"c\", ic=None)\n",
    "\n",
    "res.params.iloc[1:]"
   ]
  },
  {
   "cell_type": "code",
   "execution_count": 11,
   "metadata": {
    "pycharm": {
     "is_executing": false,
     "name": "#%%\n"
    }
   },
   "outputs": [
    {
     "name": "stdout",
     "output_type": "stream",
     "text": [
      "The maximum eigenval is 0.9565826582275723\n"
     ]
    }
   ],
   "source": [
    "phi = res.params.iloc[1:]\n",
    "evals = np.linalg.eigvals(phi)\n",
    "print(f\"The maximum eigenval is {np.max(np.abs(evals))}\")"
   ]
  },
  {
   "cell_type": "markdown",
   "metadata": {},
   "source": [
    "#### Explanation\n",
    "\n",
    "We repeat the exercise using data standardized by their standard deviations.\n",
    "While the coefficients change (except own effects), the eigenvalues are unaffected. \n",
    "The coefficients are directly interpretable in terms of a 1 standard deviation change\n",
    "in each variable."
   ]
  }
 ],
 "metadata": {
  "kernelspec": {
   "display_name": "Python 3 (ipykernel)",
   "language": "python",
   "name": "python3"
  },
  "language_info": {
   "codemirror_mode": {
    "name": "ipython",
    "version": 3
   },
   "file_extension": ".py",
   "mimetype": "text/x-python",
   "name": "python",
   "nbconvert_exporter": "python",
   "pygments_lexer": "ipython3",
   "version": "3.13.5"
  },
  "pycharm": {
   "stem_cell": {
    "cell_type": "raw",
    "metadata": {
     "collapsed": false
    },
    "source": []
   }
  }
 },
 "nbformat": 4,
 "nbformat_minor": 4
}
