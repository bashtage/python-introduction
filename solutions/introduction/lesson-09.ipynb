{
 "cells": [
  {
   "cell_type": "markdown",
   "metadata": {},
   "source": [
    "# Common DataFrame methods\n",
    "\n",
    "This lesson introduces the common `DataFrame` methods that\n",
    "we will repeatedly use in the course. \n",
    "\n",
    "This first cell load data for use in this lesson."
   ]
  },
  {
   "cell_type": "code",
   "execution_count": 1,
   "metadata": {
    "execution": {
     "iopub.execute_input": "2025-08-27T07:32:25.656186Z",
     "iopub.status.busy": "2025-08-27T07:32:25.656186Z",
     "iopub.status.idle": "2025-08-27T07:32:26.089051Z",
     "shell.execute_reply": "2025-08-27T07:32:26.087979Z"
    },
    "pycharm": {
     "is_executing": false,
     "name": "#%%\n"
    }
   },
   "outputs": [],
   "source": [
    "# Setup: Load prices\n",
    "import pandas as pd\n",
    "\n",
    "prices = pd.read_hdf(\"data/dataframes.h5\", \"prices\")\n",
    "sep_04 = pd.read_hdf(\"data/dataframes.h5\", \"sep_04\")\n",
    "goog = pd.read_hdf(\"data/dataframes.h5\", \"goog\")\n",
    "returns = prices.pct_change().dropna()\n",
    "spy_returns = returns.SPY\n",
    "aapl_returns = returns.AAPL\n",
    "goog_returns = returns.GOOG"
   ]
  },
  {
   "cell_type": "markdown",
   "metadata": {},
   "source": [
    "## Problem: Constructing portfolio returns\n",
    "\n",
    "Compute the return of a portfolio with weight $\\frac{1}{3}$ in each security using\n",
    "multiplication (`*`) and `.sum()`.\n",
    "\n",
    "**Note**: You need to use the `axis` keyword for the sum."
   ]
  },
  {
   "cell_type": "code",
   "execution_count": 2,
   "metadata": {
    "execution": {
     "iopub.execute_input": "2025-08-27T07:32:26.090051Z",
     "iopub.status.busy": "2025-08-27T07:32:26.090051Z",
     "iopub.status.idle": "2025-08-27T07:32:26.100221Z",
     "shell.execute_reply": "2025-08-27T07:32:26.100221Z"
    },
    "pycharm": {
     "is_executing": false,
     "name": "#%%\n"
    }
   },
   "outputs": [
    {
     "data": {
      "text/plain": [
       "2018-09-05   -0.006002\n",
       "2018-09-06   -0.010768\n",
       "2018-09-07   -0.005218\n",
       "2018-09-10   -0.003948\n",
       "2018-09-11    0.013167\n",
       "2018-09-12   -0.008176\n",
       "2018-09-13    0.013609\n",
       "2018-09-14   -0.004520\n",
       "2018-09-17   -0.015325\n",
       "2018-09-18    0.003850\n",
       "2018-09-19   -0.002537\n",
       "dtype: float64"
      ]
     },
     "execution_count": 2,
     "metadata": {},
     "output_type": "execute_result"
    }
   ],
   "source": [
    "import numpy as np\n",
    "\n",
    "w = np.ones(3) / 3\n",
    "weighted_rets = returns * w\n",
    "port_ret = weighted_rets.sum(axis=1)\n",
    "port_ret"
   ]
  },
  {
   "cell_type": "markdown",
   "metadata": {},
   "source": [
    "## Problem: Compute the Mean and Standard Deviation\n",
    "\n",
    "Using the function mean, compute the mean of the three returns series one at a time. For example  \n",
    "```python\n",
    "goog_mean = goog_returns.mean()\n",
    "```\n",
    "Next, compute the mean of the matrix of returns using  \n",
    "\n",
    "```python\n",
    "retmean = returns.mean()\n",
    "```\n",
    "\n",
    "What is the relationship between these two? Repeat this exercise for the standard deviation (`std()`).\n"
   ]
  },
  {
   "cell_type": "code",
   "execution_count": 3,
   "metadata": {
    "execution": {
     "iopub.execute_input": "2025-08-27T07:32:26.103231Z",
     "iopub.status.busy": "2025-08-27T07:32:26.102229Z",
     "iopub.status.idle": "2025-08-27T07:32:26.106310Z",
     "shell.execute_reply": "2025-08-27T07:32:26.106310Z"
    },
    "pycharm": {
     "is_executing": false,
     "name": "#%%\n"
    }
   },
   "outputs": [
    {
     "name": "stdout",
     "output_type": "stream",
     "text": [
      "0.0005157696449953846 -0.0046607598305810375 -0.0029096851629990942\n"
     ]
    }
   ],
   "source": [
    "goog_mean = goog_returns.mean()\n",
    "spy_mean = spy_returns.mean()\n",
    "aapl_mean = aapl_returns.mean()\n",
    "print(spy_mean, aapl_mean, goog_mean)"
   ]
  },
  {
   "cell_type": "code",
   "execution_count": 4,
   "metadata": {
    "execution": {
     "iopub.execute_input": "2025-08-27T07:32:26.108316Z",
     "iopub.status.busy": "2025-08-27T07:32:26.108316Z",
     "iopub.status.idle": "2025-08-27T07:32:26.113892Z",
     "shell.execute_reply": "2025-08-27T07:32:26.113892Z"
    },
    "pycharm": {
     "is_executing": false,
     "name": "#%%\n"
    }
   },
   "outputs": [
    {
     "data": {
      "text/plain": [
       "SPY     0.000516\n",
       "AAPL   -0.004661\n",
       "GOOG   -0.002910\n",
       "dtype: float64"
      ]
     },
     "execution_count": 4,
     "metadata": {},
     "output_type": "execute_result"
    }
   ],
   "source": [
    "returns.mean()"
   ]
  },
  {
   "cell_type": "code",
   "execution_count": 5,
   "metadata": {
    "execution": {
     "iopub.execute_input": "2025-08-27T07:32:26.113892Z",
     "iopub.status.busy": "2025-08-27T07:32:26.113892Z",
     "iopub.status.idle": "2025-08-27T07:32:26.123238Z",
     "shell.execute_reply": "2025-08-27T07:32:26.122708Z"
    },
    "pycharm": {
     "is_executing": false,
     "name": "#%%\n"
    }
   },
   "outputs": [
    {
     "data": {
      "text/plain": [
       "SPY     0.003562\n",
       "AAPL    0.016113\n",
       "GOOG    0.008899\n",
       "dtype: float64"
      ]
     },
     "execution_count": 5,
     "metadata": {},
     "output_type": "execute_result"
    }
   ],
   "source": [
    "returns.std()"
   ]
  },
  {
   "cell_type": "markdown",
   "metadata": {
    "pycharm": {
     "name": "#%% md\n"
    }
   },
   "source": [
    "## Problem: Compute Correlation\n",
    "Compute the correlation of the matrix of returns (`corr()`). "
   ]
  },
  {
   "cell_type": "code",
   "execution_count": 6,
   "metadata": {
    "execution": {
     "iopub.execute_input": "2025-08-27T07:32:26.125345Z",
     "iopub.status.busy": "2025-08-27T07:32:26.125345Z",
     "iopub.status.idle": "2025-08-27T07:32:26.134348Z",
     "shell.execute_reply": "2025-08-27T07:32:26.134348Z"
    },
    "pycharm": {
     "is_executing": false,
     "name": "#%%\n"
    }
   },
   "outputs": [
    {
     "data": {
      "text/html": [
       "<div>\n",
       "<style scoped>\n",
       "    .dataframe tbody tr th:only-of-type {\n",
       "        vertical-align: middle;\n",
       "    }\n",
       "\n",
       "    .dataframe tbody tr th {\n",
       "        vertical-align: top;\n",
       "    }\n",
       "\n",
       "    .dataframe thead th {\n",
       "        text-align: right;\n",
       "    }\n",
       "</style>\n",
       "<table border=\"1\" class=\"dataframe\">\n",
       "  <thead>\n",
       "    <tr style=\"text-align: right;\">\n",
       "      <th></th>\n",
       "      <th>SPY</th>\n",
       "      <th>AAPL</th>\n",
       "      <th>GOOG</th>\n",
       "    </tr>\n",
       "  </thead>\n",
       "  <tbody>\n",
       "    <tr>\n",
       "      <th>SPY</th>\n",
       "      <td>1.000000</td>\n",
       "      <td>0.773894</td>\n",
       "      <td>0.883557</td>\n",
       "    </tr>\n",
       "    <tr>\n",
       "      <th>AAPL</th>\n",
       "      <td>0.773894</td>\n",
       "      <td>1.000000</td>\n",
       "      <td>0.892719</td>\n",
       "    </tr>\n",
       "    <tr>\n",
       "      <th>GOOG</th>\n",
       "      <td>0.883557</td>\n",
       "      <td>0.892719</td>\n",
       "      <td>1.000000</td>\n",
       "    </tr>\n",
       "  </tbody>\n",
       "</table>\n",
       "</div>"
      ],
      "text/plain": [
       "           SPY      AAPL      GOOG\n",
       "SPY   1.000000  0.773894  0.883557\n",
       "AAPL  0.773894  1.000000  0.892719\n",
       "GOOG  0.883557  0.892719  1.000000"
      ]
     },
     "execution_count": 6,
     "metadata": {},
     "output_type": "execute_result"
    }
   ],
   "source": [
    "returns.corr()"
   ]
  },
  {
   "cell_type": "markdown",
   "metadata": {},
   "source": [
    "## Problem: Summing all elements\n",
    "\n",
    "Compute the sum of the columns of returns using `.sum()`. How is this related to the mean computed \n",
    "in the previous step? "
   ]
  },
  {
   "cell_type": "code",
   "execution_count": 7,
   "metadata": {
    "execution": {
     "iopub.execute_input": "2025-08-27T07:32:26.136701Z",
     "iopub.status.busy": "2025-08-27T07:32:26.136701Z",
     "iopub.status.idle": "2025-08-27T07:32:26.143575Z",
     "shell.execute_reply": "2025-08-27T07:32:26.142567Z"
    },
    "pycharm": {
     "is_executing": false,
     "name": "#%%\n"
    }
   },
   "outputs": [
    {
     "data": {
      "text/plain": [
       "SPY     0.000516\n",
       "AAPL   -0.004661\n",
       "GOOG   -0.002910\n",
       "dtype: float64"
      ]
     },
     "execution_count": 7,
     "metadata": {},
     "output_type": "execute_result"
    }
   ],
   "source": [
    "returns.mean()"
   ]
  },
  {
   "cell_type": "code",
   "execution_count": 8,
   "metadata": {
    "execution": {
     "iopub.execute_input": "2025-08-27T07:32:26.145572Z",
     "iopub.status.busy": "2025-08-27T07:32:26.145572Z",
     "iopub.status.idle": "2025-08-27T07:32:26.150504Z",
     "shell.execute_reply": "2025-08-27T07:32:26.150504Z"
    },
    "pycharm": {
     "is_executing": false,
     "name": "#%%\n"
    }
   },
   "outputs": [
    {
     "data": {
      "text/plain": [
       "SPY     0.000516\n",
       "AAPL   -0.004661\n",
       "GOOG   -0.002910\n",
       "dtype: float64"
      ]
     },
     "execution_count": 8,
     "metadata": {},
     "output_type": "execute_result"
    }
   ],
   "source": [
    "nobs = returns.shape[0]\n",
    "returns.sum() / nobs"
   ]
  },
  {
   "cell_type": "markdown",
   "metadata": {},
   "source": [
    "## Problem: Maximum and Minimum Values\n",
    "Compute the minimum and maximum values of the columns of returns using the `min()` and `max()` commands. "
   ]
  },
  {
   "cell_type": "code",
   "execution_count": 9,
   "metadata": {
    "execution": {
     "iopub.execute_input": "2025-08-27T07:32:26.153513Z",
     "iopub.status.busy": "2025-08-27T07:32:26.152512Z",
     "iopub.status.idle": "2025-08-27T07:32:26.158212Z",
     "shell.execute_reply": "2025-08-27T07:32:26.158212Z"
    },
    "pycharm": {
     "is_executing": false,
     "name": "#%%\n"
    }
   },
   "outputs": [
    {
     "data": {
      "text/plain": [
       "SPY    -0.005294\n",
       "AAPL   -0.026626\n",
       "GOOG   -0.014055\n",
       "dtype: float64"
      ]
     },
     "execution_count": 9,
     "metadata": {},
     "output_type": "execute_result"
    }
   ],
   "source": [
    "returns.min()"
   ]
  },
  {
   "cell_type": "code",
   "execution_count": 10,
   "metadata": {
    "execution": {
     "iopub.execute_input": "2025-08-27T07:32:26.158212Z",
     "iopub.status.busy": "2025-08-27T07:32:26.158212Z",
     "iopub.status.idle": "2025-08-27T07:32:26.164850Z",
     "shell.execute_reply": "2025-08-27T07:32:26.164850Z"
    },
    "pycharm": {
     "is_executing": false,
     "name": "#%%\n"
    }
   },
   "outputs": [
    {
     "data": {
      "text/plain": [
       "SPY     0.005914\n",
       "AAPL    0.025283\n",
       "GOOG    0.010922\n",
       "dtype: float64"
      ]
     },
     "execution_count": 10,
     "metadata": {},
     "output_type": "execute_result"
    }
   ],
   "source": [
    "returns.max()"
   ]
  },
  {
   "cell_type": "markdown",
   "metadata": {},
   "source": [
    "## Problem: Rounding Up, Down and to the Closest Integer\n",
    "\n",
    "Rounding up is handled by ceil, rounding down is handled by floor and rounding to the closest \n",
    "integer is handled by round. Try all of these commands on 100 times returns. For example,  \n",
    "```python\n",
    "rounded = (100*returns).round()\n",
    "``` \n",
    "\n",
    "Use `ceil` and `floor` to round up and down, respectively."
   ]
  },
  {
   "cell_type": "code",
   "execution_count": 11,
   "metadata": {
    "execution": {
     "iopub.execute_input": "2025-08-27T07:32:26.164850Z",
     "iopub.status.busy": "2025-08-27T07:32:26.164850Z",
     "iopub.status.idle": "2025-08-27T07:32:26.175945Z",
     "shell.execute_reply": "2025-08-27T07:32:26.175945Z"
    },
    "pycharm": {
     "is_executing": false,
     "name": "#%%\n"
    }
   },
   "outputs": [
    {
     "data": {
      "text/html": [
       "<div>\n",
       "<style scoped>\n",
       "    .dataframe tbody tr th:only-of-type {\n",
       "        vertical-align: middle;\n",
       "    }\n",
       "\n",
       "    .dataframe tbody tr th {\n",
       "        vertical-align: top;\n",
       "    }\n",
       "\n",
       "    .dataframe thead th {\n",
       "        text-align: right;\n",
       "    }\n",
       "</style>\n",
       "<table border=\"1\" class=\"dataframe\">\n",
       "  <thead>\n",
       "    <tr style=\"text-align: right;\">\n",
       "      <th></th>\n",
       "      <th>SPY</th>\n",
       "      <th>AAPL</th>\n",
       "      <th>GOOG</th>\n",
       "    </tr>\n",
       "  </thead>\n",
       "  <tbody>\n",
       "    <tr>\n",
       "      <th>2018-09-05</th>\n",
       "      <td>-0.0</td>\n",
       "      <td>-1.0</td>\n",
       "      <td>-1.0</td>\n",
       "    </tr>\n",
       "    <tr>\n",
       "      <th>2018-09-06</th>\n",
       "      <td>-0.0</td>\n",
       "      <td>-2.0</td>\n",
       "      <td>-1.0</td>\n",
       "    </tr>\n",
       "    <tr>\n",
       "      <th>2018-09-07</th>\n",
       "      <td>-0.0</td>\n",
       "      <td>-1.0</td>\n",
       "      <td>-1.0</td>\n",
       "    </tr>\n",
       "    <tr>\n",
       "      <th>2018-09-10</th>\n",
       "      <td>0.0</td>\n",
       "      <td>-1.0</td>\n",
       "      <td>-0.0</td>\n",
       "    </tr>\n",
       "    <tr>\n",
       "      <th>2018-09-11</th>\n",
       "      <td>0.0</td>\n",
       "      <td>3.0</td>\n",
       "      <td>1.0</td>\n",
       "    </tr>\n",
       "    <tr>\n",
       "      <th>2018-09-12</th>\n",
       "      <td>0.0</td>\n",
       "      <td>-1.0</td>\n",
       "      <td>-1.0</td>\n",
       "    </tr>\n",
       "    <tr>\n",
       "      <th>2018-09-13</th>\n",
       "      <td>1.0</td>\n",
       "      <td>2.0</td>\n",
       "      <td>1.0</td>\n",
       "    </tr>\n",
       "    <tr>\n",
       "      <th>2018-09-14</th>\n",
       "      <td>0.0</td>\n",
       "      <td>-1.0</td>\n",
       "      <td>-0.0</td>\n",
       "    </tr>\n",
       "    <tr>\n",
       "      <th>2018-09-17</th>\n",
       "      <td>-1.0</td>\n",
       "      <td>-3.0</td>\n",
       "      <td>-1.0</td>\n",
       "    </tr>\n",
       "    <tr>\n",
       "      <th>2018-09-18</th>\n",
       "      <td>1.0</td>\n",
       "      <td>0.0</td>\n",
       "      <td>0.0</td>\n",
       "    </tr>\n",
       "    <tr>\n",
       "      <th>2018-09-19</th>\n",
       "      <td>0.0</td>\n",
       "      <td>-1.0</td>\n",
       "      <td>-0.0</td>\n",
       "    </tr>\n",
       "  </tbody>\n",
       "</table>\n",
       "</div>"
      ],
      "text/plain": [
       "            SPY  AAPL  GOOG\n",
       "2018-09-05 -0.0  -1.0  -1.0\n",
       "2018-09-06 -0.0  -2.0  -1.0\n",
       "2018-09-07 -0.0  -1.0  -1.0\n",
       "2018-09-10  0.0  -1.0  -0.0\n",
       "2018-09-11  0.0   3.0   1.0\n",
       "2018-09-12  0.0  -1.0  -1.0\n",
       "2018-09-13  1.0   2.0   1.0\n",
       "2018-09-14  0.0  -1.0  -0.0\n",
       "2018-09-17 -1.0  -3.0  -1.0\n",
       "2018-09-18  1.0   0.0   0.0\n",
       "2018-09-19  0.0  -1.0  -0.0"
      ]
     },
     "execution_count": 11,
     "metadata": {},
     "output_type": "execute_result"
    }
   ],
   "source": [
    "rounded = (100 * returns).round()\n",
    "rounded"
   ]
  },
  {
   "cell_type": "code",
   "execution_count": 12,
   "metadata": {
    "execution": {
     "iopub.execute_input": "2025-08-27T07:32:26.175945Z",
     "iopub.status.busy": "2025-08-27T07:32:26.175945Z",
     "iopub.status.idle": "2025-08-27T07:32:26.186658Z",
     "shell.execute_reply": "2025-08-27T07:32:26.186658Z"
    },
    "pycharm": {
     "is_executing": false,
     "name": "#%%\n"
    }
   },
   "outputs": [
    {
     "data": {
      "text/html": [
       "<div>\n",
       "<style scoped>\n",
       "    .dataframe tbody tr th:only-of-type {\n",
       "        vertical-align: middle;\n",
       "    }\n",
       "\n",
       "    .dataframe tbody tr th {\n",
       "        vertical-align: top;\n",
       "    }\n",
       "\n",
       "    .dataframe thead th {\n",
       "        text-align: right;\n",
       "    }\n",
       "</style>\n",
       "<table border=\"1\" class=\"dataframe\">\n",
       "  <thead>\n",
       "    <tr style=\"text-align: right;\">\n",
       "      <th></th>\n",
       "      <th>SPY</th>\n",
       "      <th>AAPL</th>\n",
       "      <th>GOOG</th>\n",
       "    </tr>\n",
       "  </thead>\n",
       "  <tbody>\n",
       "    <tr>\n",
       "      <th>2018-09-05</th>\n",
       "      <td>-0.0</td>\n",
       "      <td>-0.0</td>\n",
       "      <td>-0.0</td>\n",
       "    </tr>\n",
       "    <tr>\n",
       "      <th>2018-09-06</th>\n",
       "      <td>-0.0</td>\n",
       "      <td>-1.0</td>\n",
       "      <td>-1.0</td>\n",
       "    </tr>\n",
       "    <tr>\n",
       "      <th>2018-09-07</th>\n",
       "      <td>-0.0</td>\n",
       "      <td>-0.0</td>\n",
       "      <td>-0.0</td>\n",
       "    </tr>\n",
       "    <tr>\n",
       "      <th>2018-09-10</th>\n",
       "      <td>1.0</td>\n",
       "      <td>-1.0</td>\n",
       "      <td>-0.0</td>\n",
       "    </tr>\n",
       "    <tr>\n",
       "      <th>2018-09-11</th>\n",
       "      <td>1.0</td>\n",
       "      <td>3.0</td>\n",
       "      <td>2.0</td>\n",
       "    </tr>\n",
       "    <tr>\n",
       "      <th>2018-09-12</th>\n",
       "      <td>1.0</td>\n",
       "      <td>-1.0</td>\n",
       "      <td>-1.0</td>\n",
       "    </tr>\n",
       "    <tr>\n",
       "      <th>2018-09-13</th>\n",
       "      <td>1.0</td>\n",
       "      <td>3.0</td>\n",
       "      <td>2.0</td>\n",
       "    </tr>\n",
       "    <tr>\n",
       "      <th>2018-09-14</th>\n",
       "      <td>1.0</td>\n",
       "      <td>-1.0</td>\n",
       "      <td>-0.0</td>\n",
       "    </tr>\n",
       "    <tr>\n",
       "      <th>2018-09-17</th>\n",
       "      <td>-0.0</td>\n",
       "      <td>-2.0</td>\n",
       "      <td>-1.0</td>\n",
       "    </tr>\n",
       "    <tr>\n",
       "      <th>2018-09-18</th>\n",
       "      <td>1.0</td>\n",
       "      <td>1.0</td>\n",
       "      <td>1.0</td>\n",
       "    </tr>\n",
       "    <tr>\n",
       "      <th>2018-09-19</th>\n",
       "      <td>1.0</td>\n",
       "      <td>-0.0</td>\n",
       "      <td>-0.0</td>\n",
       "    </tr>\n",
       "  </tbody>\n",
       "</table>\n",
       "</div>"
      ],
      "text/plain": [
       "            SPY  AAPL  GOOG\n",
       "2018-09-05 -0.0  -0.0  -0.0\n",
       "2018-09-06 -0.0  -1.0  -1.0\n",
       "2018-09-07 -0.0  -0.0  -0.0\n",
       "2018-09-10  1.0  -1.0  -0.0\n",
       "2018-09-11  1.0   3.0   2.0\n",
       "2018-09-12  1.0  -1.0  -1.0\n",
       "2018-09-13  1.0   3.0   2.0\n",
       "2018-09-14  1.0  -1.0  -0.0\n",
       "2018-09-17 -0.0  -2.0  -1.0\n",
       "2018-09-18  1.0   1.0   1.0\n",
       "2018-09-19  1.0  -0.0  -0.0"
      ]
     },
     "execution_count": 12,
     "metadata": {},
     "output_type": "execute_result"
    }
   ],
   "source": [
    "ceiled = np.ceil(100 * returns)\n",
    "ceiled"
   ]
  },
  {
   "cell_type": "code",
   "execution_count": 13,
   "metadata": {
    "execution": {
     "iopub.execute_input": "2025-08-27T07:32:26.188407Z",
     "iopub.status.busy": "2025-08-27T07:32:26.188407Z",
     "iopub.status.idle": "2025-08-27T07:32:26.197620Z",
     "shell.execute_reply": "2025-08-27T07:32:26.197620Z"
    },
    "pycharm": {
     "is_executing": false,
     "name": "#%%\n"
    }
   },
   "outputs": [
    {
     "data": {
      "text/html": [
       "<div>\n",
       "<style scoped>\n",
       "    .dataframe tbody tr th:only-of-type {\n",
       "        vertical-align: middle;\n",
       "    }\n",
       "\n",
       "    .dataframe tbody tr th {\n",
       "        vertical-align: top;\n",
       "    }\n",
       "\n",
       "    .dataframe thead th {\n",
       "        text-align: right;\n",
       "    }\n",
       "</style>\n",
       "<table border=\"1\" class=\"dataframe\">\n",
       "  <thead>\n",
       "    <tr style=\"text-align: right;\">\n",
       "      <th></th>\n",
       "      <th>SPY</th>\n",
       "      <th>AAPL</th>\n",
       "      <th>GOOG</th>\n",
       "    </tr>\n",
       "  </thead>\n",
       "  <tbody>\n",
       "    <tr>\n",
       "      <th>2018-09-05</th>\n",
       "      <td>-1.0</td>\n",
       "      <td>-1.0</td>\n",
       "      <td>-1.0</td>\n",
       "    </tr>\n",
       "    <tr>\n",
       "      <th>2018-09-06</th>\n",
       "      <td>-1.0</td>\n",
       "      <td>-2.0</td>\n",
       "      <td>-2.0</td>\n",
       "    </tr>\n",
       "    <tr>\n",
       "      <th>2018-09-07</th>\n",
       "      <td>-1.0</td>\n",
       "      <td>-1.0</td>\n",
       "      <td>-1.0</td>\n",
       "    </tr>\n",
       "    <tr>\n",
       "      <th>2018-09-10</th>\n",
       "      <td>0.0</td>\n",
       "      <td>-2.0</td>\n",
       "      <td>-1.0</td>\n",
       "    </tr>\n",
       "    <tr>\n",
       "      <th>2018-09-11</th>\n",
       "      <td>0.0</td>\n",
       "      <td>2.0</td>\n",
       "      <td>1.0</td>\n",
       "    </tr>\n",
       "    <tr>\n",
       "      <th>2018-09-12</th>\n",
       "      <td>0.0</td>\n",
       "      <td>-2.0</td>\n",
       "      <td>-2.0</td>\n",
       "    </tr>\n",
       "    <tr>\n",
       "      <th>2018-09-13</th>\n",
       "      <td>0.0</td>\n",
       "      <td>2.0</td>\n",
       "      <td>1.0</td>\n",
       "    </tr>\n",
       "    <tr>\n",
       "      <th>2018-09-14</th>\n",
       "      <td>0.0</td>\n",
       "      <td>-2.0</td>\n",
       "      <td>-1.0</td>\n",
       "    </tr>\n",
       "    <tr>\n",
       "      <th>2018-09-17</th>\n",
       "      <td>-1.0</td>\n",
       "      <td>-3.0</td>\n",
       "      <td>-2.0</td>\n",
       "    </tr>\n",
       "    <tr>\n",
       "      <th>2018-09-18</th>\n",
       "      <td>0.0</td>\n",
       "      <td>0.0</td>\n",
       "      <td>0.0</td>\n",
       "    </tr>\n",
       "    <tr>\n",
       "      <th>2018-09-19</th>\n",
       "      <td>0.0</td>\n",
       "      <td>-1.0</td>\n",
       "      <td>-1.0</td>\n",
       "    </tr>\n",
       "  </tbody>\n",
       "</table>\n",
       "</div>"
      ],
      "text/plain": [
       "            SPY  AAPL  GOOG\n",
       "2018-09-05 -1.0  -1.0  -1.0\n",
       "2018-09-06 -1.0  -2.0  -2.0\n",
       "2018-09-07 -1.0  -1.0  -1.0\n",
       "2018-09-10  0.0  -2.0  -1.0\n",
       "2018-09-11  0.0   2.0   1.0\n",
       "2018-09-12  0.0  -2.0  -2.0\n",
       "2018-09-13  0.0   2.0   1.0\n",
       "2018-09-14  0.0  -2.0  -1.0\n",
       "2018-09-17 -1.0  -3.0  -2.0\n",
       "2018-09-18  0.0   0.0   0.0\n",
       "2018-09-19  0.0  -1.0  -1.0"
      ]
     },
     "execution_count": 13,
     "metadata": {},
     "output_type": "execute_result"
    }
   ],
   "source": [
    "floored = np.floor(100 * returns)\n",
    "floored"
   ]
  },
  {
   "cell_type": "markdown",
   "metadata": {
    "pycharm": {
     "name": "#%% md\n"
    }
   },
   "source": [
    "## Exercises\n",
    "\n",
    "### Exercise: Compute Quantiles\n",
    "\n",
    "Compute the 5%, 25%, 50%, 75% and 95% quantiles of momentum using the `quantile`\n",
    "method.\n"
   ]
  },
  {
   "cell_type": "code",
   "execution_count": 14,
   "metadata": {
    "execution": {
     "iopub.execute_input": "2025-08-27T07:32:26.197620Z",
     "iopub.status.busy": "2025-08-27T07:32:26.197620Z",
     "iopub.status.idle": "2025-08-27T07:32:26.207667Z",
     "shell.execute_reply": "2025-08-27T07:32:26.207667Z"
    },
    "pycharm": {
     "name": "#%%\n"
    }
   },
   "outputs": [],
   "source": [
    "# Setup: Load data\n",
    "import pandas as pd\n",
    "\n",
    "momentum = pd.read_csv(\"data/momentum.csv\", index_col=\"date\", parse_dates=True)\n",
    "mom_10 = momentum.mom_10"
   ]
  },
  {
   "cell_type": "code",
   "execution_count": 15,
   "metadata": {
    "execution": {
     "iopub.execute_input": "2025-08-27T07:32:26.207667Z",
     "iopub.status.busy": "2025-08-27T07:32:26.207667Z",
     "iopub.status.idle": "2025-08-27T07:32:26.222757Z",
     "shell.execute_reply": "2025-08-27T07:32:26.222757Z"
    },
    "pycharm": {
     "name": "#%%\n"
    }
   },
   "outputs": [
    {
     "data": {
      "text/html": [
       "<div>\n",
       "<style scoped>\n",
       "    .dataframe tbody tr th:only-of-type {\n",
       "        vertical-align: middle;\n",
       "    }\n",
       "\n",
       "    .dataframe tbody tr th {\n",
       "        vertical-align: top;\n",
       "    }\n",
       "\n",
       "    .dataframe thead th {\n",
       "        text-align: right;\n",
       "    }\n",
       "</style>\n",
       "<table border=\"1\" class=\"dataframe\">\n",
       "  <thead>\n",
       "    <tr style=\"text-align: right;\">\n",
       "      <th></th>\n",
       "      <th>mom_01</th>\n",
       "      <th>mom_02</th>\n",
       "      <th>mom_03</th>\n",
       "      <th>mom_04</th>\n",
       "      <th>mom_05</th>\n",
       "      <th>mom_06</th>\n",
       "      <th>mom_07</th>\n",
       "      <th>mom_08</th>\n",
       "      <th>mom_09</th>\n",
       "      <th>mom_10</th>\n",
       "    </tr>\n",
       "  </thead>\n",
       "  <tbody>\n",
       "    <tr>\n",
       "      <th>0.05</th>\n",
       "      <td>-2.487</td>\n",
       "      <td>-1.556</td>\n",
       "      <td>-1.326</td>\n",
       "      <td>-1.187</td>\n",
       "      <td>-1.128</td>\n",
       "      <td>-1.015</td>\n",
       "      <td>-1.116</td>\n",
       "      <td>-1.148</td>\n",
       "      <td>-1.198</td>\n",
       "      <td>-1.597</td>\n",
       "    </tr>\n",
       "    <tr>\n",
       "      <th>0.25</th>\n",
       "      <td>-0.615</td>\n",
       "      <td>-0.385</td>\n",
       "      <td>-0.305</td>\n",
       "      <td>-0.260</td>\n",
       "      <td>-0.210</td>\n",
       "      <td>-0.250</td>\n",
       "      <td>-0.280</td>\n",
       "      <td>-0.290</td>\n",
       "      <td>-0.330</td>\n",
       "      <td>-0.395</td>\n",
       "    </tr>\n",
       "    <tr>\n",
       "      <th>0.50</th>\n",
       "      <td>0.080</td>\n",
       "      <td>0.050</td>\n",
       "      <td>0.070</td>\n",
       "      <td>0.050</td>\n",
       "      <td>0.060</td>\n",
       "      <td>0.070</td>\n",
       "      <td>0.070</td>\n",
       "      <td>0.080</td>\n",
       "      <td>0.070</td>\n",
       "      <td>0.120</td>\n",
       "    </tr>\n",
       "    <tr>\n",
       "      <th>0.75</th>\n",
       "      <td>0.890</td>\n",
       "      <td>0.645</td>\n",
       "      <td>0.480</td>\n",
       "      <td>0.465</td>\n",
       "      <td>0.405</td>\n",
       "      <td>0.440</td>\n",
       "      <td>0.420</td>\n",
       "      <td>0.465</td>\n",
       "      <td>0.430</td>\n",
       "      <td>0.615</td>\n",
       "    </tr>\n",
       "    <tr>\n",
       "      <th>0.95</th>\n",
       "      <td>2.798</td>\n",
       "      <td>2.094</td>\n",
       "      <td>1.618</td>\n",
       "      <td>1.320</td>\n",
       "      <td>1.339</td>\n",
       "      <td>1.158</td>\n",
       "      <td>1.164</td>\n",
       "      <td>1.230</td>\n",
       "      <td>1.319</td>\n",
       "      <td>1.440</td>\n",
       "    </tr>\n",
       "  </tbody>\n",
       "</table>\n",
       "</div>"
      ],
      "text/plain": [
       "      mom_01  mom_02  mom_03  mom_04  mom_05  mom_06  mom_07  mom_08  mom_09  \\\n",
       "0.05  -2.487  -1.556  -1.326  -1.187  -1.128  -1.015  -1.116  -1.148  -1.198   \n",
       "0.25  -0.615  -0.385  -0.305  -0.260  -0.210  -0.250  -0.280  -0.290  -0.330   \n",
       "0.50   0.080   0.050   0.070   0.050   0.060   0.070   0.070   0.080   0.070   \n",
       "0.75   0.890   0.645   0.480   0.465   0.405   0.440   0.420   0.465   0.430   \n",
       "0.95   2.798   2.094   1.618   1.320   1.339   1.158   1.164   1.230   1.319   \n",
       "\n",
       "      mom_10  \n",
       "0.05  -1.597  \n",
       "0.25  -0.395  \n",
       "0.50   0.120  \n",
       "0.75   0.615  \n",
       "0.95   1.440  "
      ]
     },
     "execution_count": 15,
     "metadata": {},
     "output_type": "execute_result"
    }
   ],
   "source": [
    "momentum.quantile([0.05, 0.25, 0.5, 0.75, 0.95])"
   ]
  },
  {
   "cell_type": "markdown",
   "metadata": {
    "pycharm": {
     "name": "#%% md\n"
    }
   },
   "source": [
    "### Exercise: Sorting\n",
    "\n",
    "Use `sort_values` to sort momentum by the column `mom_10`. Verify that the\n",
    "sort was successful by looking at the minimum of a diff."
   ]
  },
  {
   "cell_type": "code",
   "execution_count": 16,
   "metadata": {
    "execution": {
     "iopub.execute_input": "2025-08-27T07:32:26.222757Z",
     "iopub.status.busy": "2025-08-27T07:32:26.222757Z",
     "iopub.status.idle": "2025-08-27T07:32:26.239624Z",
     "shell.execute_reply": "2025-08-27T07:32:26.239624Z"
    },
    "pycharm": {
     "name": "#%%\n"
    }
   },
   "outputs": [
    {
     "data": {
      "text/html": [
       "<div>\n",
       "<style scoped>\n",
       "    .dataframe tbody tr th:only-of-type {\n",
       "        vertical-align: middle;\n",
       "    }\n",
       "\n",
       "    .dataframe tbody tr th {\n",
       "        vertical-align: top;\n",
       "    }\n",
       "\n",
       "    .dataframe thead th {\n",
       "        text-align: right;\n",
       "    }\n",
       "</style>\n",
       "<table border=\"1\" class=\"dataframe\">\n",
       "  <thead>\n",
       "    <tr style=\"text-align: right;\">\n",
       "      <th></th>\n",
       "      <th>mom_01</th>\n",
       "      <th>mom_02</th>\n",
       "      <th>mom_03</th>\n",
       "      <th>mom_04</th>\n",
       "      <th>mom_05</th>\n",
       "      <th>mom_06</th>\n",
       "      <th>mom_07</th>\n",
       "      <th>mom_08</th>\n",
       "      <th>mom_09</th>\n",
       "      <th>mom_10</th>\n",
       "    </tr>\n",
       "    <tr>\n",
       "      <th>date</th>\n",
       "      <th></th>\n",
       "      <th></th>\n",
       "      <th></th>\n",
       "      <th></th>\n",
       "      <th></th>\n",
       "      <th></th>\n",
       "      <th></th>\n",
       "      <th></th>\n",
       "      <th></th>\n",
       "      <th></th>\n",
       "    </tr>\n",
       "  </thead>\n",
       "  <tbody>\n",
       "    <tr>\n",
       "      <th>2017-05-17</th>\n",
       "      <td>-1.83</td>\n",
       "      <td>-1.02</td>\n",
       "      <td>-1.12</td>\n",
       "      <td>-1.42</td>\n",
       "      <td>-1.21</td>\n",
       "      <td>-1.74</td>\n",
       "      <td>-2.49</td>\n",
       "      <td>-2.55</td>\n",
       "      <td>-3.08</td>\n",
       "      <td>-4.30</td>\n",
       "    </tr>\n",
       "    <tr>\n",
       "      <th>2017-03-21</th>\n",
       "      <td>-1.68</td>\n",
       "      <td>-0.69</td>\n",
       "      <td>-0.58</td>\n",
       "      <td>-0.89</td>\n",
       "      <td>-1.32</td>\n",
       "      <td>-1.14</td>\n",
       "      <td>-1.66</td>\n",
       "      <td>-2.21</td>\n",
       "      <td>-2.91</td>\n",
       "      <td>-4.03</td>\n",
       "    </tr>\n",
       "    <tr>\n",
       "      <th>2016-02-05</th>\n",
       "      <td>-2.49</td>\n",
       "      <td>-2.40</td>\n",
       "      <td>-1.52</td>\n",
       "      <td>-1.77</td>\n",
       "      <td>-1.77</td>\n",
       "      <td>-0.93</td>\n",
       "      <td>-1.47</td>\n",
       "      <td>-1.62</td>\n",
       "      <td>-2.04</td>\n",
       "      <td>-3.91</td>\n",
       "    </tr>\n",
       "    <tr>\n",
       "      <th>2016-01-13</th>\n",
       "      <td>-4.88</td>\n",
       "      <td>-3.06</td>\n",
       "      <td>-2.70</td>\n",
       "      <td>-2.00</td>\n",
       "      <td>-2.34</td>\n",
       "      <td>-2.18</td>\n",
       "      <td>-2.44</td>\n",
       "      <td>-2.77</td>\n",
       "      <td>-2.65</td>\n",
       "      <td>-3.71</td>\n",
       "    </tr>\n",
       "    <tr>\n",
       "      <th>2016-09-09</th>\n",
       "      <td>-3.09</td>\n",
       "      <td>-2.88</td>\n",
       "      <td>-1.88</td>\n",
       "      <td>-2.28</td>\n",
       "      <td>-2.05</td>\n",
       "      <td>-2.39</td>\n",
       "      <td>-2.47</td>\n",
       "      <td>-2.54</td>\n",
       "      <td>-2.71</td>\n",
       "      <td>-3.06</td>\n",
       "    </tr>\n",
       "  </tbody>\n",
       "</table>\n",
       "</div>"
      ],
      "text/plain": [
       "            mom_01  mom_02  mom_03  mom_04  mom_05  mom_06  mom_07  mom_08  \\\n",
       "date                                                                         \n",
       "2017-05-17   -1.83   -1.02   -1.12   -1.42   -1.21   -1.74   -2.49   -2.55   \n",
       "2017-03-21   -1.68   -0.69   -0.58   -0.89   -1.32   -1.14   -1.66   -2.21   \n",
       "2016-02-05   -2.49   -2.40   -1.52   -1.77   -1.77   -0.93   -1.47   -1.62   \n",
       "2016-01-13   -4.88   -3.06   -2.70   -2.00   -2.34   -2.18   -2.44   -2.77   \n",
       "2016-09-09   -3.09   -2.88   -1.88   -2.28   -2.05   -2.39   -2.47   -2.54   \n",
       "\n",
       "            mom_09  mom_10  \n",
       "date                        \n",
       "2017-05-17   -3.08   -4.30  \n",
       "2017-03-21   -2.91   -4.03  \n",
       "2016-02-05   -2.04   -3.91  \n",
       "2016-01-13   -2.65   -3.71  \n",
       "2016-09-09   -2.71   -3.06  "
      ]
     },
     "execution_count": 16,
     "metadata": {},
     "output_type": "execute_result"
    }
   ],
   "source": [
    "mom_sorted = momentum.sort_values(\"mom_10\")\n",
    "mom_sorted.head()"
   ]
  },
  {
   "cell_type": "code",
   "execution_count": 17,
   "metadata": {
    "execution": {
     "iopub.execute_input": "2025-08-27T07:32:26.242772Z",
     "iopub.status.busy": "2025-08-27T07:32:26.241768Z",
     "iopub.status.idle": "2025-08-27T07:32:26.248126Z",
     "shell.execute_reply": "2025-08-27T07:32:26.248126Z"
    }
   },
   "outputs": [
    {
     "data": {
      "text/plain": [
       "mom_01   -7.97\n",
       "mom_02   -6.92\n",
       "mom_03   -6.04\n",
       "mom_04   -5.04\n",
       "mom_05   -5.41\n",
       "mom_06   -5.33\n",
       "mom_07   -3.43\n",
       "mom_08   -2.54\n",
       "mom_09   -2.78\n",
       "mom_10    0.00\n",
       "dtype: float64"
      ]
     },
     "execution_count": 17,
     "metadata": {},
     "output_type": "execute_result"
    }
   ],
   "source": [
    "# Must be weakly larger than 0 if sorted descending\n",
    "mom_sorted.diff().min()"
   ]
  },
  {
   "cell_type": "markdown",
   "metadata": {},
   "source": [
    "### Exercise: Sort Descending\n",
    "\n",
    "Use `sort_values` to sort momentum by by the column `mom_10` using a descending\n",
    "sort (see the help for `sort_values`). Verify the sort worked by looking at the maximum of\n",
    "a diff."
   ]
  },
  {
   "cell_type": "code",
   "execution_count": 18,
   "metadata": {
    "execution": {
     "iopub.execute_input": "2025-08-27T07:32:26.251135Z",
     "iopub.status.busy": "2025-08-27T07:32:26.250136Z",
     "iopub.status.idle": "2025-08-27T07:32:26.301214Z",
     "shell.execute_reply": "2025-08-27T07:32:26.301214Z"
    },
    "pycharm": {
     "name": "#%%\n"
    }
   },
   "outputs": [],
   "source": [
    "?momentum.sort_values"
   ]
  },
  {
   "cell_type": "code",
   "execution_count": 19,
   "metadata": {
    "execution": {
     "iopub.execute_input": "2025-08-27T07:32:26.301214Z",
     "iopub.status.busy": "2025-08-27T07:32:26.301214Z",
     "iopub.status.idle": "2025-08-27T07:32:26.309878Z",
     "shell.execute_reply": "2025-08-27T07:32:26.309878Z"
    }
   },
   "outputs": [
    {
     "name": "stdout",
     "output_type": "stream",
     "text": [
      "Help on method sort_values in module pandas.core.frame:\n",
      "\n",
      "sort_values(by: 'IndexLabel', *, axis: 'Axis' = 0, ascending: 'bool | list[bool] | tuple[bool, ...]' = True, inplace: 'bool' = False, kind: 'SortKind' = 'quicksort', na_position: 'str' = 'last', ignore_index: 'bool' = False, key: 'ValueKeyFunc | None' = None) -> 'DataFrame | None' method of pandas.core.frame.DataFrame instance\n",
      "    Sort by the values along either axis.\n",
      "\n",
      "    Parameters\n",
      "    ----------\n",
      "    by : str or list of str\n",
      "        Name or list of names to sort by.\n",
      "\n",
      "        - if `axis` is 0 or `'index'` then `by` may contain index\n",
      "          levels and/or column labels.\n",
      "        - if `axis` is 1 or `'columns'` then `by` may contain column\n",
      "          levels and/or index labels.\n",
      "    axis : \"{0 or 'index', 1 or 'columns'}\", default 0\n",
      "         Axis to be sorted.\n",
      "    ascending : bool or list of bool, default True\n",
      "         Sort ascending vs. descending. Specify list for multiple sort\n",
      "         orders.  If this is a list of bools, must match the length of\n",
      "         the by.\n",
      "    inplace : bool, default False\n",
      "         If True, perform operation in-place.\n",
      "    kind : {'quicksort', 'mergesort', 'heapsort', 'stable'}, default 'quicksort'\n",
      "         Choice of sorting algorithm. See also :func:`numpy.sort` for more\n",
      "         information. `mergesort` and `stable` are the only stable algorithms. For\n",
      "         DataFrames, this option is only applied when sorting on a single\n",
      "         column or label.\n",
      "    na_position : {'first', 'last'}, default 'last'\n",
      "         Puts NaNs at the beginning if `first`; `last` puts NaNs at the\n",
      "         end.\n",
      "    ignore_index : bool, default False\n",
      "         If True, the resulting axis will be labeled 0, 1, …, n - 1.\n",
      "    key : callable, optional\n",
      "        Apply the key function to the values\n",
      "        before sorting. This is similar to the `key` argument in the\n",
      "        builtin :meth:`sorted` function, with the notable difference that\n",
      "        this `key` function should be *vectorized*. It should expect a\n",
      "        ``Series`` and return a Series with the same shape as the input.\n",
      "        It will be applied to each column in `by` independently.\n",
      "\n",
      "    Returns\n",
      "    -------\n",
      "    DataFrame or None\n",
      "        DataFrame with sorted values or None if ``inplace=True``.\n",
      "\n",
      "    See Also\n",
      "    --------\n",
      "    DataFrame.sort_index : Sort a DataFrame by the index.\n",
      "    Series.sort_values : Similar method for a Series.\n",
      "\n",
      "    Examples\n",
      "    --------\n",
      "    >>> df = pd.DataFrame({\n",
      "    ...     'col1': ['A', 'A', 'B', np.nan, 'D', 'C'],\n",
      "    ...     'col2': [2, 1, 9, 8, 7, 4],\n",
      "    ...     'col3': [0, 1, 9, 4, 2, 3],\n",
      "    ...     'col4': ['a', 'B', 'c', 'D', 'e', 'F']\n",
      "    ... })\n",
      "    >>> df\n",
      "      col1  col2  col3 col4\n",
      "    0    A     2     0    a\n",
      "    1    A     1     1    B\n",
      "    2    B     9     9    c\n",
      "    3  NaN     8     4    D\n",
      "    4    D     7     2    e\n",
      "    5    C     4     3    F\n",
      "\n",
      "    Sort by col1\n",
      "\n",
      "    >>> df.sort_values(by=['col1'])\n",
      "      col1  col2  col3 col4\n",
      "    0    A     2     0    a\n",
      "    1    A     1     1    B\n",
      "    2    B     9     9    c\n",
      "    5    C     4     3    F\n",
      "    4    D     7     2    e\n",
      "    3  NaN     8     4    D\n",
      "\n",
      "    Sort by multiple columns\n",
      "\n",
      "    >>> df.sort_values(by=['col1', 'col2'])\n",
      "      col1  col2  col3 col4\n",
      "    1    A     1     1    B\n",
      "    0    A     2     0    a\n",
      "    2    B     9     9    c\n",
      "    5    C     4     3    F\n",
      "    4    D     7     2    e\n",
      "    3  NaN     8     4    D\n",
      "\n",
      "    Sort Descending\n",
      "\n",
      "    >>> df.sort_values(by='col1', ascending=False)\n",
      "      col1  col2  col3 col4\n",
      "    4    D     7     2    e\n",
      "    5    C     4     3    F\n",
      "    2    B     9     9    c\n",
      "    0    A     2     0    a\n",
      "    1    A     1     1    B\n",
      "    3  NaN     8     4    D\n",
      "\n",
      "    Putting NAs first\n",
      "\n",
      "    >>> df.sort_values(by='col1', ascending=False, na_position='first')\n",
      "      col1  col2  col3 col4\n",
      "    3  NaN     8     4    D\n",
      "    4    D     7     2    e\n",
      "    5    C     4     3    F\n",
      "    2    B     9     9    c\n",
      "    0    A     2     0    a\n",
      "    1    A     1     1    B\n",
      "\n",
      "    Sorting with a key function\n",
      "\n",
      "    >>> df.sort_values(by='col4', key=lambda col: col.str.lower())\n",
      "       col1  col2  col3 col4\n",
      "    0    A     2     0    a\n",
      "    1    A     1     1    B\n",
      "    2    B     9     9    c\n",
      "    3  NaN     8     4    D\n",
      "    4    D     7     2    e\n",
      "    5    C     4     3    F\n",
      "\n",
      "    Natural sort with the key argument,\n",
      "    using the `natsort <https://github.com/SethMMorton/natsort>` package.\n",
      "\n",
      "    >>> df = pd.DataFrame({\n",
      "    ...    \"time\": ['0hr', '128hr', '72hr', '48hr', '96hr'],\n",
      "    ...    \"value\": [10, 20, 30, 40, 50]\n",
      "    ... })\n",
      "    >>> df\n",
      "        time  value\n",
      "    0    0hr     10\n",
      "    1  128hr     20\n",
      "    2   72hr     30\n",
      "    3   48hr     40\n",
      "    4   96hr     50\n",
      "    >>> from natsort import index_natsorted\n",
      "    >>> df.sort_values(\n",
      "    ...     by=\"time\",\n",
      "    ...     key=lambda x: np.argsort(index_natsorted(df[\"time\"]))\n",
      "    ... )\n",
      "        time  value\n",
      "    0    0hr     10\n",
      "    3   48hr     40\n",
      "    2   72hr     30\n",
      "    4   96hr     50\n",
      "    1  128hr     20\n",
      "\n"
     ]
    }
   ],
   "source": [
    "help(momentum.sort_values)"
   ]
  },
  {
   "cell_type": "code",
   "execution_count": 20,
   "metadata": {
    "execution": {
     "iopub.execute_input": "2025-08-27T07:32:26.311950Z",
     "iopub.status.busy": "2025-08-27T07:32:26.311950Z",
     "iopub.status.idle": "2025-08-27T07:32:26.325938Z",
     "shell.execute_reply": "2025-08-27T07:32:26.325429Z"
    }
   },
   "outputs": [
    {
     "data": {
      "text/html": [
       "<div>\n",
       "<style scoped>\n",
       "    .dataframe tbody tr th:only-of-type {\n",
       "        vertical-align: middle;\n",
       "    }\n",
       "\n",
       "    .dataframe tbody tr th {\n",
       "        vertical-align: top;\n",
       "    }\n",
       "\n",
       "    .dataframe thead th {\n",
       "        text-align: right;\n",
       "    }\n",
       "</style>\n",
       "<table border=\"1\" class=\"dataframe\">\n",
       "  <thead>\n",
       "    <tr style=\"text-align: right;\">\n",
       "      <th></th>\n",
       "      <th>mom_01</th>\n",
       "      <th>mom_02</th>\n",
       "      <th>mom_03</th>\n",
       "      <th>mom_04</th>\n",
       "      <th>mom_05</th>\n",
       "      <th>mom_06</th>\n",
       "      <th>mom_07</th>\n",
       "      <th>mom_08</th>\n",
       "      <th>mom_09</th>\n",
       "      <th>mom_10</th>\n",
       "    </tr>\n",
       "    <tr>\n",
       "      <th>date</th>\n",
       "      <th></th>\n",
       "      <th></th>\n",
       "      <th></th>\n",
       "      <th></th>\n",
       "      <th></th>\n",
       "      <th></th>\n",
       "      <th></th>\n",
       "      <th></th>\n",
       "      <th></th>\n",
       "      <th></th>\n",
       "    </tr>\n",
       "  </thead>\n",
       "  <tbody>\n",
       "    <tr>\n",
       "      <th>2016-09-09</th>\n",
       "      <td>-3.09</td>\n",
       "      <td>-2.88</td>\n",
       "      <td>-1.88</td>\n",
       "      <td>-2.28</td>\n",
       "      <td>-2.05</td>\n",
       "      <td>-2.39</td>\n",
       "      <td>-2.47</td>\n",
       "      <td>-2.54</td>\n",
       "      <td>-2.71</td>\n",
       "      <td>-3.06</td>\n",
       "    </tr>\n",
       "    <tr>\n",
       "      <th>2016-01-13</th>\n",
       "      <td>-4.88</td>\n",
       "      <td>-3.06</td>\n",
       "      <td>-2.70</td>\n",
       "      <td>-2.00</td>\n",
       "      <td>-2.34</td>\n",
       "      <td>-2.18</td>\n",
       "      <td>-2.44</td>\n",
       "      <td>-2.77</td>\n",
       "      <td>-2.65</td>\n",
       "      <td>-3.71</td>\n",
       "    </tr>\n",
       "    <tr>\n",
       "      <th>2016-02-05</th>\n",
       "      <td>-2.49</td>\n",
       "      <td>-2.40</td>\n",
       "      <td>-1.52</td>\n",
       "      <td>-1.77</td>\n",
       "      <td>-1.77</td>\n",
       "      <td>-0.93</td>\n",
       "      <td>-1.47</td>\n",
       "      <td>-1.62</td>\n",
       "      <td>-2.04</td>\n",
       "      <td>-3.91</td>\n",
       "    </tr>\n",
       "    <tr>\n",
       "      <th>2017-03-21</th>\n",
       "      <td>-1.68</td>\n",
       "      <td>-0.69</td>\n",
       "      <td>-0.58</td>\n",
       "      <td>-0.89</td>\n",
       "      <td>-1.32</td>\n",
       "      <td>-1.14</td>\n",
       "      <td>-1.66</td>\n",
       "      <td>-2.21</td>\n",
       "      <td>-2.91</td>\n",
       "      <td>-4.03</td>\n",
       "    </tr>\n",
       "    <tr>\n",
       "      <th>2017-05-17</th>\n",
       "      <td>-1.83</td>\n",
       "      <td>-1.02</td>\n",
       "      <td>-1.12</td>\n",
       "      <td>-1.42</td>\n",
       "      <td>-1.21</td>\n",
       "      <td>-1.74</td>\n",
       "      <td>-2.49</td>\n",
       "      <td>-2.55</td>\n",
       "      <td>-3.08</td>\n",
       "      <td>-4.30</td>\n",
       "    </tr>\n",
       "  </tbody>\n",
       "</table>\n",
       "</div>"
      ],
      "text/plain": [
       "            mom_01  mom_02  mom_03  mom_04  mom_05  mom_06  mom_07  mom_08  \\\n",
       "date                                                                         \n",
       "2016-09-09   -3.09   -2.88   -1.88   -2.28   -2.05   -2.39   -2.47   -2.54   \n",
       "2016-01-13   -4.88   -3.06   -2.70   -2.00   -2.34   -2.18   -2.44   -2.77   \n",
       "2016-02-05   -2.49   -2.40   -1.52   -1.77   -1.77   -0.93   -1.47   -1.62   \n",
       "2017-03-21   -1.68   -0.69   -0.58   -0.89   -1.32   -1.14   -1.66   -2.21   \n",
       "2017-05-17   -1.83   -1.02   -1.12   -1.42   -1.21   -1.74   -2.49   -2.55   \n",
       "\n",
       "            mom_09  mom_10  \n",
       "date                        \n",
       "2016-09-09   -2.71   -3.06  \n",
       "2016-01-13   -2.65   -3.71  \n",
       "2016-02-05   -2.04   -3.91  \n",
       "2017-03-21   -2.91   -4.03  \n",
       "2017-05-17   -3.08   -4.30  "
      ]
     },
     "execution_count": 20,
     "metadata": {},
     "output_type": "execute_result"
    }
   ],
   "source": [
    "mom_sorted = momentum.sort_values(\"mom_10\", ascending=False)\n",
    "mom_sorted.tail()"
   ]
  },
  {
   "cell_type": "code",
   "execution_count": 21,
   "metadata": {
    "execution": {
     "iopub.execute_input": "2025-08-27T07:32:26.326946Z",
     "iopub.status.busy": "2025-08-27T07:32:26.326946Z",
     "iopub.status.idle": "2025-08-27T07:32:26.333451Z",
     "shell.execute_reply": "2025-08-27T07:32:26.332944Z"
    }
   },
   "outputs": [
    {
     "data": {
      "text/plain": [
       "mom_01    8.08\n",
       "mom_02    6.92\n",
       "mom_03    6.04\n",
       "mom_04    5.04\n",
       "mom_05    5.41\n",
       "mom_06    5.33\n",
       "mom_07    3.43\n",
       "mom_08    2.54\n",
       "mom_09    2.78\n",
       "mom_10    0.00\n",
       "dtype: float64"
      ]
     },
     "execution_count": 21,
     "metadata": {},
     "output_type": "execute_result"
    }
   ],
   "source": [
    "# Must be weakly smaller than 0\n",
    "mom_sorted.diff().max()"
   ]
  },
  {
   "cell_type": "markdown",
   "metadata": {
    "pycharm": {
     "name": "#%% md\n"
    }
   },
   "source": [
    "### Exercise: Get Number of Elements\n",
    "\n",
    "Use the `shape` property to get the number of observations in momentum. Use it\n",
    "again to get the number of columns."
   ]
  },
  {
   "cell_type": "code",
   "execution_count": 22,
   "metadata": {
    "execution": {
     "iopub.execute_input": "2025-08-27T07:32:26.334459Z",
     "iopub.status.busy": "2025-08-27T07:32:26.334459Z",
     "iopub.status.idle": "2025-08-27T07:32:26.338482Z",
     "shell.execute_reply": "2025-08-27T07:32:26.338482Z"
    },
    "pycharm": {
     "name": "#%%\n"
    }
   },
   "outputs": [
    {
     "data": {
      "text/plain": [
       "503"
      ]
     },
     "execution_count": 22,
     "metadata": {},
     "output_type": "execute_result"
    }
   ],
   "source": [
    "nobs = momentum.shape[0]\n",
    "nobs"
   ]
  },
  {
   "cell_type": "code",
   "execution_count": 23,
   "metadata": {
    "execution": {
     "iopub.execute_input": "2025-08-27T07:32:26.340490Z",
     "iopub.status.busy": "2025-08-27T07:32:26.340490Z",
     "iopub.status.idle": "2025-08-27T07:32:26.344489Z",
     "shell.execute_reply": "2025-08-27T07:32:26.344489Z"
    },
    "pycharm": {
     "name": "#%%\n"
    }
   },
   "outputs": [
    {
     "data": {
      "text/plain": [
       "10"
      ]
     },
     "execution_count": 23,
     "metadata": {},
     "output_type": "execute_result"
    }
   ],
   "source": [
    "ncol = momentum.shape[1]\n",
    "ncol"
   ]
  },
  {
   "cell_type": "markdown",
   "metadata": {},
   "source": [
    "### Exercise: Use `shift` to Compute Returns\n",
    "\n",
    "Compute the percentage change using only `shift`, division (`/`) and\n",
    "subtraction (`-`) on the `Series` `mom_10`. Verify that your result matches what `pct_change` produces."
   ]
  },
  {
   "cell_type": "code",
   "execution_count": 24,
   "metadata": {
    "execution": {
     "iopub.execute_input": "2025-08-27T07:32:26.346783Z",
     "iopub.status.busy": "2025-08-27T07:32:26.345782Z",
     "iopub.status.idle": "2025-08-27T07:32:26.352894Z",
     "shell.execute_reply": "2025-08-27T07:32:26.352894Z"
    },
    "pycharm": {
     "name": "#%%\n"
    },
    "tags": []
   },
   "outputs": [
    {
     "data": {
      "text/plain": [
       "date\n",
       "2016-01-05    0.0\n",
       "2016-01-06    0.0\n",
       "2016-01-07    0.0\n",
       "2016-01-08    0.0\n",
       "2016-01-11    0.0\n",
       "             ... \n",
       "2017-12-22    0.0\n",
       "2017-12-26    0.0\n",
       "2017-12-27    0.0\n",
       "2017-12-28    0.0\n",
       "2017-12-29    0.0\n",
       "Name: mom_10, Length: 502, dtype: float64"
      ]
     },
     "execution_count": 24,
     "metadata": {},
     "output_type": "execute_result"
    }
   ],
   "source": [
    "with_shift = mom_10 / mom_10.shift(1) - 1\n",
    "with_shift = with_shift.dropna()\n",
    "mom_10_ret = mom_10.pct_change().dropna()\n",
    "\n",
    "mom_10_ret - with_shift"
   ]
  }
 ],
 "metadata": {
  "kernelspec": {
   "display_name": "Python 3 (ipykernel)",
   "language": "python",
   "name": "python3"
  },
  "language_info": {
   "codemirror_mode": {
    "name": "ipython",
    "version": 3
   },
   "file_extension": ".py",
   "mimetype": "text/x-python",
   "name": "python",
   "nbconvert_exporter": "python",
   "pygments_lexer": "ipython3",
   "version": "3.12.11"
  },
  "pycharm": {
   "stem_cell": {
    "cell_type": "raw",
    "metadata": {
     "collapsed": false
    },
    "source": []
   }
  }
 },
 "nbformat": 4,
 "nbformat_minor": 4
}
