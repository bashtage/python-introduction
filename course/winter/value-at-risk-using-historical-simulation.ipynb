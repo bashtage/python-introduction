{
 "cells": [
  {
   "cell_type": "markdown",
   "metadata": {},
   "source": [
    "## Value-at-Risk: Using Historical Simulation\n",
    "\n",
    "**Functions**\n",
    "\n",
    "`Series.quantile`, `Series.rolling`"
   ]
  },
  {
   "cell_type": "markdown",
   "metadata": {},
   "source": [
    "### Exercise 81\n",
    "Compute the 1-, 5- and 10-day historical simulation 95%-VaR for the S&P 500 and\n",
    "the EUR/USD rate.\n",
    "\n",
    "**Note**: Start the historical simulation at 25% of the data, and then build the\n",
    "additional forecasts using a recursive scheme."
   ]
  },
  {
   "cell_type": "code",
   "execution_count": null,
   "metadata": {
    "execution": {
     "iopub.execute_input": "2025-08-27T07:40:25.106193Z",
     "iopub.status.busy": "2025-08-27T07:40:25.105192Z",
     "iopub.status.idle": "2025-08-27T07:40:26.105089Z",
     "shell.execute_reply": "2025-08-27T07:40:26.105089Z"
    }
   },
   "outputs": [],
   "source": []
  }
 ],
 "metadata": {
  "kernelspec": {
   "display_name": "Python 3 (ipykernel)",
   "language": "python",
   "name": "python3"
  },
  "language_info": {
   "codemirror_mode": {
    "name": "ipython",
    "version": 3
   },
   "file_extension": ".py",
   "mimetype": "text/x-python",
   "name": "python",
   "nbconvert_exporter": "python",
   "pygments_lexer": "ipython3",
   "version": "3.12.11"
  },
  "pycharm": {
   "stem_cell": {
    "cell_type": "raw",
    "metadata": {
     "collapsed": false
    },
    "source": []
   }
  }
 },
 "nbformat": 4,
 "nbformat_minor": 4
}
