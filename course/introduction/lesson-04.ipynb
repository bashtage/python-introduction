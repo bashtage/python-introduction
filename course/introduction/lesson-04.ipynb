{
 "cells": [
  {
   "cell_type": "markdown",
   "metadata": {},
   "source": [
    "# Series and DataFrames\n",
    "\n",
    "This lesson covers:\n",
    "\n",
    "* Constructing pandas Series and DataFrames \n",
    "\n",
    "<a id=\"stock-data\"></a>\n",
    "## Data\n",
    "September 2018 prices (adjusted closing prices) for the S&P 500 EFT (SPY),\n",
    "Apple (AAPL) and Google (GOOG) are listed below:\n",
    "\n",
    "\n",
    "\n",
    "| Date   | SPY Price | AAPL Price | GOOG Price | \n",
    "|:-------|----------:|-----------:|-----------:| \n",
    "| Sept4  | 289.81    | 228.36     | 1197.00    | \n",
    "| Sept5  | 289.03    | 226.87     | 1186.48    | \n",
    "| Sept6  | 288.16    | 223.10     | 1171.44    | \n",
    "| Sept7  | 287.60    | 221.30     | 1164.83    | \n",
    "| Sept10 | 288.10    | 218.33     | 1164.64    | \n",
    "| Sept11 | 289.05    | 223.85     | 1177.36    | \n",
    "| Sept12 | 289.12    | 221.07     | 1162.82    | \n",
    "| Sept13 | 290.83    | 226.41     | 1175.33    | \n",
    "| Sept14 | 290.88    | 223.84     | 1172.53    | \n",
    "| Sept17 | 289.34    | 217.88     | 1156.05    | \n",
    "| Sept18 | 290.91    | 218.24     | 1161.22    | \n",
    "| Sept19 | 291.44    | 216.64     | 1158.78    | \n",
    "\n",
    "**Prices in September 2018**\n",
    " "
   ]
  },
  {
   "cell_type": "markdown",
   "metadata": {},
   "source": []
  },
  {
   "cell_type": "markdown",
   "metadata": {},
   "source": [
    "## Problem: Input a pandas Series\n",
    "\n",
    "Create vectors for each of the days in the [Table](#stock-data) named `sep_xx`\n",
    "where `xx` is the numeric date. For example,  \n",
    "```python\n",
    "import pandas as pd\n",
    "\n",
    "sep_04 = pd.Series([289.81,228.36,1197.00], index=[\"SPY\",\"AAPL\",\"GOOG\"]);\n",
    "```\n",
    "\n",
    "Using the ticker names as the `index` of each series"
   ]
  },
  {
   "cell_type": "code",
   "execution_count": null,
   "metadata": {
    "execution": {
     "iopub.execute_input": "2025-08-27T13:42:54.515053Z",
     "iopub.status.busy": "2025-08-27T13:42:54.515053Z",
     "iopub.status.idle": "2025-08-27T13:42:54.875165Z",
     "shell.execute_reply": "2025-08-27T13:42:54.875165Z"
    }
   },
   "outputs": [],
   "source": []
  },
  {
   "cell_type": "markdown",
   "metadata": {},
   "source": [
    "## Problem: Create a Vector of Dates\n",
    "\n",
    "Use the pandas function `pd.to_datetime` to convert a list of string dates to\n",
    "a pandas `DateTimeIndex`, which can be used to set dates in other arrays.\n",
    "\n",
    "For example, the first two dates are\n",
    "```python\n",
    "import pandas as pd\n",
    "\n",
    "dates_2 = pd.to_datetime([\"4-9-2018\",\"5-9-2018\"])\n",
    "print(dates_2)\n",
    "```\n",
    "which produces\n",
    "\n",
    "```\n",
    "DatetimeIndex([\"2018-04-09\", \"2018-05-09\"], dtype=\"datetime64[ns]\", freq=None)\n",
    "```\n",
    "\n",
    "Create a vector containing all of the dates in the table."
   ]
  },
  {
   "cell_type": "code",
   "execution_count": null,
   "metadata": {
    "execution": {
     "iopub.execute_input": "2025-08-27T13:42:54.877681Z",
     "iopub.status.busy": "2025-08-27T13:42:54.875165Z",
     "iopub.status.idle": "2025-08-27T13:42:54.885908Z",
     "shell.execute_reply": "2025-08-27T13:42:54.885908Z"
    }
   },
   "outputs": [],
   "source": []
  },
  {
   "cell_type": "markdown",
   "metadata": {},
   "source": [
    "## Problem: Input a Series with Dates\n",
    "\n",
    "Create vectors for each of the ticker symbols in [Table](#stock-data) named\n",
    "spy, aapl and goog, respectively. Use the variable `dates` that you created\n",
    "in the previous step as the index. \n",
    "\n",
    "For example\n",
    "\n",
    "```python\n",
    "goog = pd.Series([1197.00,1186.48,1171.44,...], index=dates)\n",
    "```\n",
    "\n",
    "Set the `name` of each series as the series\" ticker."
   ]
  },
  {
   "cell_type": "code",
   "execution_count": null,
   "metadata": {
    "execution": {
     "iopub.execute_input": "2025-08-27T13:42:54.885908Z",
     "iopub.status.busy": "2025-08-27T13:42:54.885908Z",
     "iopub.status.idle": "2025-08-27T13:42:54.897740Z",
     "shell.execute_reply": "2025-08-27T13:42:54.897740Z"
    }
   },
   "outputs": [],
   "source": []
  },
  {
   "cell_type": "markdown",
   "metadata": {},
   "source": [
    "## Problem: Create a DataFrame\n",
    "\n",
    "Create a DataFrame named `prices` containing [Table](#stock-data). Set the\n",
    "column names equal to the ticker and set the index to `dates`.\n",
    "\n",
    "```python\n",
    "prices = pd.DataFrame([[289.81, 228.36, 1197.00], [289.03, 226.87, 1186.48]],\n",
    "                      columns = [\"SPY\", \"AAPL\", \"GOOG\"],index=dates_2)\n",
    "```"
   ]
  },
  {
   "cell_type": "code",
   "execution_count": null,
   "metadata": {
    "execution": {
     "iopub.execute_input": "2025-08-27T13:42:54.897740Z",
     "iopub.status.busy": "2025-08-27T13:42:54.897740Z",
     "iopub.status.idle": "2025-08-27T13:42:54.914868Z",
     "shell.execute_reply": "2025-08-27T13:42:54.914868Z"
    }
   },
   "outputs": [],
   "source": []
  },
  {
   "cell_type": "markdown",
   "metadata": {},
   "source": [
    "Save the price data\n",
    "\n",
    "This block saves prices to a HDF file for use in later lessons. The\n",
    "function used to save the data is covered in a later lesson.\n",
    "\n",
    "This function uses some sophisticated features of Python. Do not\n",
    "worry if it is unclear at this point."
   ]
  },
  {
   "cell_type": "code",
   "execution_count": null,
   "metadata": {
    "execution": {
     "iopub.execute_input": "2025-08-27T13:42:54.914868Z",
     "iopub.status.busy": "2025-08-27T13:42:54.914868Z",
     "iopub.status.idle": "2025-08-27T13:42:55.082593Z",
     "shell.execute_reply": "2025-08-27T13:42:55.082593Z"
    },
    "pycharm": {
     "is_executing": false,
     "name": "#%%\n"
    }
   },
   "outputs": [],
   "source": [
    "# Setup: Save prices, goog and sep_04 into a single file for use in other lessons\n",
    "\n",
    "# Only run if prices has been defined\n",
    "if \"prices\" in globals():\n",
    "    import pandas as pd\n",
    "\n",
    "    dates = pd.Series(dates)\n",
    "    variables = [\n",
    "        \"sep_04\",\n",
    "        \"sep_05\",\n",
    "        \"sep_06\",\n",
    "        \"sep_07\",\n",
    "        \"sep_10\",\n",
    "        \"sep_11\",\n",
    "        \"sep_12\",\n",
    "        \"sep_13\",\n",
    "        \"sep_14\",\n",
    "        \"sep_17\",\n",
    "        \"sep_18\",\n",
    "        \"sep_19\",\n",
    "        \"spy\",\n",
    "        \"goog\",\n",
    "        \"aapl\",\n",
    "        \"prices\",\n",
    "        \"dates\",\n",
    "    ]\n",
    "    with pd.HDFStore(\"data/dataframes.h5\", mode=\"w\") as h5:\n",
    "        for var in variables:\n",
    "            h5.put(var, globals()[var])"
   ]
  },
  {
   "cell_type": "markdown",
   "metadata": {
    "pycharm": {
     "name": "#%% md\n"
    }
   },
   "source": [
    "## Exercises\n",
    "\n",
    "### Exercise: Creating DataFrames\n",
    "\n",
    "Turn the table below into a DataFrame where the index is set as the index and\n",
    "the column names are used in the `DataFrame`.\n",
    "\n",
    "| index | Firm         | Profit    |  \n",
    "|:------|:-------------|----------:| \n",
    "| A     | Alcoa        | 3,428     |\n",
    "| B     | Berkshire    | 67,421    |\n",
    "| C     | Coca Cola    | 197.4     |\n",
    "| D     | Dannon       | -342.1    |"
   ]
  },
  {
   "cell_type": "code",
   "execution_count": null,
   "metadata": {
    "execution": {
     "iopub.execute_input": "2025-08-27T13:42:55.082593Z",
     "iopub.status.busy": "2025-08-27T13:42:55.082593Z",
     "iopub.status.idle": "2025-08-27T13:42:55.091777Z",
     "shell.execute_reply": "2025-08-27T13:42:55.091777Z"
    },
    "jupyter": {
     "outputs_hidden": false
    },
    "tags": []
   },
   "outputs": [],
   "source": []
  }
 ],
 "metadata": {
  "kernelspec": {
   "display_name": "Python 3 (ipykernel)",
   "language": "python",
   "name": "python3"
  },
  "language_info": {
   "codemirror_mode": {
    "name": "ipython",
    "version": 3
   },
   "file_extension": ".py",
   "mimetype": "text/x-python",
   "name": "python",
   "nbconvert_exporter": "python",
   "pygments_lexer": "ipython3",
   "version": "3.12.11"
  },
  "pycharm": {
   "stem_cell": {
    "cell_type": "raw",
    "metadata": {
     "collapsed": false
    },
    "source": []
   }
  }
 },
 "nbformat": 4,
 "nbformat_minor": 4
}
