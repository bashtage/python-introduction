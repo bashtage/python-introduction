{
 "cells": [
  {
   "cell_type": "markdown",
   "metadata": {
    "pycharm": {
     "name": "#%% md\n"
    }
   },
   "source": [
    "# Constructing DataFrames from Series\n",
    "\n",
    "This lesson introduced method to construct a DataFrame from multiple\n",
    "Series.\n",
    "\n",
    "This first block loads the variables created in an earlier lesson.  A\n",
    "later lesson will cover loading and saving data."
   ]
  },
  {
   "cell_type": "code",
   "execution_count": null,
   "metadata": {
    "execution": {
     "iopub.execute_input": "2025-08-27T13:42:57.097519Z",
     "iopub.status.busy": "2025-08-27T13:42:57.097519Z",
     "iopub.status.idle": "2025-08-27T13:42:57.596504Z",
     "shell.execute_reply": "2025-08-27T13:42:57.596504Z"
    },
    "jupyter": {
     "outputs_hidden": false
    },
    "pycharm": {
     "is_executing": false,
     "name": "#%%\n"
    }
   },
   "outputs": [],
   "source": [
    "# Setup: Load data created in an earlier lesson\n",
    "\n",
    "import pandas as pd\n",
    "\n",
    "hdf_file = \"data/dataframes.h5\"\n",
    "\n",
    "sep_04 = pd.read_hdf(hdf_file, \"sep_04\")\n",
    "sep_05 = pd.read_hdf(hdf_file, \"sep_05\")\n",
    "sep_06 = pd.read_hdf(hdf_file, \"sep_06\")\n",
    "sep_07 = pd.read_hdf(hdf_file, \"sep_07\")\n",
    "sep_10 = pd.read_hdf(hdf_file, \"sep_10\")\n",
    "sep_11 = pd.read_hdf(hdf_file, \"sep_11\")\n",
    "sep_12 = pd.read_hdf(hdf_file, \"sep_12\")\n",
    "sep_13 = pd.read_hdf(hdf_file, \"sep_13\")\n",
    "sep_14 = pd.read_hdf(hdf_file, \"sep_14\")\n",
    "sep_17 = pd.read_hdf(hdf_file, \"sep_17\")\n",
    "sep_18 = pd.read_hdf(hdf_file, \"sep_18\")\n",
    "sep_19 = pd.read_hdf(hdf_file, \"sep_19\")\n",
    "\n",
    "spy = pd.read_hdf(hdf_file, \"spy\")\n",
    "aapl = pd.read_hdf(hdf_file, \"aapl\")\n",
    "goog = pd.read_hdf(hdf_file, \"goog\")\n",
    "\n",
    "dates = pd.to_datetime(pd.read_hdf(hdf_file, \"dates\"))\n",
    "\n",
    "prices = pd.read_hdf(hdf_file, \"prices\")"
   ]
  },
  {
   "cell_type": "markdown",
   "metadata": {},
   "source": [
    "## Problem: Construct a DataFrame from rows\n",
    "\n",
    "Create a DataFrame named `prices_row` from the row vectors previously\n",
    "entered such that the results are identical to prices. For example, the first\n",
    "two days worth of data are:\n",
    "\n",
    "```python\n",
    "dates_2 = pd.to_datetime([\"1998-09-04\", \"1998-09-05\"])\n",
    "prices_row = pd.DataFrame([sep_04, sep_05])\n",
    "# Set the index after using concat to join\n",
    "prices_row.index = dates_2\n",
    "```\n",
    "\n",
    "Verify that the DataFrame identical by printing the difference with\n",
    "`prices` \n",
    "\n",
    "```python\n",
    "print(prices_row - prices)\n",
    "```"
   ]
  },
  {
   "cell_type": "code",
   "execution_count": null,
   "metadata": {
    "execution": {
     "iopub.execute_input": "2025-08-27T13:42:57.596504Z",
     "iopub.status.busy": "2025-08-27T13:42:57.596504Z",
     "iopub.status.idle": "2025-08-27T13:42:57.612259Z",
     "shell.execute_reply": "2025-08-27T13:42:57.612259Z"
    },
    "jupyter": {
     "outputs_hidden": false
    }
   },
   "outputs": [],
   "source": []
  },
  {
   "cell_type": "markdown",
   "metadata": {
    "pycharm": {
     "name": "#%% md\n"
    }
   },
   "source": [
    "## Problem: Construct a DataFrame from columns\n",
    "\n",
    "Create a DataFrame named `prices_col` from the 3 column vectors entered\n",
    "such that the results are identical to prices.\n",
    "\n",
    "*Note*: `.T` transposes a 2-d array since `DataFrame` builds the\n",
    "array by rows.\n",
    "\n",
    "Verify that the DataFrame identical by printing the difference with\n",
    "`prices` "
   ]
  },
  {
   "cell_type": "code",
   "execution_count": null,
   "metadata": {
    "execution": {
     "iopub.execute_input": "2025-08-27T13:42:57.612259Z",
     "iopub.status.busy": "2025-08-27T13:42:57.612259Z",
     "iopub.status.idle": "2025-08-27T13:42:57.624774Z",
     "shell.execute_reply": "2025-08-27T13:42:57.624774Z"
    },
    "jupyter": {
     "outputs_hidden": false
    }
   },
   "outputs": [],
   "source": []
  },
  {
   "cell_type": "markdown",
   "metadata": {
    "pycharm": {
     "name": "#%% md\n"
    }
   },
   "source": [
    "## Problem: Construct a DataFrame from a dictionary\n",
    "\n",
    "Create a DataFrame named `prices_dict` from the 3 column vectors entered\n",
    "such that the results are identical to prices\n",
    "\n",
    "Verify that the DataFrame identical by printing the difference with\n",
    "`prices` "
   ]
  },
  {
   "cell_type": "code",
   "execution_count": null,
   "metadata": {
    "execution": {
     "iopub.execute_input": "2025-08-27T13:42:57.624774Z",
     "iopub.status.busy": "2025-08-27T13:42:57.624774Z",
     "iopub.status.idle": "2025-08-27T13:42:57.634604Z",
     "shell.execute_reply": "2025-08-27T13:42:57.634604Z"
    },
    "jupyter": {
     "outputs_hidden": false
    }
   },
   "outputs": [],
   "source": []
  },
  {
   "cell_type": "markdown",
   "metadata": {
    "pycharm": {
     "name": "#%% md\n"
    }
   },
   "source": [
    "## Exercises\n",
    "\n",
    "### Exercise: Create a DataFrame from rows\n",
    "\n",
    "Use the three series populated below to create a DataFrame using each\n",
    "as a row.\n",
    "\n",
    "**Note**: Notice what happens in the resulting `DataFrame` since one of the\n",
    "`Series` has 4 elements while the others have 3."
   ]
  },
  {
   "cell_type": "code",
   "execution_count": null,
   "metadata": {
    "execution": {
     "iopub.execute_input": "2025-08-27T13:42:57.636608Z",
     "iopub.status.busy": "2025-08-27T13:42:57.636608Z",
     "iopub.status.idle": "2025-08-27T13:42:57.641940Z",
     "shell.execute_reply": "2025-08-27T13:42:57.641940Z"
    },
    "jupyter": {
     "outputs_hidden": false
    },
    "pycharm": {
     "is_executing": false,
     "name": "#%%\n"
    }
   },
   "outputs": [],
   "source": [
    "# Setup: Data for the Exercises\n",
    "import pandas as pd\n",
    "\n",
    "index = [\"Num\", \"Let\", \"Date\"]\n",
    "a = pd.Series([1, \"A\", pd.Timestamp(2018, 12, 31)], name=\"a\", index=index)\n",
    "b = pd.Series([2, \"B\", pd.Timestamp(2018, 12, 31)], name=\"b\", index=index)\n",
    "index = [\"Num\", \"Let\", \"Date\", \"Float\"]\n",
    "c = pd.Series([3, \"C\", pd.Timestamp(2018, 12, 31), 3.0], name=\"c\", index=index)"
   ]
  },
  {
   "cell_type": "code",
   "execution_count": null,
   "metadata": {
    "execution": {
     "iopub.execute_input": "2025-08-27T13:42:57.641940Z",
     "iopub.status.busy": "2025-08-27T13:42:57.641940Z",
     "iopub.status.idle": "2025-08-27T13:42:57.657748Z",
     "shell.execute_reply": "2025-08-27T13:42:57.657748Z"
    },
    "jupyter": {
     "outputs_hidden": false
    }
   },
   "outputs": [],
   "source": []
  },
  {
   "cell_type": "markdown",
   "metadata": {
    "pycharm": {
     "name": "#%% md\n"
    }
   },
   "source": [
    "### Exercise: Build a DataFrame from Columns\n",
    "\n",
    "Build a `DataFrame` from the three series where each is used as a column.\n"
   ]
  },
  {
   "cell_type": "code",
   "execution_count": null,
   "metadata": {
    "execution": {
     "iopub.execute_input": "2025-08-27T13:42:57.657748Z",
     "iopub.status.busy": "2025-08-27T13:42:57.657748Z",
     "iopub.status.idle": "2025-08-27T13:42:57.667021Z",
     "shell.execute_reply": "2025-08-27T13:42:57.667021Z"
    },
    "jupyter": {
     "outputs_hidden": false
    }
   },
   "outputs": [],
   "source": []
  },
  {
   "cell_type": "code",
   "execution_count": null,
   "metadata": {
    "execution": {
     "iopub.execute_input": "2025-08-27T13:42:57.668525Z",
     "iopub.status.busy": "2025-08-27T13:42:57.668525Z",
     "iopub.status.idle": "2025-08-27T13:42:57.676829Z",
     "shell.execute_reply": "2025-08-27T13:42:57.676829Z"
    },
    "jupyter": {
     "outputs_hidden": false
    },
    "tags": []
   },
   "outputs": [],
   "source": []
  }
 ],
 "metadata": {
  "kernelspec": {
   "display_name": "Python 3 (ipykernel)",
   "language": "python",
   "name": "python3"
  },
  "language_info": {
   "codemirror_mode": {
    "name": "ipython",
    "version": 3
   },
   "file_extension": ".py",
   "mimetype": "text/x-python",
   "name": "python",
   "nbconvert_exporter": "python",
   "pygments_lexer": "ipython3",
   "version": "3.12.11"
  },
  "pycharm": {
   "stem_cell": {
    "cell_type": "raw",
    "metadata": {
     "collapsed": false
    },
    "source": []
   }
  }
 },
 "nbformat": 4,
 "nbformat_minor": 4
}
