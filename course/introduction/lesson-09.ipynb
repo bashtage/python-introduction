{
 "cells": [
  {
   "cell_type": "markdown",
   "metadata": {},
   "source": [
    "# Common DataFrame methods\n",
    "\n",
    "This lesson introduces the common `DataFrame` methods that\n",
    "we will repeatedly use in the course. \n",
    "\n",
    "This first cell load data for use in this lesson."
   ]
  },
  {
   "cell_type": "code",
   "execution_count": null,
   "metadata": {
    "execution": {
     "iopub.execute_input": "2025-08-27T13:43:14.737087Z",
     "iopub.status.busy": "2025-08-27T13:43:14.737087Z",
     "iopub.status.idle": "2025-08-27T13:43:15.210891Z",
     "shell.execute_reply": "2025-08-27T13:43:15.209888Z"
    },
    "pycharm": {
     "is_executing": false,
     "name": "#%%\n"
    }
   },
   "outputs": [],
   "source": [
    "# Setup: Load prices\n",
    "import pandas as pd\n",
    "\n",
    "prices = pd.read_hdf(\"data/dataframes.h5\", \"prices\")\n",
    "sep_04 = pd.read_hdf(\"data/dataframes.h5\", \"sep_04\")\n",
    "goog = pd.read_hdf(\"data/dataframes.h5\", \"goog\")\n",
    "returns = prices.pct_change().dropna()\n",
    "spy_returns = returns.SPY\n",
    "aapl_returns = returns.AAPL\n",
    "goog_returns = returns.GOOG"
   ]
  },
  {
   "cell_type": "markdown",
   "metadata": {},
   "source": [
    "## Problem: Constructing portfolio returns\n",
    "\n",
    "Compute the return of a portfolio with weight $\\frac{1}{3}$ in each security using\n",
    "multiplication (`*`) and `.sum()`.\n",
    "\n",
    "**Note**: You need to use the `axis` keyword for the sum."
   ]
  },
  {
   "cell_type": "code",
   "execution_count": null,
   "metadata": {
    "execution": {
     "iopub.execute_input": "2025-08-27T13:43:15.210891Z",
     "iopub.status.busy": "2025-08-27T13:43:15.210891Z",
     "iopub.status.idle": "2025-08-27T13:43:15.221943Z",
     "shell.execute_reply": "2025-08-27T13:43:15.221943Z"
    }
   },
   "outputs": [],
   "source": []
  },
  {
   "cell_type": "markdown",
   "metadata": {},
   "source": [
    "## Problem: Compute the Mean and Standard Deviation\n",
    "\n",
    "Using the function mean, compute the mean of the three returns series one at a time. For example  \n",
    "```python\n",
    "goog_mean = goog_returns.mean()\n",
    "```\n",
    "Next, compute the mean of the matrix of returns using  \n",
    "\n",
    "```python\n",
    "retmean = returns.mean()\n",
    "```\n",
    "\n",
    "What is the relationship between these two? Repeat this exercise for the standard deviation (`std()`).\n"
   ]
  },
  {
   "cell_type": "code",
   "execution_count": null,
   "metadata": {
    "execution": {
     "iopub.execute_input": "2025-08-27T13:43:15.221943Z",
     "iopub.status.busy": "2025-08-27T13:43:15.221943Z",
     "iopub.status.idle": "2025-08-27T13:43:15.228249Z",
     "shell.execute_reply": "2025-08-27T13:43:15.228249Z"
    }
   },
   "outputs": [],
   "source": []
  },
  {
   "cell_type": "code",
   "execution_count": null,
   "metadata": {
    "execution": {
     "iopub.execute_input": "2025-08-27T13:43:15.228249Z",
     "iopub.status.busy": "2025-08-27T13:43:15.228249Z",
     "iopub.status.idle": "2025-08-27T13:43:15.235416Z",
     "shell.execute_reply": "2025-08-27T13:43:15.235416Z"
    }
   },
   "outputs": [],
   "source": []
  },
  {
   "cell_type": "code",
   "execution_count": null,
   "metadata": {
    "execution": {
     "iopub.execute_input": "2025-08-27T13:43:15.237421Z",
     "iopub.status.busy": "2025-08-27T13:43:15.237421Z",
     "iopub.status.idle": "2025-08-27T13:43:15.241698Z",
     "shell.execute_reply": "2025-08-27T13:43:15.241698Z"
    }
   },
   "outputs": [],
   "source": []
  },
  {
   "cell_type": "markdown",
   "metadata": {
    "pycharm": {
     "name": "#%% md\n"
    }
   },
   "source": [
    "## Problem: Compute Correlation\n",
    "Compute the correlation of the matrix of returns (`corr()`). "
   ]
  },
  {
   "cell_type": "code",
   "execution_count": null,
   "metadata": {
    "execution": {
     "iopub.execute_input": "2025-08-27T13:43:15.242702Z",
     "iopub.status.busy": "2025-08-27T13:43:15.242702Z",
     "iopub.status.idle": "2025-08-27T13:43:15.254495Z",
     "shell.execute_reply": "2025-08-27T13:43:15.254495Z"
    }
   },
   "outputs": [],
   "source": []
  },
  {
   "cell_type": "markdown",
   "metadata": {},
   "source": [
    "## Problem: Summing all elements\n",
    "\n",
    "Compute the sum of the columns of returns using `.sum()`. How is this related to the mean computed \n",
    "in the previous step? "
   ]
  },
  {
   "cell_type": "code",
   "execution_count": null,
   "metadata": {
    "execution": {
     "iopub.execute_input": "2025-08-27T13:43:15.256499Z",
     "iopub.status.busy": "2025-08-27T13:43:15.256499Z",
     "iopub.status.idle": "2025-08-27T13:43:15.261582Z",
     "shell.execute_reply": "2025-08-27T13:43:15.261582Z"
    }
   },
   "outputs": [],
   "source": []
  },
  {
   "cell_type": "code",
   "execution_count": null,
   "metadata": {
    "execution": {
     "iopub.execute_input": "2025-08-27T13:43:15.263586Z",
     "iopub.status.busy": "2025-08-27T13:43:15.263586Z",
     "iopub.status.idle": "2025-08-27T13:43:15.268343Z",
     "shell.execute_reply": "2025-08-27T13:43:15.268343Z"
    }
   },
   "outputs": [],
   "source": []
  },
  {
   "cell_type": "markdown",
   "metadata": {},
   "source": [
    "## Problem: Maximum and Minimum Values\n",
    "Compute the minimum and maximum values of the columns of returns using the `min()` and `max()` commands. "
   ]
  },
  {
   "cell_type": "code",
   "execution_count": null,
   "metadata": {
    "execution": {
     "iopub.execute_input": "2025-08-27T13:43:15.268343Z",
     "iopub.status.busy": "2025-08-27T13:43:15.268343Z",
     "iopub.status.idle": "2025-08-27T13:43:15.275618Z",
     "shell.execute_reply": "2025-08-27T13:43:15.275618Z"
    }
   },
   "outputs": [],
   "source": []
  },
  {
   "cell_type": "code",
   "execution_count": null,
   "metadata": {
    "execution": {
     "iopub.execute_input": "2025-08-27T13:43:15.275618Z",
     "iopub.status.busy": "2025-08-27T13:43:15.275618Z",
     "iopub.status.idle": "2025-08-27T13:43:15.282212Z",
     "shell.execute_reply": "2025-08-27T13:43:15.282212Z"
    }
   },
   "outputs": [],
   "source": []
  },
  {
   "cell_type": "markdown",
   "metadata": {},
   "source": [
    "## Problem: Rounding Up, Down and to the Closest Integer\n",
    "\n",
    "Rounding up is handled by ceil, rounding down is handled by floor and rounding to the closest \n",
    "integer is handled by round. Try all of these commands on 100 times returns. For example,  \n",
    "```python\n",
    "rounded = (100*returns).round()\n",
    "``` \n",
    "\n",
    "Use `ceil` and `floor` to round up and down, respectively."
   ]
  },
  {
   "cell_type": "code",
   "execution_count": null,
   "metadata": {
    "execution": {
     "iopub.execute_input": "2025-08-27T13:43:15.282212Z",
     "iopub.status.busy": "2025-08-27T13:43:15.282212Z",
     "iopub.status.idle": "2025-08-27T13:43:15.292456Z",
     "shell.execute_reply": "2025-08-27T13:43:15.292456Z"
    }
   },
   "outputs": [],
   "source": []
  },
  {
   "cell_type": "code",
   "execution_count": null,
   "metadata": {
    "execution": {
     "iopub.execute_input": "2025-08-27T13:43:15.292456Z",
     "iopub.status.busy": "2025-08-27T13:43:15.292456Z",
     "iopub.status.idle": "2025-08-27T13:43:15.302357Z",
     "shell.execute_reply": "2025-08-27T13:43:15.302357Z"
    }
   },
   "outputs": [],
   "source": []
  },
  {
   "cell_type": "code",
   "execution_count": null,
   "metadata": {
    "execution": {
     "iopub.execute_input": "2025-08-27T13:43:15.302357Z",
     "iopub.status.busy": "2025-08-27T13:43:15.302357Z",
     "iopub.status.idle": "2025-08-27T13:43:15.315950Z",
     "shell.execute_reply": "2025-08-27T13:43:15.315950Z"
    }
   },
   "outputs": [],
   "source": []
  },
  {
   "cell_type": "markdown",
   "metadata": {
    "pycharm": {
     "name": "#%% md\n"
    }
   },
   "source": [
    "## Exercises\n",
    "\n",
    "### Exercise: Compute Quantiles\n",
    "\n",
    "Compute the 5%, 25%, 50%, 75% and 95% quantiles of momentum using the `quantile`\n",
    "method.\n"
   ]
  },
  {
   "cell_type": "code",
   "execution_count": null,
   "metadata": {
    "execution": {
     "iopub.execute_input": "2025-08-27T13:43:15.315950Z",
     "iopub.status.busy": "2025-08-27T13:43:15.315950Z",
     "iopub.status.idle": "2025-08-27T13:43:15.326057Z",
     "shell.execute_reply": "2025-08-27T13:43:15.326057Z"
    },
    "pycharm": {
     "name": "#%%\n"
    }
   },
   "outputs": [],
   "source": [
    "# Setup: Load data\n",
    "import pandas as pd\n",
    "\n",
    "momentum = pd.read_csv(\"data/momentum.csv\", index_col=\"date\", parse_dates=True)\n",
    "mom_10 = momentum.mom_10"
   ]
  },
  {
   "cell_type": "code",
   "execution_count": null,
   "metadata": {
    "execution": {
     "iopub.execute_input": "2025-08-27T13:43:15.326057Z",
     "iopub.status.busy": "2025-08-27T13:43:15.326057Z",
     "iopub.status.idle": "2025-08-27T13:43:15.340724Z",
     "shell.execute_reply": "2025-08-27T13:43:15.340724Z"
    }
   },
   "outputs": [],
   "source": []
  },
  {
   "cell_type": "markdown",
   "metadata": {
    "pycharm": {
     "name": "#%% md\n"
    }
   },
   "source": [
    "### Exercise: Sorting\n",
    "\n",
    "Use `sort_values` to sort momentum by the column `mom_10`. Verify that the\n",
    "sort was successful by looking at the minimum of a diff."
   ]
  },
  {
   "cell_type": "code",
   "execution_count": null,
   "metadata": {
    "execution": {
     "iopub.execute_input": "2025-08-27T13:43:15.340724Z",
     "iopub.status.busy": "2025-08-27T13:43:15.340724Z",
     "iopub.status.idle": "2025-08-27T13:43:15.354859Z",
     "shell.execute_reply": "2025-08-27T13:43:15.354859Z"
    }
   },
   "outputs": [],
   "source": []
  },
  {
   "cell_type": "code",
   "execution_count": null,
   "metadata": {
    "execution": {
     "iopub.execute_input": "2025-08-27T13:43:15.354859Z",
     "iopub.status.busy": "2025-08-27T13:43:15.354859Z",
     "iopub.status.idle": "2025-08-27T13:43:15.362383Z",
     "shell.execute_reply": "2025-08-27T13:43:15.362383Z"
    }
   },
   "outputs": [],
   "source": []
  },
  {
   "cell_type": "markdown",
   "metadata": {},
   "source": [
    "### Exercise: Sort Descending\n",
    "\n",
    "Use `sort_values` to sort momentum by by the column `mom_10` using a descending\n",
    "sort (see the help for `sort_values`). Verify the sort worked by looking at the maximum of\n",
    "a diff."
   ]
  },
  {
   "cell_type": "code",
   "execution_count": null,
   "metadata": {
    "execution": {
     "iopub.execute_input": "2025-08-27T13:43:15.362383Z",
     "iopub.status.busy": "2025-08-27T13:43:15.362383Z",
     "iopub.status.idle": "2025-08-27T13:43:15.415026Z",
     "shell.execute_reply": "2025-08-27T13:43:15.415026Z"
    }
   },
   "outputs": [],
   "source": []
  },
  {
   "cell_type": "code",
   "execution_count": null,
   "metadata": {
    "execution": {
     "iopub.execute_input": "2025-08-27T13:43:15.417030Z",
     "iopub.status.busy": "2025-08-27T13:43:15.417030Z",
     "iopub.status.idle": "2025-08-27T13:43:15.422702Z",
     "shell.execute_reply": "2025-08-27T13:43:15.422702Z"
    }
   },
   "outputs": [],
   "source": []
  },
  {
   "cell_type": "code",
   "execution_count": null,
   "metadata": {
    "execution": {
     "iopub.execute_input": "2025-08-27T13:43:15.422702Z",
     "iopub.status.busy": "2025-08-27T13:43:15.422702Z",
     "iopub.status.idle": "2025-08-27T13:43:15.436225Z",
     "shell.execute_reply": "2025-08-27T13:43:15.436225Z"
    }
   },
   "outputs": [],
   "source": []
  },
  {
   "cell_type": "code",
   "execution_count": null,
   "metadata": {
    "execution": {
     "iopub.execute_input": "2025-08-27T13:43:15.436225Z",
     "iopub.status.busy": "2025-08-27T13:43:15.436225Z",
     "iopub.status.idle": "2025-08-27T13:43:15.443447Z",
     "shell.execute_reply": "2025-08-27T13:43:15.443447Z"
    }
   },
   "outputs": [],
   "source": []
  },
  {
   "cell_type": "markdown",
   "metadata": {
    "pycharm": {
     "name": "#%% md\n"
    }
   },
   "source": [
    "### Exercise: Get Number of Elements\n",
    "\n",
    "Use the `shape` property to get the number of observations in momentum. Use it\n",
    "again to get the number of columns."
   ]
  },
  {
   "cell_type": "code",
   "execution_count": null,
   "metadata": {
    "execution": {
     "iopub.execute_input": "2025-08-27T13:43:15.443447Z",
     "iopub.status.busy": "2025-08-27T13:43:15.443447Z",
     "iopub.status.idle": "2025-08-27T13:43:15.449191Z",
     "shell.execute_reply": "2025-08-27T13:43:15.449191Z"
    }
   },
   "outputs": [],
   "source": []
  },
  {
   "cell_type": "code",
   "execution_count": null,
   "metadata": {
    "execution": {
     "iopub.execute_input": "2025-08-27T13:43:15.449191Z",
     "iopub.status.busy": "2025-08-27T13:43:15.449191Z",
     "iopub.status.idle": "2025-08-27T13:43:15.454870Z",
     "shell.execute_reply": "2025-08-27T13:43:15.454870Z"
    }
   },
   "outputs": [],
   "source": []
  },
  {
   "cell_type": "markdown",
   "metadata": {},
   "source": [
    "### Exercise: Use `shift` to Compute Returns\n",
    "\n",
    "Compute the percentage change using only `shift`, division (`/`) and\n",
    "subtraction (`-`) on the `Series` `mom_10`. Verify that your result matches what `pct_change` produces."
   ]
  },
  {
   "cell_type": "code",
   "execution_count": null,
   "metadata": {
    "execution": {
     "iopub.execute_input": "2025-08-27T13:43:15.454870Z",
     "iopub.status.busy": "2025-08-27T13:43:15.454870Z",
     "iopub.status.idle": "2025-08-27T13:43:15.463376Z",
     "shell.execute_reply": "2025-08-27T13:43:15.463376Z"
    },
    "tags": []
   },
   "outputs": [],
   "source": []
  }
 ],
 "metadata": {
  "kernelspec": {
   "display_name": "Python 3 (ipykernel)",
   "language": "python",
   "name": "python3"
  },
  "language_info": {
   "codemirror_mode": {
    "name": "ipython",
    "version": 3
   },
   "file_extension": ".py",
   "mimetype": "text/x-python",
   "name": "python",
   "nbconvert_exporter": "python",
   "pygments_lexer": "ipython3",
   "version": "3.12.11"
  },
  "pycharm": {
   "stem_cell": {
    "cell_type": "raw",
    "metadata": {
     "collapsed": false
    },
    "source": []
   }
  }
 },
 "nbformat": 4,
 "nbformat_minor": 4
}
