{
 "cells": [
  {
   "cell_type": "markdown",
   "metadata": {},
   "source": [
    "# Accessing Elements in DataFrames\n",
    "\n",
    "This lesson covers:\n",
    "\n",
    "* Assessing specific elements in Pandas Series and DataFrames \n",
    "\n",
    "Accessing elements in an array or a DataFrame is a common task. To begin this\n",
    "lesson, clear the workspace set up some vectors and a $5\\times5$ array. These\n",
    "vectors and matrix will make it easy to determine which elements are selected\n",
    "by a command.\n",
    "\n",
    "Start by creating 2 DataFrame and 2 Series. Define `x=np.arange(24).reshape(5,5)` \n",
    "which is a 5 by 5 array and `y=np.arange(5)` which is a 5-element 1-d array.\n",
    "We need:\n",
    "\n",
    "* `x_df`: A default `DataFrame` containing `x`\n",
    "* `x_named`: A `DataFrame` containing `x` with index `\"r0\"`, `\"r1\"`, ..., `\"r4\"` and\n",
    "  columns `\"c0\"`, `\"c1\"`, ... `\"c4\"`.\n",
    "* `y_s`: A default `Series` containing `y`\n",
    "* `y_named`: A `Series` containing `y` that has the index `\"r0\"`, `\"r1\"`, ..., `\"r4\"`"
   ]
  },
  {
   "cell_type": "code",
   "execution_count": 1,
   "metadata": {
    "pycharm": {
     "is_executing": false
    }
   },
   "outputs": [
    {
     "name": "stdout",
     "output_type": "stream",
     "text": [
      "x = [[ 0  1  2  3  4]\n",
      " [ 5  6  7  8  9]\n",
      " [10 11 12 13 14]\n",
      " [15 16 17 18 19]\n",
      " [20 21 22 23 24]]\n",
      "y = [0 1 2 3 4]\n",
      "z = [[0]\n",
      " [1]\n",
      " [2]\n",
      " [3]\n",
      " [4]]\n",
      "\n",
      "x_df = \n",
      "    0   1   2   3   4\n",
      "0   0   1   2   3   4\n",
      "1   5   6   7   8   9\n",
      "2  10  11  12  13  14\n",
      "3  15  16  17  18  19\n",
      "4  20  21  22  23  24\n",
      "y_s = \n",
      "0    0\n",
      "1    1\n",
      "2    2\n",
      "3    3\n",
      "4    4\n",
      "dtype: int64\n",
      "\n",
      "x_named = \n",
      "    c0  c1  c2  c3  c4\n",
      "r0   0   1   2   3   4\n",
      "r1   5   6   7   8   9\n",
      "r2  10  11  12  13  14\n",
      "r3  15  16  17  18  19\n",
      "r4  20  21  22  23  24\n",
      "y_named = \n",
      "r0    0\n",
      "r1    1\n",
      "r2    2\n",
      "r3    3\n",
      "r4    4\n",
      "dtype: int64\n"
     ]
    }
   ],
   "source": [
    "import numpy as np\n",
    "import pandas as pd\n",
    "\n",
    "x = np.arange(25).reshape((5, 5))\n",
    "y = np.arange(5)\n",
    "# The -1 tells numpy to automatically compute the size of\n",
    "# the dimension using the remaining elements, in this case, 5\n",
    "z = np.arange(5).reshape((-1, 1))\n",
    "\n",
    "x_df = pd.DataFrame(x)\n",
    "x_named = pd.DataFrame(\n",
    "    x, index=[\"r0\", \"r1\", \"r2\", \"r3\", \"r4\"], columns=[\"c0\", \"c1\", \"c2\", \"c3\", \"c4\"]\n",
    ")\n",
    "y_s = pd.Series(y)\n",
    "y_named = pd.Series(y, index=x_named.index)\n",
    "\n",
    "print(f\"x = {x}\")\n",
    "print(f\"y = {y}\")\n",
    "print(f\"z = {z}\")\n",
    "\n",
    "print()\n",
    "print(f\"x_df = \\n{x_df}\")\n",
    "print(f\"y_s = \\n{y_s}\")\n",
    "\n",
    "print()\n",
    "print(f\"x_named = \\n{x_named}\")\n",
    "print(f\"y_named = \\n{y_named}\")"
   ]
  },
  {
   "cell_type": "markdown",
   "metadata": {},
   "source": [
    "## Problem: Selecting a row by name\n",
    "\n",
    "Select the 2nd row of `x_name` using `.loc`.\n"
   ]
  },
  {
   "cell_type": "code",
   "execution_count": 2,
   "metadata": {
    "pycharm": {
     "is_executing": false
    }
   },
   "outputs": [
    {
     "data": {
      "text/plain": [
       "c0    5\n",
       "c1    6\n",
       "c2    7\n",
       "c3    8\n",
       "c4    9\n",
       "Name: r1, dtype: int64"
      ]
     },
     "execution_count": 2,
     "metadata": {},
     "output_type": "execute_result"
    }
   ],
   "source": [
    "x_named.loc[\"r1\"]"
   ]
  },
  {
   "cell_type": "markdown",
   "metadata": {},
   "source": [
    "## Problem: Selecting a column by name\n",
    "\n",
    "Select the 2nd columns of `x_name` using  both `[]` and `.loc`."
   ]
  },
  {
   "cell_type": "code",
   "execution_count": 3,
   "metadata": {
    "pycharm": {
     "is_executing": false,
     "name": "#%%\n"
    }
   },
   "outputs": [
    {
     "data": {
      "text/plain": [
       "r0     1\n",
       "r1     6\n",
       "r2    11\n",
       "r3    16\n",
       "r4    21\n",
       "Name: c1, dtype: int64"
      ]
     },
     "execution_count": 3,
     "metadata": {},
     "output_type": "execute_result"
    }
   ],
   "source": [
    "x_named.loc[:, \"c1\"]"
   ]
  },
  {
   "cell_type": "code",
   "execution_count": 4,
   "metadata": {
    "pycharm": {
     "is_executing": false
    }
   },
   "outputs": [
    {
     "data": {
      "text/plain": [
       "r0     1\n",
       "r1     6\n",
       "r2    11\n",
       "r3    16\n",
       "r4    21\n",
       "Name: c1, dtype: int64"
      ]
     },
     "execution_count": 4,
     "metadata": {},
     "output_type": "execute_result"
    }
   ],
   "source": [
    "x_named[\"c1\"]"
   ]
  },
  {
   "cell_type": "code",
   "execution_count": 5,
   "metadata": {
    "pycharm": {
     "is_executing": false,
     "name": "#%%\n"
    }
   },
   "outputs": [
    {
     "data": {
      "text/plain": [
       "r0     1\n",
       "r1     6\n",
       "r2    11\n",
       "r3    16\n",
       "r4    21\n",
       "Name: c1, dtype: int64"
      ]
     },
     "execution_count": 5,
     "metadata": {},
     "output_type": "execute_result"
    }
   ],
   "source": [
    "x_named.c1"
   ]
  },
  {
   "cell_type": "markdown",
   "metadata": {},
   "source": [
    "## Problem: Selecting a elements of a Series by name\n",
    "\n",
    "Select the 2nd element of `y_name` using both `[]` and `loc`.\n"
   ]
  },
  {
   "cell_type": "code",
   "execution_count": 6,
   "metadata": {
    "pycharm": {
     "is_executing": false
    }
   },
   "outputs": [
    {
     "name": "stdout",
     "output_type": "stream",
     "text": [
      "1\n"
     ]
    }
   ],
   "source": [
    "print(y_named[\"r1\"])"
   ]
  },
  {
   "cell_type": "code",
   "execution_count": 7,
   "metadata": {
    "pycharm": {
     "is_executing": false,
     "name": "#%%\n"
    }
   },
   "outputs": [
    {
     "data": {
      "text/plain": [
       "np.int64(1)"
      ]
     },
     "execution_count": 7,
     "metadata": {},
     "output_type": "execute_result"
    }
   ],
   "source": [
    "y_named.loc[\"r1\"]"
   ]
  },
  {
   "cell_type": "code",
   "execution_count": 8,
   "metadata": {
    "pycharm": {
     "is_executing": false,
     "name": "#%%\n"
    }
   },
   "outputs": [
    {
     "data": {
      "text/plain": [
       "np.int64(1)"
      ]
     },
     "execution_count": 8,
     "metadata": {},
     "output_type": "execute_result"
    }
   ],
   "source": [
    "y_named.r1"
   ]
  },
  {
   "cell_type": "markdown",
   "metadata": {},
   "source": [
    "## Problem: Selecting rows and columns by name\n",
    "\n",
    "Select the 2nd and 4th rows and 1st and 3rd columns of `x_name`."
   ]
  },
  {
   "cell_type": "code",
   "execution_count": 9,
   "metadata": {
    "pycharm": {
     "is_executing": false
    }
   },
   "outputs": [
    {
     "data": {
      "text/html": [
       "<div>\n",
       "<style scoped>\n",
       "    .dataframe tbody tr th:only-of-type {\n",
       "        vertical-align: middle;\n",
       "    }\n",
       "\n",
       "    .dataframe tbody tr th {\n",
       "        vertical-align: top;\n",
       "    }\n",
       "\n",
       "    .dataframe thead th {\n",
       "        text-align: right;\n",
       "    }\n",
       "</style>\n",
       "<table border=\"1\" class=\"dataframe\">\n",
       "  <thead>\n",
       "    <tr style=\"text-align: right;\">\n",
       "      <th></th>\n",
       "      <th>c0</th>\n",
       "      <th>c2</th>\n",
       "    </tr>\n",
       "  </thead>\n",
       "  <tbody>\n",
       "    <tr>\n",
       "      <th>r1</th>\n",
       "      <td>5</td>\n",
       "      <td>7</td>\n",
       "    </tr>\n",
       "    <tr>\n",
       "      <th>r3</th>\n",
       "      <td>15</td>\n",
       "      <td>17</td>\n",
       "    </tr>\n",
       "  </tbody>\n",
       "</table>\n",
       "</div>"
      ],
      "text/plain": [
       "    c0  c2\n",
       "r1   5   7\n",
       "r3  15  17"
      ]
     },
     "execution_count": 9,
     "metadata": {},
     "output_type": "execute_result"
    }
   ],
   "source": [
    "x_named.loc[[\"r1\", \"r3\"], [\"c0\", \"c2\"]]"
   ]
  },
  {
   "cell_type": "code",
   "execution_count": 10,
   "metadata": {
    "pycharm": {
     "is_executing": false
    }
   },
   "outputs": [
    {
     "data": {
      "text/html": [
       "<div>\n",
       "<style scoped>\n",
       "    .dataframe tbody tr th:only-of-type {\n",
       "        vertical-align: middle;\n",
       "    }\n",
       "\n",
       "    .dataframe tbody tr th {\n",
       "        vertical-align: top;\n",
       "    }\n",
       "\n",
       "    .dataframe thead th {\n",
       "        text-align: right;\n",
       "    }\n",
       "</style>\n",
       "<table border=\"1\" class=\"dataframe\">\n",
       "  <thead>\n",
       "    <tr style=\"text-align: right;\">\n",
       "      <th></th>\n",
       "      <th>c0</th>\n",
       "      <th>c2</th>\n",
       "    </tr>\n",
       "  </thead>\n",
       "  <tbody>\n",
       "    <tr>\n",
       "      <th>r1</th>\n",
       "      <td>5</td>\n",
       "      <td>7</td>\n",
       "    </tr>\n",
       "    <tr>\n",
       "      <th>r3</th>\n",
       "      <td>15</td>\n",
       "      <td>17</td>\n",
       "    </tr>\n",
       "  </tbody>\n",
       "</table>\n",
       "</div>"
      ],
      "text/plain": [
       "    c0  c2\n",
       "r1   5   7\n",
       "r3  15  17"
      ]
     },
     "execution_count": 10,
     "metadata": {},
     "output_type": "execute_result"
    }
   ],
   "source": [
    "# Also right, but not recommended\n",
    "x_named[[\"c0\", \"c2\"]].loc[[\"r1\", \"r3\"]]"
   ]
  },
  {
   "cell_type": "code",
   "execution_count": 11,
   "metadata": {
    "pycharm": {
     "is_executing": false
    }
   },
   "outputs": [
    {
     "data": {
      "text/html": [
       "<div>\n",
       "<style scoped>\n",
       "    .dataframe tbody tr th:only-of-type {\n",
       "        vertical-align: middle;\n",
       "    }\n",
       "\n",
       "    .dataframe tbody tr th {\n",
       "        vertical-align: top;\n",
       "    }\n",
       "\n",
       "    .dataframe thead th {\n",
       "        text-align: right;\n",
       "    }\n",
       "</style>\n",
       "<table border=\"1\" class=\"dataframe\">\n",
       "  <thead>\n",
       "    <tr style=\"text-align: right;\">\n",
       "      <th></th>\n",
       "      <th>c0</th>\n",
       "      <th>c2</th>\n",
       "    </tr>\n",
       "  </thead>\n",
       "  <tbody>\n",
       "    <tr>\n",
       "      <th>r1</th>\n",
       "      <td>5</td>\n",
       "      <td>7</td>\n",
       "    </tr>\n",
       "    <tr>\n",
       "      <th>r3</th>\n",
       "      <td>15</td>\n",
       "      <td>17</td>\n",
       "    </tr>\n",
       "  </tbody>\n",
       "</table>\n",
       "</div>"
      ],
      "text/plain": [
       "    c0  c2\n",
       "r1   5   7\n",
       "r3  15  17"
      ]
     },
     "execution_count": 11,
     "metadata": {},
     "output_type": "execute_result"
    }
   ],
   "source": [
    "# Also right, but not recommended\n",
    "x_named.loc[[\"r1\", \"r3\"]][[\"c0\", \"c2\"]]"
   ]
  },
  {
   "cell_type": "markdown",
   "metadata": {},
   "source": [
    "## Problem: DataFrame selection with default index and column names\n",
    "\n",
    "Select the 2nd and 4th rows and 1st and 3rd columns of `x_df`.\n"
   ]
  },
  {
   "cell_type": "code",
   "execution_count": 12,
   "metadata": {
    "pycharm": {
     "is_executing": false
    }
   },
   "outputs": [
    {
     "data": {
      "text/html": [
       "<div>\n",
       "<style scoped>\n",
       "    .dataframe tbody tr th:only-of-type {\n",
       "        vertical-align: middle;\n",
       "    }\n",
       "\n",
       "    .dataframe tbody tr th {\n",
       "        vertical-align: top;\n",
       "    }\n",
       "\n",
       "    .dataframe thead th {\n",
       "        text-align: right;\n",
       "    }\n",
       "</style>\n",
       "<table border=\"1\" class=\"dataframe\">\n",
       "  <thead>\n",
       "    <tr style=\"text-align: right;\">\n",
       "      <th></th>\n",
       "      <th>0</th>\n",
       "      <th>2</th>\n",
       "    </tr>\n",
       "  </thead>\n",
       "  <tbody>\n",
       "    <tr>\n",
       "      <th>1</th>\n",
       "      <td>5</td>\n",
       "      <td>7</td>\n",
       "    </tr>\n",
       "    <tr>\n",
       "      <th>3</th>\n",
       "      <td>15</td>\n",
       "      <td>17</td>\n",
       "    </tr>\n",
       "  </tbody>\n",
       "</table>\n",
       "</div>"
      ],
      "text/plain": [
       "    0   2\n",
       "1   5   7\n",
       "3  15  17"
      ]
     },
     "execution_count": 12,
     "metadata": {},
     "output_type": "execute_result"
    }
   ],
   "source": [
    "x_df.loc[[1, 3], [0, 2]]"
   ]
  },
  {
   "cell_type": "markdown",
   "metadata": {},
   "source": [
    "## Problem: Series selection with the default index\n",
    "\n",
    "Select the final element in `y_s`"
   ]
  },
  {
   "cell_type": "code",
   "execution_count": 13,
   "metadata": {
    "pycharm": {
     "is_executing": false
    }
   },
   "outputs": [
    {
     "data": {
      "text/plain": [
       "np.int64(4)"
      ]
     },
     "execution_count": 13,
     "metadata": {},
     "output_type": "execute_result"
    }
   ],
   "source": [
    "y_s[4]"
   ]
  },
  {
   "cell_type": "code",
   "execution_count": 14,
   "metadata": {
    "pycharm": {
     "is_executing": false
    }
   },
   "outputs": [
    {
     "data": {
      "text/plain": [
       "np.int64(4)"
      ]
     },
     "execution_count": 14,
     "metadata": {},
     "output_type": "execute_result"
    }
   ],
   "source": [
    "y_s.loc[4]"
   ]
  },
  {
   "cell_type": "markdown",
   "metadata": {},
   "source": [
    "## Problem: Subseries selection\n",
    "Select the subseries of `y_named` and `y_s` containing the first, fourth and fifth element."
   ]
  },
  {
   "cell_type": "code",
   "execution_count": 15,
   "metadata": {
    "pycharm": {
     "is_executing": false
    }
   },
   "outputs": [
    {
     "data": {
      "text/plain": [
       "r0    0\n",
       "r3    3\n",
       "r4    4\n",
       "dtype: int64"
      ]
     },
     "execution_count": 15,
     "metadata": {},
     "output_type": "execute_result"
    }
   ],
   "source": [
    "y_named[[\"r0\", \"r3\", \"r4\"]]"
   ]
  },
  {
   "cell_type": "code",
   "execution_count": 16,
   "metadata": {
    "pycharm": {
     "is_executing": false
    }
   },
   "outputs": [
    {
     "data": {
      "text/plain": [
       "0    0\n",
       "3    3\n",
       "4    4\n",
       "dtype: int64"
      ]
     },
     "execution_count": 16,
     "metadata": {},
     "output_type": "execute_result"
    }
   ],
   "source": [
    "y_s.loc[[0, 3, 4]]"
   ]
  },
  {
   "cell_type": "markdown",
   "metadata": {},
   "source": [
    "Load the data in momentum.csv."
   ]
  },
  {
   "cell_type": "code",
   "execution_count": 17,
   "metadata": {
    "pycharm": {
     "is_executing": false
    }
   },
   "outputs": [
    {
     "data": {
      "text/html": [
       "<div>\n",
       "<style scoped>\n",
       "    .dataframe tbody tr th:only-of-type {\n",
       "        vertical-align: middle;\n",
       "    }\n",
       "\n",
       "    .dataframe tbody tr th {\n",
       "        vertical-align: top;\n",
       "    }\n",
       "\n",
       "    .dataframe thead th {\n",
       "        text-align: right;\n",
       "    }\n",
       "</style>\n",
       "<table border=\"1\" class=\"dataframe\">\n",
       "  <thead>\n",
       "    <tr style=\"text-align: right;\">\n",
       "      <th></th>\n",
       "      <th>mom_01</th>\n",
       "      <th>mom_02</th>\n",
       "      <th>mom_03</th>\n",
       "      <th>mom_04</th>\n",
       "      <th>mom_05</th>\n",
       "      <th>mom_06</th>\n",
       "      <th>mom_07</th>\n",
       "      <th>mom_08</th>\n",
       "      <th>mom_09</th>\n",
       "      <th>mom_10</th>\n",
       "    </tr>\n",
       "    <tr>\n",
       "      <th>date</th>\n",
       "      <th></th>\n",
       "      <th></th>\n",
       "      <th></th>\n",
       "      <th></th>\n",
       "      <th></th>\n",
       "      <th></th>\n",
       "      <th></th>\n",
       "      <th></th>\n",
       "      <th></th>\n",
       "      <th></th>\n",
       "    </tr>\n",
       "  </thead>\n",
       "  <tbody>\n",
       "    <tr>\n",
       "      <th>2016-01-04</th>\n",
       "      <td>0.67</td>\n",
       "      <td>-0.03</td>\n",
       "      <td>-0.93</td>\n",
       "      <td>-1.11</td>\n",
       "      <td>-1.47</td>\n",
       "      <td>-1.66</td>\n",
       "      <td>-1.40</td>\n",
       "      <td>-2.08</td>\n",
       "      <td>-1.71</td>\n",
       "      <td>-2.67</td>\n",
       "    </tr>\n",
       "    <tr>\n",
       "      <th>2016-01-05</th>\n",
       "      <td>-0.36</td>\n",
       "      <td>0.20</td>\n",
       "      <td>-0.37</td>\n",
       "      <td>0.28</td>\n",
       "      <td>0.16</td>\n",
       "      <td>0.18</td>\n",
       "      <td>-0.22</td>\n",
       "      <td>0.25</td>\n",
       "      <td>0.29</td>\n",
       "      <td>0.13</td>\n",
       "    </tr>\n",
       "    <tr>\n",
       "      <th>2016-01-06</th>\n",
       "      <td>-4.97</td>\n",
       "      <td>-2.33</td>\n",
       "      <td>-2.60</td>\n",
       "      <td>-1.16</td>\n",
       "      <td>-1.70</td>\n",
       "      <td>-1.45</td>\n",
       "      <td>-1.15</td>\n",
       "      <td>-1.46</td>\n",
       "      <td>-1.14</td>\n",
       "      <td>-0.45</td>\n",
       "    </tr>\n",
       "    <tr>\n",
       "      <th>2016-01-07</th>\n",
       "      <td>-4.91</td>\n",
       "      <td>-1.91</td>\n",
       "      <td>-3.03</td>\n",
       "      <td>-1.87</td>\n",
       "      <td>-2.31</td>\n",
       "      <td>-2.30</td>\n",
       "      <td>-2.70</td>\n",
       "      <td>-2.31</td>\n",
       "      <td>-2.36</td>\n",
       "      <td>-2.66</td>\n",
       "    </tr>\n",
       "    <tr>\n",
       "      <th>2016-01-08</th>\n",
       "      <td>-0.40</td>\n",
       "      <td>-1.26</td>\n",
       "      <td>-0.98</td>\n",
       "      <td>-1.26</td>\n",
       "      <td>-1.13</td>\n",
       "      <td>-1.02</td>\n",
       "      <td>-0.96</td>\n",
       "      <td>-1.42</td>\n",
       "      <td>-0.94</td>\n",
       "      <td>-1.32</td>\n",
       "    </tr>\n",
       "  </tbody>\n",
       "</table>\n",
       "</div>"
      ],
      "text/plain": [
       "            mom_01  mom_02  mom_03  mom_04  mom_05  mom_06  mom_07  mom_08  \\\n",
       "date                                                                         \n",
       "2016-01-04    0.67   -0.03   -0.93   -1.11   -1.47   -1.66   -1.40   -2.08   \n",
       "2016-01-05   -0.36    0.20   -0.37    0.28    0.16    0.18   -0.22    0.25   \n",
       "2016-01-06   -4.97   -2.33   -2.60   -1.16   -1.70   -1.45   -1.15   -1.46   \n",
       "2016-01-07   -4.91   -1.91   -3.03   -1.87   -2.31   -2.30   -2.70   -2.31   \n",
       "2016-01-08   -0.40   -1.26   -0.98   -1.26   -1.13   -1.02   -0.96   -1.42   \n",
       "\n",
       "            mom_09  mom_10  \n",
       "date                        \n",
       "2016-01-04   -1.71   -2.67  \n",
       "2016-01-05    0.29    0.13  \n",
       "2016-01-06   -1.14   -0.45  \n",
       "2016-01-07   -2.36   -2.66  \n",
       "2016-01-08   -0.94   -1.32  "
      ]
     },
     "execution_count": 17,
     "metadata": {},
     "output_type": "execute_result"
    }
   ],
   "source": [
    "# Setup: Load the momentum data\n",
    "\n",
    "import pandas as pd\n",
    "\n",
    "momentum = pd.read_csv(\"data/momentum.csv\", index_col=\"date\", parse_dates=True)\n",
    "momentum.head()"
   ]
  },
  {
   "cell_type": "markdown",
   "metadata": {
    "pycharm": {
     "name": "#%% md\n"
    }
   },
   "source": [
    "## Problem: Selecting data on a single day\n",
    "\n",
    "Select returns on February 16, 2016.\n"
   ]
  },
  {
   "cell_type": "code",
   "execution_count": 18,
   "metadata": {
    "pycharm": {
     "is_executing": false
    }
   },
   "outputs": [
    {
     "data": {
      "text/plain": [
       "mom_01    4.94\n",
       "mom_02    2.46\n",
       "mom_03    2.59\n",
       "mom_04    2.17\n",
       "mom_05    2.24\n",
       "mom_06    1.83\n",
       "mom_07    1.57\n",
       "mom_08    1.56\n",
       "mom_09    1.35\n",
       "mom_10    1.72\n",
       "Name: 2016-02-16 00:00:00, dtype: float64"
      ]
     },
     "execution_count": 18,
     "metadata": {},
     "output_type": "execute_result"
    }
   ],
   "source": [
    "momentum.loc[\"2016-2-16\"]"
   ]
  },
  {
   "cell_type": "markdown",
   "metadata": {},
   "source": [
    "## Problem: Selecting data in a single month\n",
    "\n",
    "Select return in March 2016."
   ]
  },
  {
   "cell_type": "code",
   "execution_count": 19,
   "metadata": {
    "pycharm": {
     "is_executing": false
    }
   },
   "outputs": [
    {
     "data": {
      "text/html": [
       "<div>\n",
       "<style scoped>\n",
       "    .dataframe tbody tr th:only-of-type {\n",
       "        vertical-align: middle;\n",
       "    }\n",
       "\n",
       "    .dataframe tbody tr th {\n",
       "        vertical-align: top;\n",
       "    }\n",
       "\n",
       "    .dataframe thead th {\n",
       "        text-align: right;\n",
       "    }\n",
       "</style>\n",
       "<table border=\"1\" class=\"dataframe\">\n",
       "  <thead>\n",
       "    <tr style=\"text-align: right;\">\n",
       "      <th></th>\n",
       "      <th>mom_01</th>\n",
       "      <th>mom_02</th>\n",
       "      <th>mom_03</th>\n",
       "      <th>mom_04</th>\n",
       "      <th>mom_05</th>\n",
       "      <th>mom_06</th>\n",
       "      <th>mom_07</th>\n",
       "      <th>mom_08</th>\n",
       "      <th>mom_09</th>\n",
       "      <th>mom_10</th>\n",
       "    </tr>\n",
       "    <tr>\n",
       "      <th>date</th>\n",
       "      <th></th>\n",
       "      <th></th>\n",
       "      <th></th>\n",
       "      <th></th>\n",
       "      <th></th>\n",
       "      <th></th>\n",
       "      <th></th>\n",
       "      <th></th>\n",
       "      <th></th>\n",
       "      <th></th>\n",
       "    </tr>\n",
       "  </thead>\n",
       "  <tbody>\n",
       "    <tr>\n",
       "      <th>2016-03-01</th>\n",
       "      <td>1.47</td>\n",
       "      <td>2.37</td>\n",
       "      <td>2.38</td>\n",
       "      <td>2.98</td>\n",
       "      <td>2.61</td>\n",
       "      <td>2.68</td>\n",
       "      <td>2.31</td>\n",
       "      <td>2.12</td>\n",
       "      <td>1.42</td>\n",
       "      <td>2.54</td>\n",
       "    </tr>\n",
       "    <tr>\n",
       "      <th>2016-03-02</th>\n",
       "      <td>5.76</td>\n",
       "      <td>3.26</td>\n",
       "      <td>1.53</td>\n",
       "      <td>0.40</td>\n",
       "      <td>0.58</td>\n",
       "      <td>0.56</td>\n",
       "      <td>0.29</td>\n",
       "      <td>0.21</td>\n",
       "      <td>0.39</td>\n",
       "      <td>0.14</td>\n",
       "    </tr>\n",
       "    <tr>\n",
       "      <th>2016-03-03</th>\n",
       "      <td>4.09</td>\n",
       "      <td>2.41</td>\n",
       "      <td>1.36</td>\n",
       "      <td>0.99</td>\n",
       "      <td>0.71</td>\n",
       "      <td>0.50</td>\n",
       "      <td>0.38</td>\n",
       "      <td>0.41</td>\n",
       "      <td>0.33</td>\n",
       "      <td>-0.29</td>\n",
       "    </tr>\n",
       "    <tr>\n",
       "      <th>2016-03-04</th>\n",
       "      <td>2.69</td>\n",
       "      <td>0.82</td>\n",
       "      <td>1.04</td>\n",
       "      <td>0.54</td>\n",
       "      <td>0.73</td>\n",
       "      <td>0.40</td>\n",
       "      <td>0.09</td>\n",
       "      <td>0.47</td>\n",
       "      <td>0.13</td>\n",
       "      <td>0.02</td>\n",
       "    </tr>\n",
       "    <tr>\n",
       "      <th>2016-03-07</th>\n",
       "      <td>3.04</td>\n",
       "      <td>2.27</td>\n",
       "      <td>1.46</td>\n",
       "      <td>0.67</td>\n",
       "      <td>0.63</td>\n",
       "      <td>0.87</td>\n",
       "      <td>0.37</td>\n",
       "      <td>-0.04</td>\n",
       "      <td>-0.17</td>\n",
       "      <td>-1.24</td>\n",
       "    </tr>\n",
       "  </tbody>\n",
       "</table>\n",
       "</div>"
      ],
      "text/plain": [
       "            mom_01  mom_02  mom_03  mom_04  mom_05  mom_06  mom_07  mom_08  \\\n",
       "date                                                                         \n",
       "2016-03-01    1.47    2.37    2.38    2.98    2.61    2.68    2.31    2.12   \n",
       "2016-03-02    5.76    3.26    1.53    0.40    0.58    0.56    0.29    0.21   \n",
       "2016-03-03    4.09    2.41    1.36    0.99    0.71    0.50    0.38    0.41   \n",
       "2016-03-04    2.69    0.82    1.04    0.54    0.73    0.40    0.09    0.47   \n",
       "2016-03-07    3.04    2.27    1.46    0.67    0.63    0.87    0.37   -0.04   \n",
       "\n",
       "            mom_09  mom_10  \n",
       "date                        \n",
       "2016-03-01    1.42    2.54  \n",
       "2016-03-02    0.39    0.14  \n",
       "2016-03-03    0.33   -0.29  \n",
       "2016-03-04    0.13    0.02  \n",
       "2016-03-07   -0.17   -1.24  "
      ]
     },
     "execution_count": 19,
     "metadata": {},
     "output_type": "execute_result"
    }
   ],
   "source": [
    "march = momentum.loc[\"2016-3\"]\n",
    "# Use head to nly show top 5 rows\n",
    "march.head()"
   ]
  },
  {
   "cell_type": "markdown",
   "metadata": {},
   "source": [
    "## Problem: Selecting data in a single year\n",
    "\n",
    "Select return in 2016.\n"
   ]
  },
  {
   "cell_type": "code",
   "execution_count": 20,
   "metadata": {
    "pycharm": {
     "is_executing": false
    }
   },
   "outputs": [
    {
     "data": {
      "text/html": [
       "<div>\n",
       "<style scoped>\n",
       "    .dataframe tbody tr th:only-of-type {\n",
       "        vertical-align: middle;\n",
       "    }\n",
       "\n",
       "    .dataframe tbody tr th {\n",
       "        vertical-align: top;\n",
       "    }\n",
       "\n",
       "    .dataframe thead th {\n",
       "        text-align: right;\n",
       "    }\n",
       "</style>\n",
       "<table border=\"1\" class=\"dataframe\">\n",
       "  <thead>\n",
       "    <tr style=\"text-align: right;\">\n",
       "      <th></th>\n",
       "      <th>mom_01</th>\n",
       "      <th>mom_02</th>\n",
       "      <th>mom_03</th>\n",
       "      <th>mom_04</th>\n",
       "      <th>mom_05</th>\n",
       "      <th>mom_06</th>\n",
       "      <th>mom_07</th>\n",
       "      <th>mom_08</th>\n",
       "      <th>mom_09</th>\n",
       "      <th>mom_10</th>\n",
       "    </tr>\n",
       "    <tr>\n",
       "      <th>date</th>\n",
       "      <th></th>\n",
       "      <th></th>\n",
       "      <th></th>\n",
       "      <th></th>\n",
       "      <th></th>\n",
       "      <th></th>\n",
       "      <th></th>\n",
       "      <th></th>\n",
       "      <th></th>\n",
       "      <th></th>\n",
       "    </tr>\n",
       "  </thead>\n",
       "  <tbody>\n",
       "    <tr>\n",
       "      <th>2016-12-23</th>\n",
       "      <td>1.00</td>\n",
       "      <td>0.39</td>\n",
       "      <td>0.15</td>\n",
       "      <td>0.29</td>\n",
       "      <td>-0.02</td>\n",
       "      <td>0.12</td>\n",
       "      <td>0.08</td>\n",
       "      <td>0.24</td>\n",
       "      <td>0.11</td>\n",
       "      <td>0.63</td>\n",
       "    </tr>\n",
       "    <tr>\n",
       "      <th>2016-12-27</th>\n",
       "      <td>0.22</td>\n",
       "      <td>0.33</td>\n",
       "      <td>0.18</td>\n",
       "      <td>0.26</td>\n",
       "      <td>0.26</td>\n",
       "      <td>0.18</td>\n",
       "      <td>0.18</td>\n",
       "      <td>0.41</td>\n",
       "      <td>0.22</td>\n",
       "      <td>1.18</td>\n",
       "    </tr>\n",
       "    <tr>\n",
       "      <th>2016-12-28</th>\n",
       "      <td>-1.01</td>\n",
       "      <td>-0.96</td>\n",
       "      <td>-0.78</td>\n",
       "      <td>-0.80</td>\n",
       "      <td>-0.65</td>\n",
       "      <td>-0.82</td>\n",
       "      <td>-0.76</td>\n",
       "      <td>-1.01</td>\n",
       "      <td>-1.26</td>\n",
       "      <td>-1.80</td>\n",
       "    </tr>\n",
       "    <tr>\n",
       "      <th>2016-12-29</th>\n",
       "      <td>-0.16</td>\n",
       "      <td>0.05</td>\n",
       "      <td>-0.10</td>\n",
       "      <td>0.07</td>\n",
       "      <td>0.06</td>\n",
       "      <td>-0.21</td>\n",
       "      <td>-0.12</td>\n",
       "      <td>-0.11</td>\n",
       "      <td>-0.02</td>\n",
       "      <td>0.31</td>\n",
       "    </tr>\n",
       "    <tr>\n",
       "      <th>2016-12-30</th>\n",
       "      <td>-0.26</td>\n",
       "      <td>-0.54</td>\n",
       "      <td>-0.56</td>\n",
       "      <td>-0.53</td>\n",
       "      <td>-0.68</td>\n",
       "      <td>-0.30</td>\n",
       "      <td>-0.12</td>\n",
       "      <td>-0.56</td>\n",
       "      <td>-0.57</td>\n",
       "      <td>-1.49</td>\n",
       "    </tr>\n",
       "  </tbody>\n",
       "</table>\n",
       "</div>"
      ],
      "text/plain": [
       "            mom_01  mom_02  mom_03  mom_04  mom_05  mom_06  mom_07  mom_08  \\\n",
       "date                                                                         \n",
       "2016-12-23    1.00    0.39    0.15    0.29   -0.02    0.12    0.08    0.24   \n",
       "2016-12-27    0.22    0.33    0.18    0.26    0.26    0.18    0.18    0.41   \n",
       "2016-12-28   -1.01   -0.96   -0.78   -0.80   -0.65   -0.82   -0.76   -1.01   \n",
       "2016-12-29   -0.16    0.05   -0.10    0.07    0.06   -0.21   -0.12   -0.11   \n",
       "2016-12-30   -0.26   -0.54   -0.56   -0.53   -0.68   -0.30   -0.12   -0.56   \n",
       "\n",
       "            mom_09  mom_10  \n",
       "date                        \n",
       "2016-12-23    0.11    0.63  \n",
       "2016-12-27    0.22    1.18  \n",
       "2016-12-28   -1.26   -1.80  \n",
       "2016-12-29   -0.02    0.31  \n",
       "2016-12-30   -0.57   -1.49  "
      ]
     },
     "execution_count": 20,
     "metadata": {},
     "output_type": "execute_result"
    }
   ],
   "source": [
    "mom_2016 = momentum.loc[\"2016\"]\n",
    "mom_2016.tail()"
   ]
  },
  {
   "cell_type": "markdown",
   "metadata": {},
   "source": [
    "## Problem: Selecting data in a date range\n",
    "\n",
    "Select returns between May 1, 2016, and June 15, 2016."
   ]
  },
  {
   "cell_type": "code",
   "execution_count": 21,
   "metadata": {
    "pycharm": {
     "is_executing": false
    }
   },
   "outputs": [
    {
     "data": {
      "text/html": [
       "<div>\n",
       "<style scoped>\n",
       "    .dataframe tbody tr th:only-of-type {\n",
       "        vertical-align: middle;\n",
       "    }\n",
       "\n",
       "    .dataframe tbody tr th {\n",
       "        vertical-align: top;\n",
       "    }\n",
       "\n",
       "    .dataframe thead th {\n",
       "        text-align: right;\n",
       "    }\n",
       "</style>\n",
       "<table border=\"1\" class=\"dataframe\">\n",
       "  <thead>\n",
       "    <tr style=\"text-align: right;\">\n",
       "      <th></th>\n",
       "      <th>mom_01</th>\n",
       "      <th>mom_02</th>\n",
       "      <th>mom_03</th>\n",
       "      <th>mom_04</th>\n",
       "      <th>mom_05</th>\n",
       "      <th>mom_06</th>\n",
       "      <th>mom_07</th>\n",
       "      <th>mom_08</th>\n",
       "      <th>mom_09</th>\n",
       "      <th>mom_10</th>\n",
       "    </tr>\n",
       "    <tr>\n",
       "      <th>date</th>\n",
       "      <th></th>\n",
       "      <th></th>\n",
       "      <th></th>\n",
       "      <th></th>\n",
       "      <th></th>\n",
       "      <th></th>\n",
       "      <th></th>\n",
       "      <th></th>\n",
       "      <th></th>\n",
       "      <th></th>\n",
       "    </tr>\n",
       "  </thead>\n",
       "  <tbody>\n",
       "    <tr>\n",
       "      <th>2016-06-09</th>\n",
       "      <td>-1.72</td>\n",
       "      <td>-1.38</td>\n",
       "      <td>-0.70</td>\n",
       "      <td>-0.74</td>\n",
       "      <td>-0.73</td>\n",
       "      <td>-0.55</td>\n",
       "      <td>-0.32</td>\n",
       "      <td>-0.16</td>\n",
       "      <td>0.37</td>\n",
       "      <td>0.33</td>\n",
       "    </tr>\n",
       "    <tr>\n",
       "      <th>2016-06-10</th>\n",
       "      <td>-3.72</td>\n",
       "      <td>-2.63</td>\n",
       "      <td>-1.91</td>\n",
       "      <td>-1.98</td>\n",
       "      <td>-1.59</td>\n",
       "      <td>-0.95</td>\n",
       "      <td>-0.80</td>\n",
       "      <td>-0.72</td>\n",
       "      <td>-0.39</td>\n",
       "      <td>-0.79</td>\n",
       "    </tr>\n",
       "    <tr>\n",
       "      <th>2016-06-13</th>\n",
       "      <td>-1.08</td>\n",
       "      <td>0.14</td>\n",
       "      <td>-1.24</td>\n",
       "      <td>-1.25</td>\n",
       "      <td>-0.97</td>\n",
       "      <td>-0.72</td>\n",
       "      <td>-0.90</td>\n",
       "      <td>-0.48</td>\n",
       "      <td>-0.91</td>\n",
       "      <td>-0.67</td>\n",
       "    </tr>\n",
       "    <tr>\n",
       "      <th>2016-06-14</th>\n",
       "      <td>-0.33</td>\n",
       "      <td>-0.70</td>\n",
       "      <td>-0.42</td>\n",
       "      <td>-1.34</td>\n",
       "      <td>-0.85</td>\n",
       "      <td>-0.15</td>\n",
       "      <td>-0.07</td>\n",
       "      <td>-0.02</td>\n",
       "      <td>0.13</td>\n",
       "      <td>0.28</td>\n",
       "    </tr>\n",
       "    <tr>\n",
       "      <th>2016-06-15</th>\n",
       "      <td>0.65</td>\n",
       "      <td>0.58</td>\n",
       "      <td>-0.14</td>\n",
       "      <td>0.27</td>\n",
       "      <td>-0.07</td>\n",
       "      <td>-0.06</td>\n",
       "      <td>-0.44</td>\n",
       "      <td>-0.25</td>\n",
       "      <td>-0.20</td>\n",
       "      <td>-0.26</td>\n",
       "    </tr>\n",
       "  </tbody>\n",
       "</table>\n",
       "</div>"
      ],
      "text/plain": [
       "            mom_01  mom_02  mom_03  mom_04  mom_05  mom_06  mom_07  mom_08  \\\n",
       "date                                                                         \n",
       "2016-06-09   -1.72   -1.38   -0.70   -0.74   -0.73   -0.55   -0.32   -0.16   \n",
       "2016-06-10   -3.72   -2.63   -1.91   -1.98   -1.59   -0.95   -0.80   -0.72   \n",
       "2016-06-13   -1.08    0.14   -1.24   -1.25   -0.97   -0.72   -0.90   -0.48   \n",
       "2016-06-14   -0.33   -0.70   -0.42   -1.34   -0.85   -0.15   -0.07   -0.02   \n",
       "2016-06-15    0.65    0.58   -0.14    0.27   -0.07   -0.06   -0.44   -0.25   \n",
       "\n",
       "            mom_09  mom_10  \n",
       "date                        \n",
       "2016-06-09    0.37    0.33  \n",
       "2016-06-10   -0.39   -0.79  \n",
       "2016-06-13   -0.91   -0.67  \n",
       "2016-06-14    0.13    0.28  \n",
       "2016-06-15   -0.20   -0.26  "
      ]
     },
     "execution_count": 21,
     "metadata": {},
     "output_type": "execute_result"
    }
   ],
   "source": [
    "block = momentum.loc[\"2016-5-1\":\"2016-6-15\"]\n",
    "block.tail()"
   ]
  },
  {
   "cell_type": "markdown",
   "metadata": {
    "pycharm": {
     "name": "#%% md\n"
    }
   },
   "source": [
    "## Exercises\n",
    "\n",
    "### Exercise: Subset time-series\n",
    "\n",
    "Select the data for May 2017 for momentum portfolios 1 and 10."
   ]
  },
  {
   "cell_type": "code",
   "execution_count": 22,
   "metadata": {
    "collapsed": false,
    "jupyter": {
     "outputs_hidden": false
    },
    "pycharm": {
     "is_executing": false,
     "name": "#%%\n"
    }
   },
   "outputs": [
    {
     "data": {
      "text/html": [
       "<div>\n",
       "<style scoped>\n",
       "    .dataframe tbody tr th:only-of-type {\n",
       "        vertical-align: middle;\n",
       "    }\n",
       "\n",
       "    .dataframe tbody tr th {\n",
       "        vertical-align: top;\n",
       "    }\n",
       "\n",
       "    .dataframe thead th {\n",
       "        text-align: right;\n",
       "    }\n",
       "</style>\n",
       "<table border=\"1\" class=\"dataframe\">\n",
       "  <thead>\n",
       "    <tr style=\"text-align: right;\">\n",
       "      <th></th>\n",
       "      <th>mom_01</th>\n",
       "      <th>mom_10</th>\n",
       "    </tr>\n",
       "    <tr>\n",
       "      <th>date</th>\n",
       "      <th></th>\n",
       "      <th></th>\n",
       "    </tr>\n",
       "  </thead>\n",
       "  <tbody>\n",
       "    <tr>\n",
       "      <th>2017-05-01</th>\n",
       "      <td>-0.25</td>\n",
       "      <td>1.36</td>\n",
       "    </tr>\n",
       "    <tr>\n",
       "      <th>2017-05-02</th>\n",
       "      <td>0.05</td>\n",
       "      <td>-0.82</td>\n",
       "    </tr>\n",
       "    <tr>\n",
       "      <th>2017-05-03</th>\n",
       "      <td>-0.75</td>\n",
       "      <td>-0.39</td>\n",
       "    </tr>\n",
       "    <tr>\n",
       "      <th>2017-05-04</th>\n",
       "      <td>0.10</td>\n",
       "      <td>-0.09</td>\n",
       "    </tr>\n",
       "    <tr>\n",
       "      <th>2017-05-05</th>\n",
       "      <td>0.48</td>\n",
       "      <td>0.95</td>\n",
       "    </tr>\n",
       "    <tr>\n",
       "      <th>2017-05-08</th>\n",
       "      <td>-0.52</td>\n",
       "      <td>0.63</td>\n",
       "    </tr>\n",
       "    <tr>\n",
       "      <th>2017-05-09</th>\n",
       "      <td>0.79</td>\n",
       "      <td>0.47</td>\n",
       "    </tr>\n",
       "    <tr>\n",
       "      <th>2017-05-10</th>\n",
       "      <td>0.31</td>\n",
       "      <td>0.89</td>\n",
       "    </tr>\n",
       "    <tr>\n",
       "      <th>2017-05-11</th>\n",
       "      <td>-0.38</td>\n",
       "      <td>0.12</td>\n",
       "    </tr>\n",
       "    <tr>\n",
       "      <th>2017-05-12</th>\n",
       "      <td>-0.87</td>\n",
       "      <td>0.36</td>\n",
       "    </tr>\n",
       "    <tr>\n",
       "      <th>2017-05-15</th>\n",
       "      <td>0.34</td>\n",
       "      <td>0.51</td>\n",
       "    </tr>\n",
       "    <tr>\n",
       "      <th>2017-05-16</th>\n",
       "      <td>-1.05</td>\n",
       "      <td>0.28</td>\n",
       "    </tr>\n",
       "    <tr>\n",
       "      <th>2017-05-17</th>\n",
       "      <td>-1.83</td>\n",
       "      <td>-4.30</td>\n",
       "    </tr>\n",
       "    <tr>\n",
       "      <th>2017-05-18</th>\n",
       "      <td>-0.16</td>\n",
       "      <td>1.32</td>\n",
       "    </tr>\n",
       "    <tr>\n",
       "      <th>2017-05-19</th>\n",
       "      <td>0.82</td>\n",
       "      <td>1.13</td>\n",
       "    </tr>\n",
       "    <tr>\n",
       "      <th>2017-05-22</th>\n",
       "      <td>0.15</td>\n",
       "      <td>0.85</td>\n",
       "    </tr>\n",
       "    <tr>\n",
       "      <th>2017-05-23</th>\n",
       "      <td>-0.10</td>\n",
       "      <td>0.50</td>\n",
       "    </tr>\n",
       "    <tr>\n",
       "      <th>2017-05-24</th>\n",
       "      <td>-0.45</td>\n",
       "      <td>0.24</td>\n",
       "    </tr>\n",
       "    <tr>\n",
       "      <th>2017-05-25</th>\n",
       "      <td>-0.22</td>\n",
       "      <td>0.63</td>\n",
       "    </tr>\n",
       "    <tr>\n",
       "      <th>2017-05-26</th>\n",
       "      <td>-0.24</td>\n",
       "      <td>0.27</td>\n",
       "    </tr>\n",
       "    <tr>\n",
       "      <th>2017-05-30</th>\n",
       "      <td>-0.58</td>\n",
       "      <td>-0.35</td>\n",
       "    </tr>\n",
       "    <tr>\n",
       "      <th>2017-05-31</th>\n",
       "      <td>0.09</td>\n",
       "      <td>-0.33</td>\n",
       "    </tr>\n",
       "  </tbody>\n",
       "</table>\n",
       "</div>"
      ],
      "text/plain": [
       "            mom_01  mom_10\n",
       "date                      \n",
       "2017-05-01   -0.25    1.36\n",
       "2017-05-02    0.05   -0.82\n",
       "2017-05-03   -0.75   -0.39\n",
       "2017-05-04    0.10   -0.09\n",
       "2017-05-05    0.48    0.95\n",
       "2017-05-08   -0.52    0.63\n",
       "2017-05-09    0.79    0.47\n",
       "2017-05-10    0.31    0.89\n",
       "2017-05-11   -0.38    0.12\n",
       "2017-05-12   -0.87    0.36\n",
       "2017-05-15    0.34    0.51\n",
       "2017-05-16   -1.05    0.28\n",
       "2017-05-17   -1.83   -4.30\n",
       "2017-05-18   -0.16    1.32\n",
       "2017-05-19    0.82    1.13\n",
       "2017-05-22    0.15    0.85\n",
       "2017-05-23   -0.10    0.50\n",
       "2017-05-24   -0.45    0.24\n",
       "2017-05-25   -0.22    0.63\n",
       "2017-05-26   -0.24    0.27\n",
       "2017-05-30   -0.58   -0.35\n",
       "2017-05-31    0.09   -0.33"
      ]
     },
     "execution_count": 22,
     "metadata": {},
     "output_type": "execute_result"
    }
   ],
   "source": [
    "momentum.loc[\"2017-05\", [\"mom_01\", \"mom_10\"]]"
   ]
  },
  {
   "cell_type": "markdown",
   "metadata": {
    "pycharm": {
     "name": "#%% md\n"
    }
   },
   "source": [
    "### Exercise: Select using Months\n",
    "\n",
    "Using a slice of YYYY-MM, select the returns for momentum portfolio\n",
    "5 in the final 6 months of 2016 as `Series`"
   ]
  },
  {
   "cell_type": "code",
   "execution_count": 23,
   "metadata": {
    "collapsed": false,
    "jupyter": {
     "outputs_hidden": false
    },
    "pycharm": {
     "is_executing": false,
     "name": "#%%\n"
    }
   },
   "outputs": [
    {
     "data": {
      "text/plain": [
       "date\n",
       "2016-07-01    0.24\n",
       "2016-07-05   -1.82\n",
       "2016-07-06    0.57\n",
       "2016-07-07    0.40\n",
       "2016-07-08    1.90\n",
       "              ... \n",
       "2016-12-23   -0.02\n",
       "2016-12-27    0.26\n",
       "2016-12-28   -0.65\n",
       "2016-12-29    0.06\n",
       "2016-12-30   -0.68\n",
       "Name: mom_05, Length: 127, dtype: float64"
      ]
     },
     "execution_count": 23,
     "metadata": {},
     "output_type": "execute_result"
    }
   ],
   "source": [
    "momentum.loc[\"2016-07\":\"2016-12\", \"mom_05\"]\n",
    "\n",
    "# or\n",
    "momentum.loc[\"2016-07\":\"2016-12\"].mom_05"
   ]
  },
  {
   "cell_type": "markdown",
   "metadata": {},
   "source": [
    "### Exercise: Ensure DataFrame\n",
    "\n",
    "Repeat the previous problem but ensure the selection is a DataFrame."
   ]
  },
  {
   "cell_type": "code",
   "execution_count": 24,
   "metadata": {
    "collapsed": false,
    "jupyter": {
     "outputs_hidden": false
    },
    "pycharm": {
     "is_executing": false,
     "name": "#%%\n"
    },
    "tags": []
   },
   "outputs": [
    {
     "data": {
      "text/html": [
       "<div>\n",
       "<style scoped>\n",
       "    .dataframe tbody tr th:only-of-type {\n",
       "        vertical-align: middle;\n",
       "    }\n",
       "\n",
       "    .dataframe tbody tr th {\n",
       "        vertical-align: top;\n",
       "    }\n",
       "\n",
       "    .dataframe thead th {\n",
       "        text-align: right;\n",
       "    }\n",
       "</style>\n",
       "<table border=\"1\" class=\"dataframe\">\n",
       "  <thead>\n",
       "    <tr style=\"text-align: right;\">\n",
       "      <th></th>\n",
       "      <th>mom_05</th>\n",
       "    </tr>\n",
       "    <tr>\n",
       "      <th>date</th>\n",
       "      <th></th>\n",
       "    </tr>\n",
       "  </thead>\n",
       "  <tbody>\n",
       "    <tr>\n",
       "      <th>2016-07-01</th>\n",
       "      <td>0.24</td>\n",
       "    </tr>\n",
       "    <tr>\n",
       "      <th>2016-07-05</th>\n",
       "      <td>-1.82</td>\n",
       "    </tr>\n",
       "    <tr>\n",
       "      <th>2016-07-06</th>\n",
       "      <td>0.57</td>\n",
       "    </tr>\n",
       "    <tr>\n",
       "      <th>2016-07-07</th>\n",
       "      <td>0.40</td>\n",
       "    </tr>\n",
       "    <tr>\n",
       "      <th>2016-07-08</th>\n",
       "      <td>1.90</td>\n",
       "    </tr>\n",
       "    <tr>\n",
       "      <th>...</th>\n",
       "      <td>...</td>\n",
       "    </tr>\n",
       "    <tr>\n",
       "      <th>2016-12-23</th>\n",
       "      <td>-0.02</td>\n",
       "    </tr>\n",
       "    <tr>\n",
       "      <th>2016-12-27</th>\n",
       "      <td>0.26</td>\n",
       "    </tr>\n",
       "    <tr>\n",
       "      <th>2016-12-28</th>\n",
       "      <td>-0.65</td>\n",
       "    </tr>\n",
       "    <tr>\n",
       "      <th>2016-12-29</th>\n",
       "      <td>0.06</td>\n",
       "    </tr>\n",
       "    <tr>\n",
       "      <th>2016-12-30</th>\n",
       "      <td>-0.68</td>\n",
       "    </tr>\n",
       "  </tbody>\n",
       "</table>\n",
       "<p>127 rows × 1 columns</p>\n",
       "</div>"
      ],
      "text/plain": [
       "            mom_05\n",
       "date              \n",
       "2016-07-01    0.24\n",
       "2016-07-05   -1.82\n",
       "2016-07-06    0.57\n",
       "2016-07-07    0.40\n",
       "2016-07-08    1.90\n",
       "...            ...\n",
       "2016-12-23   -0.02\n",
       "2016-12-27    0.26\n",
       "2016-12-28   -0.65\n",
       "2016-12-29    0.06\n",
       "2016-12-30   -0.68\n",
       "\n",
       "[127 rows x 1 columns]"
      ]
     },
     "execution_count": 24,
     "metadata": {},
     "output_type": "execute_result"
    }
   ],
   "source": [
    "momentum.loc[\"2016-07\":\"2016-12\", [\"mom_05\"]]"
   ]
  }
 ],
 "metadata": {
  "file_extension": ".py",
  "kernelspec": {
   "display_name": "Python 3 (ipykernel)",
   "language": "python",
   "name": "python3"
  },
  "language_info": {
   "codemirror_mode": {
    "name": "ipython",
    "version": 3
   },
   "file_extension": ".py",
   "mimetype": "text/x-python",
   "name": "python",
   "nbconvert_exporter": "python",
   "pygments_lexer": "ipython3",
   "version": "3.13.5"
  },
  "mimetype": "text/x-python",
  "name": "python",
  "npconvert_exporter": "python",
  "pycharm": {
   "stem_cell": {
    "cell_type": "raw",
    "metadata": {
     "collapsed": false
    },
    "source": []
   }
  },
  "pygments_lexer": "ipython3",
  "version": 3
 },
 "nbformat": 4,
 "nbformat_minor": 4
}
