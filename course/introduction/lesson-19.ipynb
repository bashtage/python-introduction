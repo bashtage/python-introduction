{
 "cells": [
  {
   "cell_type": "markdown",
   "metadata": {
    "pycharm": {
     "name": "#%% md\n"
    }
   },
   "source": [
    "# Importing Data\n",
    "\n",
    "This lesson covers:\n",
    "\n",
    "* Importing data \n",
    "* Converting dates "
   ]
  },
  {
   "cell_type": "markdown",
   "metadata": {},
   "source": [
    "## Problem: Reading in data with Dates\n",
    "\n",
    "Read in the files `GS10.csv` and `GS10.xls` which have both been downloaded\n",
    "from [FRED](https://fred.stlouisfed.org/)."
   ]
  },
  {
   "cell_type": "code",
   "execution_count": null,
   "metadata": {
    "execution": {
     "iopub.execute_input": "2025-08-27T07:32:56.037740Z",
     "iopub.status.busy": "2025-08-27T07:32:56.037740Z",
     "iopub.status.idle": "2025-08-27T07:32:56.406094Z",
     "shell.execute_reply": "2025-08-27T07:32:56.406094Z"
    }
   },
   "outputs": [],
   "source": []
  },
  {
   "cell_type": "markdown",
   "metadata": {},
   "source": [
    "## Problem: Converting Dates\n",
    "\n",
    "1. Load the CSV file without converting the dates in `read_csv`.\n",
    "2. Convert the date column, remove it from the DataFrame, and set it as the\n",
    "   index. "
   ]
  },
  {
   "cell_type": "code",
   "execution_count": null,
   "metadata": {
    "execution": {
     "iopub.execute_input": "2025-08-27T07:32:56.408099Z",
     "iopub.status.busy": "2025-08-27T07:32:56.408099Z",
     "iopub.status.idle": "2025-08-27T07:32:56.417888Z",
     "shell.execute_reply": "2025-08-27T07:32:56.417888Z"
    }
   },
   "outputs": [],
   "source": []
  },
  {
   "cell_type": "markdown",
   "metadata": {
    "pycharm": {
     "name": "#%% md\n"
    }
   },
   "source": [
    "## Exercises\n",
    "\n",
    "### Exercise: Selectively Load Columns\n",
    "\n",
    "1. Load the data in `data/fred-md.csv` in the columns sasdate,\n",
    "   RPI and INDPRO using the `usecols` keyword.\n",
    "2. Remove the first row by selecting the second to the end.\n",
    "3. Convert sasdate to dates\n",
    "4. Set sasdate as the index and remove it from the `DataFrame`."
   ]
  },
  {
   "cell_type": "code",
   "execution_count": null,
   "metadata": {
    "execution": {
     "iopub.execute_input": "2025-08-27T07:32:56.419894Z",
     "iopub.status.busy": "2025-08-27T07:32:56.418893Z",
     "iopub.status.idle": "2025-08-27T07:32:56.438033Z",
     "shell.execute_reply": "2025-08-27T07:32:56.438033Z"
    },
    "jupyter": {
     "outputs_hidden": false
    }
   },
   "outputs": [],
   "source": []
  },
  {
   "cell_type": "markdown",
   "metadata": {
    "pycharm": {
     "name": "#%% md\n"
    }
   },
   "source": [
    "### Exercise: Load and Merge multiple Sheets\n",
    "\n",
    "1. Load the data on the sheet \"Long Mat\" in the Excel file \"data/exercise.xlsx\". \n",
    "   These are 10 and 20 year constant maturity yields.\n",
    "2. Load the data on the sheet \"Short Mat\" in the Excel file \"data/exercise.xlsx\".\n",
    "   These are 1 and 3 year constant maturity yields.\n",
    "3. Combine the columns in the two `DataFrame`s by creating a dictionary of the keys in\n",
    "   each with the values equal to the column names."
   ]
  },
  {
   "cell_type": "code",
   "execution_count": null,
   "metadata": {
    "execution": {
     "iopub.execute_input": "2025-08-27T07:32:56.440040Z",
     "iopub.status.busy": "2025-08-27T07:32:56.439039Z",
     "iopub.status.idle": "2025-08-27T07:32:56.760447Z",
     "shell.execute_reply": "2025-08-27T07:32:56.760447Z"
    },
    "jupyter": {
     "outputs_hidden": false
    },
    "tags": []
   },
   "outputs": [],
   "source": []
  }
 ],
 "metadata": {
  "kernelspec": {
   "display_name": "Python 3 (ipykernel)",
   "language": "python",
   "name": "python3"
  },
  "language_info": {
   "codemirror_mode": {
    "name": "ipython",
    "version": 3
   },
   "file_extension": ".py",
   "mimetype": "text/x-python",
   "name": "python",
   "nbconvert_exporter": "python",
   "pygments_lexer": "ipython3",
   "version": "3.12.11"
  },
  "pycharm": {
   "stem_cell": {
    "cell_type": "raw",
    "metadata": {
     "collapsed": false
    },
    "source": []
   }
  }
 },
 "nbformat": 4,
 "nbformat_minor": 4
}
