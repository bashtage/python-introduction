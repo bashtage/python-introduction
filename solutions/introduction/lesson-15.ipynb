{
 "cells": [
  {
   "cell_type": "markdown",
   "metadata": {},
   "source": [
    "# Boolean Arrays \n",
    "\n",
    "This lesson covers:\n",
    "\n",
    "* Creating Boolean arrays\n",
    "* Combining Boolean arrays\n",
    "* `all` and `any`\n",
    "\n",
    "Begin by loading the data in momentum.csv.\n"
   ]
  },
  {
   "cell_type": "code",
   "execution_count": 1,
   "metadata": {
    "execution": {
     "iopub.execute_input": "2025-08-27T07:32:42.880396Z",
     "iopub.status.busy": "2025-08-27T07:32:42.879396Z",
     "iopub.status.idle": "2025-08-27T07:32:43.221394Z",
     "shell.execute_reply": "2025-08-27T07:32:43.221394Z"
    },
    "pycharm": {
     "name": "#%%\n"
    }
   },
   "outputs": [
    {
     "name": "stdout",
     "output_type": "stream",
     "text": [
      "            mom_01  mom_02  mom_03  mom_04  mom_05  mom_06  mom_07  mom_08  \\\n",
      "date                                                                         \n",
      "2016-01-04    0.67   -0.03   -0.93   -1.11   -1.47   -1.66   -1.40   -2.08   \n",
      "2016-01-05   -0.36    0.20   -0.37    0.28    0.16    0.18   -0.22    0.25   \n",
      "2016-01-06   -4.97   -2.33   -2.60   -1.16   -1.70   -1.45   -1.15   -1.46   \n",
      "2016-01-07   -4.91   -1.91   -3.03   -1.87   -2.31   -2.30   -2.70   -2.31   \n",
      "2016-01-08   -0.40   -1.26   -0.98   -1.26   -1.13   -1.02   -0.96   -1.42   \n",
      "\n",
      "            mom_09  mom_10  \n",
      "date                        \n",
      "2016-01-04   -1.71   -2.67  \n",
      "2016-01-05    0.29    0.13  \n",
      "2016-01-06   -1.14   -0.45  \n",
      "2016-01-07   -2.36   -2.66  \n",
      "2016-01-08   -0.94   -1.32  \n"
     ]
    }
   ],
   "source": [
    "# Setup: Load the momentum data\n",
    "\n",
    "import numpy as np\n",
    "import pandas as pd\n",
    "\n",
    "momentum = pd.read_csv(\"data/momentum.csv\", index_col=\"date\", parse_dates=True)\n",
    "\n",
    "print(momentum.head())\n",
    "\n",
    "mom_01 = momentum[\"mom_01\"]\n",
    "mom_10 = momentum[\"mom_10\"]\n",
    "mom_05 = momentum[\"mom_05\"]"
   ]
  },
  {
   "cell_type": "markdown",
   "metadata": {},
   "source": [
    "## Problem: Boolean arrays\n",
    "For portfolios 1 and 10, determine whether each return is $<0$ (separately)."
   ]
  },
  {
   "cell_type": "code",
   "execution_count": 2,
   "metadata": {
    "execution": {
     "iopub.execute_input": "2025-08-27T07:32:43.223398Z",
     "iopub.status.busy": "2025-08-27T07:32:43.223398Z",
     "iopub.status.idle": "2025-08-27T07:32:43.226119Z",
     "shell.execute_reply": "2025-08-27T07:32:43.226119Z"
    },
    "pycharm": {
     "name": "#%%\n"
    }
   },
   "outputs": [],
   "source": [
    "mom_01_neg = mom_01 < 0\n",
    "mom_10_neg = mom_10 < 0"
   ]
  },
  {
   "cell_type": "markdown",
   "metadata": {},
   "source": [
    "## Problem: Combining boolean arrays\n",
    "Count the number of times that the returns in both portfolio 1 and portfolio\n",
    "10 are negative. Next count the number of times that the returns in portfolios\n",
    "1 and 10 are both greater, in absolute value, that 2 times their respective\n",
    "standard deviations. "
   ]
  },
  {
   "cell_type": "code",
   "execution_count": 3,
   "metadata": {
    "execution": {
     "iopub.execute_input": "2025-08-27T07:32:43.228123Z",
     "iopub.status.busy": "2025-08-27T07:32:43.228123Z",
     "iopub.status.idle": "2025-08-27T07:32:43.232628Z",
     "shell.execute_reply": "2025-08-27T07:32:43.232123Z"
    },
    "pycharm": {
     "name": "#%%\n"
    }
   },
   "outputs": [
    {
     "name": "stdout",
     "output_type": "stream",
     "text": [
      "136\n"
     ]
    }
   ],
   "source": [
    "# Using shortcut operator &. Care is needed since & has higher precedence than\n",
    "# logical comparison operators like < or >=.\n",
    "both = mom_01_neg & mom_10_neg\n",
    "print(both.sum())"
   ]
  },
  {
   "cell_type": "code",
   "execution_count": 4,
   "metadata": {
    "execution": {
     "iopub.execute_input": "2025-08-27T07:32:43.234258Z",
     "iopub.status.busy": "2025-08-27T07:32:43.234258Z",
     "iopub.status.idle": "2025-08-27T07:32:43.238271Z",
     "shell.execute_reply": "2025-08-27T07:32:43.238271Z"
    },
    "pycharm": {
     "name": "#%%\n"
    }
   },
   "outputs": [
    {
     "name": "stdout",
     "output_type": "stream",
     "text": [
      "136\n"
     ]
    }
   ],
   "source": [
    "# Equivalent using a function `logical_and`\n",
    "both = np.logical_and(mom_01_neg, mom_10_neg)\n",
    "print(both.sum())"
   ]
  },
  {
   "cell_type": "markdown",
   "metadata": {},
   "source": [
    "## Problem: Combining boolean arrays\n",
    "For portfolios 1 and 10, count the number of times either of the returns is $<0$.\n"
   ]
  },
  {
   "cell_type": "code",
   "execution_count": 5,
   "metadata": {
    "execution": {
     "iopub.execute_input": "2025-08-27T07:32:43.240275Z",
     "iopub.status.busy": "2025-08-27T07:32:43.240275Z",
     "iopub.status.idle": "2025-08-27T07:32:43.243434Z",
     "shell.execute_reply": "2025-08-27T07:32:43.243434Z"
    },
    "pycharm": {
     "name": "#%%\n"
    }
   },
   "outputs": [
    {
     "name": "stdout",
     "output_type": "stream",
     "text": [
      "324\n"
     ]
    }
   ],
   "source": [
    "either_neg = mom_01_neg | mom_10_neg\n",
    "print(either_neg.sum())"
   ]
  },
  {
   "cell_type": "markdown",
   "metadata": {},
   "source": [
    "## Problem: Count the frequency of negative returns\n",
    "\n",
    "What percent of returns are negative for each of the 10 momentum portfolios?"
   ]
  },
  {
   "cell_type": "code",
   "execution_count": 6,
   "metadata": {
    "execution": {
     "iopub.execute_input": "2025-08-27T07:32:43.245439Z",
     "iopub.status.busy": "2025-08-27T07:32:43.245439Z",
     "iopub.status.idle": "2025-08-27T07:32:43.254533Z",
     "shell.execute_reply": "2025-08-27T07:32:43.254041Z"
    },
    "pycharm": {
     "name": "#%%\n"
    }
   },
   "outputs": [
    {
     "data": {
      "text/plain": [
       "mom_01    48.707753\n",
       "mom_02    45.725646\n",
       "mom_03    44.532803\n",
       "mom_04    44.532803\n",
       "mom_05    43.538767\n",
       "mom_06    44.731610\n",
       "mom_07    43.936382\n",
       "mom_08    43.936382\n",
       "mom_09    44.333996\n",
       "mom_10    42.743539\n",
       "dtype: float64"
      ]
     },
     "execution_count": 6,
     "metadata": {},
     "output_type": "execute_result"
    }
   ],
   "source": [
    "100 * (momentum < 0).mean()"
   ]
  },
  {
   "cell_type": "markdown",
   "metadata": {},
   "source": [
    "## Problem: Use `any` to find large losses\n",
    "\n",
    "Use any to determine if any of the 10 portfolios experienced a loss\n",
    "greater than -5%."
   ]
  },
  {
   "cell_type": "code",
   "execution_count": 7,
   "metadata": {
    "execution": {
     "iopub.execute_input": "2025-08-27T07:32:43.257119Z",
     "iopub.status.busy": "2025-08-27T07:32:43.256703Z",
     "iopub.status.idle": "2025-08-27T07:32:43.261264Z",
     "shell.execute_reply": "2025-08-27T07:32:43.261264Z"
    },
    "pycharm": {
     "name": "#%%\n"
    }
   },
   "outputs": [
    {
     "data": {
      "text/plain": [
       "np.True_"
      ]
     },
     "execution_count": 7,
     "metadata": {},
     "output_type": "execute_result"
    }
   ],
   "source": [
    "np.any(momentum < -0.05)"
   ]
  },
  {
   "cell_type": "code",
   "execution_count": 8,
   "metadata": {
    "execution": {
     "iopub.execute_input": "2025-08-27T07:32:43.263565Z",
     "iopub.status.busy": "2025-08-27T07:32:43.262565Z",
     "iopub.status.idle": "2025-08-27T07:32:43.268928Z",
     "shell.execute_reply": "2025-08-27T07:32:43.268423Z"
    },
    "pycharm": {
     "name": "#%%\n"
    }
   },
   "outputs": [
    {
     "data": {
      "text/plain": [
       "mom_01    True\n",
       "mom_02    True\n",
       "mom_03    True\n",
       "mom_04    True\n",
       "mom_05    True\n",
       "mom_06    True\n",
       "mom_07    True\n",
       "mom_08    True\n",
       "mom_09    True\n",
       "mom_10    True\n",
       "dtype: bool"
      ]
     },
     "execution_count": 8,
     "metadata": {},
     "output_type": "execute_result"
    }
   ],
   "source": [
    "# Must use axis to perform column-by-column\n",
    "np.any(momentum < -0.05, axis=0)"
   ]
  },
  {
   "cell_type": "code",
   "execution_count": 9,
   "metadata": {
    "execution": {
     "iopub.execute_input": "2025-08-27T07:32:43.271097Z",
     "iopub.status.busy": "2025-08-27T07:32:43.271097Z",
     "iopub.status.idle": "2025-08-27T07:32:43.275984Z",
     "shell.execute_reply": "2025-08-27T07:32:43.275984Z"
    },
    "pycharm": {
     "name": "#%%\n"
    }
   },
   "outputs": [
    {
     "data": {
      "text/plain": [
       "mom_01     True\n",
       "mom_02     True\n",
       "mom_03     True\n",
       "mom_04    False\n",
       "mom_05    False\n",
       "mom_06    False\n",
       "mom_07    False\n",
       "mom_08    False\n",
       "mom_09    False\n",
       "mom_10    False\n",
       "dtype: bool"
      ]
     },
     "execution_count": 9,
     "metadata": {},
     "output_type": "execute_result"
    }
   ],
   "source": [
    "# Built-in pandas operations work column-by-column\n",
    "(momentum < -5).any()"
   ]
  },
  {
   "cell_type": "markdown",
   "metadata": {},
   "source": [
    "Use `all` and negation to do the same check as `any`."
   ]
  },
  {
   "cell_type": "code",
   "execution_count": 10,
   "metadata": {
    "execution": {
     "iopub.execute_input": "2025-08-27T07:32:43.277989Z",
     "iopub.status.busy": "2025-08-27T07:32:43.277989Z",
     "iopub.status.idle": "2025-08-27T07:32:43.282998Z",
     "shell.execute_reply": "2025-08-27T07:32:43.282998Z"
    },
    "pycharm": {
     "name": "#%%\n"
    }
   },
   "outputs": [
    {
     "data": {
      "text/plain": [
       "mom_01     True\n",
       "mom_02     True\n",
       "mom_03     True\n",
       "mom_04    False\n",
       "mom_05    False\n",
       "mom_06    False\n",
       "mom_07    False\n",
       "mom_08    False\n",
       "mom_09    False\n",
       "mom_10    False\n",
       "dtype: bool"
      ]
     },
     "execution_count": 10,
     "metadata": {},
     "output_type": "execute_result"
    }
   ],
   "source": [
    "~((momentum >= -5).all())"
   ]
  },
  {
   "cell_type": "markdown",
   "metadata": {},
   "source": [
    "## Exercises\n",
    "\n",
    "### Exercise: all and any\n",
    "Use `all` and `sum` to count the number of days where all of the portfolio returns\n",
    "were negative. Use `any` to compute the number of days with at least 1 negative\n",
    "return and with no negative returns (Hint: use negation (~ or `logical_not`)). "
   ]
  },
  {
   "cell_type": "code",
   "execution_count": 11,
   "metadata": {
    "execution": {
     "iopub.execute_input": "2025-08-27T07:32:43.285005Z",
     "iopub.status.busy": "2025-08-27T07:32:43.284006Z",
     "iopub.status.idle": "2025-08-27T07:32:43.289984Z",
     "shell.execute_reply": "2025-08-27T07:32:43.289984Z"
    },
    "pycharm": {
     "name": "#%%\n"
    }
   },
   "outputs": [
    {
     "name": "stdout",
     "output_type": "stream",
     "text": [
      "All negative\n"
     ]
    },
    {
     "data": {
      "text/plain": [
       "np.int64(74)"
      ]
     },
     "execution_count": 11,
     "metadata": {},
     "output_type": "execute_result"
    }
   ],
   "source": [
    "print(\"All negative\")\n",
    "(momentum < 0).all(axis=1).sum()"
   ]
  },
  {
   "cell_type": "code",
   "execution_count": 12,
   "metadata": {
    "execution": {
     "iopub.execute_input": "2025-08-27T07:32:43.291989Z",
     "iopub.status.busy": "2025-08-27T07:32:43.291989Z",
     "iopub.status.idle": "2025-08-27T07:32:43.296159Z",
     "shell.execute_reply": "2025-08-27T07:32:43.296159Z"
    }
   },
   "outputs": [
    {
     "name": "stdout",
     "output_type": "stream",
     "text": [
      "At least one negative\n"
     ]
    },
    {
     "data": {
      "text/plain": [
       "np.int64(386)"
      ]
     },
     "execution_count": 12,
     "metadata": {},
     "output_type": "execute_result"
    }
   ],
   "source": [
    "print(\"At least one negative\")\n",
    "(momentum < 0).any(axis=1).sum()"
   ]
  },
  {
   "cell_type": "code",
   "execution_count": 13,
   "metadata": {
    "execution": {
     "iopub.execute_input": "2025-08-27T07:32:43.298163Z",
     "iopub.status.busy": "2025-08-27T07:32:43.297165Z",
     "iopub.status.idle": "2025-08-27T07:32:43.302165Z",
     "shell.execute_reply": "2025-08-27T07:32:43.302165Z"
    }
   },
   "outputs": [
    {
     "name": "stdout",
     "output_type": "stream",
     "text": [
      "No negatives\n"
     ]
    },
    {
     "data": {
      "text/plain": [
       "np.int64(117)"
      ]
     },
     "execution_count": 13,
     "metadata": {},
     "output_type": "execute_result"
    }
   ],
   "source": [
    "print(\"No negatives\")\n",
    "(~((momentum < 0).any(axis=1))).sum()"
   ]
  },
  {
   "cell_type": "markdown",
   "metadata": {
    "pycharm": {
     "name": "#%% md\n"
    }
   },
   "source": [
    "### Exercise: Count Extreme Days\n",
    "\n",
    "Count the number of days where each of the portfolio returns is less than the \n",
    "5% quantile for the portfolio. Also report the fraction of days where all are in their\n",
    "lower 5% tail."
   ]
  },
  {
   "cell_type": "code",
   "execution_count": 14,
   "metadata": {
    "execution": {
     "iopub.execute_input": "2025-08-27T07:32:43.304054Z",
     "iopub.status.busy": "2025-08-27T07:32:43.303392Z",
     "iopub.status.idle": "2025-08-27T07:32:43.314060Z",
     "shell.execute_reply": "2025-08-27T07:32:43.314060Z"
    },
    "pycharm": {
     "name": "#%%\n"
    }
   },
   "outputs": [
    {
     "data": {
      "text/html": [
       "<div>\n",
       "<style scoped>\n",
       "    .dataframe tbody tr th:only-of-type {\n",
       "        vertical-align: middle;\n",
       "    }\n",
       "\n",
       "    .dataframe tbody tr th {\n",
       "        vertical-align: top;\n",
       "    }\n",
       "\n",
       "    .dataframe thead th {\n",
       "        text-align: right;\n",
       "    }\n",
       "</style>\n",
       "<table border=\"1\" class=\"dataframe\">\n",
       "  <thead>\n",
       "    <tr style=\"text-align: right;\">\n",
       "      <th></th>\n",
       "      <th>mom_01</th>\n",
       "      <th>mom_02</th>\n",
       "      <th>mom_03</th>\n",
       "      <th>mom_04</th>\n",
       "      <th>mom_05</th>\n",
       "      <th>mom_06</th>\n",
       "      <th>mom_07</th>\n",
       "      <th>mom_08</th>\n",
       "      <th>mom_09</th>\n",
       "      <th>mom_10</th>\n",
       "    </tr>\n",
       "    <tr>\n",
       "      <th>date</th>\n",
       "      <th></th>\n",
       "      <th></th>\n",
       "      <th></th>\n",
       "      <th></th>\n",
       "      <th></th>\n",
       "      <th></th>\n",
       "      <th></th>\n",
       "      <th></th>\n",
       "      <th></th>\n",
       "      <th></th>\n",
       "    </tr>\n",
       "  </thead>\n",
       "  <tbody>\n",
       "    <tr>\n",
       "      <th>2017-12-15</th>\n",
       "      <td>False</td>\n",
       "      <td>False</td>\n",
       "      <td>False</td>\n",
       "      <td>False</td>\n",
       "      <td>False</td>\n",
       "      <td>False</td>\n",
       "      <td>False</td>\n",
       "      <td>False</td>\n",
       "      <td>False</td>\n",
       "      <td>False</td>\n",
       "    </tr>\n",
       "    <tr>\n",
       "      <th>2017-12-18</th>\n",
       "      <td>False</td>\n",
       "      <td>False</td>\n",
       "      <td>False</td>\n",
       "      <td>False</td>\n",
       "      <td>False</td>\n",
       "      <td>False</td>\n",
       "      <td>False</td>\n",
       "      <td>False</td>\n",
       "      <td>False</td>\n",
       "      <td>False</td>\n",
       "    </tr>\n",
       "    <tr>\n",
       "      <th>2017-12-19</th>\n",
       "      <td>False</td>\n",
       "      <td>False</td>\n",
       "      <td>False</td>\n",
       "      <td>False</td>\n",
       "      <td>False</td>\n",
       "      <td>False</td>\n",
       "      <td>False</td>\n",
       "      <td>False</td>\n",
       "      <td>False</td>\n",
       "      <td>False</td>\n",
       "    </tr>\n",
       "    <tr>\n",
       "      <th>2017-12-20</th>\n",
       "      <td>False</td>\n",
       "      <td>False</td>\n",
       "      <td>False</td>\n",
       "      <td>False</td>\n",
       "      <td>False</td>\n",
       "      <td>False</td>\n",
       "      <td>False</td>\n",
       "      <td>False</td>\n",
       "      <td>False</td>\n",
       "      <td>False</td>\n",
       "    </tr>\n",
       "    <tr>\n",
       "      <th>2017-12-21</th>\n",
       "      <td>False</td>\n",
       "      <td>False</td>\n",
       "      <td>False</td>\n",
       "      <td>False</td>\n",
       "      <td>False</td>\n",
       "      <td>False</td>\n",
       "      <td>False</td>\n",
       "      <td>False</td>\n",
       "      <td>False</td>\n",
       "      <td>False</td>\n",
       "    </tr>\n",
       "    <tr>\n",
       "      <th>2017-12-22</th>\n",
       "      <td>False</td>\n",
       "      <td>False</td>\n",
       "      <td>False</td>\n",
       "      <td>False</td>\n",
       "      <td>False</td>\n",
       "      <td>False</td>\n",
       "      <td>False</td>\n",
       "      <td>False</td>\n",
       "      <td>False</td>\n",
       "      <td>False</td>\n",
       "    </tr>\n",
       "    <tr>\n",
       "      <th>2017-12-26</th>\n",
       "      <td>False</td>\n",
       "      <td>False</td>\n",
       "      <td>False</td>\n",
       "      <td>False</td>\n",
       "      <td>False</td>\n",
       "      <td>False</td>\n",
       "      <td>False</td>\n",
       "      <td>False</td>\n",
       "      <td>False</td>\n",
       "      <td>False</td>\n",
       "    </tr>\n",
       "    <tr>\n",
       "      <th>2017-12-27</th>\n",
       "      <td>False</td>\n",
       "      <td>False</td>\n",
       "      <td>False</td>\n",
       "      <td>False</td>\n",
       "      <td>False</td>\n",
       "      <td>False</td>\n",
       "      <td>False</td>\n",
       "      <td>False</td>\n",
       "      <td>False</td>\n",
       "      <td>False</td>\n",
       "    </tr>\n",
       "    <tr>\n",
       "      <th>2017-12-28</th>\n",
       "      <td>False</td>\n",
       "      <td>False</td>\n",
       "      <td>False</td>\n",
       "      <td>False</td>\n",
       "      <td>False</td>\n",
       "      <td>False</td>\n",
       "      <td>False</td>\n",
       "      <td>False</td>\n",
       "      <td>False</td>\n",
       "      <td>False</td>\n",
       "    </tr>\n",
       "    <tr>\n",
       "      <th>2017-12-29</th>\n",
       "      <td>False</td>\n",
       "      <td>False</td>\n",
       "      <td>False</td>\n",
       "      <td>False</td>\n",
       "      <td>False</td>\n",
       "      <td>False</td>\n",
       "      <td>False</td>\n",
       "      <td>False</td>\n",
       "      <td>False</td>\n",
       "      <td>False</td>\n",
       "    </tr>\n",
       "  </tbody>\n",
       "</table>\n",
       "</div>"
      ],
      "text/plain": [
       "            mom_01  mom_02  mom_03  mom_04  mom_05  mom_06  mom_07  mom_08  \\\n",
       "date                                                                         \n",
       "2017-12-15   False   False   False   False   False   False   False   False   \n",
       "2017-12-18   False   False   False   False   False   False   False   False   \n",
       "2017-12-19   False   False   False   False   False   False   False   False   \n",
       "2017-12-20   False   False   False   False   False   False   False   False   \n",
       "2017-12-21   False   False   False   False   False   False   False   False   \n",
       "2017-12-22   False   False   False   False   False   False   False   False   \n",
       "2017-12-26   False   False   False   False   False   False   False   False   \n",
       "2017-12-27   False   False   False   False   False   False   False   False   \n",
       "2017-12-28   False   False   False   False   False   False   False   False   \n",
       "2017-12-29   False   False   False   False   False   False   False   False   \n",
       "\n",
       "            mom_09  mom_10  \n",
       "date                        \n",
       "2017-12-15   False   False  \n",
       "2017-12-18   False   False  \n",
       "2017-12-19   False   False  \n",
       "2017-12-20   False   False  \n",
       "2017-12-21   False   False  \n",
       "2017-12-22   False   False  \n",
       "2017-12-26   False   False  \n",
       "2017-12-27   False   False  \n",
       "2017-12-28   False   False  \n",
       "2017-12-29   False   False  "
      ]
     },
     "execution_count": 14,
     "metadata": {},
     "output_type": "execute_result"
    }
   ],
   "source": [
    "quantiles = momentum.quantile(0.05)\n",
    "extreme_losses = momentum < quantiles\n",
    "extreme_losses.tail(10)"
   ]
  },
  {
   "cell_type": "code",
   "execution_count": 15,
   "metadata": {
    "execution": {
     "iopub.execute_input": "2025-08-27T07:32:43.316065Z",
     "iopub.status.busy": "2025-08-27T07:32:43.316065Z",
     "iopub.status.idle": "2025-08-27T07:32:43.319173Z",
     "shell.execute_reply": "2025-08-27T07:32:43.319173Z"
    },
    "pycharm": {
     "name": "#%%\n"
    },
    "tags": []
   },
   "outputs": [
    {
     "name": "stdout",
     "output_type": "stream",
     "text": [
      "Number of extreme days: 6, Percent of days that are extreme 1.1928429423459244%\n"
     ]
    }
   ],
   "source": [
    "num_losses = extreme_losses.all(1).sum()\n",
    "print(\n",
    "    f\"Number of extreme days: {num_losses}, Percent of days that are extreme {100 * num_losses / momentum.shape[0]}%\"\n",
    ")"
   ]
  }
 ],
 "metadata": {
  "kernelspec": {
   "display_name": "Python 3 (ipykernel)",
   "language": "python",
   "name": "python3"
  },
  "language_info": {
   "codemirror_mode": {
    "name": "ipython",
    "version": 3
   },
   "file_extension": ".py",
   "mimetype": "text/x-python",
   "name": "python",
   "nbconvert_exporter": "python",
   "pygments_lexer": "ipython3",
   "version": "3.12.11"
  },
  "pycharm": {
   "stem_cell": {
    "cell_type": "raw",
    "metadata": {
     "collapsed": false
    },
    "source": []
   }
  }
 },
 "nbformat": 4,
 "nbformat_minor": 4
}
