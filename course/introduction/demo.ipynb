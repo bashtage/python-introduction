{
 "cells": [
  {
   "cell_type": "markdown",
   "metadata": {
    "collapsed": true,
    "pycharm": {
     "name": "#%% md\n"
    }
   },
   "source": [
    "# Demonstration\n",
    "\n",
    "This file is used to demonstrate interacting with Jupyter notebooks\n",
    "in\n",
    "\n",
    "* VS Code\n",
    "* PyCharm Professional\n",
    "* Jupyter notebook server\n",
    "\n",
    "This code is used to illustrate the behavior of each of the platforms\n",
    "and. It is not necessary to understand the code itself at the beginning\n",
    "of the course.  The introduction will provide explanation of code used\n",
    "here. "
   ]
  },
  {
   "cell_type": "code",
   "execution_count": 8,
   "metadata": {
    "collapsed": false,
    "pycharm": {
     "is_executing": false,
     "name": "#%%\n"
    }
   },
   "outputs": [],
   "source": [
    "import numpy as np\n",
    "\n",
    "x = 2 * np.pi\n",
    "print(f\"The value of 2π is {2 * np.pi}\")  "
   ]
  },
  {
   "cell_type": "code",
   "execution_count": 2,
   "metadata": {
    "collapsed": false,
    "pycharm": {
     "is_executing": false,
     "name": "#%%\n"
    }
   },
   "outputs": [],
   "source": [
    "import pandas as pd\n",
    "df = pd.read_csv(\"data/momentum.csv\", parse_dates=True, index_col=\"date\")\n",
    "df.head()"
   ]
  },
  {
   "cell_type": "code",
   "execution_count": 11,
   "metadata": {
    "collapsed": false,
    "pycharm": {
     "is_executing": false,
     "name": "#%%\n"
    }
   },
   "outputs": [],
   "source": [
    "import matplotlib.pyplot as plt\n",
    "import seaborn\n",
    "plt.rc(\"figure\", figsize=(16,6))\n",
    "seaborn.set_style(\"darkgrid\")\n",
    "\n",
    "e = np.random.standard_normal(100)\n",
    "y = np.cumsum(e)\n",
    "ax = plt.plot(y)"
   ]
  },
  {
   "cell_type": "markdown",
   "metadata": {
    "collapsed": false,
    "pycharm": {
     "name": "#%% md\n"
    }
   },
   "source": [
    "# Title\n",
    "## Chapter\n",
    "### Section\n",
    "\n",
    "This is an example of a markdown cell.  You can use **bold**, _italics_, and\n",
    "`monospace` formatting.  You can also have code blocks.\n",
    "\n",
    "```python\n",
    "for i in range(10):\n",
    "    print(i)\n",
    "```\n",
    "\n",
    "Markdown cells also support both inline math, $\\alpha+\\beta=\\gamma$ or entire\n",
    "lines,\n",
    "\n",
    "$$ f(x) = \\frac{1}{2\\pi}\\exp\\left(-\\frac{x^2}{2}\\right),$$\n",
    "\n",
    "using $\\LaTeX$ code. \n",
    "\n",
    "You can also include tables,\n",
    "\n",
    "| Parameter | Value |\n",
    "|-----------|-------|\n",
    "| $\\alpha$  | 0.05  |\n",
    "| $\\beta$   | 0.90  |"
   ]
  },
  {
   "cell_type": "code",
   "execution_count": null,
   "metadata": {
    "collapsed": false,
    "pycharm": {
     "name": "#%%\n"
    }
   },
   "outputs": [],
   "source": []
  }
 ],
 "metadata": {
  "kernelspec": {
   "display_name": "Python 3",
   "language": "python",
   "name": "python3"
  },
  "language_info": {
   "codemirror_mode": {
    "name": "ipython",
    "version": 2
   },
   "file_extension": ".py",
   "mimetype": "text/x-python",
   "name": "python",
   "nbconvert_exporter": "python",
   "pygments_lexer": "ipython2",
   "version": "2.7.6"
  },
  "pycharm": {
   "stem_cell": {
    "cell_type": "raw",
    "metadata": {
     "collapsed": false
    },
    "source": []
   }
  }
 },
 "nbformat": 4,
 "nbformat_minor": 0
}
