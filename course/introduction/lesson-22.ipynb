{
 "cells": [
  {
   "cell_type": "markdown",
   "metadata": {},
   "source": [
    "# Graphics: Other Plots\n",
    "\n",
    "This lesson covers:\n",
    "\n",
    "* Histograms \n",
    "* Scatter Plots"
   ]
  },
  {
   "cell_type": "markdown",
   "metadata": {},
   "source": [
    "Plotting in notebooks requires using a magic command, which starts with `%`,\n",
    "to initialize the plotting backend."
   ]
  },
  {
   "cell_type": "code",
   "execution_count": null,
   "metadata": {
    "execution": {
     "iopub.execute_input": "2025-08-27T07:33:09.245556Z",
     "iopub.status.busy": "2025-08-27T07:33:09.245556Z",
     "iopub.status.idle": "2025-08-27T07:33:09.711532Z",
     "shell.execute_reply": "2025-08-27T07:33:09.711532Z"
    },
    "jupyter": {
     "outputs_hidden": false
    },
    "pycharm": {
     "is_executing": false,
     "name": "#%%\n"
    }
   },
   "outputs": [],
   "source": [
    "# Setup\n",
    "%matplotlib inline\n",
    "import matplotlib.pyplot as plt\n",
    "\n",
    "plt.rc(\"figure\", figsize=(16, 6))  # Improves figure size"
   ]
  },
  {
   "cell_type": "markdown",
   "metadata": {},
   "source": [
    "Begin by loading the data in hf.h5. This data set contains high-frequency\n",
    "price data for IBM and MSFT on a single day stored as two Series. IBM is\n",
    "stored as \"IBM\" in the HDF file, and MSFT is stored as \"MSFT."
   ]
  },
  {
   "cell_type": "code",
   "execution_count": null,
   "metadata": {
    "execution": {
     "iopub.execute_input": "2025-08-27T07:33:09.711532Z",
     "iopub.status.busy": "2025-08-27T07:33:09.711532Z",
     "iopub.status.idle": "2025-08-27T07:33:09.996842Z",
     "shell.execute_reply": "2025-08-27T07:33:09.996842Z"
    },
    "jupyter": {
     "outputs_hidden": false
    }
   },
   "outputs": [],
   "source": []
  },
  {
   "cell_type": "markdown",
   "metadata": {},
   "source": [
    "## Problem: Histogram\n",
    "\n",
    "Produce a histogram of MSFT 1-minute returns (Hint: you have to produce\n",
    "the 1-minute Microsoft returns first using `resample` and `pct_change`)."
   ]
  },
  {
   "cell_type": "code",
   "execution_count": null,
   "metadata": {
    "execution": {
     "iopub.execute_input": "2025-08-27T07:33:09.996842Z",
     "iopub.status.busy": "2025-08-27T07:33:09.996842Z",
     "iopub.status.idle": "2025-08-27T07:33:10.159916Z",
     "shell.execute_reply": "2025-08-27T07:33:10.159916Z"
    },
    "jupyter": {
     "outputs_hidden": false
    }
   },
   "outputs": [],
   "source": []
  },
  {
   "cell_type": "markdown",
   "metadata": {},
   "source": [
    "## Problem: Scatter Plot\n",
    "\n",
    "Scatter the 5-minute MSFT returns against the 5-minute IBM returns.\n",
    "\n",
    "*Hint*: You will need to create both 5-minute return series, merge them,\n",
    "and then plot using the combined DataFrame. "
   ]
  },
  {
   "cell_type": "code",
   "execution_count": null,
   "metadata": {
    "execution": {
     "iopub.execute_input": "2025-08-27T07:33:10.161660Z",
     "iopub.status.busy": "2025-08-27T07:33:10.161660Z",
     "iopub.status.idle": "2025-08-27T07:33:10.280422Z",
     "shell.execute_reply": "2025-08-27T07:33:10.280422Z"
    },
    "jupyter": {
     "outputs_hidden": false
    }
   },
   "outputs": [],
   "source": []
  },
  {
   "cell_type": "markdown",
   "metadata": {
    "pycharm": {
     "name": "#%% md\n"
    }
   },
   "source": [
    "## Problem: Saving plots\n",
    "\n",
    "Save the previous plot to PNG and PDF."
   ]
  },
  {
   "cell_type": "code",
   "execution_count": null,
   "metadata": {
    "execution": {
     "iopub.execute_input": "2025-08-27T07:33:10.280422Z",
     "iopub.status.busy": "2025-08-27T07:33:10.280422Z",
     "iopub.status.idle": "2025-08-27T07:33:10.601395Z",
     "shell.execute_reply": "2025-08-27T07:33:10.601395Z"
    },
    "jupyter": {
     "outputs_hidden": false
    }
   },
   "outputs": [],
   "source": []
  },
  {
   "cell_type": "markdown",
   "metadata": {
    "pycharm": {
     "name": "#%% md\n"
    }
   },
   "source": [
    "## Exercises\n",
    "\n",
    "### Exercise: Visualize 5 and 10 minute returns\n",
    "\n",
    "Produce a 2 by 1 subplot with a histogram of the 5-minute returns of IBM in the\n",
    "top panel and 10-minute returns of IBM in the bottom. Set an appropriate title on\n",
    "each of the 2 plots."
   ]
  },
  {
   "cell_type": "code",
   "execution_count": null,
   "metadata": {
    "execution": {
     "iopub.execute_input": "2025-08-27T07:33:10.601395Z",
     "iopub.status.busy": "2025-08-27T07:33:10.601395Z",
     "iopub.status.idle": "2025-08-27T07:33:11.609781Z",
     "shell.execute_reply": "2025-08-27T07:33:11.609781Z"
    },
    "jupyter": {
     "outputs_hidden": false
    }
   },
   "outputs": [],
   "source": []
  },
  {
   "cell_type": "markdown",
   "metadata": {
    "pycharm": {
     "name": "#%% md\n"
    }
   },
   "source": [
    "### Exercise: Export the result of the previous exercise to JPEG and PDF   \n"
   ]
  },
  {
   "cell_type": "code",
   "execution_count": null,
   "metadata": {
    "execution": {
     "iopub.execute_input": "2025-08-27T07:33:11.609781Z",
     "iopub.status.busy": "2025-08-27T07:33:11.609781Z",
     "iopub.status.idle": "2025-08-27T07:33:11.842817Z",
     "shell.execute_reply": "2025-08-27T07:33:11.842817Z"
    },
    "jupyter": {
     "outputs_hidden": false
    }
   },
   "outputs": [],
   "source": []
  },
  {
   "cell_type": "markdown",
   "metadata": {
    "pycharm": {
     "name": "#%% md\n"
    }
   },
   "source": [
    "## Exercise: Plot histograms and a scatter plot\n",
    "\n",
    "Produce a 2 by 2 subplot with:\n",
    "\n",
    "* Create a square figure with a size of 10 by 10 using `plt.rc`\n",
    "* Histograms of IBM and MSFT on the diagonals\n",
    "* Scatter plots on the off-diagonals where the x and y line up with the\n",
    "  histogram on the diagonal.\n",
    "* Set the limits of the scatter plots to match the appropriate histogram\n",
    "  x and y limit.\n",
    "* Clean up the plot using `tight_layout`"
   ]
  },
  {
   "cell_type": "code",
   "execution_count": null,
   "metadata": {
    "execution": {
     "iopub.execute_input": "2025-08-27T07:33:11.845369Z",
     "iopub.status.busy": "2025-08-27T07:33:11.844248Z",
     "iopub.status.idle": "2025-08-27T07:33:12.279455Z",
     "shell.execute_reply": "2025-08-27T07:33:12.279455Z"
    },
    "jupyter": {
     "outputs_hidden": false
    }
   },
   "outputs": [],
   "source": []
  },
  {
   "cell_type": "markdown",
   "metadata": {
    "pycharm": {
     "name": "#%% md\n"
    }
   },
   "source": [
    "### Exercise: Use pandas plotting tools\n",
    "\n",
    "Use `pandas.plotting.scatter_matrix` to produce a similar plot to the previous exercise."
   ]
  },
  {
   "cell_type": "code",
   "execution_count": null,
   "metadata": {
    "execution": {
     "iopub.execute_input": "2025-08-27T07:33:12.281459Z",
     "iopub.status.busy": "2025-08-27T07:33:12.281459Z",
     "iopub.status.idle": "2025-08-27T07:33:12.538972Z",
     "shell.execute_reply": "2025-08-27T07:33:12.538972Z"
    },
    "jupyter": {
     "outputs_hidden": false
    },
    "tags": []
   },
   "outputs": [],
   "source": []
  }
 ],
 "metadata": {
  "kernelspec": {
   "display_name": "Python 3 (ipykernel)",
   "language": "python",
   "name": "python3"
  },
  "language_info": {
   "codemirror_mode": {
    "name": "ipython",
    "version": 3
   },
   "file_extension": ".py",
   "mimetype": "text/x-python",
   "name": "python",
   "nbconvert_exporter": "python",
   "pygments_lexer": "ipython3",
   "version": "3.12.11"
  },
  "pycharm": {
   "stem_cell": {
    "cell_type": "raw",
    "metadata": {
     "collapsed": false
    },
    "source": []
   }
  }
 },
 "nbformat": 4,
 "nbformat_minor": 4
}
