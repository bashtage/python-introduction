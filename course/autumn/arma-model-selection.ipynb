{
 "cells": [
  {
   "cell_type": "markdown",
   "metadata": {},
   "source": [
    "## ARMA Modeling: Model Selection\n",
    "\n",
    "**Functions**\n",
    "\n",
    "`sm.tsa.SARIMAX`\n",
    "\n",
    "### Exercise 68\n",
    "Perform a model selection exercise on the term premium using\n",
    "\n",
    "1. General-to-Specific\n",
    "2. Specific-to-General\n",
    "3. Minimizing an Information Criteria\n",
    "\n",
    "**Note**: Some models, especially if not well specified, may show various warnings. These can be ignored"
   ]
  },
  {
   "cell_type": "code",
   "execution_count": null,
   "metadata": {
    "execution": {
     "iopub.execute_input": "2021-09-22T10:06:18.192654Z",
     "iopub.status.busy": "2021-09-22T10:06:18.192654Z",
     "iopub.status.idle": "2021-09-22T10:06:18.864655Z",
     "shell.execute_reply": "2021-09-22T10:06:18.864655Z"
    }
   },
   "outputs": [],
   "source": []
  }
 ],
 "metadata": {
  "kernelspec": {
   "display_name": "Python 3 (ipykernel)",
   "language": "python",
   "name": "python3"
  },
  "language_info": {
   "codemirror_mode": {
    "name": "ipython",
    "version": 3
   },
   "file_extension": ".py",
   "mimetype": "text/x-python",
   "name": "python",
   "nbconvert_exporter": "python",
   "pygments_lexer": "ipython3",
   "version": "3.12.11"
  },
  "pycharm": {
   "stem_cell": {
    "cell_type": "raw",
    "metadata": {
     "collapsed": false
    },
    "source": []
   }
  }
 },
 "nbformat": 4,
 "nbformat_minor": 4
}
