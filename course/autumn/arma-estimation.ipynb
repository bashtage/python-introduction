{
 "cells": [
  {
   "cell_type": "markdown",
   "metadata": {},
   "source": [
    "## ARMA Modeling: Estimation\n",
    "\n",
    "**Functions**\n",
    "\n",
    "`tsa.SARIMAX`"
   ]
  },
  {
   "cell_type": "code",
   "execution_count": null,
   "metadata": {
    "execution": {
     "iopub.execute_input": "2021-09-22T10:06:06.713846Z",
     "iopub.status.busy": "2021-09-22T10:06:06.713846Z",
     "iopub.status.idle": "2021-09-22T10:06:07.370849Z",
     "shell.execute_reply": "2021-09-22T10:06:07.371850Z"
    }
   },
   "outputs": [],
   "source": []
  },
  {
   "cell_type": "markdown",
   "metadata": {},
   "source": [
    "### Exercise 65\n",
    "Estimate an AR(1) on the term premium, and compute standard errors for the parameters."
   ]
  },
  {
   "cell_type": "code",
   "execution_count": null,
   "metadata": {
    "execution": {
     "iopub.execute_input": "2021-09-22T10:06:08.253850Z",
     "iopub.status.busy": "2021-09-22T10:06:08.253850Z",
     "iopub.status.idle": "2021-09-22T10:06:08.657846Z",
     "shell.execute_reply": "2021-09-22T10:06:08.657846Z"
    }
   },
   "outputs": [],
   "source": []
  },
  {
   "cell_type": "markdown",
   "metadata": {},
   "source": [
    "### Exercise 66\n",
    "Estimate an MA(5) on the term premium, and compute standard errors for the parameters."
   ]
  },
  {
   "cell_type": "code",
   "execution_count": null,
   "metadata": {
    "execution": {
     "iopub.execute_input": "2021-09-22T10:06:08.676848Z",
     "iopub.status.busy": "2021-09-22T10:06:08.676848Z",
     "iopub.status.idle": "2021-09-22T10:06:09.144847Z",
     "shell.execute_reply": "2021-09-22T10:06:09.144847Z"
    }
   },
   "outputs": [],
   "source": []
  },
  {
   "cell_type": "markdown",
   "metadata": {},
   "source": [
    "### Exercise 67\n",
    "Estimate an ARMA(1,1) on the term premium, and compute standard errors for the parameters."
   ]
  },
  {
   "cell_type": "code",
   "execution_count": null,
   "metadata": {
    "execution": {
     "iopub.execute_input": "2021-09-22T10:06:09.162847Z",
     "iopub.status.busy": "2021-09-22T10:06:09.162847Z",
     "iopub.status.idle": "2021-09-22T10:06:09.397847Z",
     "shell.execute_reply": "2021-09-22T10:06:09.397847Z"
    }
   },
   "outputs": [],
   "source": []
  }
 ],
 "metadata": {
  "kernelspec": {
   "display_name": "Python 3 (ipykernel)",
   "language": "python",
   "name": "python3"
  },
  "language_info": {
   "codemirror_mode": {
    "name": "ipython",
    "version": 3
   },
   "file_extension": ".py",
   "mimetype": "text/x-python",
   "name": "python",
   "nbconvert_exporter": "python",
   "pygments_lexer": "ipython3",
   "version": "3.12.11"
  },
  "pycharm": {
   "stem_cell": {
    "cell_type": "raw",
    "metadata": {
     "collapsed": false
    },
    "source": []
   }
  }
 },
 "nbformat": 4,
 "nbformat_minor": 4
}
