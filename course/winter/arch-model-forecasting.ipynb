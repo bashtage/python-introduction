{
 "cells": [
  {
   "cell_type": "markdown",
   "metadata": {},
   "source": [
    "## ARCH Model Forecasting\n",
    "\n",
    "**Functions**\n",
    "\n",
    "`sm.OLS`, `sm.WLS`\n",
    "\n",
    "\n",
    "### Exercise 77\n",
    "\n",
    "Use 50% of the sample to estimate your preferred GARCH model for returns to the S&P 500 and the\n",
    "EUR/USD rate, and construct forecasts for the remaining period."
   ]
  },
  {
   "cell_type": "code",
   "execution_count": null,
   "metadata": {
    "execution": {
     "iopub.execute_input": "2024-02-27T16:23:40.154250Z",
     "iopub.status.busy": "2024-02-27T16:23:40.154250Z",
     "iopub.status.idle": "2024-02-27T16:23:41.257463Z",
     "shell.execute_reply": "2024-02-27T16:23:41.257463Z"
    }
   },
   "outputs": [],
   "source": []
  },
  {
   "cell_type": "markdown",
   "metadata": {},
   "source": [
    "### Exercise 78\n",
    "\n",
    "Evaluate the accuracy of the forecasts."
   ]
  },
  {
   "cell_type": "code",
   "execution_count": null,
   "metadata": {
    "execution": {
     "iopub.execute_input": "2024-02-27T16:23:48.152259Z",
     "iopub.status.busy": "2024-02-27T16:23:48.150749Z",
     "iopub.status.idle": "2024-02-27T16:23:48.157855Z",
     "shell.execute_reply": "2024-02-27T16:23:48.157855Z"
    }
   },
   "outputs": [],
   "source": []
  },
  {
   "cell_type": "markdown",
   "metadata": {},
   "source": [
    "We can also use a weighted LS estimator where the variance is the inverse\n",
    "of the squared forecast.  The creates the MZ-GLS test.\n"
   ]
  },
  {
   "cell_type": "code",
   "execution_count": null,
   "metadata": {
    "execution": {
     "iopub.execute_input": "2024-02-27T16:23:48.853483Z",
     "iopub.status.busy": "2024-02-27T16:23:48.853483Z",
     "iopub.status.idle": "2024-02-27T16:23:48.858564Z",
     "shell.execute_reply": "2024-02-27T16:23:48.858564Z"
    }
   },
   "outputs": [],
   "source": []
  },
  {
   "cell_type": "markdown",
   "metadata": {},
   "source": [
    "### Exercise 79\n",
    "\n",
    "Evaluate the accuracy of forecasts from a 2-year backward moving average variance."
   ]
  },
  {
   "cell_type": "code",
   "execution_count": null,
   "metadata": {
    "execution": {
     "iopub.execute_input": "2024-02-27T16:23:48.861571Z",
     "iopub.status.busy": "2024-02-27T16:23:48.861571Z",
     "iopub.status.idle": "2024-02-27T16:23:49.427544Z",
     "shell.execute_reply": "2024-02-27T16:23:49.426536Z"
    }
   },
   "outputs": [],
   "source": []
  },
  {
   "cell_type": "markdown",
   "metadata": {},
   "source": [
    "### Exercise 80\n",
    "\n",
    "Compare the ARCH-model forecasts to a naive 2-year backward looking moving average using QLIKE."
   ]
  },
  {
   "cell_type": "code",
   "execution_count": null,
   "metadata": {
    "execution": {
     "iopub.execute_input": "2024-02-27T16:23:49.507485Z",
     "iopub.status.busy": "2024-02-27T16:23:49.506488Z",
     "iopub.status.idle": "2024-02-27T16:23:49.515541Z",
     "shell.execute_reply": "2024-02-27T16:23:49.514529Z"
    }
   },
   "outputs": [],
   "source": []
  }
 ],
 "metadata": {
  "kernelspec": {
   "display_name": "Python 3 (ipykernel)",
   "language": "python",
   "name": "python3"
  },
  "language_info": {
   "codemirror_mode": {
    "name": "ipython",
    "version": 3
   },
   "file_extension": ".py",
   "mimetype": "text/x-python",
   "name": "python",
   "nbconvert_exporter": "python",
   "pygments_lexer": "ipython3",
   "version": "3.12.11"
  },
  "pycharm": {
   "stem_cell": {
    "cell_type": "raw",
    "metadata": {
     "collapsed": false
    },
    "source": []
   }
  }
 },
 "nbformat": 4,
 "nbformat_minor": 4
}
