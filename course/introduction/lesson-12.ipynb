{
 "cells": [
  {
   "cell_type": "markdown",
   "metadata": {
    "pycharm": {
     "name": "#%% md\n"
    }
   },
   "source": [
    "# Numeric Indexing of DataFrames\n",
    "\n",
    "This lesson covers:\n",
    "\n",
    "* Accessing specific elements in DataFrames using numeric indices\n",
    "\n",
    "Accessing elements in a DataFrame is a common task. To begin this lesson,\n",
    "clear the workspace set up some vectors and a $5\\times5$ array. These vectors\n",
    "and matrix will make it easy to determine which elements are selected by a\n",
    "command.\n",
    "\n",
    "Begin by creating:\n",
    "\n",
    "* A 5-by-5 DataFrame `x_df` containing `np.arange(25).reshape((5,5))`.\n",
    "* A 5-element Series `y_s` containing `np.arange(5)`.\n",
    "* A 5-by-5 DataFrame `x_named` that is `x_df` with columns \"c0\", \"c1\", ...,\n",
    "  \"c4\" and rows \"r0\", \"r1\", ..., \"r4\".\n",
    "* A 5-element Series `y_named` with index \"r0\", \"r1\", ..., \"r4\". "
   ]
  },
  {
   "cell_type": "code",
   "execution_count": null,
   "metadata": {
    "execution": {
     "iopub.execute_input": "2025-08-27T07:32:33.625622Z",
     "iopub.status.busy": "2025-08-27T07:32:33.625622Z",
     "iopub.status.idle": "2025-08-27T07:32:33.982807Z",
     "shell.execute_reply": "2025-08-27T07:32:33.982807Z"
    }
   },
   "outputs": [],
   "source": []
  },
  {
   "cell_type": "markdown",
   "metadata": {
    "pycharm": {
     "name": "#%% md\n"
    }
   },
   "source": [
    "## Problem: Picking an Element out of a DataFrame\n",
    "\n",
    "Using double index notation, select the (0,2) and the (2,0) element of\n",
    "`x_named`."
   ]
  },
  {
   "cell_type": "code",
   "execution_count": null,
   "metadata": {
    "execution": {
     "iopub.execute_input": "2025-08-27T07:32:33.984813Z",
     "iopub.status.busy": "2025-08-27T07:32:33.984813Z",
     "iopub.status.idle": "2025-08-27T07:32:33.992317Z",
     "shell.execute_reply": "2025-08-27T07:32:33.991812Z"
    }
   },
   "outputs": [],
   "source": []
  },
  {
   "cell_type": "code",
   "execution_count": null,
   "metadata": {
    "execution": {
     "iopub.execute_input": "2025-08-27T07:32:33.994322Z",
     "iopub.status.busy": "2025-08-27T07:32:33.994322Z",
     "iopub.status.idle": "2025-08-27T07:32:33.998696Z",
     "shell.execute_reply": "2025-08-27T07:32:33.998696Z"
    },
    "jupyter": {
     "outputs_hidden": false
    }
   },
   "outputs": [],
   "source": []
  },
  {
   "cell_type": "markdown",
   "metadata": {
    "pycharm": {
     "name": "#%% md\n"
    }
   },
   "source": [
    "## Problem: Select Elements from Series\n",
    "\n",
    "Select the 2nd element of `y_named`."
   ]
  },
  {
   "cell_type": "code",
   "execution_count": null,
   "metadata": {
    "execution": {
     "iopub.execute_input": "2025-08-27T07:32:33.998696Z",
     "iopub.status.busy": "2025-08-27T07:32:33.998696Z",
     "iopub.status.idle": "2025-08-27T07:32:34.005712Z",
     "shell.execute_reply": "2025-08-27T07:32:34.005712Z"
    }
   },
   "outputs": [],
   "source": []
  },
  {
   "cell_type": "markdown",
   "metadata": {},
   "source": [
    "## Problem: Selecting Rows as Series\n",
    "\n",
    "Select the 2nd row of `x_named` using the colon (:) operator.\n"
   ]
  },
  {
   "cell_type": "code",
   "execution_count": null,
   "metadata": {
    "execution": {
     "iopub.execute_input": "2025-08-27T07:32:34.005712Z",
     "iopub.status.busy": "2025-08-27T07:32:34.005712Z",
     "iopub.status.idle": "2025-08-27T07:32:34.013062Z",
     "shell.execute_reply": "2025-08-27T07:32:34.012116Z"
    }
   },
   "outputs": [],
   "source": []
  },
  {
   "cell_type": "markdown",
   "metadata": {
    "pycharm": {
     "name": "#%% md\n"
    }
   },
   "source": [
    "## Problem: Selecting Rows as DataFrames\n",
    "\n",
    "1. Select the 2nd row of `x_named` using a slice so that the selection\n",
    "   remains a DataFrame.\n",
    "2. Repeat using a list of indices to retain the DataFrame. \n"
   ]
  },
  {
   "cell_type": "code",
   "execution_count": null,
   "metadata": {
    "execution": {
     "iopub.execute_input": "2025-08-27T07:32:34.014598Z",
     "iopub.status.busy": "2025-08-27T07:32:34.014598Z",
     "iopub.status.idle": "2025-08-27T07:32:34.022292Z",
     "shell.execute_reply": "2025-08-27T07:32:34.022292Z"
    }
   },
   "outputs": [],
   "source": []
  },
  {
   "cell_type": "code",
   "execution_count": null,
   "metadata": {
    "execution": {
     "iopub.execute_input": "2025-08-27T07:32:34.022292Z",
     "iopub.status.busy": "2025-08-27T07:32:34.022292Z",
     "iopub.status.idle": "2025-08-27T07:32:34.031258Z",
     "shell.execute_reply": "2025-08-27T07:32:34.031258Z"
    }
   },
   "outputs": [],
   "source": []
  },
  {
   "cell_type": "markdown",
   "metadata": {},
   "source": [
    "## Problem: Selecting Entire Columns as Series\n",
    "Select the 2nd column of `x_named` using the colon (:) operator. "
   ]
  },
  {
   "cell_type": "code",
   "execution_count": null,
   "metadata": {
    "execution": {
     "iopub.execute_input": "2025-08-27T07:32:34.033265Z",
     "iopub.status.busy": "2025-08-27T07:32:34.033265Z",
     "iopub.status.idle": "2025-08-27T07:32:34.038208Z",
     "shell.execute_reply": "2025-08-27T07:32:34.038208Z"
    }
   },
   "outputs": [],
   "source": []
  },
  {
   "cell_type": "markdown",
   "metadata": {
    "pycharm": {
     "name": "#%% md\n"
    }
   },
   "source": [
    "## Problem: Selecting Single Columns as DataFrames\n",
    "Select the 2nd column of `x_named`  so that the selection remains a DataFrame. \n"
   ]
  },
  {
   "cell_type": "code",
   "execution_count": null,
   "metadata": {
    "execution": {
     "iopub.execute_input": "2025-08-27T07:32:34.040212Z",
     "iopub.status.busy": "2025-08-27T07:32:34.040212Z",
     "iopub.status.idle": "2025-08-27T07:32:34.046523Z",
     "shell.execute_reply": "2025-08-27T07:32:34.046213Z"
    }
   },
   "outputs": [],
   "source": []
  },
  {
   "cell_type": "code",
   "execution_count": null,
   "metadata": {
    "execution": {
     "iopub.execute_input": "2025-08-27T07:32:34.048585Z",
     "iopub.status.busy": "2025-08-27T07:32:34.047586Z",
     "iopub.status.idle": "2025-08-27T07:32:34.053693Z",
     "shell.execute_reply": "2025-08-27T07:32:34.053693Z"
    }
   },
   "outputs": [],
   "source": []
  },
  {
   "cell_type": "markdown",
   "metadata": {},
   "source": [
    "## Problem: Selecting Specific Columns\n",
    "Select the 2nd and 3rd columns of `x_named` using a slice."
   ]
  },
  {
   "cell_type": "code",
   "execution_count": null,
   "metadata": {
    "execution": {
     "iopub.execute_input": "2025-08-27T07:32:34.055697Z",
     "iopub.status.busy": "2025-08-27T07:32:34.055697Z",
     "iopub.status.idle": "2025-08-27T07:32:34.061516Z",
     "shell.execute_reply": "2025-08-27T07:32:34.061516Z"
    }
   },
   "outputs": [],
   "source": []
  },
  {
   "cell_type": "markdown",
   "metadata": {
    "pycharm": {
     "name": "#%% md\n"
    }
   },
   "source": [
    "## Problem: Select Specific Rows\n",
    "\n",
    "Select the 2nd and 4th rows of `x_named` using a slice.  Repeat the \n",
    "selection using a list of integers."
   ]
  },
  {
   "cell_type": "code",
   "execution_count": null,
   "metadata": {
    "execution": {
     "iopub.execute_input": "2025-08-27T07:32:34.063068Z",
     "iopub.status.busy": "2025-08-27T07:32:34.063068Z",
     "iopub.status.idle": "2025-08-27T07:32:34.070363Z",
     "shell.execute_reply": "2025-08-27T07:32:34.070363Z"
    }
   },
   "outputs": [],
   "source": []
  },
  {
   "cell_type": "code",
   "execution_count": null,
   "metadata": {
    "execution": {
     "iopub.execute_input": "2025-08-27T07:32:34.070363Z",
     "iopub.status.busy": "2025-08-27T07:32:34.070363Z",
     "iopub.status.idle": "2025-08-27T07:32:34.079691Z",
     "shell.execute_reply": "2025-08-27T07:32:34.079691Z"
    }
   },
   "outputs": [],
   "source": []
  },
  {
   "cell_type": "markdown",
   "metadata": {},
   "source": [
    "## Problem: Select arbitrary rows and columns\n",
    "\n",
    "Combine the previous selections to the 2nd and 3rd columns and the 2nd and 4th rows\n",
    "of `x_named`. \n",
    "\n",
    "**Note**: This is the only important difference with NumPy.  Arbitrary\n",
    "row/column selection using `DataFrame.iloc` is simpler but less flexible."
   ]
  },
  {
   "cell_type": "code",
   "execution_count": null,
   "metadata": {
    "execution": {
     "iopub.execute_input": "2025-08-27T07:32:34.081833Z",
     "iopub.status.busy": "2025-08-27T07:32:34.081833Z",
     "iopub.status.idle": "2025-08-27T07:32:34.087915Z",
     "shell.execute_reply": "2025-08-27T07:32:34.087915Z"
    },
    "jupyter": {
     "outputs_hidden": false
    }
   },
   "outputs": [],
   "source": []
  },
  {
   "cell_type": "code",
   "execution_count": null,
   "metadata": {
    "execution": {
     "iopub.execute_input": "2025-08-27T07:32:34.089920Z",
     "iopub.status.busy": "2025-08-27T07:32:34.089920Z",
     "iopub.status.idle": "2025-08-27T07:32:34.095858Z",
     "shell.execute_reply": "2025-08-27T07:32:34.095858Z"
    },
    "jupyter": {
     "outputs_hidden": false
    }
   },
   "outputs": [],
   "source": []
  },
  {
   "cell_type": "code",
   "execution_count": null,
   "metadata": {
    "execution": {
     "iopub.execute_input": "2025-08-27T07:32:34.097866Z",
     "iopub.status.busy": "2025-08-27T07:32:34.097866Z",
     "iopub.status.idle": "2025-08-27T07:32:34.105368Z",
     "shell.execute_reply": "2025-08-27T07:32:34.104862Z"
    },
    "jupyter": {
     "outputs_hidden": false
    }
   },
   "outputs": [],
   "source": []
  },
  {
   "cell_type": "markdown",
   "metadata": {
    "pycharm": {
     "name": "#%% md\n"
    }
   },
   "source": [
    "## Problem: Mixed selection\n",
    "\n",
    "Select the columns c1 and c2 and the 1st, 3rd and 5th row."
   ]
  },
  {
   "cell_type": "code",
   "execution_count": null,
   "metadata": {
    "execution": {
     "iopub.execute_input": "2025-08-27T07:32:34.107375Z",
     "iopub.status.busy": "2025-08-27T07:32:34.107375Z",
     "iopub.status.idle": "2025-08-27T07:32:34.114806Z",
     "shell.execute_reply": "2025-08-27T07:32:34.114295Z"
    }
   },
   "outputs": [],
   "source": []
  },
  {
   "cell_type": "markdown",
   "metadata": {},
   "source": [
    "## Problem: Mixed selection 2\n",
    "\n",
    "Select the rows r1 and r2 and the 1st, 3rd and final column."
   ]
  },
  {
   "cell_type": "code",
   "execution_count": null,
   "metadata": {
    "execution": {
     "iopub.execute_input": "2025-08-27T07:32:34.116816Z",
     "iopub.status.busy": "2025-08-27T07:32:34.116816Z",
     "iopub.status.idle": "2025-08-27T07:32:34.123957Z",
     "shell.execute_reply": "2025-08-27T07:32:34.123957Z"
    }
   },
   "outputs": [],
   "source": []
  },
  {
   "cell_type": "markdown",
   "metadata": {
    "pycharm": {
     "name": "#%% md\n"
    }
   },
   "source": [
    "## Exercises\n",
    "\n",
    "### Exercise: Select fixed length block\n",
    "\n",
    "Compute the mean return of the momentum data in the first 66\n",
    "observations and the last 66 observations."
   ]
  },
  {
   "cell_type": "code",
   "execution_count": null,
   "metadata": {
    "execution": {
     "iopub.execute_input": "2025-08-27T07:32:34.126961Z",
     "iopub.status.busy": "2025-08-27T07:32:34.125965Z",
     "iopub.status.idle": "2025-08-27T07:32:34.145098Z",
     "shell.execute_reply": "2025-08-27T07:32:34.145098Z"
    },
    "jupyter": {
     "outputs_hidden": false
    },
    "pycharm": {
     "is_executing": false,
     "name": "#%%\n"
    }
   },
   "outputs": [],
   "source": [
    "# Setup: Load the momentum data\n",
    "\n",
    "import pandas as pd\n",
    "\n",
    "momentum = pd.read_csv(\"data/momentum.csv\", index_col=\"date\", parse_dates=True)\n",
    "momentum.head()"
   ]
  },
  {
   "cell_type": "code",
   "execution_count": null,
   "metadata": {
    "execution": {
     "iopub.execute_input": "2025-08-27T07:32:34.147595Z",
     "iopub.status.busy": "2025-08-27T07:32:34.147595Z",
     "iopub.status.idle": "2025-08-27T07:32:34.154101Z",
     "shell.execute_reply": "2025-08-27T07:32:34.153592Z"
    },
    "jupyter": {
     "outputs_hidden": false
    }
   },
   "outputs": [],
   "source": []
  },
  {
   "cell_type": "code",
   "execution_count": null,
   "metadata": {
    "execution": {
     "iopub.execute_input": "2025-08-27T07:32:34.155107Z",
     "iopub.status.busy": "2025-08-27T07:32:34.155107Z",
     "iopub.status.idle": "2025-08-27T07:32:34.161344Z",
     "shell.execute_reply": "2025-08-27T07:32:34.161344Z"
    },
    "jupyter": {
     "outputs_hidden": false
    }
   },
   "outputs": [],
   "source": []
  },
  {
   "cell_type": "code",
   "execution_count": null,
   "metadata": {
    "execution": {
     "iopub.execute_input": "2025-08-27T07:32:34.163038Z",
     "iopub.status.busy": "2025-08-27T07:32:34.163038Z",
     "iopub.status.idle": "2025-08-27T07:32:34.168526Z",
     "shell.execute_reply": "2025-08-27T07:32:34.168526Z"
    },
    "jupyter": {
     "outputs_hidden": false
    }
   },
   "outputs": [],
   "source": []
  },
  {
   "cell_type": "markdown",
   "metadata": {
    "pycharm": {
     "name": "#%% md\n"
    }
   },
   "source": [
    "### Exercise: Compute values using fraction of sample\n",
    "\n",
    "Compute the correlation of momentum portfolio 1, 5, and 10 in the first half of\n",
    "the sample and in the second half. "
   ]
  },
  {
   "cell_type": "code",
   "execution_count": null,
   "metadata": {
    "execution": {
     "iopub.execute_input": "2025-08-27T07:32:34.170536Z",
     "iopub.status.busy": "2025-08-27T07:32:34.170536Z",
     "iopub.status.idle": "2025-08-27T07:32:34.179994Z",
     "shell.execute_reply": "2025-08-27T07:32:34.179994Z"
    },
    "jupyter": {
     "outputs_hidden": false
    }
   },
   "outputs": [],
   "source": []
  },
  {
   "cell_type": "code",
   "execution_count": null,
   "metadata": {
    "execution": {
     "iopub.execute_input": "2025-08-27T07:32:34.182999Z",
     "iopub.status.busy": "2025-08-27T07:32:34.182000Z",
     "iopub.status.idle": "2025-08-27T07:32:34.189251Z",
     "shell.execute_reply": "2025-08-27T07:32:34.189251Z"
    },
    "jupyter": {
     "outputs_hidden": false
    },
    "tags": []
   },
   "outputs": [],
   "source": []
  }
 ],
 "metadata": {
  "kernelspec": {
   "display_name": "Python 3 (ipykernel)",
   "language": "python",
   "name": "python3"
  },
  "language_info": {
   "codemirror_mode": {
    "name": "ipython",
    "version": 3
   },
   "file_extension": ".py",
   "mimetype": "text/x-python",
   "name": "python",
   "nbconvert_exporter": "python",
   "pygments_lexer": "ipython3",
   "version": "3.12.11"
  },
  "pycharm": {
   "stem_cell": {
    "cell_type": "raw",
    "metadata": {
     "collapsed": false
    },
    "source": []
   }
  }
 },
 "nbformat": 4,
 "nbformat_minor": 4
}
