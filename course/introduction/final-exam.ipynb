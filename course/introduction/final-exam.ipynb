{
 "cells": [
  {
   "cell_type": "markdown",
   "metadata": {
    "pycharm": {
     "name": "#%% md\n"
    }
   },
   "source": [
    "# Final Exam\n",
    "\n",
    "This self-grading notebook serves as a final exam for the introductory course.\n",
    "If you have grasped the contents of the course, you should be able to complete\n",
    "this exam. \n",
    "\n",
    "It is essential that you answer each cell by assigning the solution to `QUESTION_#`\n",
    "where `#` is the question number.  \n",
    "\n",
    "We will start with a warm-up question that is already answered.\n",
    "\n",
    "## Question 0\n",
    "\n",
    "Create a 3-element 1-dimensional array containing the values [1,1,1]\n",
    "\n",
    "_Note_: This answer is not assessed."
   ]
  },
  {
   "cell_type": "code",
   "execution_count": null,
   "metadata": {
    "execution": {
     "iopub.execute_input": "2025-08-27T13:44:12.927838Z",
     "iopub.status.busy": "2025-08-27T13:44:12.927838Z",
     "iopub.status.idle": "2025-08-27T13:44:12.999389Z",
     "shell.execute_reply": "2025-08-27T13:44:12.999389Z"
    },
    "jupyter": {
     "outputs_hidden": false
    },
    "pycharm": {
     "is_executing": false,
     "name": "#%%\n"
    }
   },
   "outputs": [],
   "source": [
    "# Setup: The solution is used as a model\n",
    "import numpy as np\n",
    "\n",
    "QUESTION_0 = np.ones(3)"
   ]
  },
  {
   "cell_type": "markdown",
   "metadata": {
    "pycharm": {
     "name": "#%% md\n"
    }
   },
   "source": [
    "## Question 1\n",
    "\n",
    "Construct the correlation matrix\n",
    "\n",
    "$$\\left[\\begin{array}{ccc} 1 & 0.2 & 0.5 \\\\ 0.2 & 1 & 0.8 \\\\ 0.5 & 0.8 & 1 \\end{array}\\right]$$\n",
    "\n",
    "as a NumPy array."
   ]
  },
  {
   "cell_type": "code",
   "execution_count": null,
   "metadata": {
    "execution": {
     "iopub.execute_input": "2025-08-27T13:44:12.999389Z",
     "iopub.status.busy": "2025-08-27T13:44:12.999389Z",
     "iopub.status.idle": "2025-08-27T13:44:13.005052Z",
     "shell.execute_reply": "2025-08-27T13:44:13.005052Z"
    },
    "jupyter": {
     "outputs_hidden": false
    }
   },
   "outputs": [],
   "source": []
  },
  {
   "cell_type": "markdown",
   "metadata": {},
   "source": [
    "## Question 2\n",
    "\n",
    "Construct the correlation matrix\n",
    "\n",
    "$$\\left[\\begin{array}{ccc} 1 & 0.2 & 0.5 \\\\ 0.2 & 1 & 0.8 \\\\ 0.5 & 0.8 & 1 \\end{array}\\right]$$\n",
    "\n",
    "as a DataFrame with columns and index both equal to `['A', 'B', 'C']`. "
   ]
  },
  {
   "cell_type": "code",
   "execution_count": null,
   "metadata": {
    "execution": {
     "iopub.execute_input": "2025-08-27T13:44:13.006556Z",
     "iopub.status.busy": "2025-08-27T13:44:13.006556Z",
     "iopub.status.idle": "2025-08-27T13:44:13.342083Z",
     "shell.execute_reply": "2025-08-27T13:44:13.342083Z"
    },
    "jupyter": {
     "outputs_hidden": false
    }
   },
   "outputs": [],
   "source": []
  },
  {
   "cell_type": "markdown",
   "metadata": {},
   "source": [
    "## Question 3\n",
    "\n",
    "Load the momentum data in the CSV file `momentum.csv`, set the column `date` \n",
    "as the index, and ensure that `date` is a `DateTimeIndex`."
   ]
  },
  {
   "cell_type": "code",
   "execution_count": null,
   "metadata": {
    "execution": {
     "iopub.execute_input": "2025-08-27T13:44:13.344761Z",
     "iopub.status.busy": "2025-08-27T13:44:13.344761Z",
     "iopub.status.idle": "2025-08-27T13:44:13.354466Z",
     "shell.execute_reply": "2025-08-27T13:44:13.354466Z"
    },
    "jupyter": {
     "outputs_hidden": false
    }
   },
   "outputs": [],
   "source": []
  },
  {
   "cell_type": "markdown",
   "metadata": {},
   "source": [
    "## Question 4\n",
    "\n",
    "Construct a DataFrame using the data loaded in the previous question\n",
    "that contains the returns from momentum portfolio 5 in March and April 2016.\n"
   ]
  },
  {
   "cell_type": "code",
   "execution_count": null,
   "metadata": {
    "execution": {
     "iopub.execute_input": "2025-08-27T13:44:13.355482Z",
     "iopub.status.busy": "2025-08-27T13:44:13.355482Z",
     "iopub.status.idle": "2025-08-27T13:44:13.362500Z",
     "shell.execute_reply": "2025-08-27T13:44:13.362500Z"
    },
    "jupyter": {
     "outputs_hidden": false
    }
   },
   "outputs": [],
   "source": []
  },
  {
   "cell_type": "markdown",
   "metadata": {},
   "source": [
    "## Question 5\n",
    "\n",
    "What is the standard deviation of the data:\n",
    "\n",
    "$$ 1, 3, 1, 2,9, 4, 5, 6, 10, 4 $$\n",
    "\n",
    "**Note** Use 1 degree of freedom in the denominator."
   ]
  },
  {
   "cell_type": "code",
   "execution_count": null,
   "metadata": {
    "execution": {
     "iopub.execute_input": "2025-08-27T13:44:13.362500Z",
     "iopub.status.busy": "2025-08-27T13:44:13.362500Z",
     "iopub.status.idle": "2025-08-27T13:44:13.368159Z",
     "shell.execute_reply": "2025-08-27T13:44:13.368159Z"
    },
    "jupyter": {
     "outputs_hidden": false
    }
   },
   "outputs": [],
   "source": []
  },
  {
   "cell_type": "markdown",
   "metadata": {},
   "source": [
    "## Question 6\n",
    "\n",
    "Compute the correlation matrix of momentum portfolios 1, 4, 6, and 10 as a DataFrame\n",
    "where the index and columns are the portfolio names (e.g., 'mom_01') in the order\n",
    "listed above."
   ]
  },
  {
   "cell_type": "code",
   "execution_count": null,
   "metadata": {
    "execution": {
     "iopub.execute_input": "2025-08-27T13:44:13.369176Z",
     "iopub.status.busy": "2025-08-27T13:44:13.369176Z",
     "iopub.status.idle": "2025-08-27T13:44:13.374074Z",
     "shell.execute_reply": "2025-08-27T13:44:13.374074Z"
    },
    "jupyter": {
     "outputs_hidden": false
    }
   },
   "outputs": [],
   "source": []
  },
  {
   "cell_type": "markdown",
   "metadata": {},
   "source": [
    "## Question 7\n",
    "\n",
    "Compute the percentage of returns of each of the 10 momentum portfolios\n",
    "that are outside of the interval \n",
    "\n",
    "$$ [\\hat{\\mu} - \\hat{\\sigma}, \\hat{\\mu} + \\hat{\\sigma}]$$\n",
    "\n",
    "where $\\hat{\\mu}$ is the mean and $\\hat{\\sigma}$ is the standard deviation computed using\n",
    "1 dof.  The returned variable must be a `Series` where the index is the portfolio\n",
    "names ordered from 1 to 10.\n",
    " "
   ]
  },
  {
   "cell_type": "code",
   "execution_count": null,
   "metadata": {
    "execution": {
     "iopub.execute_input": "2025-08-27T13:44:13.374074Z",
     "iopub.status.busy": "2025-08-27T13:44:13.374074Z",
     "iopub.status.idle": "2025-08-27T13:44:13.380640Z",
     "shell.execute_reply": "2025-08-27T13:44:13.380640Z"
    },
    "jupyter": {
     "outputs_hidden": false
    }
   },
   "outputs": [],
   "source": []
  },
  {
   "cell_type": "markdown",
   "metadata": {},
   "source": [
    "## Question 8\n",
    "\n",
    "Import the data the data in the sheet `question 8` in `final-exam.xlsx` into\n",
    "a DataFrame where the index contains the dates and variable name is the column\n",
    "name."
   ]
  },
  {
   "cell_type": "code",
   "execution_count": null,
   "metadata": {
    "execution": {
     "iopub.execute_input": "2025-08-27T13:44:13.380640Z",
     "iopub.status.busy": "2025-08-27T13:44:13.380640Z",
     "iopub.status.idle": "2025-08-27T13:44:13.642953Z",
     "shell.execute_reply": "2025-08-27T13:44:13.642953Z"
    },
    "jupyter": {
     "outputs_hidden": false
    }
   },
   "outputs": [],
   "source": []
  },
  {
   "cell_type": "markdown",
   "metadata": {},
   "source": [
    "## Question 9\n",
    "\n",
    "Enter the DataFrame in the table below and save it to HDF with the key 'question9'. The answer to\n",
    "this problem must be the full path to the hdf file. The values in\n",
    "index should be the DataFrame's index.\n",
    "\n",
    "| index | data |\n",
    "| :---- | :--- |\n",
    "|  A    | 6.0  |\n",
    "|  E    | 2.7  |\n",
    "|  G    | 1.6  |\n",
    "|  P    | 3.1  |\n",
    "\n",
    "**Note**: If you want to get the full path to a file saved in the current directory, \n",
    "you can use\n",
    "\n",
    "```python\n",
    "import os\n",
    "\n",
    "file_name = 'my_file_name'\n",
    "full_path = os.path.join(os.getcwd(), file_name)\n",
    "```"
   ]
  },
  {
   "cell_type": "code",
   "execution_count": null,
   "metadata": {
    "execution": {
     "iopub.execute_input": "2025-08-27T13:44:13.642953Z",
     "iopub.status.busy": "2025-08-27T13:44:13.642953Z",
     "iopub.status.idle": "2025-08-27T13:44:13.711974Z",
     "shell.execute_reply": "2025-08-27T13:44:13.711974Z"
    },
    "jupyter": {
     "outputs_hidden": false
    }
   },
   "outputs": [],
   "source": []
  },
  {
   "cell_type": "markdown",
   "metadata": {},
   "source": [
    "## Question 10\n",
    "\n",
    "Compute the cumulative return on a portfolio the longs mom_10 and shorts mom_01. The\n",
    "first value should be `1 + mom_10.iloc[0] - mom_01.iloc[0]`. The second cumulative\n",
    "return should be the first return times `1 + mom_10.iloc[1] - mom_01.iloc[1]`, and\n",
    "so on.  The solution must be a Series with the name 'momentum_factor' and index\n",
    "equal to the index of the momentum DataFrame. \n",
    "\n",
    "**Note**: The data in the momentum return file is in percentages, i.e., a return of\n",
    "4.2% is recorded as 4.2. "
   ]
  },
  {
   "cell_type": "code",
   "execution_count": null,
   "metadata": {
    "execution": {
     "iopub.execute_input": "2025-08-27T13:44:13.713994Z",
     "iopub.status.busy": "2025-08-27T13:44:13.713994Z",
     "iopub.status.idle": "2025-08-27T13:44:13.718307Z",
     "shell.execute_reply": "2025-08-27T13:44:13.718307Z"
    },
    "jupyter": {
     "outputs_hidden": false
    }
   },
   "outputs": [],
   "source": []
  },
  {
   "cell_type": "markdown",
   "metadata": {},
   "source": [
    "## Question 11\n",
    "\n",
    "Write a function named QUESTION_11 that take 1 numerical input `x` and returns:\n",
    "\n",
    "* $exp(x)$ is x is less than 0\n",
    "* $log(1+x)$ if `x` is greater than or equal to 0\n"
   ]
  },
  {
   "cell_type": "code",
   "execution_count": null,
   "metadata": {
    "execution": {
     "iopub.execute_input": "2025-08-27T13:44:13.720769Z",
     "iopub.status.busy": "2025-08-27T13:44:13.718307Z",
     "iopub.status.idle": "2025-08-27T13:44:13.723592Z",
     "shell.execute_reply": "2025-08-27T13:44:13.723592Z"
    },
    "jupyter": {
     "outputs_hidden": false
    }
   },
   "outputs": [],
   "source": []
  },
  {
   "cell_type": "markdown",
   "metadata": {},
   "source": [
    "## Question 12\n",
    "\n",
    "Produce a scatter plot of the momentum returns of portfolios 1 (x-axis) and 10 using only\n",
    "data in 2016.  Set the x limits and y limits to be tight so that the lower bound is the \n",
    "smallest return plotted and the upper bound is the largest return plotted. Use the 'darkgrid'\n",
    "theme from seaborn.  Assign the **figure** handle to QUESTION_12.\n",
    " "
   ]
  },
  {
   "cell_type": "code",
   "execution_count": null,
   "metadata": {
    "execution": {
     "iopub.execute_input": "2025-08-27T13:44:13.723592Z",
     "iopub.status.busy": "2025-08-27T13:44:13.723592Z",
     "iopub.status.idle": "2025-08-27T13:44:15.067328Z",
     "shell.execute_reply": "2025-08-27T13:44:15.067328Z"
    },
    "jupyter": {
     "outputs_hidden": false
    }
   },
   "outputs": [],
   "source": []
  },
  {
   "cell_type": "markdown",
   "metadata": {},
   "source": [
    "## Question 13\n",
    "\n",
    "Compute the excess kurtosis of daily, weekly (using Friday and the end of the week) and monthly \n",
    "returns on the 10 momentum portfolios using the pandas function `kurt`. The solution must be a\n",
    "DataFrame with the portfolio names as the index ordered form 1 to 10 and the sampling frequencies,\n",
    "'daily', 'weekly', or 'monthly' as the columns (in order). When computing weekly or monthly returns\n",
    "from daily data, use the sum of the daily returns.  "
   ]
  },
  {
   "cell_type": "code",
   "execution_count": null,
   "metadata": {
    "execution": {
     "iopub.execute_input": "2025-08-27T13:44:15.069754Z",
     "iopub.status.busy": "2025-08-27T13:44:15.069754Z",
     "iopub.status.idle": "2025-08-27T13:44:15.080046Z",
     "shell.execute_reply": "2025-08-27T13:44:15.080046Z"
    },
    "jupyter": {
     "outputs_hidden": false
    }
   },
   "outputs": [],
   "source": []
  },
  {
   "cell_type": "markdown",
   "metadata": {},
   "source": [
    "## Question 14\n",
    "\n",
    "Simulate a random walk using 100 normal observations from a\n",
    "NumPy `RandomState` initialized with a seed of `19991231`."
   ]
  },
  {
   "cell_type": "code",
   "execution_count": null,
   "metadata": {
    "execution": {
     "iopub.execute_input": "2025-08-27T13:44:15.082566Z",
     "iopub.status.busy": "2025-08-27T13:44:15.080046Z",
     "iopub.status.idle": "2025-08-27T13:44:15.085551Z",
     "shell.execute_reply": "2025-08-27T13:44:15.085551Z"
    },
    "jupyter": {
     "outputs_hidden": false
    }
   },
   "outputs": [],
   "source": []
  },
  {
   "cell_type": "markdown",
   "metadata": {},
   "source": [
    "## Question 15\n",
    "\n",
    "Defining \n",
    "\n",
    "```\n",
    "import numpy as np\n",
    "\n",
    "cum_momentum = np.cumprod(1 + momentum / 100)\n",
    "```\n",
    "\n",
    "compute the ratio of the high-price to the low price in each month.  The solution\n",
    "should be a DataFrame where the index is the last date in each month and the columns\n",
    "are the variables names.\n",
    " "
   ]
  },
  {
   "cell_type": "code",
   "execution_count": null,
   "metadata": {
    "execution": {
     "iopub.execute_input": "2025-08-27T13:44:15.085551Z",
     "iopub.status.busy": "2025-08-27T13:44:15.085551Z",
     "iopub.status.idle": "2025-08-27T13:44:15.093149Z",
     "shell.execute_reply": "2025-08-27T13:44:15.093149Z"
    },
    "jupyter": {
     "outputs_hidden": false
    }
   },
   "outputs": [],
   "source": []
  },
  {
   "cell_type": "markdown",
   "metadata": {},
   "source": [
    "## Question 16\n",
    "\n",
    "Simulate 100 observations from the model\n",
    "\n",
    "$$ y_i = 0.2 + 1.2 y_{i-1} - 0.2 y_{i-2} + \\epsilon_i$$\n",
    "\n",
    "where $\\epsilon_i$ is a standard normal shock.  Set $y_0=\\epsilon_0$ and\n",
    "$y_1=\\epsilon_0 + \\epsilon_1$. The solution should be a 1-d NumPy array with 100 elements. Use\n",
    "a RandomState with a seed value of 19991231."
   ]
  },
  {
   "cell_type": "code",
   "execution_count": null,
   "metadata": {
    "execution": {
     "iopub.execute_input": "2025-08-27T13:44:15.093149Z",
     "iopub.status.busy": "2025-08-27T13:44:15.093149Z",
     "iopub.status.idle": "2025-08-27T13:44:15.099596Z",
     "shell.execute_reply": "2025-08-27T13:44:15.099596Z"
    },
    "jupyter": {
     "outputs_hidden": false
    }
   },
   "outputs": [],
   "source": []
  },
  {
   "cell_type": "markdown",
   "metadata": {},
   "source": [
    "## Question 17\n",
    "What is the ratio of the largest eigenvalue to the smallest eigenvalue \n",
    "of the correlation matrix of the 10 momentum returns? \n",
    "\n",
    "**Note**: This is called the condition number of a matrix and is a measure of\n",
    "how closely correlated the series are. You can compute the eigenvalues from\n",
    "the correlation matrix using `np.linalg.eigs`.  See the help of this function\n",
    "for more details. "
   ]
  },
  {
   "cell_type": "code",
   "execution_count": null,
   "metadata": {
    "execution": {
     "iopub.execute_input": "2025-08-27T13:44:15.099596Z",
     "iopub.status.busy": "2025-08-27T13:44:15.099596Z",
     "iopub.status.idle": "2025-08-27T13:44:15.106847Z",
     "shell.execute_reply": "2025-08-27T13:44:15.106847Z"
    },
    "jupyter": {
     "outputs_hidden": false
    }
   },
   "outputs": [],
   "source": []
  },
  {
   "cell_type": "markdown",
   "metadata": {},
   "source": [
    "## Question 18\n",
    "\n",
    "Write a function that takes a single input 'x' and return the string\n",
    "\"The value of x is \" and the value of x. For example, if x is 3.14,\n",
    "then the returned value should be \"The value of x is 3.14\". The function name\n",
    "must be QUESTION_18."
   ]
  },
  {
   "cell_type": "code",
   "execution_count": null,
   "metadata": {
    "execution": {
     "iopub.execute_input": "2025-08-27T13:44:15.106847Z",
     "iopub.status.busy": "2025-08-27T13:44:15.106847Z",
     "iopub.status.idle": "2025-08-27T13:44:15.111092Z",
     "shell.execute_reply": "2025-08-27T13:44:15.111092Z"
    },
    "jupyter": {
     "outputs_hidden": false
    }
   },
   "outputs": [],
   "source": []
  },
  {
   "cell_type": "markdown",
   "metadata": {},
   "source": [
    "## Question 19\n",
    "\n",
    "Compute the percentage of days where all 10 returns are positive and subtract the\n",
    "percentage of days where all 10 momentum returns are negative on the same day."
   ]
  },
  {
   "cell_type": "code",
   "execution_count": null,
   "metadata": {
    "execution": {
     "iopub.execute_input": "2025-08-27T13:44:15.111092Z",
     "iopub.status.busy": "2025-08-27T13:44:15.111092Z",
     "iopub.status.idle": "2025-08-27T13:44:15.117180Z",
     "shell.execute_reply": "2025-08-27T13:44:15.117180Z"
    },
    "jupyter": {
     "outputs_hidden": false
    }
   },
   "outputs": [],
   "source": []
  },
  {
   "cell_type": "markdown",
   "metadata": {},
   "source": [
    "## Question 20\n",
    "\n",
    "Write the function `QUESTION_20` that will take a single input `s`, which is a string\n",
    "and will return a Series that counts the number of times each letter in `s` appears in `s`\n",
    "_without_ regard to case. Do not include spaces.  Ensure the Series returned as its index sorted.\n",
    "\n",
    "**Hints**:\n",
    "\n",
    "* Have a look at `value_counts` for a pandas `Series`.\n",
    "* You can iterate across the letters of a string using\n",
    "\n",
    "```\n",
    "some_string = 'abcdefg'\n",
    "for letter in some_string:\n",
    "    do somethign with letter...\n",
    "```\n",
    "* `str.lower` can be used to get the lower case version of a string"
   ]
  },
  {
   "cell_type": "code",
   "execution_count": null,
   "metadata": {
    "execution": {
     "iopub.execute_input": "2025-08-27T13:44:15.117180Z",
     "iopub.status.busy": "2025-08-27T13:44:15.117180Z",
     "iopub.status.idle": "2025-08-27T13:44:15.122155Z",
     "shell.execute_reply": "2025-08-27T13:44:15.122155Z"
    },
    "jupyter": {
     "outputs_hidden": false
    },
    "tags": []
   },
   "outputs": [],
   "source": []
  }
 ],
 "metadata": {
  "kernelspec": {
   "display_name": "Python 3 (ipykernel)",
   "language": "python",
   "name": "python3"
  },
  "language_info": {
   "codemirror_mode": {
    "name": "ipython",
    "version": 3
   },
   "file_extension": ".py",
   "mimetype": "text/x-python",
   "name": "python",
   "nbconvert_exporter": "python",
   "pygments_lexer": "ipython3",
   "version": "3.12.11"
  },
  "pycharm": {
   "stem_cell": {
    "cell_type": "raw",
    "metadata": {
     "collapsed": false
    },
    "source": []
   }
  }
 },
 "nbformat": 4,
 "nbformat_minor": 4
}
