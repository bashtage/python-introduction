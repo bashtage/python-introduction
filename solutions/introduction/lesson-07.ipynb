{
 "cells": [
  {
   "cell_type": "markdown",
   "metadata": {},
   "source": [
    "# Custom Functions\n",
    "\n",
    "This lesson covers:\n",
    "\n",
    "* Writing a custom function "
   ]
  },
  {
   "cell_type": "markdown",
   "metadata": {},
   "source": [
    "## Problem: Writing a Custom Function\n",
    "Custom functions will play an important role later in the course when\n",
    "estimating parameters. Construct a custom function that takes two arguments,\n",
    "mu and sigma2 and computes the likelihood function of a normal random variable. \n",
    "\n",
    "$$f(x;\\mu,\\sigma^{2})=\\frac{1}{\\sqrt{2\\pi\\sigma^{2}}}\\exp\\left(-\\frac{(x-\\mu)^{2}}{2\\sigma^{2}}\\right)$$\n",
    "\n",
    "Use `def` to start the function and compute the likelihood of:\n",
    "\n",
    "$$x=0,\\mu=0,\\sigma^{2}=1.$$\n",
    "\n",
    "The text in the triple quotes is the docstring which is optional."
   ]
  },
  {
   "cell_type": "code",
   "execution_count": 1,
   "metadata": {},
   "outputs": [],
   "source": [
    "import numpy as np\n",
    "\n",
    "\n",
    "def normal_likelihood(x, mu, sigma2):\n",
    "    \"\"\"\n",
    "    Compute the normal likelihood for a scalar value\n",
    "\n",
    "    Parameters\n",
    "    ----------\n",
    "    x : float\n",
    "       The point ot evaluate\n",
    "    mu : float\n",
    "       The mean\n",
    "    sigma2 : float\n",
    "        The variance\n",
    "\n",
    "    Returns\n",
    "    -------\n",
    "    float\n",
    "        The likelihood value.\n",
    "    \"\"\"\n",
    "    a = 1 / np.sqrt((2 * np.pi * sigma2))\n",
    "    b = (x - mu) ** 2\n",
    "    c = 2 * sigma2\n",
    "    ll = a * np.exp(-b / c)\n",
    "    # Must call return to send a value back\n",
    "    return ll"
   ]
  },
  {
   "cell_type": "code",
   "execution_count": 2,
   "metadata": {},
   "outputs": [
    {
     "name": "stdout",
     "output_type": "stream",
     "text": [
      "0.3989422804014327\n"
     ]
    }
   ],
   "source": [
    "print(normal_likelihood(0, 0, 1))"
   ]
  },
  {
   "cell_type": "code",
   "execution_count": 3,
   "metadata": {},
   "outputs": [
    {
     "name": "stdout",
     "output_type": "stream",
     "text": [
      "0.3989422804014327\n"
     ]
    }
   ],
   "source": [
    "# Built into SciPy stats, should match\n",
    "import scipy.stats as stats\n",
    "\n",
    "print(stats.norm.pdf(0, 0, 1))"
   ]
  },
  {
   "cell_type": "markdown",
   "metadata": {},
   "source": [
    "## Exercises\n",
    "\n",
    "### Exercise: Custom Function\n",
    "\n",
    "Write a function named summary_stats that will take a single input, x,\n",
    "a DataFrame and return a DataFrame with 4 columns and as many rows as\n",
    "there were columns in the original data where the columns contain the mean,\n",
    "standard deviation, skewness and kurtosis of x.\n",
    "\n",
    "Check your function by running\n",
    "```python\n",
    "summary_stats(momentum)\n",
    "```"
   ]
  },
  {
   "cell_type": "code",
   "execution_count": 4,
   "metadata": {},
   "outputs": [],
   "source": [
    "# Setup: Load the momentum data\n",
    "import pandas as pd\n",
    "\n",
    "momentum = pd.read_csv(\"data\\\\momentum.csv\", index_col=\"date\", parse_dates=True)"
   ]
  },
  {
   "cell_type": "code",
   "execution_count": 5,
   "metadata": {},
   "outputs": [],
   "source": [
    "import pandas as pd\n",
    "\n",
    "\n",
    "def summary_stats(x):\n",
    "    mean = x.mean()\n",
    "    std = x.std()\n",
    "    skew = x.skew()\n",
    "    kurt = x.kurt()\n",
    "\n",
    "    index = [\"mean\", \"std\", \"skew\", \"kurt\"]\n",
    "    return pd.DataFrame([mean, std, skew, kurt], index=index)"
   ]
  },
  {
   "cell_type": "markdown",
   "metadata": {},
   "source": [
    "Test your function using the momentum data in the next cell."
   ]
  },
  {
   "cell_type": "code",
   "execution_count": 6,
   "metadata": {},
   "outputs": [
    {
     "data": {
      "text/html": [
       "<div>\n",
       "<style scoped>\n",
       "    .dataframe tbody tr th:only-of-type {\n",
       "        vertical-align: middle;\n",
       "    }\n",
       "\n",
       "    .dataframe tbody tr th {\n",
       "        vertical-align: top;\n",
       "    }\n",
       "\n",
       "    .dataframe thead th {\n",
       "        text-align: right;\n",
       "    }\n",
       "</style>\n",
       "<table border=\"1\" class=\"dataframe\">\n",
       "  <thead>\n",
       "    <tr style=\"text-align: right;\">\n",
       "      <th></th>\n",
       "      <th>mom_01</th>\n",
       "      <th>mom_02</th>\n",
       "      <th>mom_03</th>\n",
       "      <th>mom_04</th>\n",
       "      <th>mom_05</th>\n",
       "      <th>mom_06</th>\n",
       "      <th>mom_07</th>\n",
       "      <th>mom_08</th>\n",
       "      <th>mom_09</th>\n",
       "      <th>mom_10</th>\n",
       "    </tr>\n",
       "  </thead>\n",
       "  <tbody>\n",
       "    <tr>\n",
       "      <th>mean</th>\n",
       "      <td>0.101909</td>\n",
       "      <td>0.094811</td>\n",
       "      <td>0.089801</td>\n",
       "      <td>0.079145</td>\n",
       "      <td>0.069920</td>\n",
       "      <td>0.080775</td>\n",
       "      <td>0.051789</td>\n",
       "      <td>0.062604</td>\n",
       "      <td>0.042167</td>\n",
       "      <td>0.060954</td>\n",
       "    </tr>\n",
       "    <tr>\n",
       "      <th>std</th>\n",
       "      <td>1.720167</td>\n",
       "      <td>1.137837</td>\n",
       "      <td>0.921353</td>\n",
       "      <td>0.817660</td>\n",
       "      <td>0.755789</td>\n",
       "      <td>0.738880</td>\n",
       "      <td>0.708907</td>\n",
       "      <td>0.720382</td>\n",
       "      <td>0.773608</td>\n",
       "      <td>0.951415</td>\n",
       "    </tr>\n",
       "    <tr>\n",
       "      <th>skew</th>\n",
       "      <td>-0.107190</td>\n",
       "      <td>-0.548304</td>\n",
       "      <td>-0.320504</td>\n",
       "      <td>-0.320856</td>\n",
       "      <td>-0.549611</td>\n",
       "      <td>-0.537214</td>\n",
       "      <td>-0.534654</td>\n",
       "      <td>-0.452758</td>\n",
       "      <td>-0.390149</td>\n",
       "      <td>-0.769979</td>\n",
       "    </tr>\n",
       "    <tr>\n",
       "      <th>kurt</th>\n",
       "      <td>3.685894</td>\n",
       "      <td>3.683135</td>\n",
       "      <td>4.695792</td>\n",
       "      <td>4.023648</td>\n",
       "      <td>5.372107</td>\n",
       "      <td>5.983734</td>\n",
       "      <td>3.441098</td>\n",
       "      <td>2.284631</td>\n",
       "      <td>2.329995</td>\n",
       "      <td>2.647327</td>\n",
       "    </tr>\n",
       "  </tbody>\n",
       "</table>\n",
       "</div>"
      ],
      "text/plain": [
       "        mom_01    mom_02    mom_03    mom_04    mom_05    mom_06    mom_07  \\\n",
       "mean  0.101909  0.094811  0.089801  0.079145  0.069920  0.080775  0.051789   \n",
       "std   1.720167  1.137837  0.921353  0.817660  0.755789  0.738880  0.708907   \n",
       "skew -0.107190 -0.548304 -0.320504 -0.320856 -0.549611 -0.537214 -0.534654   \n",
       "kurt  3.685894  3.683135  4.695792  4.023648  5.372107  5.983734  3.441098   \n",
       "\n",
       "        mom_08    mom_09    mom_10  \n",
       "mean  0.062604  0.042167  0.060954  \n",
       "std   0.720382  0.773608  0.951415  \n",
       "skew -0.452758 -0.390149 -0.769979  \n",
       "kurt  2.284631  2.329995  2.647327  "
      ]
     },
     "execution_count": 6,
     "metadata": {},
     "output_type": "execute_result"
    }
   ],
   "source": [
    "summary_stats(momentum)"
   ]
  },
  {
   "cell_type": "markdown",
   "metadata": {},
   "source": [
    "### Exercise: Custom Function\n",
    "\n",
    "Change your previous function to return 4 outputs, each a pandas Series for the mean,\n",
    "standard deviation, skewness, and the kurtosis.\n",
    "\n",
    "Returning multiple outputs uses the syntax\n",
    "```python\n",
    "return w, x, y, z\n",
    "```\n",
    "\n",
    "Test your function using the momentum data."
   ]
  },
  {
   "cell_type": "code",
   "execution_count": 7,
   "metadata": {},
   "outputs": [],
   "source": [
    "def summary_stats(x):\n",
    "    mean = x.mean()\n",
    "    std = x.std()\n",
    "    skew = x.skew()\n",
    "    kurt = x.kurt()\n",
    "\n",
    "    mean.name = \"mean\"\n",
    "    std.name = \"std\"\n",
    "    skew.name = \"skew\"\n",
    "    kurt.name = \"kurt\"\n",
    "\n",
    "    return mean, std, skew, kurt"
   ]
  },
  {
   "cell_type": "markdown",
   "metadata": {},
   "source": [
    "Test your function using the momentum data in the next cell."
   ]
  },
  {
   "cell_type": "code",
   "execution_count": 8,
   "metadata": {
    "pycharm": {
     "name": "#%%\n"
    },
    "tags": []
   },
   "outputs": [
    {
     "name": "stdout",
     "output_type": "stream",
     "text": [
      "mom_01    0.101909\n",
      "mom_02    0.094811\n",
      "mom_03    0.089801\n",
      "mom_04    0.079145\n",
      "mom_05    0.069920\n",
      "mom_06    0.080775\n",
      "mom_07    0.051789\n",
      "mom_08    0.062604\n",
      "mom_09    0.042167\n",
      "mom_10    0.060954\n",
      "Name: mean, dtype: float64\n",
      "mom_01    1.720167\n",
      "mom_02    1.137837\n",
      "mom_03    0.921353\n",
      "mom_04    0.817660\n",
      "mom_05    0.755789\n",
      "mom_06    0.738880\n",
      "mom_07    0.708907\n",
      "mom_08    0.720382\n",
      "mom_09    0.773608\n",
      "mom_10    0.951415\n",
      "Name: std, dtype: float64\n",
      "mom_01   -0.107190\n",
      "mom_02   -0.548304\n",
      "mom_03   -0.320504\n",
      "mom_04   -0.320856\n",
      "mom_05   -0.549611\n",
      "mom_06   -0.537214\n",
      "mom_07   -0.534654\n",
      "mom_08   -0.452758\n",
      "mom_09   -0.390149\n",
      "mom_10   -0.769979\n",
      "Name: skew, dtype: float64\n",
      "mom_01    3.685894\n",
      "mom_02    3.683135\n",
      "mom_03    4.695792\n",
      "mom_04    4.023648\n",
      "mom_05    5.372107\n",
      "mom_06    5.983734\n",
      "mom_07    3.441098\n",
      "mom_08    2.284631\n",
      "mom_09    2.329995\n",
      "mom_10    2.647327\n",
      "Name: kurt, dtype: float64\n"
     ]
    }
   ],
   "source": [
    "mu, sigma, sk, k = summary_stats(momentum)\n",
    "print(mu)\n",
    "print(sigma)\n",
    "print(sk)\n",
    "print(k)"
   ]
  }
 ],
 "metadata": {
  "file_extension": ".py",
  "kernelspec": {
   "display_name": "Python 3 (ipykernel)",
   "language": "python",
   "name": "python3"
  },
  "language_info": {
   "codemirror_mode": {
    "name": "ipython",
    "version": 3
   },
   "file_extension": ".py",
   "mimetype": "text/x-python",
   "name": "python",
   "nbconvert_exporter": "python",
   "pygments_lexer": "ipython3",
   "version": "3.13.5"
  },
  "mimetype": "text/x-python",
  "name": "python",
  "npconvert_exporter": "python",
  "pycharm": {
   "stem_cell": {
    "cell_type": "raw",
    "metadata": {
     "collapsed": false
    },
    "source": []
   }
  },
  "pygments_lexer": "ipython3",
  "version": 3
 },
 "nbformat": 4,
 "nbformat_minor": 4
}
