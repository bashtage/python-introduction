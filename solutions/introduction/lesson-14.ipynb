{
 "cells": [
  {
   "cell_type": "markdown",
   "metadata": {},
   "source": [
    "# Logical Operators\n",
    "\n",
    "This lesson covers:\n",
    "\n",
    "* Basic logical operators \n",
    "* Compound operators \n"
   ]
  },
  {
   "cell_type": "code",
   "execution_count": 1,
   "metadata": {
    "collapsed": false,
    "execution": {
     "iopub.execute_input": "2025-08-27T07:32:40.830469Z",
     "iopub.status.busy": "2025-08-27T07:32:40.830469Z",
     "iopub.status.idle": "2025-08-27T07:32:40.911245Z",
     "shell.execute_reply": "2025-08-27T07:32:40.911245Z"
    },
    "jupyter": {
     "outputs_hidden": false
    },
    "pycharm": {
     "is_executing": false,
     "name": "#%%\n"
    }
   },
   "outputs": [],
   "source": [
    "# Setup: Reproducible random numbers\n",
    "\n",
    "import numpy as np\n",
    "\n",
    "rs = np.random.RandomState(20000101)"
   ]
  },
  {
   "cell_type": "markdown",
   "metadata": {},
   "source": [
    "## Problem: Basic Logical Statements\n",
    "\n",
    "Create the variables (in order)\n",
    "\n",
    "* `x` as `rs.random_sample()`, a uniform on $[0, 1)$\n",
    "* `y` as `rs.standard_normal()`, a standard normal ($N(0,1)$)\n",
    "* `z` as `rs.randint(1, 11)`, a uniform random integer on $[1, 2,\\ldots, 10]$\n",
    "\n",
    "Check whether each of these are above their expected value."
   ]
  },
  {
   "cell_type": "code",
   "execution_count": 2,
   "metadata": {
    "collapsed": false,
    "execution": {
     "iopub.execute_input": "2025-08-27T07:32:40.915355Z",
     "iopub.status.busy": "2025-08-27T07:32:40.914250Z",
     "iopub.status.idle": "2025-08-27T07:32:40.918734Z",
     "shell.execute_reply": "2025-08-27T07:32:40.918734Z"
    },
    "jupyter": {
     "outputs_hidden": false
    },
    "pycharm": {
     "is_executing": false,
     "name": "#%%\n"
    }
   },
   "outputs": [],
   "source": [
    "x = rs.random_sample()\n",
    "y = rs.standard_normal()\n",
    "z = rs.randint(1, 11)"
   ]
  },
  {
   "cell_type": "code",
   "execution_count": 3,
   "metadata": {
    "collapsed": false,
    "execution": {
     "iopub.execute_input": "2025-08-27T07:32:40.921742Z",
     "iopub.status.busy": "2025-08-27T07:32:40.920740Z",
     "iopub.status.idle": "2025-08-27T07:32:40.924947Z",
     "shell.execute_reply": "2025-08-27T07:32:40.924947Z"
    },
    "jupyter": {
     "outputs_hidden": false
    },
    "pycharm": {
     "is_executing": false,
     "name": "#%%\n"
    }
   },
   "outputs": [
    {
     "name": "stdout",
     "output_type": "stream",
     "text": [
      "x is above E[X]: False \n",
      "y is above E[Y]: True \n",
      "z is above E[Z]: True \n"
     ]
    }
   ],
   "source": [
    "print(f\"x is above E[X]: {x > 0.5} \")\n",
    "print(f\"y is above E[Y]: {y > 0.0} \")\n",
    "print(f\"z is above E[Z]: {z > 5.5} \")"
   ]
  },
  {
   "cell_type": "markdown",
   "metadata": {
    "pycharm": {
     "name": "#%% md\n"
    }
   },
   "source": [
    "## Problem: Using comparison operators\n",
    "\n",
    "1. Check if `z` is 7\n",
    "2. Check is `z` is not 5\n",
    "3. Check if `z` is greater than or equal to 9"
   ]
  },
  {
   "cell_type": "code",
   "execution_count": 4,
   "metadata": {
    "collapsed": false,
    "execution": {
     "iopub.execute_input": "2025-08-27T07:32:40.927954Z",
     "iopub.status.busy": "2025-08-27T07:32:40.926954Z",
     "iopub.status.idle": "2025-08-27T07:32:40.931296Z",
     "shell.execute_reply": "2025-08-27T07:32:40.931296Z"
    },
    "jupyter": {
     "outputs_hidden": false
    },
    "pycharm": {
     "is_executing": false,
     "name": "#%%\n"
    }
   },
   "outputs": [
    {
     "name": "stdout",
     "output_type": "stream",
     "text": [
      "z is 7: False\n",
      "z is not 5: True\n",
      "z is >= 9: False\n"
     ]
    }
   ],
   "source": [
    "print(f\"z is 7: {z == 7}\")\n",
    "print(f\"z is not 5: {z != 5}\")\n",
    "print(f\"z is >= 9: {z >= 9}\")"
   ]
  },
  {
   "cell_type": "markdown",
   "metadata": {
    "pycharm": {
     "is_executing": false,
     "name": "#%% md\n"
    }
   },
   "source": [
    "## Problem: Combining booleans \n",
    "\n",
    "1. Determine if $2\\leq z < 8$\n",
    "2. Determine if $z < 2 \\cup z \\geq 8$ using `or`\n",
    "3. Rewrite 2 using `not` and your result from 1."
   ]
  },
  {
   "cell_type": "code",
   "execution_count": 5,
   "metadata": {
    "collapsed": false,
    "execution": {
     "iopub.execute_input": "2025-08-27T07:32:40.933302Z",
     "iopub.status.busy": "2025-08-27T07:32:40.933302Z",
     "iopub.status.idle": "2025-08-27T07:32:40.937211Z",
     "shell.execute_reply": "2025-08-27T07:32:40.937211Z"
    },
    "jupyter": {
     "outputs_hidden": false
    },
    "pycharm": {
     "is_executing": false,
     "name": "#%%\n"
    }
   },
   "outputs": [
    {
     "name": "stdout",
     "output_type": "stream",
     "text": [
      "2<=z<8: False\n",
      "z<2 or z>= 8: True\n",
      "z<2 or z>= 8: True\n"
     ]
    }
   ],
   "source": [
    "print(f\"2<=z<8: {((z>= 2) and (z<8))}\")\n",
    "print(f\"z<2 or z>= 8: {((z< 2) or (z>=8))}\")\n",
    "print(f\"z<2 or z>= 8: {not ((z>= 2) and (z<8))}\")"
   ]
  },
  {
   "cell_type": "markdown",
   "metadata": {
    "pycharm": {
     "name": "#%% md\n"
    }
   },
   "source": [
    "## Exercises"
   ]
  },
  {
   "cell_type": "code",
   "execution_count": 6,
   "metadata": {
    "collapsed": false,
    "execution": {
     "iopub.execute_input": "2025-08-27T07:32:40.939215Z",
     "iopub.status.busy": "2025-08-27T07:32:40.939215Z",
     "iopub.status.idle": "2025-08-27T07:32:40.943034Z",
     "shell.execute_reply": "2025-08-27T07:32:40.943034Z"
    },
    "jupyter": {
     "outputs_hidden": false
    },
    "pycharm": {
     "is_executing": false,
     "name": "#%%\n"
    }
   },
   "outputs": [],
   "source": [
    "# Setup: Data for Exercise\n",
    "import numpy as np\n",
    "\n",
    "rs = np.random.RandomState(19991213)\n",
    "\n",
    "# Like range, lower included, upper excluded\n",
    "# u in (0, 1, 2, ..., 5)\n",
    "u = rs.randint(0, 6)\n",
    "# v in (-2, -1, 0, 1, 2)\n",
    "v = rs.randint(-2, 3)"
   ]
  },
  {
   "cell_type": "code",
   "execution_count": null,
   "metadata": {
    "collapsed": false,
    "jupyter": {
     "outputs_hidden": false
    },
    "pycharm": {
     "name": "#%%\n"
    }
   },
   "outputs": [],
   "source": []
  },
  {
   "cell_type": "markdown",
   "metadata": {
    "pycharm": {
     "name": "#%% md\n"
    }
   },
   "source": [
    "### Exercise\n",
    "Is the product $uv$ 0 and only one of $u$ and $v$ is 0?"
   ]
  },
  {
   "cell_type": "code",
   "execution_count": 7,
   "metadata": {
    "collapsed": false,
    "execution": {
     "iopub.execute_input": "2025-08-27T07:32:40.944808Z",
     "iopub.status.busy": "2025-08-27T07:32:40.944808Z",
     "iopub.status.idle": "2025-08-27T07:32:40.952259Z",
     "shell.execute_reply": "2025-08-27T07:32:40.951910Z"
    },
    "jupyter": {
     "outputs_hidden": false
    },
    "pycharm": {
     "is_executing": false,
     "name": "#%%\n"
    }
   },
   "outputs": [
    {
     "data": {
      "text/plain": [
       "True"
      ]
     },
     "execution_count": 7,
     "metadata": {},
     "output_type": "execute_result"
    }
   ],
   "source": [
    "# First part is redundant\n",
    "(u * v == 0) and ((u == 0 and v != 0) or (u != 0 and v == 0))"
   ]
  },
  {
   "cell_type": "code",
   "execution_count": 8,
   "metadata": {
    "collapsed": false,
    "execution": {
     "iopub.execute_input": "2025-08-27T07:32:40.952259Z",
     "iopub.status.busy": "2025-08-27T07:32:40.952259Z",
     "iopub.status.idle": "2025-08-27T07:32:40.958763Z",
     "shell.execute_reply": "2025-08-27T07:32:40.958763Z"
    },
    "jupyter": {
     "outputs_hidden": false
    },
    "pycharm": {
     "is_executing": false,
     "name": "#%%\n"
    }
   },
   "outputs": [
    {
     "data": {
      "text/plain": [
       "True"
      ]
     },
     "execution_count": 8,
     "metadata": {},
     "output_type": "execute_result"
    }
   ],
   "source": [
    "(u == 0 and v != 0) or (u != 0 and v == 0)"
   ]
  },
  {
   "cell_type": "markdown",
   "metadata": {},
   "source": [
    "### Exercise\n",
    "\n",
    "Write three logical statements that will determine if $0\\leq u \\leq 2$ and $0\\leq v \\leq 2$. "
   ]
  },
  {
   "cell_type": "code",
   "execution_count": 9,
   "metadata": {
    "collapsed": false,
    "execution": {
     "iopub.execute_input": "2025-08-27T07:32:40.958763Z",
     "iopub.status.busy": "2025-08-27T07:32:40.958763Z",
     "iopub.status.idle": "2025-08-27T07:32:40.966264Z",
     "shell.execute_reply": "2025-08-27T07:32:40.966264Z"
    },
    "jupyter": {
     "outputs_hidden": false
    },
    "pycharm": {
     "is_executing": false,
     "name": "#%%\n"
    }
   },
   "outputs": [
    {
     "data": {
      "text/plain": [
       "True"
      ]
     },
     "execution_count": 9,
     "metadata": {},
     "output_type": "execute_result"
    }
   ],
   "source": [
    "(u >= 0 and u <= 2) and (v >= 0 and v <= 2)"
   ]
  },
  {
   "cell_type": "code",
   "execution_count": 10,
   "metadata": {
    "collapsed": false,
    "execution": {
     "iopub.execute_input": "2025-08-27T07:32:40.968846Z",
     "iopub.status.busy": "2025-08-27T07:32:40.968846Z",
     "iopub.status.idle": "2025-08-27T07:32:40.972851Z",
     "shell.execute_reply": "2025-08-27T07:32:40.972851Z"
    },
    "jupyter": {
     "outputs_hidden": false
    },
    "pycharm": {
     "is_executing": false,
     "name": "#%%\n"
    }
   },
   "outputs": [
    {
     "data": {
      "text/plain": [
       "True"
      ]
     },
     "execution_count": 10,
     "metadata": {},
     "output_type": "execute_result"
    }
   ],
   "source": [
    "(not (u < 0 or u > 2)) and (not (v < 0 or v > 2))"
   ]
  },
  {
   "cell_type": "code",
   "execution_count": 11,
   "metadata": {
    "collapsed": false,
    "execution": {
     "iopub.execute_input": "2025-08-27T07:32:40.974980Z",
     "iopub.status.busy": "2025-08-27T07:32:40.974980Z",
     "iopub.status.idle": "2025-08-27T07:32:40.980046Z",
     "shell.execute_reply": "2025-08-27T07:32:40.979402Z"
    },
    "jupyter": {
     "outputs_hidden": false
    },
    "pycharm": {
     "is_executing": false,
     "name": "#%%\n"
    },
    "tags": []
   },
   "outputs": [
    {
     "data": {
      "text/plain": [
       "True"
      ]
     },
     "execution_count": 11,
     "metadata": {},
     "output_type": "execute_result"
    }
   ],
   "source": [
    "not (u < 0 or u > 2 or v < 0 or v > 2)"
   ]
  }
 ],
 "metadata": {
  "kernelspec": {
   "display_name": "Python 3 (ipykernel)",
   "language": "python",
   "name": "python3"
  },
  "language_info": {
   "codemirror_mode": {
    "name": "ipython",
    "version": 3
   },
   "file_extension": ".py",
   "mimetype": "text/x-python",
   "name": "python",
   "nbconvert_exporter": "python",
   "pygments_lexer": "ipython3",
   "version": "3.12.11"
  },
  "pycharm": {
   "stem_cell": {
    "cell_type": "raw",
    "metadata": {
     "collapsed": false
    },
    "source": []
   }
  }
 },
 "nbformat": 4,
 "nbformat_minor": 4
}
