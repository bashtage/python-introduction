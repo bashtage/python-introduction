{
 "cells": [
  {
   "cell_type": "markdown",
   "metadata": {},
   "source": [
    "# Custom Functions\n",
    "\n",
    "This lesson covers:\n",
    "\n",
    "* Writing a custom function "
   ]
  },
  {
   "cell_type": "markdown",
   "metadata": {},
   "source": [
    "## Problem: Writing a Custom Function\n",
    "Custom functions will play an important role later in the course when\n",
    "estimating parameters. Construct a custom function that takes two arguments,\n",
    "mu and sigma2 and computes the likelihood function of a normal random variable. \n",
    "\n",
    "$$f(x;\\mu,\\sigma^{2})=\\frac{1}{\\sqrt{2\\pi\\sigma^{2}}}\\exp\\left(-\\frac{(x-\\mu)^{2}}{2\\sigma^{2}}\\right)$$\n",
    "\n",
    "Use `def` to start the function and compute the likelihood of:\n",
    "\n",
    "$$x=0,\\mu=0,\\sigma^{2}=1.$$\n",
    "\n",
    "The text in the triple quotes is the docstring which is optional."
   ]
  },
  {
   "cell_type": "code",
   "execution_count": null,
   "metadata": {
    "execution": {
     "iopub.execute_input": "2025-08-27T07:32:17.099264Z",
     "iopub.status.busy": "2025-08-27T07:32:17.099264Z",
     "iopub.status.idle": "2025-08-27T07:32:17.164233Z",
     "shell.execute_reply": "2025-08-27T07:32:17.164233Z"
    }
   },
   "outputs": [],
   "source": []
  },
  {
   "cell_type": "code",
   "execution_count": null,
   "metadata": {
    "execution": {
     "iopub.execute_input": "2025-08-27T07:32:17.164233Z",
     "iopub.status.busy": "2025-08-27T07:32:17.164233Z",
     "iopub.status.idle": "2025-08-27T07:32:17.169080Z",
     "shell.execute_reply": "2025-08-27T07:32:17.169080Z"
    }
   },
   "outputs": [],
   "source": []
  },
  {
   "cell_type": "code",
   "execution_count": null,
   "metadata": {
    "execution": {
     "iopub.execute_input": "2025-08-27T07:32:17.169080Z",
     "iopub.status.busy": "2025-08-27T07:32:17.169080Z",
     "iopub.status.idle": "2025-08-27T07:32:17.759458Z",
     "shell.execute_reply": "2025-08-27T07:32:17.759458Z"
    }
   },
   "outputs": [],
   "source": []
  },
  {
   "cell_type": "markdown",
   "metadata": {},
   "source": [
    "## Exercises\n",
    "\n",
    "### Exercise: Custom Function\n",
    "\n",
    "Write a function named summary_stats that will take a single input, x,\n",
    "a DataFrame and return a DataFrame with 4 columns and as many rows as\n",
    "there were columns in the original data where the columns contain the mean,\n",
    "standard deviation, skewness and kurtosis of x.\n",
    "\n",
    "Check your function by running\n",
    "```python\n",
    "summary_stats(momentum)\n",
    "```"
   ]
  },
  {
   "cell_type": "code",
   "execution_count": null,
   "metadata": {
    "execution": {
     "iopub.execute_input": "2025-08-27T07:32:17.761205Z",
     "iopub.status.busy": "2025-08-27T07:32:17.761205Z",
     "iopub.status.idle": "2025-08-27T07:32:17.995000Z",
     "shell.execute_reply": "2025-08-27T07:32:17.995000Z"
    }
   },
   "outputs": [],
   "source": [
    "# Setup: Load the momentum data\n",
    "import pandas as pd\n",
    "\n",
    "momentum = pd.read_csv(\"data\\momentum.csv\", index_col=\"date\", parse_dates=True)"
   ]
  },
  {
   "cell_type": "code",
   "execution_count": null,
   "metadata": {
    "execution": {
     "iopub.execute_input": "2025-08-27T07:32:17.995000Z",
     "iopub.status.busy": "2025-08-27T07:32:17.995000Z",
     "iopub.status.idle": "2025-08-27T07:32:18.000102Z",
     "shell.execute_reply": "2025-08-27T07:32:18.000102Z"
    }
   },
   "outputs": [],
   "source": []
  },
  {
   "cell_type": "markdown",
   "metadata": {},
   "source": [
    "Test your function using the momentum data in the next cell."
   ]
  },
  {
   "cell_type": "code",
   "execution_count": null,
   "metadata": {
    "execution": {
     "iopub.execute_input": "2025-08-27T07:32:18.000102Z",
     "iopub.status.busy": "2025-08-27T07:32:18.000102Z",
     "iopub.status.idle": "2025-08-27T07:32:18.015921Z",
     "shell.execute_reply": "2025-08-27T07:32:18.015921Z"
    }
   },
   "outputs": [],
   "source": []
  },
  {
   "cell_type": "markdown",
   "metadata": {},
   "source": [
    "### Exercise: Custom Function\n",
    "\n",
    "Change your previous function to return 4 outputs, each a pandas Series for the mean,\n",
    "standard deviation, skewness, and the kurtosis.\n",
    "\n",
    "Returning multiple outputs uses the syntax\n",
    "```python\n",
    "return w, x, y, z\n",
    "```\n",
    "\n",
    "Test your function using the momentum data."
   ]
  },
  {
   "cell_type": "code",
   "execution_count": null,
   "metadata": {
    "execution": {
     "iopub.execute_input": "2025-08-27T07:32:18.015921Z",
     "iopub.status.busy": "2025-08-27T07:32:18.015921Z",
     "iopub.status.idle": "2025-08-27T07:32:18.020701Z",
     "shell.execute_reply": "2025-08-27T07:32:18.020701Z"
    }
   },
   "outputs": [],
   "source": []
  },
  {
   "cell_type": "markdown",
   "metadata": {},
   "source": [
    "Test your function using the momentum data in the next cell."
   ]
  },
  {
   "cell_type": "code",
   "execution_count": null,
   "metadata": {
    "execution": {
     "iopub.execute_input": "2025-08-27T07:32:18.020701Z",
     "iopub.status.busy": "2025-08-27T07:32:18.020701Z",
     "iopub.status.idle": "2025-08-27T07:32:18.028030Z",
     "shell.execute_reply": "2025-08-27T07:32:18.028030Z"
    },
    "tags": []
   },
   "outputs": [],
   "source": []
  }
 ],
 "metadata": {
  "file_extension": ".py",
  "kernelspec": {
   "display_name": "Python 3 (ipykernel)",
   "language": "python",
   "name": "python3"
  },
  "language_info": {
   "codemirror_mode": {
    "name": "ipython",
    "version": 3
   },
   "file_extension": ".py",
   "mimetype": "text/x-python",
   "name": "python",
   "nbconvert_exporter": "python",
   "pygments_lexer": "ipython3",
   "version": "3.12.11"
  },
  "mimetype": "text/x-python",
  "name": "python",
  "npconvert_exporter": "python",
  "pycharm": {
   "stem_cell": {
    "cell_type": "raw",
    "metadata": {
     "collapsed": false
    },
    "source": []
   }
  },
  "pygments_lexer": "ipython3",
  "version": 3
 },
 "nbformat": 4,
 "nbformat_minor": 4
}
