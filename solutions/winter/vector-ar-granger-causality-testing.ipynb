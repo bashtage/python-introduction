{
 "cells": [
  {
   "cell_type": "markdown",
   "metadata": {
    "pycharm": {
     "name": "#%% md\n"
    }
   },
   "source": [
    "## Granger Causality Testing\n",
    "\n",
    "**Functions**\n",
    "\n",
    "`VARResults.test_causality`\n",
    "\n",
    "### Exercise 92\n",
    "Using the data and the models selected in the previous exercise, is there evidence of Granger Causality between the series?"
   ]
  },
  {
   "cell_type": "code",
   "execution_count": 1,
   "metadata": {
    "collapsed": false,
    "jupyter": {
     "outputs_hidden": false
    },
    "pycharm": {
     "is_executing": false,
     "name": "#%%\n"
    }
   },
   "outputs": [],
   "source": [
    "import pandas as pd\n",
    "import statsmodels.tsa.api as tsa\n",
    "\n",
    "data = pd.read_hdf(\"./data/var-data.h5\", \"var_data\")\n",
    "var_data = data[[\"spread\", \"gs1\", \"deflg\"]]\n",
    "mod = tsa.VAR(var_data)\n",
    "res = mod.fit(2, ic=None)"
   ]
  },
  {
   "cell_type": "code",
   "execution_count": 2,
   "metadata": {
    "collapsed": false,
    "jupyter": {
     "outputs_hidden": false
    },
    "pycharm": {
     "is_executing": false,
     "name": "#%%\n"
    }
   },
   "outputs": [
    {
     "data": {
      "text/html": [
       "<div>\n",
       "<style scoped>\n",
       "    .dataframe tbody tr th:only-of-type {\n",
       "        vertical-align: middle;\n",
       "    }\n",
       "\n",
       "    .dataframe tbody tr th {\n",
       "        vertical-align: top;\n",
       "    }\n",
       "\n",
       "    .dataframe thead th {\n",
       "        text-align: right;\n",
       "    }\n",
       "</style>\n",
       "<table border=\"1\" class=\"dataframe\">\n",
       "  <thead>\n",
       "    <tr style=\"text-align: right;\">\n",
       "      <th></th>\n",
       "      <th></th>\n",
       "      <th>Test Stat</th>\n",
       "      <th>PValue</th>\n",
       "    </tr>\n",
       "    <tr>\n",
       "      <th>caused</th>\n",
       "      <th>causing</th>\n",
       "      <th></th>\n",
       "      <th></th>\n",
       "    </tr>\n",
       "  </thead>\n",
       "  <tbody>\n",
       "    <tr>\n",
       "      <th rowspan=\"2\" valign=\"top\">spread</th>\n",
       "      <th>gs1</th>\n",
       "      <td>2.182779</td>\n",
       "      <td>0.113424</td>\n",
       "    </tr>\n",
       "    <tr>\n",
       "      <th>deflg</th>\n",
       "      <td>2.446992</td>\n",
       "      <td>0.087225</td>\n",
       "    </tr>\n",
       "    <tr>\n",
       "      <th rowspan=\"2\" valign=\"top\">gs1</th>\n",
       "      <th>spread</th>\n",
       "      <td>0.817780</td>\n",
       "      <td>0.441793</td>\n",
       "    </tr>\n",
       "    <tr>\n",
       "      <th>deflg</th>\n",
       "      <td>6.826381</td>\n",
       "      <td>0.001152</td>\n",
       "    </tr>\n",
       "    <tr>\n",
       "      <th rowspan=\"2\" valign=\"top\">deflg</th>\n",
       "      <th>spread</th>\n",
       "      <td>0.628702</td>\n",
       "      <td>0.533557</td>\n",
       "    </tr>\n",
       "    <tr>\n",
       "      <th>gs1</th>\n",
       "      <td>1.488053</td>\n",
       "      <td>0.226460</td>\n",
       "    </tr>\n",
       "  </tbody>\n",
       "</table>\n",
       "</div>"
      ],
      "text/plain": [
       "                Test Stat    PValue\n",
       "caused causing                     \n",
       "spread gs1       2.182779  0.113424\n",
       "       deflg     2.446992  0.087225\n",
       "gs1    spread    0.817780  0.441793\n",
       "       deflg     6.826381  0.001152\n",
       "deflg  spread    0.628702  0.533557\n",
       "       gs1       1.488053  0.226460"
      ]
     },
     "execution_count": 2,
     "metadata": {},
     "output_type": "execute_result"
    }
   ],
   "source": [
    "gc = {}\n",
    "for caused in var_data:\n",
    "    for causing in var_data:\n",
    "        if caused == causing:\n",
    "            continue\n",
    "        test_res = res.test_causality(caused, causing)\n",
    "        gc[(caused, causing)] = [test_res.test_statistic, test_res.pvalue]\n",
    "\n",
    "gc = pd.DataFrame(gc).T\n",
    "gc.columns = [\"Test Stat\", \"PValue\"]\n",
    "gc.index = gc.index.set_names([\"caused\", \"causing\"])\n",
    "gc"
   ]
  },
  {
   "cell_type": "markdown",
   "metadata": {
    "pycharm": {
     "name": "#%% md\n"
    }
   },
   "source": [
    "#### Explanation\n",
    "\n",
    "Using a VAR(2), we see that deflator growth Granger causes GS1, indicating\n",
    "that the restriction on the coefficients is rejected. Deflator growth\n",
    "also appears to GC spread but only if using a 10% test. Since the Term\n",
    "spread is never caused or causes (at least at the 5% level), it could\n",
    "be plausible excluded from this model."
   ]
  },
  {
   "cell_type": "markdown",
   "metadata": {
    "pycharm": {
     "name": "#%% md\n"
    }
   },
   "source": [
    "### Exercise 93\n",
    "What if the 10 year and the 1 year are both used, but the spread is omitted?"
   ]
  },
  {
   "cell_type": "code",
   "execution_count": 3,
   "metadata": {
    "collapsed": false,
    "jupyter": {
     "outputs_hidden": false
    },
    "pycharm": {
     "name": "#%%\n"
    }
   },
   "outputs": [
    {
     "data": {
      "text/html": [
       "<div>\n",
       "<style scoped>\n",
       "    .dataframe tbody tr th:only-of-type {\n",
       "        vertical-align: middle;\n",
       "    }\n",
       "\n",
       "    .dataframe tbody tr th {\n",
       "        vertical-align: top;\n",
       "    }\n",
       "\n",
       "    .dataframe thead th {\n",
       "        text-align: right;\n",
       "    }\n",
       "</style>\n",
       "<table border=\"1\" class=\"dataframe\">\n",
       "  <thead>\n",
       "    <tr style=\"text-align: right;\">\n",
       "      <th></th>\n",
       "      <th></th>\n",
       "      <th>Test Stat</th>\n",
       "      <th>PValue</th>\n",
       "    </tr>\n",
       "    <tr>\n",
       "      <th>caused</th>\n",
       "      <th>causing</th>\n",
       "      <th></th>\n",
       "      <th></th>\n",
       "    </tr>\n",
       "  </thead>\n",
       "  <tbody>\n",
       "    <tr>\n",
       "      <th rowspan=\"2\" valign=\"top\">gs10</th>\n",
       "      <th>gs1</th>\n",
       "      <td>0.240809</td>\n",
       "      <td>0.786051</td>\n",
       "    </tr>\n",
       "    <tr>\n",
       "      <th>deflg</th>\n",
       "      <td>6.651588</td>\n",
       "      <td>0.001367</td>\n",
       "    </tr>\n",
       "    <tr>\n",
       "      <th rowspan=\"2\" valign=\"top\">gs1</th>\n",
       "      <th>gs10</th>\n",
       "      <td>0.817780</td>\n",
       "      <td>0.441793</td>\n",
       "    </tr>\n",
       "    <tr>\n",
       "      <th>deflg</th>\n",
       "      <td>6.826381</td>\n",
       "      <td>0.001152</td>\n",
       "    </tr>\n",
       "    <tr>\n",
       "      <th rowspan=\"2\" valign=\"top\">deflg</th>\n",
       "      <th>gs10</th>\n",
       "      <td>0.628702</td>\n",
       "      <td>0.533557</td>\n",
       "    </tr>\n",
       "    <tr>\n",
       "      <th>gs1</th>\n",
       "      <td>4.501112</td>\n",
       "      <td>0.011390</td>\n",
       "    </tr>\n",
       "  </tbody>\n",
       "</table>\n",
       "</div>"
      ],
      "text/plain": [
       "                Test Stat    PValue\n",
       "caused causing                     \n",
       "gs10   gs1       0.240809  0.786051\n",
       "       deflg     6.651588  0.001367\n",
       "gs1    gs10      0.817780  0.441793\n",
       "       deflg     6.826381  0.001152\n",
       "deflg  gs10      0.628702  0.533557\n",
       "       gs1       4.501112  0.011390"
      ]
     },
     "execution_count": 3,
     "metadata": {},
     "output_type": "execute_result"
    }
   ],
   "source": [
    "var_data = data[[\"gs10\", \"gs1\", \"deflg\"]]\n",
    "mod = tsa.VAR(var_data)\n",
    "res = mod.fit(2, ic=None)\n",
    "\n",
    "gc = {}\n",
    "for caused in var_data:\n",
    "    for causing in var_data:\n",
    "        if caused == causing:\n",
    "            continue\n",
    "        test_res = res.test_causality(caused, causing)\n",
    "        gc[(caused, causing)] = [test_res.test_statistic, test_res.pvalue]\n",
    "\n",
    "gc = pd.DataFrame(gc).T\n",
    "gc.columns = [\"Test Stat\", \"PValue\"]\n",
    "gc.index = gc.index.set_names([\"caused\", \"causing\"])\n",
    "gc"
   ]
  },
  {
   "cell_type": "markdown",
   "metadata": {
    "pycharm": {
     "name": "#%% md\n"
    }
   },
   "source": [
    "#### Explanation\n",
    "\n",
    "Using a model that is equivalent to the first specification but with a\n",
    "different parameterization produces different results. This occurs since\n",
    "we are changing both the dependent and the regressor."
   ]
  }
 ],
 "metadata": {
  "kernelspec": {
   "display_name": "Python 3 (ipykernel)",
   "language": "python",
   "name": "python3"
  },
  "language_info": {
   "codemirror_mode": {
    "name": "ipython",
    "version": 3
   },
   "file_extension": ".py",
   "mimetype": "text/x-python",
   "name": "python",
   "nbconvert_exporter": "python",
   "pygments_lexer": "ipython3",
   "version": "3.13.5"
  }
 },
 "nbformat": 4,
 "nbformat_minor": 4
}
