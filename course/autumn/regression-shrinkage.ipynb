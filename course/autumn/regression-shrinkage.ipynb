{
 "cells": [
  {
   "cell_type": "markdown",
   "metadata": {},
   "source": [
    "## Linear Regression: Ridge Regression and LASSO\n",
    "\n",
    "**Functions**\n",
    "\n",
    "`sklearn.linear_model.RidgeCV`, `sklearn.linear_model.LassoCV`, `sklearn.preprocessing.StandardScaler`\n"
   ]
  },
  {
   "cell_type": "code",
   "execution_count": null,
   "metadata": {
    "execution": {
     "iopub.execute_input": "2025-08-26T16:43:41.511244Z",
     "iopub.status.busy": "2025-08-26T16:43:41.511244Z",
     "iopub.status.idle": "2025-08-26T16:43:42.682414Z",
     "shell.execute_reply": "2025-08-26T16:43:42.681406Z"
    }
   },
   "outputs": [],
   "source": []
  },
  {
   "cell_type": "markdown",
   "metadata": {},
   "source": [
    "### Exercise 49\n",
    "\n",
    "Standardize the value-weighted-market return data and the 12 industry portfolios by their standard deviation. You should _not_ remove the mean since we want to match the mean in the tracking portfolio."
   ]
  },
  {
   "cell_type": "code",
   "execution_count": null,
   "metadata": {
    "execution": {
     "iopub.execute_input": "2025-08-26T16:43:42.683414Z",
     "iopub.status.busy": "2025-08-26T16:43:42.683414Z",
     "iopub.status.idle": "2025-08-26T16:43:42.727252Z",
     "shell.execute_reply": "2025-08-26T16:43:42.727252Z"
    }
   },
   "outputs": [],
   "source": []
  },
  {
   "cell_type": "markdown",
   "metadata": {},
   "source": [
    "### Exercise 50\n",
    "\n",
    "Select the optimal tuning parameter in a LASSO and estimate model parameters for the tracking error minimizing portfolio using the standardized data."
   ]
  },
  {
   "cell_type": "code",
   "execution_count": null,
   "metadata": {
    "execution": {
     "iopub.execute_input": "2025-08-26T16:43:42.743650Z",
     "iopub.status.busy": "2025-08-26T16:43:42.743650Z",
     "iopub.status.idle": "2025-08-26T16:43:42.797709Z",
     "shell.execute_reply": "2025-08-26T16:43:42.797709Z"
    }
   },
   "outputs": [],
   "source": []
  },
  {
   "cell_type": "markdown",
   "metadata": {},
   "source": [
    "### Exercise 51\n",
    "\n",
    "Transform the estimated LASSO coefficients back to the scale of the original, non-standardized data."
   ]
  },
  {
   "cell_type": "code",
   "execution_count": null,
   "metadata": {
    "execution": {
     "iopub.execute_input": "2025-08-26T16:43:42.799718Z",
     "iopub.status.busy": "2025-08-26T16:43:42.799718Z",
     "iopub.status.idle": "2025-08-26T16:43:42.805702Z",
     "shell.execute_reply": "2025-08-26T16:43:42.805702Z"
    }
   },
   "outputs": [],
   "source": []
  },
  {
   "cell_type": "markdown",
   "metadata": {},
   "source": [
    "### Exercise 52\n",
    "\n",
    "Select the optimal tuning parameter in a Ridge regression and estimate model parameters for the tracking error minimizing portfolio using the standardized data."
   ]
  },
  {
   "cell_type": "code",
   "execution_count": null,
   "metadata": {
    "execution": {
     "iopub.execute_input": "2025-08-26T16:43:42.805702Z",
     "iopub.status.busy": "2025-08-26T16:43:42.805702Z",
     "iopub.status.idle": "2025-08-26T16:43:42.818840Z",
     "shell.execute_reply": "2025-08-26T16:43:42.818330Z"
    }
   },
   "outputs": [],
   "source": []
  },
  {
   "cell_type": "markdown",
   "metadata": {},
   "source": [
    "### Exercise 53\n",
    "\n",
    "Transform the estimated Ridge regression coefficients back to the scale of the original, non-standardized data."
   ]
  },
  {
   "cell_type": "code",
   "execution_count": null,
   "metadata": {
    "execution": {
     "iopub.execute_input": "2025-08-26T16:43:42.892676Z",
     "iopub.status.busy": "2025-08-26T16:43:42.890123Z",
     "iopub.status.idle": "2025-08-26T16:43:42.897820Z",
     "shell.execute_reply": "2025-08-26T16:43:42.897820Z"
    }
   },
   "outputs": [],
   "source": []
  },
  {
   "cell_type": "markdown",
   "metadata": {},
   "source": [
    "### Exercise 54\n",
    "\n",
    "Compare the parameter estimates from the LASSO and Ridge regression to those from OLS in a plot. Use the original, non-standardized data."
   ]
  },
  {
   "cell_type": "code",
   "execution_count": null,
   "metadata": {
    "execution": {
     "iopub.execute_input": "2025-08-26T16:43:42.897820Z",
     "iopub.status.busy": "2025-08-26T16:43:42.897820Z",
     "iopub.status.idle": "2025-08-26T16:43:43.883351Z",
     "shell.execute_reply": "2025-08-26T16:43:43.882842Z"
    }
   },
   "outputs": [],
   "source": []
  },
  {
   "cell_type": "markdown",
   "metadata": {},
   "source": [
    "### Exercise 55\n",
    "\n",
    "Use scikit-learn to scale the standardize the data by changing the scale but not the mean.\n"
   ]
  },
  {
   "cell_type": "code",
   "execution_count": null,
   "metadata": {
    "execution": {
     "iopub.execute_input": "2025-08-26T16:43:43.893658Z",
     "iopub.status.busy": "2025-08-26T16:43:43.893658Z",
     "iopub.status.idle": "2025-08-26T16:43:43.970023Z",
     "shell.execute_reply": "2025-08-26T16:43:43.970023Z"
    }
   },
   "outputs": [],
   "source": []
  },
  {
   "cell_type": "markdown",
   "metadata": {},
   "source": [
    "### Exercise 56\n",
    "\n",
    "Use the scikit-learn scaler to compute the predicted in-sample values using the Ridge ridge regression."
   ]
  },
  {
   "cell_type": "code",
   "execution_count": null,
   "metadata": {
    "execution": {
     "iopub.execute_input": "2025-08-26T16:43:43.970023Z",
     "iopub.status.busy": "2025-08-26T16:43:43.970023Z",
     "iopub.status.idle": "2025-08-26T16:43:43.977873Z",
     "shell.execute_reply": "2025-08-26T16:43:43.977873Z"
    }
   },
   "outputs": [],
   "source": []
  },
  {
   "cell_type": "markdown",
   "metadata": {},
   "source": [
    "### Exercise 57\n",
    "\n",
    "Use the scalar from scikit-learn to produce out-of-sample forecasts of the two shrinkage estimators and OLS and evaluate the out-of-sample SSE.\n"
   ]
  },
  {
   "cell_type": "code",
   "execution_count": null,
   "metadata": {
    "execution": {
     "iopub.execute_input": "2025-08-26T16:43:43.979881Z",
     "iopub.status.busy": "2025-08-26T16:43:43.979881Z",
     "iopub.status.idle": "2025-08-26T16:43:43.985266Z",
     "shell.execute_reply": "2025-08-26T16:43:43.985266Z"
    }
   },
   "outputs": [],
   "source": []
  },
  {
   "cell_type": "markdown",
   "metadata": {},
   "source": [
    "### Exercise 58\n",
    "\n",
    "Directly produce out-of-sample forecasts of the two shrinkage estimators and OLS and evaluate the out-of-sample SSE without using scikit-learn.\n"
   ]
  },
  {
   "cell_type": "code",
   "execution_count": null,
   "metadata": {
    "execution": {
     "iopub.execute_input": "2025-08-26T16:43:44.012318Z",
     "iopub.status.busy": "2025-08-26T16:43:44.012318Z",
     "iopub.status.idle": "2025-08-26T16:43:44.018341Z",
     "shell.execute_reply": "2025-08-26T16:43:44.018341Z"
    }
   },
   "outputs": [],
   "source": []
  }
 ],
 "metadata": {
  "kernelspec": {
   "display_name": "Python 3 (ipykernel)",
   "language": "python",
   "name": "python3"
  },
  "language_info": {
   "codemirror_mode": {
    "name": "ipython",
    "version": 3
   },
   "file_extension": ".py",
   "mimetype": "text/x-python",
   "name": "python",
   "nbconvert_exporter": "python",
   "pygments_lexer": "ipython3",
   "version": "3.12.11"
  }
 },
 "nbformat": 4,
 "nbformat_minor": 4
}
