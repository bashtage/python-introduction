{
 "cells": [
  {
   "cell_type": "markdown",
   "metadata": {},
   "source": [
    "## Granger Causality Testing\n",
    "\n",
    "**Functions**\n",
    "\n",
    "`VARResults.test_causality`\n",
    "\n",
    "### Exercise 92\n",
    "Using the data and the models selected in the previous exercise, is there evidence of Granger Causality between the series?"
   ]
  },
  {
   "cell_type": "code",
   "execution_count": null,
   "metadata": {
    "execution": {
     "iopub.execute_input": "2021-09-22T10:11:00.156958Z",
     "iopub.status.busy": "2021-09-22T10:11:00.155957Z",
     "iopub.status.idle": "2021-09-22T10:11:01.340958Z",
     "shell.execute_reply": "2021-09-22T10:11:01.340958Z"
    },
    "jupyter": {
     "outputs_hidden": false
    }
   },
   "outputs": [],
   "source": []
  },
  {
   "cell_type": "markdown",
   "metadata": {},
   "source": [
    "### Exercise 93\n",
    "What if the 10 year and the 1 year are both used, but the spread is omitted?"
   ]
  },
  {
   "cell_type": "code",
   "execution_count": null,
   "metadata": {
    "execution": {
     "iopub.execute_input": "2021-09-22T10:11:01.378959Z",
     "iopub.status.busy": "2021-09-22T10:11:01.378959Z",
     "iopub.status.idle": "2021-09-22T10:11:01.402800Z",
     "shell.execute_reply": "2021-09-22T10:11:01.402800Z"
    },
    "jupyter": {
     "outputs_hidden": false
    }
   },
   "outputs": [],
   "source": []
  }
 ],
 "metadata": {
  "kernelspec": {
   "display_name": "Python 3 (ipykernel)",
   "language": "python",
   "name": "python3"
  },
  "language_info": {
   "codemirror_mode": {
    "name": "ipython",
    "version": 3
   },
   "file_extension": ".py",
   "mimetype": "text/x-python",
   "name": "python",
   "nbconvert_exporter": "python",
   "pygments_lexer": "ipython3",
   "version": "3.12.11"
  }
 },
 "nbformat": 4,
 "nbformat_minor": 4
}
