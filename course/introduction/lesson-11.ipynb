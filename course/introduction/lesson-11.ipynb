{
 "cells": [
  {
   "cell_type": "markdown",
   "metadata": {},
   "source": [
    "# Accessing Elements in NumPy Arrays\n",
    "\n",
    "This lesson covers:\n",
    "\n",
    "* Accessing specific elements in NumPy arrays\n",
    "\n",
    "Accessing elements in an array or a DataFrame is a common task. To begin this lesson, clear the\n",
    "workspace set up some vectors and a $5\\times5$ array. These vectors and matrix will make it easy\n",
    "to determine which elements are selected by a command.\n",
    "\n",
    "\n",
    "Using `arange` and `reshape` to create 3 arrays:\n",
    "\n",
    "* 5-by-5 array `x` containing the values 0,1,...,24 \n",
    "* 5-element, 1-dimensional array `y` containing 0,1,...,4\n",
    "* 5-by-1 array `z` containing 0,1,...,4\n"
   ]
  },
  {
   "cell_type": "code",
   "execution_count": null,
   "metadata": {
    "execution": {
     "iopub.execute_input": "2025-08-27T07:32:31.043870Z",
     "iopub.status.busy": "2025-08-27T07:32:31.043870Z",
     "iopub.status.idle": "2025-08-27T07:32:31.113733Z",
     "shell.execute_reply": "2025-08-27T07:32:31.113733Z"
    }
   },
   "outputs": [],
   "source": []
  },
  {
   "cell_type": "code",
   "execution_count": null,
   "metadata": {
    "execution": {
     "iopub.execute_input": "2025-08-27T07:32:31.113733Z",
     "iopub.status.busy": "2025-08-27T07:32:31.113733Z",
     "iopub.status.idle": "2025-08-27T07:32:31.119156Z",
     "shell.execute_reply": "2025-08-27T07:32:31.119156Z"
    }
   },
   "outputs": [],
   "source": []
  },
  {
   "cell_type": "code",
   "execution_count": null,
   "metadata": {
    "execution": {
     "iopub.execute_input": "2025-08-27T07:32:31.119156Z",
     "iopub.status.busy": "2025-08-27T07:32:31.119156Z",
     "iopub.status.idle": "2025-08-27T07:32:31.124224Z",
     "shell.execute_reply": "2025-08-27T07:32:31.124224Z"
    }
   },
   "outputs": [],
   "source": []
  },
  {
   "cell_type": "markdown",
   "metadata": {},
   "source": [
    "## Zero-based indexing\n",
    "Python indexing is 0 based so that the first element has position `0`, the second has position `1`\n",
    "and so on until the last element has position `n-1` in an array that contains `n` elements in\n",
    "total.\n",
    "\n",
    "## Problem: Scalar selection\n",
    "Select the number 2 in all three, `x`, `y`, and `z`.\n",
    "\n",
    "\n",
    "**Question**:  Which index is rows and which index is columns?"
   ]
  },
  {
   "cell_type": "code",
   "execution_count": null,
   "metadata": {
    "execution": {
     "iopub.execute_input": "2025-08-27T07:32:31.125729Z",
     "iopub.status.busy": "2025-08-27T07:32:31.125729Z",
     "iopub.status.idle": "2025-08-27T07:32:31.130138Z",
     "shell.execute_reply": "2025-08-27T07:32:31.130138Z"
    }
   },
   "outputs": [],
   "source": []
  },
  {
   "cell_type": "code",
   "execution_count": null,
   "metadata": {
    "execution": {
     "iopub.execute_input": "2025-08-27T07:32:31.130138Z",
     "iopub.status.busy": "2025-08-27T07:32:31.130138Z",
     "iopub.status.idle": "2025-08-27T07:32:31.135412Z",
     "shell.execute_reply": "2025-08-27T07:32:31.135412Z"
    }
   },
   "outputs": [],
   "source": []
  },
  {
   "cell_type": "code",
   "execution_count": null,
   "metadata": {
    "execution": {
     "iopub.execute_input": "2025-08-27T07:32:31.135412Z",
     "iopub.status.busy": "2025-08-27T07:32:31.135412Z",
     "iopub.status.idle": "2025-08-27T07:32:31.140358Z",
     "shell.execute_reply": "2025-08-27T07:32:31.140358Z"
    }
   },
   "outputs": [],
   "source": []
  },
  {
   "cell_type": "markdown",
   "metadata": {
    "pycharm": {
     "name": "#%% md\n"
    }
   },
   "source": [
    "## Problem: Scalar selection of a single row\n",
    "\n",
    "Select the 2nd row in `x` and `z` using a single integer value.\n",
    " \n",
    "**Question**: What is the dimension of `x` and the second row of `x`"
   ]
  },
  {
   "cell_type": "code",
   "execution_count": null,
   "metadata": {
    "execution": {
     "iopub.execute_input": "2025-08-27T07:32:31.140358Z",
     "iopub.status.busy": "2025-08-27T07:32:31.140358Z",
     "iopub.status.idle": "2025-08-27T07:32:31.145722Z",
     "shell.execute_reply": "2025-08-27T07:32:31.145722Z"
    }
   },
   "outputs": [],
   "source": []
  },
  {
   "cell_type": "code",
   "execution_count": null,
   "metadata": {
    "execution": {
     "iopub.execute_input": "2025-08-27T07:32:31.147524Z",
     "iopub.status.busy": "2025-08-27T07:32:31.147524Z",
     "iopub.status.idle": "2025-08-27T07:32:31.151796Z",
     "shell.execute_reply": "2025-08-27T07:32:31.151796Z"
    }
   },
   "outputs": [],
   "source": []
  },
  {
   "cell_type": "code",
   "execution_count": null,
   "metadata": {
    "execution": {
     "iopub.execute_input": "2025-08-27T07:32:31.154204Z",
     "iopub.status.busy": "2025-08-27T07:32:31.154204Z",
     "iopub.status.idle": "2025-08-27T07:32:31.158711Z",
     "shell.execute_reply": "2025-08-27T07:32:31.158205Z"
    }
   },
   "outputs": [],
   "source": []
  },
  {
   "cell_type": "code",
   "execution_count": null,
   "metadata": {
    "execution": {
     "iopub.execute_input": "2025-08-27T07:32:31.160717Z",
     "iopub.status.busy": "2025-08-27T07:32:31.159717Z",
     "iopub.status.idle": "2025-08-27T07:32:31.164225Z",
     "shell.execute_reply": "2025-08-27T07:32:31.163717Z"
    }
   },
   "outputs": [],
   "source": []
  },
  {
   "cell_type": "markdown",
   "metadata": {
    "pycharm": {
     "name": "#%% md\n"
    }
   },
   "source": [
    "## Problem: Slice selection of a single row\n",
    "\n",
    "Use a slice to select the 2nd row of `x` and the 2nd element of `y` and `z`.\n",
    "\n",
    "**Question**: What are the dimension selections?"
   ]
  },
  {
   "cell_type": "code",
   "execution_count": null,
   "metadata": {
    "execution": {
     "iopub.execute_input": "2025-08-27T07:32:31.165231Z",
     "iopub.status.busy": "2025-08-27T07:32:31.165231Z",
     "iopub.status.idle": "2025-08-27T07:32:31.169730Z",
     "shell.execute_reply": "2025-08-27T07:32:31.169730Z"
    }
   },
   "outputs": [],
   "source": []
  },
  {
   "cell_type": "code",
   "execution_count": null,
   "metadata": {
    "execution": {
     "iopub.execute_input": "2025-08-27T07:32:31.171735Z",
     "iopub.status.busy": "2025-08-27T07:32:31.171735Z",
     "iopub.status.idle": "2025-08-27T07:32:31.175738Z",
     "shell.execute_reply": "2025-08-27T07:32:31.175738Z"
    }
   },
   "outputs": [],
   "source": []
  },
  {
   "cell_type": "code",
   "execution_count": null,
   "metadata": {
    "execution": {
     "iopub.execute_input": "2025-08-27T07:32:31.177743Z",
     "iopub.status.busy": "2025-08-27T07:32:31.177743Z",
     "iopub.status.idle": "2025-08-27T07:32:31.181817Z",
     "shell.execute_reply": "2025-08-27T07:32:31.181817Z"
    }
   },
   "outputs": [],
   "source": []
  },
  {
   "cell_type": "markdown",
   "metadata": {},
   "source": [
    "## Problem: List selection of a single row\n",
    "\n",
    "Use a list to select the 2nd row of `x` and the 2nd element of `y` and `z`.\n",
    "\n",
    "**Question**: What are the dimension selections?"
   ]
  },
  {
   "cell_type": "code",
   "execution_count": null,
   "metadata": {
    "execution": {
     "iopub.execute_input": "2025-08-27T07:32:31.183827Z",
     "iopub.status.busy": "2025-08-27T07:32:31.183827Z",
     "iopub.status.idle": "2025-08-27T07:32:31.188354Z",
     "shell.execute_reply": "2025-08-27T07:32:31.188354Z"
    }
   },
   "outputs": [],
   "source": []
  },
  {
   "cell_type": "code",
   "execution_count": null,
   "metadata": {
    "execution": {
     "iopub.execute_input": "2025-08-27T07:32:31.188354Z",
     "iopub.status.busy": "2025-08-27T07:32:31.188354Z",
     "iopub.status.idle": "2025-08-27T07:32:31.194645Z",
     "shell.execute_reply": "2025-08-27T07:32:31.194645Z"
    }
   },
   "outputs": [],
   "source": []
  },
  {
   "cell_type": "code",
   "execution_count": null,
   "metadata": {
    "execution": {
     "iopub.execute_input": "2025-08-27T07:32:31.195650Z",
     "iopub.status.busy": "2025-08-27T07:32:31.195650Z",
     "iopub.status.idle": "2025-08-27T07:32:31.200399Z",
     "shell.execute_reply": "2025-08-27T07:32:31.200399Z"
    }
   },
   "outputs": [],
   "source": []
  },
  {
   "cell_type": "markdown",
   "metadata": {},
   "source": [
    "## Problem: Selecting a single Column\n",
    "Select the 2nd column of x using a scalar integer, a slice and a list.\n",
    "\n",
    "**Question**: What the the dimensions of the selected elements?"
   ]
  },
  {
   "cell_type": "code",
   "execution_count": null,
   "metadata": {
    "execution": {
     "iopub.execute_input": "2025-08-27T07:32:31.200399Z",
     "iopub.status.busy": "2025-08-27T07:32:31.200399Z",
     "iopub.status.idle": "2025-08-27T07:32:31.205054Z",
     "shell.execute_reply": "2025-08-27T07:32:31.205054Z"
    }
   },
   "outputs": [],
   "source": []
  },
  {
   "cell_type": "code",
   "execution_count": null,
   "metadata": {
    "execution": {
     "iopub.execute_input": "2025-08-27T07:32:31.205054Z",
     "iopub.status.busy": "2025-08-27T07:32:31.205054Z",
     "iopub.status.idle": "2025-08-27T07:32:31.210054Z",
     "shell.execute_reply": "2025-08-27T07:32:31.210054Z"
    }
   },
   "outputs": [],
   "source": []
  },
  {
   "cell_type": "markdown",
   "metadata": {},
   "source": [
    "## Problem: Selecting a block of specific columns\n",
    "Select the 2nd and 3rd columns of x using a slice."
   ]
  },
  {
   "cell_type": "code",
   "execution_count": null,
   "metadata": {
    "execution": {
     "iopub.execute_input": "2025-08-27T07:32:31.212956Z",
     "iopub.status.busy": "2025-08-27T07:32:31.211957Z",
     "iopub.status.idle": "2025-08-27T07:32:31.216465Z",
     "shell.execute_reply": "2025-08-27T07:32:31.215957Z"
    }
   },
   "outputs": [],
   "source": []
  },
  {
   "cell_type": "markdown",
   "metadata": {},
   "source": [
    "## Problem: Selecting a block of specific rows\n",
    "Select the 2nd and 4th rows of x using both a slice and a list. \n"
   ]
  },
  {
   "cell_type": "code",
   "execution_count": null,
   "metadata": {
    "execution": {
     "iopub.execute_input": "2025-08-27T07:32:31.217470Z",
     "iopub.status.busy": "2025-08-27T07:32:31.217470Z",
     "iopub.status.idle": "2025-08-27T07:32:31.221977Z",
     "shell.execute_reply": "2025-08-27T07:32:31.221470Z"
    }
   },
   "outputs": [],
   "source": []
  },
  {
   "cell_type": "markdown",
   "metadata": {},
   "source": [
    "## Problem: Selecting a block of specific rows and columns\n",
    "Combine these be combined to select the 2nd and 3rd columns and 2nd and 4th rows."
   ]
  },
  {
   "cell_type": "code",
   "execution_count": null,
   "metadata": {
    "execution": {
     "iopub.execute_input": "2025-08-27T07:32:31.222982Z",
     "iopub.status.busy": "2025-08-27T07:32:31.222982Z",
     "iopub.status.idle": "2025-08-27T07:32:31.227606Z",
     "shell.execute_reply": "2025-08-27T07:32:31.226983Z"
    }
   },
   "outputs": [],
   "source": []
  },
  {
   "cell_type": "code",
   "execution_count": null,
   "metadata": {
    "execution": {
     "iopub.execute_input": "2025-08-27T07:32:31.228740Z",
     "iopub.status.busy": "2025-08-27T07:32:31.228740Z",
     "iopub.status.idle": "2025-08-27T07:32:31.231964Z",
     "shell.execute_reply": "2025-08-27T07:32:31.231964Z"
    }
   },
   "outputs": [],
   "source": []
  },
  {
   "cell_type": "markdown",
   "metadata": {},
   "source": [
    "## Problem: Use `ix_` to select rows and columns using lists\n",
    "Use `ix_` to select the 2nd and 4th rows and 1st and 3rd columns of `x`."
   ]
  },
  {
   "cell_type": "code",
   "execution_count": null,
   "metadata": {
    "execution": {
     "iopub.execute_input": "2025-08-27T07:32:31.233970Z",
     "iopub.status.busy": "2025-08-27T07:32:31.232972Z",
     "iopub.status.idle": "2025-08-27T07:32:31.237023Z",
     "shell.execute_reply": "2025-08-27T07:32:31.237023Z"
    }
   },
   "outputs": [],
   "source": []
  },
  {
   "cell_type": "code",
   "execution_count": null,
   "metadata": {
    "execution": {
     "iopub.execute_input": "2025-08-27T07:32:31.239027Z",
     "iopub.status.busy": "2025-08-27T07:32:31.239027Z",
     "iopub.status.idle": "2025-08-27T07:32:31.243537Z",
     "shell.execute_reply": "2025-08-27T07:32:31.243027Z"
    }
   },
   "outputs": [],
   "source": []
  },
  {
   "cell_type": "markdown",
   "metadata": {
    "pycharm": {
     "name": "#%% md\n"
    }
   },
   "source": [
    "## Problem: Convert a DataFrame to a NumPy array\n",
    "\n",
    "Use  `.to_numpy` to convert a DataFrame to a NumPy array."
   ]
  },
  {
   "cell_type": "code",
   "execution_count": null,
   "metadata": {
    "execution": {
     "iopub.execute_input": "2025-08-27T07:32:31.244043Z",
     "iopub.status.busy": "2025-08-27T07:32:31.244043Z",
     "iopub.status.idle": "2025-08-27T07:32:31.548583Z",
     "shell.execute_reply": "2025-08-27T07:32:31.548583Z"
    }
   },
   "outputs": [],
   "source": [
    "# Setup: Create a DataFrame\n",
    "import numpy as np\n",
    "import pandas as pd\n",
    "\n",
    "names = [\"a\", \"b\", \"c\", \"d\", \"e\"]\n",
    "x = np.arange(25).reshape((5, 5))\n",
    "x_df = pd.DataFrame(x, index=names, columns=names)\n",
    "print(x_df)"
   ]
  },
  {
   "cell_type": "code",
   "execution_count": null,
   "metadata": {
    "execution": {
     "iopub.execute_input": "2025-08-27T07:32:31.550588Z",
     "iopub.status.busy": "2025-08-27T07:32:31.550588Z",
     "iopub.status.idle": "2025-08-27T07:32:31.555096Z",
     "shell.execute_reply": "2025-08-27T07:32:31.554587Z"
    }
   },
   "outputs": [],
   "source": []
  },
  {
   "cell_type": "markdown",
   "metadata": {
    "pycharm": {
     "name": "#%% md\n"
    }
   },
   "source": [
    "## Problem: Use `np.asarray` to convert to an array\n",
    "\n",
    "Use  `np.asarray` to convert a DataFrame to a NumPy array."
   ]
  },
  {
   "cell_type": "code",
   "execution_count": null,
   "metadata": {
    "execution": {
     "iopub.execute_input": "2025-08-27T07:32:31.556104Z",
     "iopub.status.busy": "2025-08-27T07:32:31.556104Z",
     "iopub.status.idle": "2025-08-27T07:32:31.560101Z",
     "shell.execute_reply": "2025-08-27T07:32:31.560101Z"
    }
   },
   "outputs": [],
   "source": []
  },
  {
   "cell_type": "markdown",
   "metadata": {
    "pycharm": {
     "name": "#%% md\n"
    }
   },
   "source": [
    "## Exercises\n",
    "\n",
    "### Exercise: Block selection\n",
    "\n",
    "Select the second and third rows of `a` and the first and last column.\n",
    "Use at least three different methods including all slices, `np.ix_`, and\n",
    "mixed slice-list selection."
   ]
  },
  {
   "cell_type": "code",
   "execution_count": null,
   "metadata": {
    "execution": {
     "iopub.execute_input": "2025-08-27T07:32:31.562549Z",
     "iopub.status.busy": "2025-08-27T07:32:31.562549Z",
     "iopub.status.idle": "2025-08-27T07:32:31.566767Z",
     "shell.execute_reply": "2025-08-27T07:32:31.566767Z"
    },
    "jupyter": {
     "outputs_hidden": false
    },
    "pycharm": {
     "is_executing": false,
     "name": "#%%\n"
    }
   },
   "outputs": [],
   "source": [
    "# Setup: Data for Exercises\n",
    "\n",
    "import numpy as np\n",
    "\n",
    "rs = np.random.RandomState(20000214)\n",
    "a = rs.randint(1, 10, (4, 3))\n",
    "b = rs.randint(1, 10, (6, 4))\n",
    "\n",
    "print(f\"a = \\n {a}\")\n",
    "print()\n",
    "print(f\"b = \\n {b}\")"
   ]
  },
  {
   "cell_type": "code",
   "execution_count": null,
   "metadata": {
    "execution": {
     "iopub.execute_input": "2025-08-27T07:32:31.568771Z",
     "iopub.status.busy": "2025-08-27T07:32:31.568771Z",
     "iopub.status.idle": "2025-08-27T07:32:31.572902Z",
     "shell.execute_reply": "2025-08-27T07:32:31.572902Z"
    },
    "jupyter": {
     "outputs_hidden": false
    }
   },
   "outputs": [],
   "source": []
  },
  {
   "cell_type": "code",
   "execution_count": null,
   "metadata": {
    "execution": {
     "iopub.execute_input": "2025-08-27T07:32:31.574908Z",
     "iopub.status.busy": "2025-08-27T07:32:31.574908Z",
     "iopub.status.idle": "2025-08-27T07:32:31.578986Z",
     "shell.execute_reply": "2025-08-27T07:32:31.578986Z"
    },
    "jupyter": {
     "outputs_hidden": false
    }
   },
   "outputs": [],
   "source": []
  },
  {
   "cell_type": "code",
   "execution_count": null,
   "metadata": {
    "execution": {
     "iopub.execute_input": "2025-08-27T07:32:31.580991Z",
     "iopub.status.busy": "2025-08-27T07:32:31.580991Z",
     "iopub.status.idle": "2025-08-27T07:32:31.584992Z",
     "shell.execute_reply": "2025-08-27T07:32:31.584992Z"
    },
    "jupyter": {
     "outputs_hidden": false
    }
   },
   "outputs": [],
   "source": []
  },
  {
   "cell_type": "markdown",
   "metadata": {},
   "source": [
    "### Exercise: Row Assign\n",
    "\n",
    "Assign the first three elements of the first row of `b` to `a`.\n",
    "\n",
    "**Note** Assignment sets one selected block in one array equal to another \n",
    "block.\n",
    "\n",
    "```python\n",
    "x[0:2,0:3] = y[1:3,1:4]\n",
    "```"
   ]
  },
  {
   "cell_type": "code",
   "execution_count": null,
   "metadata": {
    "execution": {
     "iopub.execute_input": "2025-08-27T07:32:31.587058Z",
     "iopub.status.busy": "2025-08-27T07:32:31.587058Z",
     "iopub.status.idle": "2025-08-27T07:32:31.590671Z",
     "shell.execute_reply": "2025-08-27T07:32:31.590671Z"
    },
    "jupyter": {
     "outputs_hidden": false
    }
   },
   "outputs": [],
   "source": []
  },
  {
   "cell_type": "markdown",
   "metadata": {
    "pycharm": {
     "name": "#%% md\n"
    }
   },
   "source": [
    "### Exercise: Block Assign\n",
    "\n",
    "Assign the block consisting the first and third columns and the second and last rows of `b`\n",
    "to the last two rows and last two columns of `a`"
   ]
  },
  {
   "cell_type": "code",
   "execution_count": null,
   "metadata": {
    "execution": {
     "iopub.execute_input": "2025-08-27T07:32:31.592829Z",
     "iopub.status.busy": "2025-08-27T07:32:31.592829Z",
     "iopub.status.idle": "2025-08-27T07:32:31.598012Z",
     "shell.execute_reply": "2025-08-27T07:32:31.597502Z"
    },
    "jupyter": {
     "outputs_hidden": false
    },
    "tags": []
   },
   "outputs": [],
   "source": []
  }
 ],
 "metadata": {
  "file_extension": ".py",
  "kernelspec": {
   "display_name": "Python 3 (ipykernel)",
   "language": "python",
   "name": "python3"
  },
  "language_info": {
   "codemirror_mode": {
    "name": "ipython",
    "version": 3
   },
   "file_extension": ".py",
   "mimetype": "text/x-python",
   "name": "python",
   "nbconvert_exporter": "python",
   "pygments_lexer": "ipython3",
   "version": "3.12.11"
  },
  "mimetype": "text/x-python",
  "name": "python",
  "npconvert_exporter": "python",
  "pycharm": {
   "stem_cell": {
    "cell_type": "raw",
    "metadata": {
     "collapsed": false
    },
    "source": []
   }
  },
  "pygments_lexer": "ipython3",
  "version": 3
 },
 "nbformat": 4,
 "nbformat_minor": 4
}
