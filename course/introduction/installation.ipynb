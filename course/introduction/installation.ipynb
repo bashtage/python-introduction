{
 "cells": [
  {
   "cell_type": "markdown",
   "metadata": {
    "pycharm": {
     "name": "#%% md\n"
    }
   },
   "source": [
    "# Installing\n",
    "\n",
    "## Install Anaconda\n",
    "\n",
    "1. Download the [Anaconda Python/R Distribution](https://www.anaconda.com/distribution/#download-section) 2025.06 (or later).\n",
    "2. When the download is complete, install Anaconda into your user account. "
   ]
  },
  {
   "cell_type": "markdown",
   "metadata": {
    "pycharm": {
     "name": "#%% md\n"
    }
   },
   "source": [
    "## Install Visual Studio Code and the Python extension\n",
    "\n",
    "1. Download VS Code and install\n",
    "2. Install the Python extension by clicking on Extensions and searching for \"Python\"\n",
    "3. Create a folder called `mfe-introduction`\n",
    "4. Create a file called `first.ipynb` using File>New File...>Jupyter Notebook and enter\n",
    "\n",
    "```python\n",
    "print(\"Python may be harder to learn than other languages since\")\n",
    "print(\"there is rarely a single approach to completing a task.\")\n",
    "```\n",
    "5. Click on Run Cell\n",
    "\n",
    "### Note\n",
    "You may need to choose a Python environment. Point VS Code to the installation of Anaconda"
   ]
  },
  {
   "cell_type": "markdown",
   "metadata": {},
   "source": [
    "## Install Pycharm Professional\n",
    "\n",
    "1. Download PyCharm Professional and install using the 30-day trial. You can get a free \n",
    "   copy using your academic email address if you want to continue after the first 30 days.\n",
    "2. Open PyCharm, and create a new project called `mfe-introduction`\n",
    "3. Open File > Setting and select Python Interpreter. Select the Anaconda interpreter if it\n",
    "   is not already selected.\n",
    "4. Create a new python file called `first.py` and enter\n",
    "   ```python\n",
    "   \n",
    "   print(\"Python has a steeper curve than MATLAB but more long-run upside\")\n",
    "   ```\n",
    "5. Right-click on this file, and select \"Run\"."
   ]
  }
 ],
 "metadata": {
  "kernelspec": {
   "display_name": "Python 3 (ipykernel)",
   "language": "python",
   "name": "python3"
  },
  "language_info": {
   "codemirror_mode": {
    "name": "ipython",
    "version": 3
   },
   "file_extension": ".py",
   "mimetype": "text/x-python",
   "name": "python",
   "nbconvert_exporter": "python",
   "pygments_lexer": "ipython3",
   "version": "3.12.11"
  },
  "pycharm": {
   "stem_cell": {
    "cell_type": "raw",
    "metadata": {
     "collapsed": false
    },
    "source": []
   }
  }
 },
 "nbformat": 4,
 "nbformat_minor": 4
}
