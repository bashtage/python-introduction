{
 "cells": [
  {
   "cell_type": "markdown",
   "metadata": {},
   "source": [
    "# Boolean Selection \n",
    "\n",
    "This lesson covers:\n",
    "\n",
    "* Boolean selection\n",
    "* `where`\n",
    "\n",
    "Begin by loading the data in momentum.csv.\n"
   ]
  },
  {
   "cell_type": "code",
   "execution_count": null,
   "metadata": {
    "execution": {
     "iopub.execute_input": "2025-08-27T07:32:45.303879Z",
     "iopub.status.busy": "2025-08-27T07:32:45.303879Z",
     "iopub.status.idle": "2025-08-27T07:32:45.646651Z",
     "shell.execute_reply": "2025-08-27T07:32:45.646651Z"
    },
    "pycharm": {
     "is_executing": false,
     "name": "#%%\n"
    }
   },
   "outputs": [],
   "source": [
    "# Setup: Load the momentum data\n",
    "\n",
    "import numpy as np\n",
    "import pandas as pd\n",
    "\n",
    "momentum = pd.read_csv(\"data/momentum.csv\", index_col=\"date\", parse_dates=True)\n",
    "\n",
    "print(momentum.head())"
   ]
  },
  {
   "cell_type": "markdown",
   "metadata": {},
   "source": [
    "## Problem: Selecting rows with boolean conditions\n",
    "\n",
    "Select the rows in `momentum` where all returns on a day are negative."
   ]
  },
  {
   "cell_type": "code",
   "execution_count": null,
   "metadata": {
    "execution": {
     "iopub.execute_input": "2025-08-27T07:32:45.646651Z",
     "iopub.status.busy": "2025-08-27T07:32:45.646651Z",
     "iopub.status.idle": "2025-08-27T07:32:45.665556Z",
     "shell.execute_reply": "2025-08-27T07:32:45.665556Z"
    }
   },
   "outputs": [],
   "source": []
  },
  {
   "cell_type": "markdown",
   "metadata": {},
   "source": [
    "## Problem: Selecting rows\n",
    "\n",
    "Select the rows in `momentum` where 50% or more of the returns on a day are negative."
   ]
  },
  {
   "cell_type": "code",
   "execution_count": null,
   "metadata": {
    "execution": {
     "iopub.execute_input": "2025-08-27T07:32:45.665556Z",
     "iopub.status.busy": "2025-08-27T07:32:45.665556Z",
     "iopub.status.idle": "2025-08-27T07:32:45.680786Z",
     "shell.execute_reply": "2025-08-27T07:32:45.680786Z"
    }
   },
   "outputs": [],
   "source": []
  },
  {
   "cell_type": "markdown",
   "metadata": {},
   "source": [
    "## Problem: Selecting columns\n",
    "\n",
    "Select the columns in `momentum` what have the smallest and second smallest average returns."
   ]
  },
  {
   "cell_type": "code",
   "execution_count": null,
   "metadata": {
    "execution": {
     "iopub.execute_input": "2025-08-27T07:32:45.680786Z",
     "iopub.status.busy": "2025-08-27T07:32:45.680786Z",
     "iopub.status.idle": "2025-08-27T07:32:45.687363Z",
     "shell.execute_reply": "2025-08-27T07:32:45.687363Z"
    }
   },
   "outputs": [],
   "source": []
  },
  {
   "cell_type": "code",
   "execution_count": null,
   "metadata": {
    "execution": {
     "iopub.execute_input": "2025-08-27T07:32:45.687363Z",
     "iopub.status.busy": "2025-08-27T07:32:45.687363Z",
     "iopub.status.idle": "2025-08-27T07:32:45.696138Z",
     "shell.execute_reply": "2025-08-27T07:32:45.696138Z"
    }
   },
   "outputs": [],
   "source": []
  },
  {
   "cell_type": "code",
   "execution_count": null,
   "metadata": {
    "execution": {
     "iopub.execute_input": "2025-08-27T07:32:45.696138Z",
     "iopub.status.busy": "2025-08-27T07:32:45.696138Z",
     "iopub.status.idle": "2025-08-27T07:32:45.704408Z",
     "shell.execute_reply": "2025-08-27T07:32:45.704408Z"
    }
   },
   "outputs": [],
   "source": []
  },
  {
   "cell_type": "markdown",
   "metadata": {},
   "source": [
    "## Problem: Selecting rows and columns\n",
    "\n",
    "Select the returns for the column with the single most negative return\n",
    "on days where all of the returns are negative. "
   ]
  },
  {
   "cell_type": "code",
   "execution_count": null,
   "metadata": {
    "execution": {
     "iopub.execute_input": "2025-08-27T07:32:45.704408Z",
     "iopub.status.busy": "2025-08-27T07:32:45.704408Z",
     "iopub.status.idle": "2025-08-27T07:32:45.710587Z",
     "shell.execute_reply": "2025-08-27T07:32:45.710587Z"
    }
   },
   "outputs": [],
   "source": []
  },
  {
   "cell_type": "code",
   "execution_count": null,
   "metadata": {
    "execution": {
     "iopub.execute_input": "2025-08-27T07:32:45.710587Z",
     "iopub.status.busy": "2025-08-27T07:32:45.710587Z",
     "iopub.status.idle": "2025-08-27T07:32:45.718664Z",
     "shell.execute_reply": "2025-08-27T07:32:45.718664Z"
    }
   },
   "outputs": [],
   "source": []
  },
  {
   "cell_type": "markdown",
   "metadata": {},
   "source": [
    "## Problem: Selecting Elements using Logical Statements\n",
    "For portfolio 1 and portfolio 10 compute the correlation when both \n",
    "returns are negative and when both are positive.\n"
   ]
  },
  {
   "cell_type": "code",
   "execution_count": null,
   "metadata": {
    "execution": {
     "iopub.execute_input": "2025-08-27T07:32:45.718664Z",
     "iopub.status.busy": "2025-08-27T07:32:45.718664Z",
     "iopub.status.idle": "2025-08-27T07:32:45.726823Z",
     "shell.execute_reply": "2025-08-27T07:32:45.726823Z"
    }
   },
   "outputs": [],
   "source": []
  },
  {
   "cell_type": "code",
   "execution_count": null,
   "metadata": {
    "execution": {
     "iopub.execute_input": "2025-08-27T07:32:45.726823Z",
     "iopub.status.busy": "2025-08-27T07:32:45.726823Z",
     "iopub.status.idle": "2025-08-27T07:32:45.734664Z",
     "shell.execute_reply": "2025-08-27T07:32:45.734664Z"
    }
   },
   "outputs": [],
   "source": []
  },
  {
   "cell_type": "code",
   "execution_count": null,
   "metadata": {
    "execution": {
     "iopub.execute_input": "2025-08-27T07:32:45.734664Z",
     "iopub.status.busy": "2025-08-27T07:32:45.734664Z",
     "iopub.status.idle": "2025-08-27T07:32:45.740485Z",
     "shell.execute_reply": "2025-08-27T07:32:45.740485Z"
    },
    "pycharm": {
     "is_executing": false,
     "name": "#%%\n"
    }
   },
   "outputs": [],
   "source": [
    "# Setup: Reproducible random numbers\n",
    "\n",
    "rs = np.random.RandomState(19991231)\n",
    "x = rs.randint(1, 11, size=(10, 3))\n",
    "x"
   ]
  },
  {
   "cell_type": "markdown",
   "metadata": {
    "pycharm": {
     "name": "#%% md\n"
    }
   },
   "source": [
    "## Problem: Select the columns of x that means >= $E[x]$"
   ]
  },
  {
   "cell_type": "code",
   "execution_count": null,
   "metadata": {
    "execution": {
     "iopub.execute_input": "2025-08-27T07:32:45.740485Z",
     "iopub.status.busy": "2025-08-27T07:32:45.740485Z",
     "iopub.status.idle": "2025-08-27T07:32:45.745560Z",
     "shell.execute_reply": "2025-08-27T07:32:45.745560Z"
    }
   },
   "outputs": [],
   "source": []
  },
  {
   "cell_type": "markdown",
   "metadata": {},
   "source": [
    "## Problem: Select the rows of x that means >= $E[x]$"
   ]
  },
  {
   "cell_type": "code",
   "execution_count": null,
   "metadata": {
    "execution": {
     "iopub.execute_input": "2025-08-27T07:32:45.745560Z",
     "iopub.status.busy": "2025-08-27T07:32:45.745560Z",
     "iopub.status.idle": "2025-08-27T07:32:45.750998Z",
     "shell.execute_reply": "2025-08-27T07:32:45.750998Z"
    }
   },
   "outputs": [],
   "source": []
  },
  {
   "cell_type": "markdown",
   "metadata": {},
   "source": [
    "## Problem: Select the rows and column of x where both have means < $E[x]$"
   ]
  },
  {
   "cell_type": "code",
   "execution_count": null,
   "metadata": {
    "execution": {
     "iopub.execute_input": "2025-08-27T07:32:45.750998Z",
     "iopub.status.busy": "2025-08-27T07:32:45.750998Z",
     "iopub.status.idle": "2025-08-27T07:32:45.756316Z",
     "shell.execute_reply": "2025-08-27T07:32:45.756316Z"
    }
   },
   "outputs": [],
   "source": []
  },
  {
   "cell_type": "markdown",
   "metadata": {},
   "source": [
    "## Problem: Using `where`\n",
    "Use `where` to select the index of the elements in portfolio 5 that are\n",
    "negative. Next, use the `where` command in its two output form to determine\n",
    "which elements of the portfolio return matrix are less than -2%."
   ]
  },
  {
   "cell_type": "code",
   "execution_count": null,
   "metadata": {
    "execution": {
     "iopub.execute_input": "2025-08-27T07:32:45.756316Z",
     "iopub.status.busy": "2025-08-27T07:32:45.756316Z",
     "iopub.status.idle": "2025-08-27T07:32:45.762245Z",
     "shell.execute_reply": "2025-08-27T07:32:45.762245Z"
    }
   },
   "outputs": [],
   "source": []
  },
  {
   "cell_type": "code",
   "execution_count": null,
   "metadata": {
    "execution": {
     "iopub.execute_input": "2025-08-27T07:32:45.762245Z",
     "iopub.status.busy": "2025-08-27T07:32:45.762245Z",
     "iopub.status.idle": "2025-08-27T07:32:45.768825Z",
     "shell.execute_reply": "2025-08-27T07:32:45.768825Z"
    }
   },
   "outputs": [],
   "source": []
  },
  {
   "cell_type": "code",
   "execution_count": null,
   "metadata": {
    "execution": {
     "iopub.execute_input": "2025-08-27T07:32:45.768825Z",
     "iopub.status.busy": "2025-08-27T07:32:45.768825Z",
     "iopub.status.idle": "2025-08-27T07:32:45.773628Z",
     "shell.execute_reply": "2025-08-27T07:32:45.773628Z"
    }
   },
   "outputs": [],
   "source": []
  },
  {
   "cell_type": "markdown",
   "metadata": {
    "pycharm": {
     "name": "#%% md\n"
    }
   },
   "source": [
    "## Exercises\n",
    "\n",
    "### Exercise: Select the Most Volatile Portfolio\n",
    "\n",
    "Select the column in momentum that has the highest standard deviation."
   ]
  },
  {
   "cell_type": "code",
   "execution_count": null,
   "metadata": {
    "execution": {
     "iopub.execute_input": "2025-08-27T07:32:45.773628Z",
     "iopub.status.busy": "2025-08-27T07:32:45.773628Z",
     "iopub.status.idle": "2025-08-27T07:32:45.781908Z",
     "shell.execute_reply": "2025-08-27T07:32:45.781908Z"
    }
   },
   "outputs": [],
   "source": []
  },
  {
   "cell_type": "markdown",
   "metadata": {
    "pycharm": {
     "name": "#%% md\n"
    }
   },
   "source": [
    "### Exercise: Select the High Kurtosis Portfolios\n",
    "\n",
    "Select the columns that have kurtoses above the median kurtosis."
   ]
  },
  {
   "cell_type": "code",
   "execution_count": null,
   "metadata": {
    "execution": {
     "iopub.execute_input": "2025-08-27T07:32:45.781908Z",
     "iopub.status.busy": "2025-08-27T07:32:45.781908Z",
     "iopub.status.idle": "2025-08-27T07:32:45.792446Z",
     "shell.execute_reply": "2025-08-27T07:32:45.792446Z"
    }
   },
   "outputs": [],
   "source": []
  },
  {
   "cell_type": "markdown",
   "metadata": {
    "pycharm": {
     "name": "#%% md\n"
    }
   },
   "source": [
    "### Exercise: Select \n",
    "\n",
    "Select the rows where all of the returns in the row are less than the 25%\n",
    "quantile for their portfolio.\n",
    "\n",
    "**Note**: Comparisons between `DataFrame`s and `Series` works like mathematical\n",
    "operations (`+`, `-`, etc.)."
   ]
  },
  {
   "cell_type": "code",
   "execution_count": null,
   "metadata": {
    "execution": {
     "iopub.execute_input": "2025-08-27T07:32:45.792446Z",
     "iopub.status.busy": "2025-08-27T07:32:45.792446Z",
     "iopub.status.idle": "2025-08-27T07:32:45.802461Z",
     "shell.execute_reply": "2025-08-27T07:32:45.802461Z"
    }
   },
   "outputs": [],
   "source": []
  },
  {
   "cell_type": "code",
   "execution_count": null,
   "metadata": {
    "execution": {
     "iopub.execute_input": "2025-08-27T07:32:45.802461Z",
     "iopub.status.busy": "2025-08-27T07:32:45.802461Z",
     "iopub.status.idle": "2025-08-27T07:32:45.826633Z",
     "shell.execute_reply": "2025-08-27T07:32:45.826633Z"
    },
    "tags": []
   },
   "outputs": [],
   "source": []
  }
 ],
 "metadata": {
  "kernelspec": {
   "display_name": "Python 3 (ipykernel)",
   "language": "python",
   "name": "python3"
  },
  "language_info": {
   "codemirror_mode": {
    "name": "ipython",
    "version": 3
   },
   "file_extension": ".py",
   "mimetype": "text/x-python",
   "name": "python",
   "nbconvert_exporter": "python",
   "pygments_lexer": "ipython3",
   "version": "3.12.11"
  },
  "pycharm": {
   "stem_cell": {
    "cell_type": "raw",
    "metadata": {
     "collapsed": false
    },
    "source": []
   }
  }
 },
 "nbformat": 4,
 "nbformat_minor": 4
}
