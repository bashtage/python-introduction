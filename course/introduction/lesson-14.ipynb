{
 "cells": [
  {
   "cell_type": "markdown",
   "metadata": {},
   "source": [
    "# Logical Operators\n",
    "\n",
    "This lesson covers:\n",
    "\n",
    "* Basic logical operators \n",
    "* Compound operators \n"
   ]
  },
  {
   "cell_type": "code",
   "execution_count": null,
   "metadata": {
    "execution": {
     "iopub.execute_input": "2025-08-27T13:43:32.763209Z",
     "iopub.status.busy": "2025-08-27T13:43:32.763209Z",
     "iopub.status.idle": "2025-08-27T13:43:32.842238Z",
     "shell.execute_reply": "2025-08-27T13:43:32.842238Z"
    },
    "jupyter": {
     "outputs_hidden": false
    },
    "pycharm": {
     "is_executing": false,
     "name": "#%%\n"
    }
   },
   "outputs": [],
   "source": [
    "# Setup: Reproducible random numbers\n",
    "\n",
    "import numpy as np\n",
    "\n",
    "rs = np.random.RandomState(20000101)"
   ]
  },
  {
   "cell_type": "markdown",
   "metadata": {},
   "source": [
    "## Problem: Basic Logical Statements\n",
    "\n",
    "Create the variables (in order)\n",
    "\n",
    "* `x` as `rs.random_sample()`, a uniform on $[0, 1)$\n",
    "* `y` as `rs.standard_normal()`, a standard normal ($N(0,1)$)\n",
    "* `z` as `rs.randint(1, 11)`, a uniform random integer on $[1, 2,\\ldots, 10]$\n",
    "\n",
    "Check whether each of these are above their expected value."
   ]
  },
  {
   "cell_type": "code",
   "execution_count": null,
   "metadata": {
    "execution": {
     "iopub.execute_input": "2025-08-27T13:43:32.842238Z",
     "iopub.status.busy": "2025-08-27T13:43:32.842238Z",
     "iopub.status.idle": "2025-08-27T13:43:32.848131Z",
     "shell.execute_reply": "2025-08-27T13:43:32.848131Z"
    },
    "jupyter": {
     "outputs_hidden": false
    }
   },
   "outputs": [],
   "source": []
  },
  {
   "cell_type": "code",
   "execution_count": null,
   "metadata": {
    "execution": {
     "iopub.execute_input": "2025-08-27T13:43:32.848131Z",
     "iopub.status.busy": "2025-08-27T13:43:32.848131Z",
     "iopub.status.idle": "2025-08-27T13:43:32.853335Z",
     "shell.execute_reply": "2025-08-27T13:43:32.853335Z"
    },
    "jupyter": {
     "outputs_hidden": false
    }
   },
   "outputs": [],
   "source": []
  },
  {
   "cell_type": "markdown",
   "metadata": {
    "pycharm": {
     "name": "#%% md\n"
    }
   },
   "source": [
    "## Problem: Using comparison operators\n",
    "\n",
    "1. Check if `z` is 7\n",
    "2. Check is `z` is not 5\n",
    "3. Check if `z` is greater than or equal to 9"
   ]
  },
  {
   "cell_type": "code",
   "execution_count": null,
   "metadata": {
    "execution": {
     "iopub.execute_input": "2025-08-27T13:43:32.853335Z",
     "iopub.status.busy": "2025-08-27T13:43:32.853335Z",
     "iopub.status.idle": "2025-08-27T13:43:32.858271Z",
     "shell.execute_reply": "2025-08-27T13:43:32.858271Z"
    },
    "jupyter": {
     "outputs_hidden": false
    }
   },
   "outputs": [],
   "source": []
  },
  {
   "cell_type": "markdown",
   "metadata": {
    "pycharm": {
     "is_executing": false,
     "name": "#%% md\n"
    }
   },
   "source": [
    "## Problem: Combining booleans \n",
    "\n",
    "1. Determine if $2\\leq z < 8$\n",
    "2. Determine if $z < 2 \\cup z \\geq 8$ using `or`\n",
    "3. Rewrite 2 using `not` and your result from 1."
   ]
  },
  {
   "cell_type": "code",
   "execution_count": null,
   "metadata": {
    "execution": {
     "iopub.execute_input": "2025-08-27T13:43:32.858271Z",
     "iopub.status.busy": "2025-08-27T13:43:32.858271Z",
     "iopub.status.idle": "2025-08-27T13:43:32.863492Z",
     "shell.execute_reply": "2025-08-27T13:43:32.863492Z"
    },
    "jupyter": {
     "outputs_hidden": false
    }
   },
   "outputs": [],
   "source": []
  },
  {
   "cell_type": "markdown",
   "metadata": {
    "pycharm": {
     "name": "#%% md\n"
    }
   },
   "source": [
    "## Exercises"
   ]
  },
  {
   "cell_type": "code",
   "execution_count": null,
   "metadata": {
    "execution": {
     "iopub.execute_input": "2025-08-27T13:43:32.863492Z",
     "iopub.status.busy": "2025-08-27T13:43:32.863492Z",
     "iopub.status.idle": "2025-08-27T13:43:32.868618Z",
     "shell.execute_reply": "2025-08-27T13:43:32.868618Z"
    },
    "jupyter": {
     "outputs_hidden": false
    },
    "pycharm": {
     "is_executing": false,
     "name": "#%%\n"
    }
   },
   "outputs": [],
   "source": [
    "# Setup: Data for Exercise\n",
    "import numpy as np\n",
    "\n",
    "rs = np.random.RandomState(19991213)\n",
    "\n",
    "# Like range, lower included, upper excluded\n",
    "# u in (0, 1, 2, ..., 5)\n",
    "u = rs.randint(0, 6)\n",
    "# v in (-2, -1, 0, 1, 2)\n",
    "v = rs.randint(-2, 3)"
   ]
  },
  {
   "cell_type": "code",
   "execution_count": null,
   "metadata": {
    "jupyter": {
     "outputs_hidden": false
    }
   },
   "outputs": [],
   "source": []
  },
  {
   "cell_type": "markdown",
   "metadata": {
    "pycharm": {
     "name": "#%% md\n"
    }
   },
   "source": [
    "### Exercise\n",
    "Is the product $uv$ 0 and only one of $u$ and $v$ is 0?"
   ]
  },
  {
   "cell_type": "code",
   "execution_count": null,
   "metadata": {
    "execution": {
     "iopub.execute_input": "2025-08-27T13:43:32.868618Z",
     "iopub.status.busy": "2025-08-27T13:43:32.868618Z",
     "iopub.status.idle": "2025-08-27T13:43:32.876649Z",
     "shell.execute_reply": "2025-08-27T13:43:32.876649Z"
    },
    "jupyter": {
     "outputs_hidden": false
    }
   },
   "outputs": [],
   "source": []
  },
  {
   "cell_type": "code",
   "execution_count": null,
   "metadata": {
    "execution": {
     "iopub.execute_input": "2025-08-27T13:43:32.876649Z",
     "iopub.status.busy": "2025-08-27T13:43:32.876649Z",
     "iopub.status.idle": "2025-08-27T13:43:32.882147Z",
     "shell.execute_reply": "2025-08-27T13:43:32.882147Z"
    },
    "jupyter": {
     "outputs_hidden": false
    }
   },
   "outputs": [],
   "source": []
  },
  {
   "cell_type": "markdown",
   "metadata": {},
   "source": [
    "### Exercise\n",
    "\n",
    "Write three logical statements that will determine if $0\\leq u \\leq 2$ and $0\\leq v \\leq 2$. "
   ]
  },
  {
   "cell_type": "code",
   "execution_count": null,
   "metadata": {
    "execution": {
     "iopub.execute_input": "2025-08-27T13:43:32.882147Z",
     "iopub.status.busy": "2025-08-27T13:43:32.882147Z",
     "iopub.status.idle": "2025-08-27T13:43:32.887697Z",
     "shell.execute_reply": "2025-08-27T13:43:32.887697Z"
    },
    "jupyter": {
     "outputs_hidden": false
    }
   },
   "outputs": [],
   "source": []
  },
  {
   "cell_type": "code",
   "execution_count": null,
   "metadata": {
    "execution": {
     "iopub.execute_input": "2025-08-27T13:43:32.889442Z",
     "iopub.status.busy": "2025-08-27T13:43:32.889442Z",
     "iopub.status.idle": "2025-08-27T13:43:32.893875Z",
     "shell.execute_reply": "2025-08-27T13:43:32.893875Z"
    },
    "jupyter": {
     "outputs_hidden": false
    }
   },
   "outputs": [],
   "source": []
  },
  {
   "cell_type": "code",
   "execution_count": null,
   "metadata": {
    "execution": {
     "iopub.execute_input": "2025-08-27T13:43:32.893875Z",
     "iopub.status.busy": "2025-08-27T13:43:32.893875Z",
     "iopub.status.idle": "2025-08-27T13:43:32.900227Z",
     "shell.execute_reply": "2025-08-27T13:43:32.900227Z"
    },
    "jupyter": {
     "outputs_hidden": false
    },
    "tags": []
   },
   "outputs": [],
   "source": []
  }
 ],
 "metadata": {
  "kernelspec": {
   "display_name": "Python 3 (ipykernel)",
   "language": "python",
   "name": "python3"
  },
  "language_info": {
   "codemirror_mode": {
    "name": "ipython",
    "version": 3
   },
   "file_extension": ".py",
   "mimetype": "text/x-python",
   "name": "python",
   "nbconvert_exporter": "python",
   "pygments_lexer": "ipython3",
   "version": "3.12.11"
  },
  "pycharm": {
   "stem_cell": {
    "cell_type": "raw",
    "metadata": {
     "collapsed": false
    },
    "source": []
   }
  }
 },
 "nbformat": 4,
 "nbformat_minor": 4
}
